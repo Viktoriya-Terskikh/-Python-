{
 "cells": [
  {
   "cell_type": "markdown",
   "metadata": {},
   "source": [
    "# Прогнозирование температуры плавления стали"
   ]
  },
  {
   "cell_type": "markdown",
   "metadata": {},
   "source": [
    "# Содержание\n",
    "\n",
    "1. [Цель](#purpose)\n",
    "2. [Описание](#description)\n",
    "2. [Исследовательский анализ данных](#analysis)\n",
    "3. [План работы](#work_plan)\n",
    "4. [Подготовка данных](#data_preparation)\n",
    "5. [Построение моделей](#building_models)\n",
    "6. [Вывод](#conclusion)"
   ]
  },
  {
   "cell_type": "markdown",
   "metadata": {},
   "source": [
    "## Цель проекта  <a id=\"purpose\"></a>\n",
    "\n",
    "Построить модель, которая предскажет температуру стали, поможет оптимизировать расходы и энергопотребление на этапе обработки."
   ]
  },
  {
   "cell_type": "markdown",
   "metadata": {},
   "source": [
    "## Описание проекта <a id=\"description\"></a>\n",
    "\n",
    "Чтобы оптимизировать производственные расходы, металлургический комбинат ООО «Так закаляем сталь» решил уменьшить потребление электроэнергии на этапе обработки стали. Вам предстоит построить модель, которая предскажет температуру стали."
   ]
  },
  {
   "cell_type": "markdown",
   "metadata": {},
   "source": [
    "## Описание этапа обработки\n",
    "\n",
    "Сталь обрабатывают в металлическом ковше вместимостью около 100 тонн. Чтобы ковш выдерживал высокие температуры, изнутри его облицовывают огнеупорным кирпичом. Расплавленную сталь заливают в ковш и подогревают до нужной температуры графитовыми электродами. Они установлены в крышке ковша. \n",
    "Из сплава выводится сера (десульфурация), добавлением примесей корректируется химический состав и отбираются пробы. Сталь легируют — изменяют её состав — подавая куски сплава из бункера для сыпучих материалов или проволоку через специальный трайб-аппарат (англ. tribe, «масса»).\n",
    "Перед тем как первый раз ввести легирующие добавки, измеряют температуру стали и производят её химический анализ. Потом температуру на несколько минут повышают, добавляют легирующие материалы и продувают сплав инертным газом. Затем его перемешивают и снова проводят измерения. Такой цикл повторяется до достижения целевого химического состава и оптимальной температуры плавки.\n",
    "Тогда расплавленная сталь отправляется на доводку металла или поступает в машину непрерывной разливки. Оттуда готовый продукт выходит в виде заготовок-слябов (англ. slab, «плита»).\n"
   ]
  },
  {
   "cell_type": "markdown",
   "metadata": {},
   "source": [
    "## Описание данных\n",
    "\n",
    "Данные состоят из файлов, полученных из разных источников:\n",
    "\n",
    "•\tdata_arc_new.csv — данные об электродах;\n",
    "\n",
    "•\tdata_bulk_new.csv — данные о подаче сыпучих материалов (объём);\n",
    "\n",
    "•\tdata_bulk_time_new.csv — данные о подаче сыпучих материалов (время);\n",
    "\n",
    "•\tdata_gas_new.csv — данные о продувке сплава газом;\n",
    "\n",
    "•\tdata_temp_new.csv — результаты измерения температуры;\n",
    "\n",
    "•\tdata_wire_new.csv — данные о проволочных материалах (объём);\n",
    "\n",
    "•\tdata_wire_time_new.csv — данные о проволочных материалах (время).\n",
    "\n",
    "\n",
    "Во всех файлах столбец key содержит номер партии. В файлах может быть несколько строк с одинаковым значением key: они соответствуют разным итерациям обработки.\n"
   ]
  },
  {
   "cell_type": "markdown",
   "metadata": {},
   "source": [
    "# 1.Исследовательский анализ данных <a id=\"analysis\"></a>"
   ]
  },
  {
   "cell_type": "markdown",
   "metadata": {},
   "source": [
    "Импортируем все необходимое для работы"
   ]
  },
  {
   "cell_type": "code",
   "execution_count": 1,
   "metadata": {},
   "outputs": [],
   "source": [
    "import pandas as pd\n",
    "import matplotlib.pyplot as plt\n",
    "from scipy.stats import randint\n",
    "from scipy.stats import uniform\n",
    "import seaborn as sns\n",
    "import numpy as np\n",
    "\n",
    "from sklearn.model_selection import train_test_split\n",
    "from sklearn.model_selection import RandomizedSearchCV\n",
    "from sklearn.preprocessing import StandardScaler\n",
    "from sklearn.metrics import mean_absolute_error, make_scorer\n",
    "from sklearn.metrics import r2_score\n",
    "\n",
    "from sklearn.linear_model import LinearRegression, Ridge\n",
    "from sklearn.ensemble import RandomForestRegressor\n",
    "from sklearn.dummy import DummyRegressor"
   ]
  },
  {
   "cell_type": "markdown",
   "metadata": {},
   "source": [
    "Отключаем предупреждения"
   ]
  },
  {
   "cell_type": "code",
   "execution_count": 2,
   "metadata": {},
   "outputs": [],
   "source": [
    "import warnings\n",
    "warnings.filterwarnings('ignore')"
   ]
  },
  {
   "cell_type": "markdown",
   "metadata": {},
   "source": [
    "Импортируем данные "
   ]
  },
  {
   "cell_type": "code",
   "execution_count": 3,
   "metadata": {},
   "outputs": [],
   "source": [
    "try:\n",
    "    arc_new = pd.read_csv('https://code.s3.yandex.net/datasets/data_arc_new.csv')\n",
    "    bulk_new = pd.read_csv('https://code.s3.yandex.net/datasets/data_bulk_new.csv')\n",
    "    bulk_time_new = pd.read_csv('https://code.s3.yandex.net/datasets/data_bulk_time_new.csv')\n",
    "    gas_new = pd.read_csv('https://code.s3.yandex.net/datasets/data_gas_new.csv')\n",
    "    temp_new = pd.read_csv('https://code.s3.yandex.net/datasets/data_temp_new.csv')\n",
    "    wire_new = pd.read_csv('https://code.s3.yandex.net/datasets/data_wire_new.csv')\n",
    "    wire_time_new = pd.read_csv('https://code.s3.yandex.net/datasets/data_wire_time_new.csv')\n",
    "            \n",
    "except:\n",
    "    arc_new = pd.read_csv('data_arc_new.csv')\n",
    "    bulk_new = pd.read_csv('data_bulk_new.csv')\n",
    "    bulk_time_new = pd.read_csv('data_bulk_time_new.csv')\n",
    "    gas_new = pd.read_csv('data_gas_new.csv')\n",
    "    temp_new = pd.read_csv('data_temp_new.csv')\n",
    "    wire_new = pd.read_csv('data_wire_new.csv')\n",
    "    wire_time_new = pd.read_csv('data_wire_time_new.csv')  "
   ]
  },
  {
   "cell_type": "markdown",
   "metadata": {},
   "source": [
    "Поместим файлы в список для более удобного выведения информации о наличии дубликатов"
   ]
  },
  {
   "cell_type": "code",
   "execution_count": 4,
   "metadata": {},
   "outputs": [],
   "source": [
    "datas = [arc_new, bulk_new, bulk_time_new, gas_new, temp_new, wire_new, wire_time_new]"
   ]
  },
  {
   "cell_type": "code",
   "execution_count": 5,
   "metadata": {},
   "outputs": [
    {
     "name": "stdout",
     "output_type": "stream",
     "text": [
      "0\n",
      "0\n",
      "0\n",
      "0\n",
      "0\n",
      "0\n",
      "0\n"
     ]
    }
   ],
   "source": [
    "for data in datas:\n",
    "    print(data.duplicated().sum())"
   ]
  },
  {
   "cell_type": "markdown",
   "metadata": {},
   "source": [
    "Дубликатов нет"
   ]
  },
  {
   "cell_type": "markdown",
   "metadata": {},
   "source": [
    "### Данные об электродах"
   ]
  },
  {
   "cell_type": "code",
   "execution_count": 6,
   "metadata": {},
   "outputs": [
    {
     "name": "stdout",
     "output_type": "stream",
     "text": [
      "<class 'pandas.core.frame.DataFrame'>\n",
      "RangeIndex: 14876 entries, 0 to 14875\n",
      "Data columns (total 5 columns):\n",
      " #   Column                Non-Null Count  Dtype  \n",
      "---  ------                --------------  -----  \n",
      " 0   key                   14876 non-null  int64  \n",
      " 1   Начало нагрева дугой  14876 non-null  object \n",
      " 2   Конец нагрева дугой   14876 non-null  object \n",
      " 3   Активная мощность     14876 non-null  float64\n",
      " 4   Реактивная мощность   14876 non-null  float64\n",
      "dtypes: float64(2), int64(1), object(2)\n",
      "memory usage: 581.2+ KB\n"
     ]
    }
   ],
   "source": [
    "arc_new.info()"
   ]
  },
  {
   "cell_type": "code",
   "execution_count": 7,
   "metadata": {},
   "outputs": [
    {
     "data": {
      "text/html": [
       "<div>\n",
       "<style scoped>\n",
       "    .dataframe tbody tr th:only-of-type {\n",
       "        vertical-align: middle;\n",
       "    }\n",
       "\n",
       "    .dataframe tbody tr th {\n",
       "        vertical-align: top;\n",
       "    }\n",
       "\n",
       "    .dataframe thead th {\n",
       "        text-align: right;\n",
       "    }\n",
       "</style>\n",
       "<table border=\"1\" class=\"dataframe\">\n",
       "  <thead>\n",
       "    <tr style=\"text-align: right;\">\n",
       "      <th></th>\n",
       "      <th>key</th>\n",
       "      <th>Начало нагрева дугой</th>\n",
       "      <th>Конец нагрева дугой</th>\n",
       "      <th>Активная мощность</th>\n",
       "      <th>Реактивная мощность</th>\n",
       "    </tr>\n",
       "  </thead>\n",
       "  <tbody>\n",
       "    <tr>\n",
       "      <th>0</th>\n",
       "      <td>1</td>\n",
       "      <td>2019-05-03 11:02:14</td>\n",
       "      <td>2019-05-03 11:06:02</td>\n",
       "      <td>0.305130</td>\n",
       "      <td>0.211253</td>\n",
       "    </tr>\n",
       "    <tr>\n",
       "      <th>1</th>\n",
       "      <td>1</td>\n",
       "      <td>2019-05-03 11:07:28</td>\n",
       "      <td>2019-05-03 11:10:33</td>\n",
       "      <td>0.765658</td>\n",
       "      <td>0.477438</td>\n",
       "    </tr>\n",
       "    <tr>\n",
       "      <th>2</th>\n",
       "      <td>1</td>\n",
       "      <td>2019-05-03 11:11:44</td>\n",
       "      <td>2019-05-03 11:14:36</td>\n",
       "      <td>0.580313</td>\n",
       "      <td>0.430460</td>\n",
       "    </tr>\n",
       "    <tr>\n",
       "      <th>3</th>\n",
       "      <td>1</td>\n",
       "      <td>2019-05-03 11:18:14</td>\n",
       "      <td>2019-05-03 11:24:19</td>\n",
       "      <td>0.518496</td>\n",
       "      <td>0.379979</td>\n",
       "    </tr>\n",
       "    <tr>\n",
       "      <th>4</th>\n",
       "      <td>1</td>\n",
       "      <td>2019-05-03 11:26:09</td>\n",
       "      <td>2019-05-03 11:28:37</td>\n",
       "      <td>0.867133</td>\n",
       "      <td>0.643691</td>\n",
       "    </tr>\n",
       "  </tbody>\n",
       "</table>\n",
       "</div>"
      ],
      "text/plain": [
       "   key Начало нагрева дугой  Конец нагрева дугой  Активная мощность  \\\n",
       "0    1  2019-05-03 11:02:14  2019-05-03 11:06:02           0.305130   \n",
       "1    1  2019-05-03 11:07:28  2019-05-03 11:10:33           0.765658   \n",
       "2    1  2019-05-03 11:11:44  2019-05-03 11:14:36           0.580313   \n",
       "3    1  2019-05-03 11:18:14  2019-05-03 11:24:19           0.518496   \n",
       "4    1  2019-05-03 11:26:09  2019-05-03 11:28:37           0.867133   \n",
       "\n",
       "   Реактивная мощность  \n",
       "0             0.211253  \n",
       "1             0.477438  \n",
       "2             0.430460  \n",
       "3             0.379979  \n",
       "4             0.643691  "
      ]
     },
     "execution_count": 7,
     "metadata": {},
     "output_type": "execute_result"
    }
   ],
   "source": [
    "arc_new.head()"
   ]
  },
  {
   "cell_type": "markdown",
   "metadata": {},
   "source": [
    "Переведем названия столбцов на английский язык и запишем их в нижнем регистре.\n",
    "\n",
    "Изменим тип данных для столбцов с указанием временем"
   ]
  },
  {
   "cell_type": "code",
   "execution_count": 8,
   "metadata": {},
   "outputs": [],
   "source": [
    "arc_new.columns = ['key', 'arc_heating_start', 'arc_heating_end', 'active_power', 'reactive_power']"
   ]
  },
  {
   "cell_type": "markdown",
   "metadata": {},
   "source": [
    "Даты хранятся в столбцах с типом object, приведем их к типу datetime."
   ]
  },
  {
   "cell_type": "code",
   "execution_count": 9,
   "metadata": {},
   "outputs": [],
   "source": [
    "arc_new['arc_heating_start'] = pd.to_datetime(arc_new['arc_heating_start'])\n",
    "arc_new['arc_heating_end'] = pd.to_datetime(arc_new['arc_heating_end'])"
   ]
  },
  {
   "cell_type": "code",
   "execution_count": 10,
   "metadata": {},
   "outputs": [
    {
     "name": "stdout",
     "output_type": "stream",
     "text": [
      "<class 'pandas.core.frame.DataFrame'>\n",
      "RangeIndex: 14876 entries, 0 to 14875\n",
      "Data columns (total 5 columns):\n",
      " #   Column             Non-Null Count  Dtype         \n",
      "---  ------             --------------  -----         \n",
      " 0   key                14876 non-null  int64         \n",
      " 1   arc_heating_start  14876 non-null  datetime64[ns]\n",
      " 2   arc_heating_end    14876 non-null  datetime64[ns]\n",
      " 3   active_power       14876 non-null  float64       \n",
      " 4   reactive_power     14876 non-null  float64       \n",
      "dtypes: datetime64[ns](2), float64(2), int64(1)\n",
      "memory usage: 581.2 KB\n"
     ]
    }
   ],
   "source": [
    "arc_new.info()"
   ]
  },
  {
   "cell_type": "code",
   "execution_count": 11,
   "metadata": {},
   "outputs": [
    {
     "data": {
      "text/html": [
       "<div>\n",
       "<style scoped>\n",
       "    .dataframe tbody tr th:only-of-type {\n",
       "        vertical-align: middle;\n",
       "    }\n",
       "\n",
       "    .dataframe tbody tr th {\n",
       "        vertical-align: top;\n",
       "    }\n",
       "\n",
       "    .dataframe thead th {\n",
       "        text-align: right;\n",
       "    }\n",
       "</style>\n",
       "<table border=\"1\" class=\"dataframe\">\n",
       "  <thead>\n",
       "    <tr style=\"text-align: right;\">\n",
       "      <th></th>\n",
       "      <th>key</th>\n",
       "      <th>active_power</th>\n",
       "      <th>reactive_power</th>\n",
       "    </tr>\n",
       "  </thead>\n",
       "  <tbody>\n",
       "    <tr>\n",
       "      <th>count</th>\n",
       "      <td>14876.000000</td>\n",
       "      <td>14876.000000</td>\n",
       "      <td>14876.000000</td>\n",
       "    </tr>\n",
       "    <tr>\n",
       "      <th>mean</th>\n",
       "      <td>1615.220422</td>\n",
       "      <td>0.662752</td>\n",
       "      <td>0.438986</td>\n",
       "    </tr>\n",
       "    <tr>\n",
       "      <th>std</th>\n",
       "      <td>934.571502</td>\n",
       "      <td>0.258885</td>\n",
       "      <td>5.873485</td>\n",
       "    </tr>\n",
       "    <tr>\n",
       "      <th>min</th>\n",
       "      <td>1.000000</td>\n",
       "      <td>0.223120</td>\n",
       "      <td>-715.479924</td>\n",
       "    </tr>\n",
       "    <tr>\n",
       "      <th>25%</th>\n",
       "      <td>806.000000</td>\n",
       "      <td>0.467115</td>\n",
       "      <td>0.337175</td>\n",
       "    </tr>\n",
       "    <tr>\n",
       "      <th>50%</th>\n",
       "      <td>1617.000000</td>\n",
       "      <td>0.599587</td>\n",
       "      <td>0.441639</td>\n",
       "    </tr>\n",
       "    <tr>\n",
       "      <th>75%</th>\n",
       "      <td>2429.000000</td>\n",
       "      <td>0.830070</td>\n",
       "      <td>0.608201</td>\n",
       "    </tr>\n",
       "    <tr>\n",
       "      <th>max</th>\n",
       "      <td>3241.000000</td>\n",
       "      <td>1.463773</td>\n",
       "      <td>1.270284</td>\n",
       "    </tr>\n",
       "  </tbody>\n",
       "</table>\n",
       "</div>"
      ],
      "text/plain": [
       "                key  active_power  reactive_power\n",
       "count  14876.000000  14876.000000    14876.000000\n",
       "mean    1615.220422      0.662752        0.438986\n",
       "std      934.571502      0.258885        5.873485\n",
       "min        1.000000      0.223120     -715.479924\n",
       "25%      806.000000      0.467115        0.337175\n",
       "50%     1617.000000      0.599587        0.441639\n",
       "75%     2429.000000      0.830070        0.608201\n",
       "max     3241.000000      1.463773        1.270284"
      ]
     },
     "execution_count": 11,
     "metadata": {},
     "output_type": "execute_result"
    }
   ],
   "source": [
    "arc_new.describe()"
   ]
  },
  {
   "cell_type": "markdown",
   "metadata": {},
   "source": [
    "Минимальное значение мощности в столбце reactive_power = -715.479924, скорее всего это выброс и на этапе предобработки данных его можно будет удалить. При построении графиков учтем этот момент."
   ]
  },
  {
   "cell_type": "code",
   "execution_count": 12,
   "metadata": {},
   "outputs": [
    {
     "data": {
      "text/plain": [
       "3214"
      ]
     },
     "execution_count": 12,
     "metadata": {},
     "output_type": "execute_result"
    }
   ],
   "source": [
    "len(arc_new['key'].unique())"
   ]
  },
  {
   "cell_type": "code",
   "execution_count": 13,
   "metadata": {},
   "outputs": [
    {
     "data": {
      "text/plain": [
       "2108    16\n",
       "1689    15\n",
       "1513    15\n",
       "2567    14\n",
       "46      13\n",
       "        ..\n",
       "977      1\n",
       "247      1\n",
       "2582     1\n",
       "248      1\n",
       "530      1\n",
       "Name: key, Length: 3214, dtype: int64"
      ]
     },
     "execution_count": 13,
     "metadata": {},
     "output_type": "execute_result"
    }
   ],
   "source": [
    "arc_new['key'].value_counts()"
   ]
  },
  {
   "cell_type": "code",
   "execution_count": 14,
   "metadata": {},
   "outputs": [
    {
     "data": {
      "text/plain": [
       "Text(0.5, 0, 'Количество итераций в одной партии')"
      ]
     },
     "execution_count": 14,
     "metadata": {},
     "output_type": "execute_result"
    },
    {
     "data": {
      "image/png": "[encoded data removed]",
      "text/plain": [
       "<Figure size 432x288 with 1 Axes>"
      ]
     },
     "metadata": {
      "needs_background": "light"
     },
     "output_type": "display_data"
    }
   ],
   "source": [
    "plt.figure()\n",
    "arc_new.groupby('key')['active_power'].count().hist()\n",
    "plt.title('Распределение количества итераций нагрева разных партий')\n",
    "plt.ylabel('Количество ключей')\n",
    "plt.xlabel('Количество итераций в одной партии')"
   ]
  },
  {
   "cell_type": "markdown",
   "metadata": {},
   "source": [
    "В среднем проводится 5 итераций для одной партии"
   ]
  },
  {
   "cell_type": "markdown",
   "metadata": {},
   "source": [
    "Построим гисторграмму с учетом того, что реактивная мощность нее может быть меньше 0"
   ]
  },
  {
   "cell_type": "code",
   "execution_count": 15,
   "metadata": {},
   "outputs": [
    {
     "data": {
      "text/plain": [
       "Text(0.5, 0, 'Реактивная мощность')"
      ]
     },
     "execution_count": 15,
     "metadata": {},
     "output_type": "execute_result"
    },
    {
     "data": {
      "image/png": "[encoded data removed]",
      "text/plain": [
       "<Figure size 432x288 with 1 Axes>"
      ]
     },
     "metadata": {
      "needs_background": "light"
     },
     "output_type": "display_data"
    }
   ],
   "source": [
    "arc_new[arc_new['reactive_power'] > 0]['reactive_power'].hist()\n",
    "plt.title('Распределение реактивной мощности')\n",
    "plt.ylabel('Количество ключей')\n",
    "plt.xlabel('Реактивная мощность')"
   ]
  },
  {
   "cell_type": "markdown",
   "metadata": {},
   "source": [
    "В среднем показания реактивной мощности находятся в диапазоне от 0.3 до 0.6"
   ]
  },
  {
   "cell_type": "markdown",
   "metadata": {},
   "source": [
    "### Данные о подаче сыпучих материалов (объём)"
   ]
  },
  {
   "cell_type": "code",
   "execution_count": 16,
   "metadata": {},
   "outputs": [
    {
     "name": "stdout",
     "output_type": "stream",
     "text": [
      "<class 'pandas.core.frame.DataFrame'>\n",
      "RangeIndex: 3129 entries, 0 to 3128\n",
      "Data columns (total 16 columns):\n",
      " #   Column   Non-Null Count  Dtype  \n",
      "---  ------   --------------  -----  \n",
      " 0   key      3129 non-null   int64  \n",
      " 1   Bulk 1   252 non-null    float64\n",
      " 2   Bulk 2   22 non-null     float64\n",
      " 3   Bulk 3   1298 non-null   float64\n",
      " 4   Bulk 4   1014 non-null   float64\n",
      " 5   Bulk 5   77 non-null     float64\n",
      " 6   Bulk 6   576 non-null    float64\n",
      " 7   Bulk 7   25 non-null     float64\n",
      " 8   Bulk 8   1 non-null      float64\n",
      " 9   Bulk 9   19 non-null     float64\n",
      " 10  Bulk 10  176 non-null    float64\n",
      " 11  Bulk 11  177 non-null    float64\n",
      " 12  Bulk 12  2450 non-null   float64\n",
      " 13  Bulk 13  18 non-null     float64\n",
      " 14  Bulk 14  2806 non-null   float64\n",
      " 15  Bulk 15  2248 non-null   float64\n",
      "dtypes: float64(15), int64(1)\n",
      "memory usage: 391.2 KB\n"
     ]
    }
   ],
   "source": [
    "bulk_new.info()"
   ]
  },
  {
   "cell_type": "markdown",
   "metadata": {},
   "source": [
    "Для удобства изменим названия столбцов"
   ]
  },
  {
   "cell_type": "code",
   "execution_count": 17,
   "metadata": {},
   "outputs": [],
   "source": [
    "bulk_new = bulk_new.rename(\n",
    "    columns = {\n",
    "        'Bulk 1': 'bulk_1',\n",
    "        'Bulk 2': 'bulk_2',\n",
    "        'Bulk 3': 'bulk_3',\n",
    "        'Bulk 4': 'bulk_4',\n",
    "        'Bulk 5': 'bulk_5',\n",
    "        'Bulk 6': 'bulk_6',\n",
    "        'Bulk 7': 'bulk_7',\n",
    "        'Bulk 8': 'bulk_8',\n",
    "        'Bulk 9': 'bulk_9',\n",
    "        'Bulk 10': 'bulk_10',\n",
    "        'Bulk 11': 'bulk_11',\n",
    "        'Bulk 12': 'bulk_12',\n",
    "        'Bulk 13': 'bulk_13',\n",
    "        'Bulk 14': 'bulk_14',\n",
    "        'Bulk 15': 'bulk_15'\n",
    "    }\n",
    ")"
   ]
  },
  {
   "cell_type": "code",
   "execution_count": 18,
   "metadata": {},
   "outputs": [
    {
     "data": {
      "text/html": [
       "<div>\n",
       "<style scoped>\n",
       "    .dataframe tbody tr th:only-of-type {\n",
       "        vertical-align: middle;\n",
       "    }\n",
       "\n",
       "    .dataframe tbody tr th {\n",
       "        vertical-align: top;\n",
       "    }\n",
       "\n",
       "    .dataframe thead th {\n",
       "        text-align: right;\n",
       "    }\n",
       "</style>\n",
       "<table border=\"1\" class=\"dataframe\">\n",
       "  <thead>\n",
       "    <tr style=\"text-align: right;\">\n",
       "      <th></th>\n",
       "      <th>key</th>\n",
       "      <th>bulk_1</th>\n",
       "      <th>bulk_2</th>\n",
       "      <th>bulk_3</th>\n",
       "      <th>bulk_4</th>\n",
       "      <th>bulk_5</th>\n",
       "      <th>bulk_6</th>\n",
       "      <th>bulk_7</th>\n",
       "      <th>bulk_8</th>\n",
       "      <th>bulk_9</th>\n",
       "      <th>bulk_10</th>\n",
       "      <th>bulk_11</th>\n",
       "      <th>bulk_12</th>\n",
       "      <th>bulk_13</th>\n",
       "      <th>bulk_14</th>\n",
       "      <th>bulk_15</th>\n",
       "    </tr>\n",
       "  </thead>\n",
       "  <tbody>\n",
       "    <tr>\n",
       "      <th>0</th>\n",
       "      <td>1</td>\n",
       "      <td>NaN</td>\n",
       "      <td>NaN</td>\n",
       "      <td>NaN</td>\n",
       "      <td>43.0</td>\n",
       "      <td>NaN</td>\n",
       "      <td>NaN</td>\n",
       "      <td>NaN</td>\n",
       "      <td>NaN</td>\n",
       "      <td>NaN</td>\n",
       "      <td>NaN</td>\n",
       "      <td>NaN</td>\n",
       "      <td>206.0</td>\n",
       "      <td>NaN</td>\n",
       "      <td>150.0</td>\n",
       "      <td>154.0</td>\n",
       "    </tr>\n",
       "    <tr>\n",
       "      <th>1</th>\n",
       "      <td>2</td>\n",
       "      <td>NaN</td>\n",
       "      <td>NaN</td>\n",
       "      <td>NaN</td>\n",
       "      <td>73.0</td>\n",
       "      <td>NaN</td>\n",
       "      <td>NaN</td>\n",
       "      <td>NaN</td>\n",
       "      <td>NaN</td>\n",
       "      <td>NaN</td>\n",
       "      <td>NaN</td>\n",
       "      <td>NaN</td>\n",
       "      <td>206.0</td>\n",
       "      <td>NaN</td>\n",
       "      <td>149.0</td>\n",
       "      <td>154.0</td>\n",
       "    </tr>\n",
       "    <tr>\n",
       "      <th>2</th>\n",
       "      <td>3</td>\n",
       "      <td>NaN</td>\n",
       "      <td>NaN</td>\n",
       "      <td>NaN</td>\n",
       "      <td>34.0</td>\n",
       "      <td>NaN</td>\n",
       "      <td>NaN</td>\n",
       "      <td>NaN</td>\n",
       "      <td>NaN</td>\n",
       "      <td>NaN</td>\n",
       "      <td>NaN</td>\n",
       "      <td>NaN</td>\n",
       "      <td>205.0</td>\n",
       "      <td>NaN</td>\n",
       "      <td>152.0</td>\n",
       "      <td>153.0</td>\n",
       "    </tr>\n",
       "    <tr>\n",
       "      <th>3</th>\n",
       "      <td>4</td>\n",
       "      <td>NaN</td>\n",
       "      <td>NaN</td>\n",
       "      <td>NaN</td>\n",
       "      <td>81.0</td>\n",
       "      <td>NaN</td>\n",
       "      <td>NaN</td>\n",
       "      <td>NaN</td>\n",
       "      <td>NaN</td>\n",
       "      <td>NaN</td>\n",
       "      <td>NaN</td>\n",
       "      <td>NaN</td>\n",
       "      <td>207.0</td>\n",
       "      <td>NaN</td>\n",
       "      <td>153.0</td>\n",
       "      <td>154.0</td>\n",
       "    </tr>\n",
       "    <tr>\n",
       "      <th>4</th>\n",
       "      <td>5</td>\n",
       "      <td>NaN</td>\n",
       "      <td>NaN</td>\n",
       "      <td>NaN</td>\n",
       "      <td>78.0</td>\n",
       "      <td>NaN</td>\n",
       "      <td>NaN</td>\n",
       "      <td>NaN</td>\n",
       "      <td>NaN</td>\n",
       "      <td>NaN</td>\n",
       "      <td>NaN</td>\n",
       "      <td>NaN</td>\n",
       "      <td>203.0</td>\n",
       "      <td>NaN</td>\n",
       "      <td>151.0</td>\n",
       "      <td>152.0</td>\n",
       "    </tr>\n",
       "  </tbody>\n",
       "</table>\n",
       "</div>"
      ],
      "text/plain": [
       "   key  bulk_1  bulk_2  bulk_3  bulk_4  bulk_5  bulk_6  bulk_7  bulk_8  \\\n",
       "0    1     NaN     NaN     NaN    43.0     NaN     NaN     NaN     NaN   \n",
       "1    2     NaN     NaN     NaN    73.0     NaN     NaN     NaN     NaN   \n",
       "2    3     NaN     NaN     NaN    34.0     NaN     NaN     NaN     NaN   \n",
       "3    4     NaN     NaN     NaN    81.0     NaN     NaN     NaN     NaN   \n",
       "4    5     NaN     NaN     NaN    78.0     NaN     NaN     NaN     NaN   \n",
       "\n",
       "   bulk_9  bulk_10  bulk_11  bulk_12  bulk_13  bulk_14  bulk_15  \n",
       "0     NaN      NaN      NaN    206.0      NaN    150.0    154.0  \n",
       "1     NaN      NaN      NaN    206.0      NaN    149.0    154.0  \n",
       "2     NaN      NaN      NaN    205.0      NaN    152.0    153.0  \n",
       "3     NaN      NaN      NaN    207.0      NaN    153.0    154.0  \n",
       "4     NaN      NaN      NaN    203.0      NaN    151.0    152.0  "
      ]
     },
     "execution_count": 18,
     "metadata": {},
     "output_type": "execute_result"
    }
   ],
   "source": [
    "bulk_new.head()"
   ]
  },
  {
   "cell_type": "code",
   "execution_count": 19,
   "metadata": {},
   "outputs": [
    {
     "data": {
      "text/html": [
       "<div>\n",
       "<style scoped>\n",
       "    .dataframe tbody tr th:only-of-type {\n",
       "        vertical-align: middle;\n",
       "    }\n",
       "\n",
       "    .dataframe tbody tr th {\n",
       "        vertical-align: top;\n",
       "    }\n",
       "\n",
       "    .dataframe thead th {\n",
       "        text-align: right;\n",
       "    }\n",
       "</style>\n",
       "<table border=\"1\" class=\"dataframe\">\n",
       "  <thead>\n",
       "    <tr style=\"text-align: right;\">\n",
       "      <th></th>\n",
       "      <th>key</th>\n",
       "      <th>bulk_1</th>\n",
       "      <th>bulk_2</th>\n",
       "      <th>bulk_3</th>\n",
       "      <th>bulk_4</th>\n",
       "      <th>bulk_5</th>\n",
       "      <th>bulk_6</th>\n",
       "      <th>bulk_7</th>\n",
       "      <th>bulk_8</th>\n",
       "      <th>bulk_9</th>\n",
       "      <th>bulk_10</th>\n",
       "      <th>bulk_11</th>\n",
       "      <th>bulk_12</th>\n",
       "      <th>bulk_13</th>\n",
       "      <th>bulk_14</th>\n",
       "      <th>bulk_15</th>\n",
       "    </tr>\n",
       "  </thead>\n",
       "  <tbody>\n",
       "    <tr>\n",
       "      <th>count</th>\n",
       "      <td>3129.000000</td>\n",
       "      <td>252.000000</td>\n",
       "      <td>22.000000</td>\n",
       "      <td>1298.000000</td>\n",
       "      <td>1014.000000</td>\n",
       "      <td>77.000000</td>\n",
       "      <td>576.000000</td>\n",
       "      <td>25.000000</td>\n",
       "      <td>1.0</td>\n",
       "      <td>19.000000</td>\n",
       "      <td>176.000000</td>\n",
       "      <td>177.000000</td>\n",
       "      <td>2450.000000</td>\n",
       "      <td>18.000000</td>\n",
       "      <td>2806.000000</td>\n",
       "      <td>2248.000000</td>\n",
       "    </tr>\n",
       "    <tr>\n",
       "      <th>mean</th>\n",
       "      <td>1624.383509</td>\n",
       "      <td>39.242063</td>\n",
       "      <td>253.045455</td>\n",
       "      <td>113.879045</td>\n",
       "      <td>104.394477</td>\n",
       "      <td>107.025974</td>\n",
       "      <td>118.925347</td>\n",
       "      <td>305.600000</td>\n",
       "      <td>49.0</td>\n",
       "      <td>76.315789</td>\n",
       "      <td>83.284091</td>\n",
       "      <td>76.819209</td>\n",
       "      <td>260.471020</td>\n",
       "      <td>181.111111</td>\n",
       "      <td>170.284747</td>\n",
       "      <td>160.513345</td>\n",
       "    </tr>\n",
       "    <tr>\n",
       "      <th>std</th>\n",
       "      <td>933.337642</td>\n",
       "      <td>18.277654</td>\n",
       "      <td>21.180578</td>\n",
       "      <td>75.483494</td>\n",
       "      <td>48.184126</td>\n",
       "      <td>81.790646</td>\n",
       "      <td>72.057776</td>\n",
       "      <td>191.022904</td>\n",
       "      <td>NaN</td>\n",
       "      <td>21.720581</td>\n",
       "      <td>26.060347</td>\n",
       "      <td>59.655365</td>\n",
       "      <td>120.649269</td>\n",
       "      <td>46.088009</td>\n",
       "      <td>65.868652</td>\n",
       "      <td>51.765319</td>\n",
       "    </tr>\n",
       "    <tr>\n",
       "      <th>min</th>\n",
       "      <td>1.000000</td>\n",
       "      <td>10.000000</td>\n",
       "      <td>228.000000</td>\n",
       "      <td>6.000000</td>\n",
       "      <td>12.000000</td>\n",
       "      <td>11.000000</td>\n",
       "      <td>17.000000</td>\n",
       "      <td>47.000000</td>\n",
       "      <td>49.0</td>\n",
       "      <td>63.000000</td>\n",
       "      <td>24.000000</td>\n",
       "      <td>8.000000</td>\n",
       "      <td>53.000000</td>\n",
       "      <td>151.000000</td>\n",
       "      <td>16.000000</td>\n",
       "      <td>1.000000</td>\n",
       "    </tr>\n",
       "    <tr>\n",
       "      <th>25%</th>\n",
       "      <td>816.000000</td>\n",
       "      <td>27.000000</td>\n",
       "      <td>242.000000</td>\n",
       "      <td>58.000000</td>\n",
       "      <td>72.000000</td>\n",
       "      <td>70.000000</td>\n",
       "      <td>69.750000</td>\n",
       "      <td>155.000000</td>\n",
       "      <td>49.0</td>\n",
       "      <td>66.000000</td>\n",
       "      <td>64.000000</td>\n",
       "      <td>25.000000</td>\n",
       "      <td>204.000000</td>\n",
       "      <td>153.250000</td>\n",
       "      <td>119.000000</td>\n",
       "      <td>105.000000</td>\n",
       "    </tr>\n",
       "    <tr>\n",
       "      <th>50%</th>\n",
       "      <td>1622.000000</td>\n",
       "      <td>31.000000</td>\n",
       "      <td>251.500000</td>\n",
       "      <td>97.500000</td>\n",
       "      <td>102.000000</td>\n",
       "      <td>86.000000</td>\n",
       "      <td>100.000000</td>\n",
       "      <td>298.000000</td>\n",
       "      <td>49.0</td>\n",
       "      <td>68.000000</td>\n",
       "      <td>86.500000</td>\n",
       "      <td>64.000000</td>\n",
       "      <td>208.000000</td>\n",
       "      <td>155.500000</td>\n",
       "      <td>151.000000</td>\n",
       "      <td>160.000000</td>\n",
       "    </tr>\n",
       "    <tr>\n",
       "      <th>75%</th>\n",
       "      <td>2431.000000</td>\n",
       "      <td>46.000000</td>\n",
       "      <td>257.750000</td>\n",
       "      <td>152.000000</td>\n",
       "      <td>133.000000</td>\n",
       "      <td>132.000000</td>\n",
       "      <td>157.000000</td>\n",
       "      <td>406.000000</td>\n",
       "      <td>49.0</td>\n",
       "      <td>70.500000</td>\n",
       "      <td>102.000000</td>\n",
       "      <td>106.000000</td>\n",
       "      <td>316.000000</td>\n",
       "      <td>203.500000</td>\n",
       "      <td>205.750000</td>\n",
       "      <td>205.000000</td>\n",
       "    </tr>\n",
       "    <tr>\n",
       "      <th>max</th>\n",
       "      <td>3241.000000</td>\n",
       "      <td>185.000000</td>\n",
       "      <td>325.000000</td>\n",
       "      <td>454.000000</td>\n",
       "      <td>281.000000</td>\n",
       "      <td>603.000000</td>\n",
       "      <td>503.000000</td>\n",
       "      <td>772.000000</td>\n",
       "      <td>49.0</td>\n",
       "      <td>147.000000</td>\n",
       "      <td>159.000000</td>\n",
       "      <td>313.000000</td>\n",
       "      <td>1849.000000</td>\n",
       "      <td>305.000000</td>\n",
       "      <td>636.000000</td>\n",
       "      <td>405.000000</td>\n",
       "    </tr>\n",
       "  </tbody>\n",
       "</table>\n",
       "</div>"
      ],
      "text/plain": [
       "               key      bulk_1      bulk_2       bulk_3       bulk_4  \\\n",
       "count  3129.000000  252.000000   22.000000  1298.000000  1014.000000   \n",
       "mean   1624.383509   39.242063  253.045455   113.879045   104.394477   \n",
       "std     933.337642   18.277654   21.180578    75.483494    48.184126   \n",
       "min       1.000000   10.000000  228.000000     6.000000    12.000000   \n",
       "25%     816.000000   27.000000  242.000000    58.000000    72.000000   \n",
       "50%    1622.000000   31.000000  251.500000    97.500000   102.000000   \n",
       "75%    2431.000000   46.000000  257.750000   152.000000   133.000000   \n",
       "max    3241.000000  185.000000  325.000000   454.000000   281.000000   \n",
       "\n",
       "           bulk_5      bulk_6      bulk_7  bulk_8      bulk_9     bulk_10  \\\n",
       "count   77.000000  576.000000   25.000000     1.0   19.000000  176.000000   \n",
       "mean   107.025974  118.925347  305.600000    49.0   76.315789   83.284091   \n",
       "std     81.790646   72.057776  191.022904     NaN   21.720581   26.060347   \n",
       "min     11.000000   17.000000   47.000000    49.0   63.000000   24.000000   \n",
       "25%     70.000000   69.750000  155.000000    49.0   66.000000   64.000000   \n",
       "50%     86.000000  100.000000  298.000000    49.0   68.000000   86.500000   \n",
       "75%    132.000000  157.000000  406.000000    49.0   70.500000  102.000000   \n",
       "max    603.000000  503.000000  772.000000    49.0  147.000000  159.000000   \n",
       "\n",
       "          bulk_11      bulk_12     bulk_13      bulk_14      bulk_15  \n",
       "count  177.000000  2450.000000   18.000000  2806.000000  2248.000000  \n",
       "mean    76.819209   260.471020  181.111111   170.284747   160.513345  \n",
       "std     59.655365   120.649269   46.088009    65.868652    51.765319  \n",
       "min      8.000000    53.000000  151.000000    16.000000     1.000000  \n",
       "25%     25.000000   204.000000  153.250000   119.000000   105.000000  \n",
       "50%     64.000000   208.000000  155.500000   151.000000   160.000000  \n",
       "75%    106.000000   316.000000  203.500000   205.750000   205.000000  \n",
       "max    313.000000  1849.000000  305.000000   636.000000   405.000000  "
      ]
     },
     "execution_count": 19,
     "metadata": {},
     "output_type": "execute_result"
    }
   ],
   "source": [
    "bulk_new.describe()"
   ]
  },
  {
   "cell_type": "code",
   "execution_count": 20,
   "metadata": {},
   "outputs": [
    {
     "data": {
      "text/plain": [
       "3129"
      ]
     },
     "execution_count": 20,
     "metadata": {},
     "output_type": "execute_result"
    }
   ],
   "source": [
    "len(bulk_new['key'].unique())"
   ]
  },
  {
   "cell_type": "code",
   "execution_count": 21,
   "metadata": {},
   "outputs": [
    {
     "data": {
      "text/plain": [
       "2049    1\n",
       "2612    1\n",
       "2588    1\n",
       "541     1\n",
       "2590    1\n",
       "       ..\n",
       "1090    1\n",
       "3139    1\n",
       "1092    1\n",
       "3141    1\n",
       "2047    1\n",
       "Name: key, Length: 3129, dtype: int64"
      ]
     },
     "execution_count": 21,
     "metadata": {},
     "output_type": "execute_result"
    }
   ],
   "source": [
    "bulk_new['key'].value_counts()"
   ]
  },
  {
   "cell_type": "markdown",
   "metadata": {},
   "source": [
    "### Данные о подаче сыпучих материалов (время)"
   ]
  },
  {
   "cell_type": "code",
   "execution_count": 22,
   "metadata": {},
   "outputs": [
    {
     "name": "stdout",
     "output_type": "stream",
     "text": [
      "<class 'pandas.core.frame.DataFrame'>\n",
      "RangeIndex: 3129 entries, 0 to 3128\n",
      "Data columns (total 16 columns):\n",
      " #   Column   Non-Null Count  Dtype \n",
      "---  ------   --------------  ----- \n",
      " 0   key      3129 non-null   int64 \n",
      " 1   Bulk 1   252 non-null    object\n",
      " 2   Bulk 2   22 non-null     object\n",
      " 3   Bulk 3   1298 non-null   object\n",
      " 4   Bulk 4   1014 non-null   object\n",
      " 5   Bulk 5   77 non-null     object\n",
      " 6   Bulk 6   576 non-null    object\n",
      " 7   Bulk 7   25 non-null     object\n",
      " 8   Bulk 8   1 non-null      object\n",
      " 9   Bulk 9   19 non-null     object\n",
      " 10  Bulk 10  176 non-null    object\n",
      " 11  Bulk 11  177 non-null    object\n",
      " 12  Bulk 12  2450 non-null   object\n",
      " 13  Bulk 13  18 non-null     object\n",
      " 14  Bulk 14  2806 non-null   object\n",
      " 15  Bulk 15  2248 non-null   object\n",
      "dtypes: int64(1), object(15)\n",
      "memory usage: 391.2+ KB\n"
     ]
    }
   ],
   "source": [
    "bulk_time_new.info()"
   ]
  },
  {
   "cell_type": "code",
   "execution_count": 23,
   "metadata": {},
   "outputs": [],
   "source": [
    "bulk_time_new = bulk_time_new.rename(\n",
    "    columns = {\n",
    "        'Bulk 1': 'bulk_1',\n",
    "        'Bulk 2': 'bulk_2',\n",
    "        'Bulk 3': 'bulk_3',\n",
    "        'Bulk 4': 'bulk_4',\n",
    "        'Bulk 5': 'bulk_5',\n",
    "        'Bulk 6': 'bulk_6',\n",
    "        'Bulk 7': 'bulk_7',\n",
    "        'Bulk 8': 'bulk_8',\n",
    "        'Bulk 9': 'bulk_9',\n",
    "        'Bulk 10': 'bulk_10',\n",
    "        'Bulk 11': 'bulk_11',\n",
    "        'Bulk 12': 'bulk_12',\n",
    "        'Bulk 13': 'bulk_13',\n",
    "        'Bulk 14': 'bulk_14',\n",
    "        'Bulk 15': 'bulk_15'\n",
    "    }\n",
    ")"
   ]
  },
  {
   "cell_type": "code",
   "execution_count": 24,
   "metadata": {},
   "outputs": [
    {
     "data": {
      "text/html": [
       "<div>\n",
       "<style scoped>\n",
       "    .dataframe tbody tr th:only-of-type {\n",
       "        vertical-align: middle;\n",
       "    }\n",
       "\n",
       "    .dataframe tbody tr th {\n",
       "        vertical-align: top;\n",
       "    }\n",
       "\n",
       "    .dataframe thead th {\n",
       "        text-align: right;\n",
       "    }\n",
       "</style>\n",
       "<table border=\"1\" class=\"dataframe\">\n",
       "  <thead>\n",
       "    <tr style=\"text-align: right;\">\n",
       "      <th></th>\n",
       "      <th>key</th>\n",
       "      <th>bulk_1</th>\n",
       "      <th>bulk_2</th>\n",
       "      <th>bulk_3</th>\n",
       "      <th>bulk_4</th>\n",
       "      <th>bulk_5</th>\n",
       "      <th>bulk_6</th>\n",
       "      <th>bulk_7</th>\n",
       "      <th>bulk_8</th>\n",
       "      <th>bulk_9</th>\n",
       "      <th>bulk_10</th>\n",
       "      <th>bulk_11</th>\n",
       "      <th>bulk_12</th>\n",
       "      <th>bulk_13</th>\n",
       "      <th>bulk_14</th>\n",
       "      <th>bulk_15</th>\n",
       "    </tr>\n",
       "  </thead>\n",
       "  <tbody>\n",
       "    <tr>\n",
       "      <th>0</th>\n",
       "      <td>1</td>\n",
       "      <td>NaN</td>\n",
       "      <td>NaN</td>\n",
       "      <td>NaN</td>\n",
       "      <td>2019-05-03 11:28:48</td>\n",
       "      <td>NaN</td>\n",
       "      <td>NaN</td>\n",
       "      <td>NaN</td>\n",
       "      <td>NaN</td>\n",
       "      <td>NaN</td>\n",
       "      <td>NaN</td>\n",
       "      <td>NaN</td>\n",
       "      <td>2019-05-03 11:24:31</td>\n",
       "      <td>NaN</td>\n",
       "      <td>2019-05-03 11:14:50</td>\n",
       "      <td>2019-05-03 11:10:43</td>\n",
       "    </tr>\n",
       "    <tr>\n",
       "      <th>1</th>\n",
       "      <td>2</td>\n",
       "      <td>NaN</td>\n",
       "      <td>NaN</td>\n",
       "      <td>NaN</td>\n",
       "      <td>2019-05-03 11:36:50</td>\n",
       "      <td>NaN</td>\n",
       "      <td>NaN</td>\n",
       "      <td>NaN</td>\n",
       "      <td>NaN</td>\n",
       "      <td>NaN</td>\n",
       "      <td>NaN</td>\n",
       "      <td>NaN</td>\n",
       "      <td>2019-05-03 11:53:30</td>\n",
       "      <td>NaN</td>\n",
       "      <td>2019-05-03 11:48:37</td>\n",
       "      <td>2019-05-03 11:44:39</td>\n",
       "    </tr>\n",
       "    <tr>\n",
       "      <th>2</th>\n",
       "      <td>3</td>\n",
       "      <td>NaN</td>\n",
       "      <td>NaN</td>\n",
       "      <td>NaN</td>\n",
       "      <td>2019-05-03 12:32:39</td>\n",
       "      <td>NaN</td>\n",
       "      <td>NaN</td>\n",
       "      <td>NaN</td>\n",
       "      <td>NaN</td>\n",
       "      <td>NaN</td>\n",
       "      <td>NaN</td>\n",
       "      <td>NaN</td>\n",
       "      <td>2019-05-03 12:27:13</td>\n",
       "      <td>NaN</td>\n",
       "      <td>2019-05-03 12:21:01</td>\n",
       "      <td>2019-05-03 12:16:16</td>\n",
       "    </tr>\n",
       "    <tr>\n",
       "      <th>3</th>\n",
       "      <td>4</td>\n",
       "      <td>NaN</td>\n",
       "      <td>NaN</td>\n",
       "      <td>NaN</td>\n",
       "      <td>2019-05-03 12:43:22</td>\n",
       "      <td>NaN</td>\n",
       "      <td>NaN</td>\n",
       "      <td>NaN</td>\n",
       "      <td>NaN</td>\n",
       "      <td>NaN</td>\n",
       "      <td>NaN</td>\n",
       "      <td>NaN</td>\n",
       "      <td>2019-05-03 12:58:00</td>\n",
       "      <td>NaN</td>\n",
       "      <td>2019-05-03 12:51:11</td>\n",
       "      <td>2019-05-03 12:46:36</td>\n",
       "    </tr>\n",
       "    <tr>\n",
       "      <th>4</th>\n",
       "      <td>5</td>\n",
       "      <td>NaN</td>\n",
       "      <td>NaN</td>\n",
       "      <td>NaN</td>\n",
       "      <td>2019-05-03 13:30:47</td>\n",
       "      <td>NaN</td>\n",
       "      <td>NaN</td>\n",
       "      <td>NaN</td>\n",
       "      <td>NaN</td>\n",
       "      <td>NaN</td>\n",
       "      <td>NaN</td>\n",
       "      <td>NaN</td>\n",
       "      <td>2019-05-03 13:30:47</td>\n",
       "      <td>NaN</td>\n",
       "      <td>2019-05-03 13:34:12</td>\n",
       "      <td>2019-05-03 13:30:47</td>\n",
       "    </tr>\n",
       "  </tbody>\n",
       "</table>\n",
       "</div>"
      ],
      "text/plain": [
       "   key bulk_1 bulk_2 bulk_3               bulk_4 bulk_5 bulk_6 bulk_7 bulk_8  \\\n",
       "0    1    NaN    NaN    NaN  2019-05-03 11:28:48    NaN    NaN    NaN    NaN   \n",
       "1    2    NaN    NaN    NaN  2019-05-03 11:36:50    NaN    NaN    NaN    NaN   \n",
       "2    3    NaN    NaN    NaN  2019-05-03 12:32:39    NaN    NaN    NaN    NaN   \n",
       "3    4    NaN    NaN    NaN  2019-05-03 12:43:22    NaN    NaN    NaN    NaN   \n",
       "4    5    NaN    NaN    NaN  2019-05-03 13:30:47    NaN    NaN    NaN    NaN   \n",
       "\n",
       "  bulk_9 bulk_10 bulk_11              bulk_12 bulk_13              bulk_14  \\\n",
       "0    NaN     NaN     NaN  2019-05-03 11:24:31     NaN  2019-05-03 11:14:50   \n",
       "1    NaN     NaN     NaN  2019-05-03 11:53:30     NaN  2019-05-03 11:48:37   \n",
       "2    NaN     NaN     NaN  2019-05-03 12:27:13     NaN  2019-05-03 12:21:01   \n",
       "3    NaN     NaN     NaN  2019-05-03 12:58:00     NaN  2019-05-03 12:51:11   \n",
       "4    NaN     NaN     NaN  2019-05-03 13:30:47     NaN  2019-05-03 13:34:12   \n",
       "\n",
       "               bulk_15  \n",
       "0  2019-05-03 11:10:43  \n",
       "1  2019-05-03 11:44:39  \n",
       "2  2019-05-03 12:16:16  \n",
       "3  2019-05-03 12:46:36  \n",
       "4  2019-05-03 13:30:47  "
      ]
     },
     "execution_count": 24,
     "metadata": {},
     "output_type": "execute_result"
    }
   ],
   "source": [
    "bulk_time_new.head()"
   ]
  },
  {
   "cell_type": "code",
   "execution_count": 25,
   "metadata": {},
   "outputs": [],
   "source": [
    "for column in bulk_time_new.columns:\n",
    "    if column[0] == 'b':\n",
    "        bulk_time_new[column] = pd.to_datetime(bulk_time_new[column])"
   ]
  },
  {
   "cell_type": "code",
   "execution_count": 26,
   "metadata": {},
   "outputs": [
    {
     "name": "stdout",
     "output_type": "stream",
     "text": [
      "<class 'pandas.core.frame.DataFrame'>\n",
      "RangeIndex: 3129 entries, 0 to 3128\n",
      "Data columns (total 16 columns):\n",
      " #   Column   Non-Null Count  Dtype         \n",
      "---  ------   --------------  -----         \n",
      " 0   key      3129 non-null   int64         \n",
      " 1   bulk_1   252 non-null    datetime64[ns]\n",
      " 2   bulk_2   22 non-null     datetime64[ns]\n",
      " 3   bulk_3   1298 non-null   datetime64[ns]\n",
      " 4   bulk_4   1014 non-null   datetime64[ns]\n",
      " 5   bulk_5   77 non-null     datetime64[ns]\n",
      " 6   bulk_6   576 non-null    datetime64[ns]\n",
      " 7   bulk_7   25 non-null     datetime64[ns]\n",
      " 8   bulk_8   1 non-null      datetime64[ns]\n",
      " 9   bulk_9   19 non-null     datetime64[ns]\n",
      " 10  bulk_10  176 non-null    datetime64[ns]\n",
      " 11  bulk_11  177 non-null    datetime64[ns]\n",
      " 12  bulk_12  2450 non-null   datetime64[ns]\n",
      " 13  bulk_13  18 non-null     datetime64[ns]\n",
      " 14  bulk_14  2806 non-null   datetime64[ns]\n",
      " 15  bulk_15  2248 non-null   datetime64[ns]\n",
      "dtypes: datetime64[ns](15), int64(1)\n",
      "memory usage: 391.2 KB\n"
     ]
    }
   ],
   "source": [
    "bulk_time_new.info()"
   ]
  },
  {
   "cell_type": "code",
   "execution_count": 27,
   "metadata": {},
   "outputs": [
    {
     "data": {
      "text/plain": [
       "3129"
      ]
     },
     "execution_count": 27,
     "metadata": {},
     "output_type": "execute_result"
    }
   ],
   "source": [
    "len(bulk_time_new['key'].unique())"
   ]
  },
  {
   "cell_type": "code",
   "execution_count": 28,
   "metadata": {},
   "outputs": [
    {
     "data": {
      "text/plain": [
       "2049    1\n",
       "2612    1\n",
       "2588    1\n",
       "541     1\n",
       "2590    1\n",
       "       ..\n",
       "1090    1\n",
       "3139    1\n",
       "1092    1\n",
       "3141    1\n",
       "2047    1\n",
       "Name: key, Length: 3129, dtype: int64"
      ]
     },
     "execution_count": 28,
     "metadata": {},
     "output_type": "execute_result"
    }
   ],
   "source": [
    "bulk_time_new['key'].value_counts()"
   ]
  },
  {
   "cell_type": "code",
   "execution_count": 29,
   "metadata": {},
   "outputs": [
    {
     "data": {
      "text/plain": [
       "Text(0.5, 0, 'Наименование сыпучего материала')"
      ]
     },
     "execution_count": 29,
     "metadata": {},
     "output_type": "execute_result"
    },
    {
     "data": {
      "image/png": "[encoded data removed]",
      "text/plain": [
       "<Figure size 720x360 with 1 Axes>"
      ]
     },
     "metadata": {
      "needs_background": "light"
     },
     "output_type": "display_data"
    }
   ],
   "source": [
    "plt.figure(figsize = (10,5))\n",
    "bulk_time_new.isnull().mean().sort_values(ascending = False).plot(kind = 'bar')\n",
    "plt.title('Статистика использования сыпучих материалов')\n",
    "plt.ylabel('Доля использования в партиях')\n",
    "plt.xlabel('Наименование сыпучего материала')"
   ]
  },
  {
   "cell_type": "markdown",
   "metadata": {},
   "source": [
    "В таблицах о подаче сыпучих материалов присутствует очень большое количество пропусков и возникает вопрос стоит ли вообще использовать эти данные для построения модели. Возможно эти пропуски связаны с тем, что некоторые материалы не использовались в процессе производства определенной партии.\n",
    "\n",
    "На этапе предобработки данных объединим таблицы по сыпучим материалам в одну и удалим столбцы с материалами, которые практически не используются(12, 14, 15)."
   ]
  },
  {
   "cell_type": "markdown",
   "metadata": {},
   "source": [
    "### Данные о продувке сплава газом"
   ]
  },
  {
   "cell_type": "code",
   "execution_count": 30,
   "metadata": {},
   "outputs": [
    {
     "name": "stdout",
     "output_type": "stream",
     "text": [
      "<class 'pandas.core.frame.DataFrame'>\n",
      "RangeIndex: 3239 entries, 0 to 3238\n",
      "Data columns (total 2 columns):\n",
      " #   Column  Non-Null Count  Dtype  \n",
      "---  ------  --------------  -----  \n",
      " 0   key     3239 non-null   int64  \n",
      " 1   Газ 1   3239 non-null   float64\n",
      "dtypes: float64(1), int64(1)\n",
      "memory usage: 50.7 KB\n"
     ]
    }
   ],
   "source": [
    "gas_new.info()"
   ]
  },
  {
   "cell_type": "code",
   "execution_count": 31,
   "metadata": {},
   "outputs": [],
   "source": [
    "gas_new = gas_new.rename(columns = {'Газ 1':'gas_1'})"
   ]
  },
  {
   "cell_type": "code",
   "execution_count": 32,
   "metadata": {},
   "outputs": [
    {
     "data": {
      "text/html": [
       "<div>\n",
       "<style scoped>\n",
       "    .dataframe tbody tr th:only-of-type {\n",
       "        vertical-align: middle;\n",
       "    }\n",
       "\n",
       "    .dataframe tbody tr th {\n",
       "        vertical-align: top;\n",
       "    }\n",
       "\n",
       "    .dataframe thead th {\n",
       "        text-align: right;\n",
       "    }\n",
       "</style>\n",
       "<table border=\"1\" class=\"dataframe\">\n",
       "  <thead>\n",
       "    <tr style=\"text-align: right;\">\n",
       "      <th></th>\n",
       "      <th>key</th>\n",
       "      <th>gas_1</th>\n",
       "    </tr>\n",
       "  </thead>\n",
       "  <tbody>\n",
       "    <tr>\n",
       "      <th>count</th>\n",
       "      <td>3239.000000</td>\n",
       "      <td>3239.000000</td>\n",
       "    </tr>\n",
       "    <tr>\n",
       "      <th>mean</th>\n",
       "      <td>1621.861377</td>\n",
       "      <td>11.002062</td>\n",
       "    </tr>\n",
       "    <tr>\n",
       "      <th>std</th>\n",
       "      <td>935.386334</td>\n",
       "      <td>6.220327</td>\n",
       "    </tr>\n",
       "    <tr>\n",
       "      <th>min</th>\n",
       "      <td>1.000000</td>\n",
       "      <td>0.008399</td>\n",
       "    </tr>\n",
       "    <tr>\n",
       "      <th>25%</th>\n",
       "      <td>812.500000</td>\n",
       "      <td>7.043089</td>\n",
       "    </tr>\n",
       "    <tr>\n",
       "      <th>50%</th>\n",
       "      <td>1622.000000</td>\n",
       "      <td>9.836267</td>\n",
       "    </tr>\n",
       "    <tr>\n",
       "      <th>75%</th>\n",
       "      <td>2431.500000</td>\n",
       "      <td>13.769915</td>\n",
       "    </tr>\n",
       "    <tr>\n",
       "      <th>max</th>\n",
       "      <td>3241.000000</td>\n",
       "      <td>77.995040</td>\n",
       "    </tr>\n",
       "  </tbody>\n",
       "</table>\n",
       "</div>"
      ],
      "text/plain": [
       "               key        gas_1\n",
       "count  3239.000000  3239.000000\n",
       "mean   1621.861377    11.002062\n",
       "std     935.386334     6.220327\n",
       "min       1.000000     0.008399\n",
       "25%     812.500000     7.043089\n",
       "50%    1622.000000     9.836267\n",
       "75%    2431.500000    13.769915\n",
       "max    3241.000000    77.995040"
      ]
     },
     "execution_count": 32,
     "metadata": {},
     "output_type": "execute_result"
    }
   ],
   "source": [
    "gas_new.describe()"
   ]
  },
  {
   "cell_type": "code",
   "execution_count": 33,
   "metadata": {},
   "outputs": [
    {
     "data": {
      "text/plain": [
       "3239"
      ]
     },
     "execution_count": 33,
     "metadata": {},
     "output_type": "execute_result"
    }
   ],
   "source": [
    "len(gas_new['key'].unique())"
   ]
  },
  {
   "cell_type": "code",
   "execution_count": 34,
   "metadata": {},
   "outputs": [
    {
     "data": {
      "text/plain": [
       "2049    1\n",
       "3135    1\n",
       "3115    1\n",
       "1070    1\n",
       "3119    1\n",
       "       ..\n",
       "2596    1\n",
       "549     1\n",
       "2600    1\n",
       "553     1\n",
       "2047    1\n",
       "Name: key, Length: 3239, dtype: int64"
      ]
     },
     "execution_count": 34,
     "metadata": {},
     "output_type": "execute_result"
    }
   ],
   "source": [
    "gas_new['key'].value_counts()"
   ]
  },
  {
   "cell_type": "code",
   "execution_count": 35,
   "metadata": {},
   "outputs": [
    {
     "data": {
      "text/plain": [
       "Text(0.5, 0, 'Значение')"
      ]
     },
     "execution_count": 35,
     "metadata": {},
     "output_type": "execute_result"
    },
    {
     "data": {
      "image/png": "[encoded data removed]",
      "text/plain": [
       "<Figure size 432x288 with 1 Axes>"
      ]
     },
     "metadata": {
      "needs_background": "light"
     },
     "output_type": "display_data"
    }
   ],
   "source": [
    "plt.figure()\n",
    "gas_new['gas_1'].hist()\n",
    "plt.title('Распределение данных о продувке газом')\n",
    "plt.ylabel('Количество')\n",
    "plt.xlabel('Значение')"
   ]
  },
  {
   "cell_type": "markdown",
   "metadata": {},
   "source": [
    "Здесь у нас видимо отсутствует зависимость от времени в отличии от данных о подаче сыпучих материалов, а значит мы имеем только факт была продувка газом или нет. Так же нам не известно в каких единицах измерения указаны данные в столбце gas_1. Исходя из количества строк можно сделать вывод, что на каждую партию производится только одна продувка. Выбросов выявлено не было. Данная таблица в предобработке не нуждается и готова к работе"
   ]
  },
  {
   "cell_type": "markdown",
   "metadata": {},
   "source": [
    "### Данные о проволочных материалах (объём)"
   ]
  },
  {
   "cell_type": "code",
   "execution_count": 36,
   "metadata": {},
   "outputs": [
    {
     "name": "stdout",
     "output_type": "stream",
     "text": [
      "<class 'pandas.core.frame.DataFrame'>\n",
      "RangeIndex: 3081 entries, 0 to 3080\n",
      "Data columns (total 10 columns):\n",
      " #   Column  Non-Null Count  Dtype  \n",
      "---  ------  --------------  -----  \n",
      " 0   key     3081 non-null   int64  \n",
      " 1   Wire 1  3055 non-null   float64\n",
      " 2   Wire 2  1079 non-null   float64\n",
      " 3   Wire 3  63 non-null     float64\n",
      " 4   Wire 4  14 non-null     float64\n",
      " 5   Wire 5  1 non-null      float64\n",
      " 6   Wire 6  73 non-null     float64\n",
      " 7   Wire 7  11 non-null     float64\n",
      " 8   Wire 8  19 non-null     float64\n",
      " 9   Wire 9  29 non-null     float64\n",
      "dtypes: float64(9), int64(1)\n",
      "memory usage: 240.8 KB\n"
     ]
    }
   ],
   "source": [
    "wire_new.info()"
   ]
  },
  {
   "cell_type": "code",
   "execution_count": 37,
   "metadata": {},
   "outputs": [],
   "source": [
    "wire_new = wire_new.rename(\n",
    "    columns = {\n",
    "        'Wire 1': 'wire_1',\n",
    "        'Wire 2': 'wire_2',\n",
    "        'Wire 3': 'wire_3',\n",
    "        'Wire 4': 'wire_4',\n",
    "        'Wire 5': 'wire_5',\n",
    "        'Wire 6': 'wire_6',\n",
    "        'Wire 7': 'wire_7',\n",
    "        'Wire 8': 'wire_8',\n",
    "        'Wire 9': 'wire_9'\n",
    "    }\n",
    ")"
   ]
  },
  {
   "cell_type": "code",
   "execution_count": 38,
   "metadata": {},
   "outputs": [
    {
     "data": {
      "text/html": [
       "<div>\n",
       "<style scoped>\n",
       "    .dataframe tbody tr th:only-of-type {\n",
       "        vertical-align: middle;\n",
       "    }\n",
       "\n",
       "    .dataframe tbody tr th {\n",
       "        vertical-align: top;\n",
       "    }\n",
       "\n",
       "    .dataframe thead th {\n",
       "        text-align: right;\n",
       "    }\n",
       "</style>\n",
       "<table border=\"1\" class=\"dataframe\">\n",
       "  <thead>\n",
       "    <tr style=\"text-align: right;\">\n",
       "      <th></th>\n",
       "      <th>key</th>\n",
       "      <th>wire_1</th>\n",
       "      <th>wire_2</th>\n",
       "      <th>wire_3</th>\n",
       "      <th>wire_4</th>\n",
       "      <th>wire_5</th>\n",
       "      <th>wire_6</th>\n",
       "      <th>wire_7</th>\n",
       "      <th>wire_8</th>\n",
       "      <th>wire_9</th>\n",
       "    </tr>\n",
       "  </thead>\n",
       "  <tbody>\n",
       "    <tr>\n",
       "      <th>0</th>\n",
       "      <td>1</td>\n",
       "      <td>60.059998</td>\n",
       "      <td>NaN</td>\n",
       "      <td>NaN</td>\n",
       "      <td>NaN</td>\n",
       "      <td>NaN</td>\n",
       "      <td>NaN</td>\n",
       "      <td>NaN</td>\n",
       "      <td>NaN</td>\n",
       "      <td>NaN</td>\n",
       "    </tr>\n",
       "    <tr>\n",
       "      <th>1</th>\n",
       "      <td>2</td>\n",
       "      <td>96.052315</td>\n",
       "      <td>NaN</td>\n",
       "      <td>NaN</td>\n",
       "      <td>NaN</td>\n",
       "      <td>NaN</td>\n",
       "      <td>NaN</td>\n",
       "      <td>NaN</td>\n",
       "      <td>NaN</td>\n",
       "      <td>NaN</td>\n",
       "    </tr>\n",
       "    <tr>\n",
       "      <th>2</th>\n",
       "      <td>3</td>\n",
       "      <td>91.160157</td>\n",
       "      <td>NaN</td>\n",
       "      <td>NaN</td>\n",
       "      <td>NaN</td>\n",
       "      <td>NaN</td>\n",
       "      <td>NaN</td>\n",
       "      <td>NaN</td>\n",
       "      <td>NaN</td>\n",
       "      <td>NaN</td>\n",
       "    </tr>\n",
       "    <tr>\n",
       "      <th>3</th>\n",
       "      <td>4</td>\n",
       "      <td>89.063515</td>\n",
       "      <td>NaN</td>\n",
       "      <td>NaN</td>\n",
       "      <td>NaN</td>\n",
       "      <td>NaN</td>\n",
       "      <td>NaN</td>\n",
       "      <td>NaN</td>\n",
       "      <td>NaN</td>\n",
       "      <td>NaN</td>\n",
       "    </tr>\n",
       "    <tr>\n",
       "      <th>4</th>\n",
       "      <td>5</td>\n",
       "      <td>89.238236</td>\n",
       "      <td>9.11456</td>\n",
       "      <td>NaN</td>\n",
       "      <td>NaN</td>\n",
       "      <td>NaN</td>\n",
       "      <td>NaN</td>\n",
       "      <td>NaN</td>\n",
       "      <td>NaN</td>\n",
       "      <td>NaN</td>\n",
       "    </tr>\n",
       "  </tbody>\n",
       "</table>\n",
       "</div>"
      ],
      "text/plain": [
       "   key     wire_1   wire_2  wire_3  wire_4  wire_5  wire_6  wire_7  wire_8  \\\n",
       "0    1  60.059998      NaN     NaN     NaN     NaN     NaN     NaN     NaN   \n",
       "1    2  96.052315      NaN     NaN     NaN     NaN     NaN     NaN     NaN   \n",
       "2    3  91.160157      NaN     NaN     NaN     NaN     NaN     NaN     NaN   \n",
       "3    4  89.063515      NaN     NaN     NaN     NaN     NaN     NaN     NaN   \n",
       "4    5  89.238236  9.11456     NaN     NaN     NaN     NaN     NaN     NaN   \n",
       "\n",
       "   wire_9  \n",
       "0     NaN  \n",
       "1     NaN  \n",
       "2     NaN  \n",
       "3     NaN  \n",
       "4     NaN  "
      ]
     },
     "execution_count": 38,
     "metadata": {},
     "output_type": "execute_result"
    }
   ],
   "source": [
    "wire_new.head()"
   ]
  },
  {
   "cell_type": "code",
   "execution_count": 39,
   "metadata": {},
   "outputs": [
    {
     "data": {
      "text/html": [
       "<div>\n",
       "<style scoped>\n",
       "    .dataframe tbody tr th:only-of-type {\n",
       "        vertical-align: middle;\n",
       "    }\n",
       "\n",
       "    .dataframe tbody tr th {\n",
       "        vertical-align: top;\n",
       "    }\n",
       "\n",
       "    .dataframe thead th {\n",
       "        text-align: right;\n",
       "    }\n",
       "</style>\n",
       "<table border=\"1\" class=\"dataframe\">\n",
       "  <thead>\n",
       "    <tr style=\"text-align: right;\">\n",
       "      <th></th>\n",
       "      <th>key</th>\n",
       "      <th>wire_1</th>\n",
       "      <th>wire_2</th>\n",
       "      <th>wire_3</th>\n",
       "      <th>wire_4</th>\n",
       "      <th>wire_5</th>\n",
       "      <th>wire_6</th>\n",
       "      <th>wire_7</th>\n",
       "      <th>wire_8</th>\n",
       "      <th>wire_9</th>\n",
       "    </tr>\n",
       "  </thead>\n",
       "  <tbody>\n",
       "    <tr>\n",
       "      <th>count</th>\n",
       "      <td>3081.000000</td>\n",
       "      <td>3055.000000</td>\n",
       "      <td>1079.000000</td>\n",
       "      <td>63.000000</td>\n",
       "      <td>14.000000</td>\n",
       "      <td>1.000</td>\n",
       "      <td>73.000000</td>\n",
       "      <td>11.000000</td>\n",
       "      <td>19.000000</td>\n",
       "      <td>29.000000</td>\n",
       "    </tr>\n",
       "    <tr>\n",
       "      <th>mean</th>\n",
       "      <td>1623.426485</td>\n",
       "      <td>100.895853</td>\n",
       "      <td>50.577323</td>\n",
       "      <td>189.482681</td>\n",
       "      <td>57.442841</td>\n",
       "      <td>15.132</td>\n",
       "      <td>48.016974</td>\n",
       "      <td>10.039007</td>\n",
       "      <td>53.625193</td>\n",
       "      <td>34.155752</td>\n",
       "    </tr>\n",
       "    <tr>\n",
       "      <th>std</th>\n",
       "      <td>932.996726</td>\n",
       "      <td>42.012518</td>\n",
       "      <td>39.320216</td>\n",
       "      <td>99.513444</td>\n",
       "      <td>28.824667</td>\n",
       "      <td>NaN</td>\n",
       "      <td>33.919845</td>\n",
       "      <td>8.610584</td>\n",
       "      <td>16.881728</td>\n",
       "      <td>19.931616</td>\n",
       "    </tr>\n",
       "    <tr>\n",
       "      <th>min</th>\n",
       "      <td>1.000000</td>\n",
       "      <td>1.918800</td>\n",
       "      <td>0.030160</td>\n",
       "      <td>0.144144</td>\n",
       "      <td>24.148801</td>\n",
       "      <td>15.132</td>\n",
       "      <td>0.034320</td>\n",
       "      <td>0.234208</td>\n",
       "      <td>45.076721</td>\n",
       "      <td>4.622800</td>\n",
       "    </tr>\n",
       "    <tr>\n",
       "      <th>25%</th>\n",
       "      <td>823.000000</td>\n",
       "      <td>72.115684</td>\n",
       "      <td>20.193680</td>\n",
       "      <td>95.135044</td>\n",
       "      <td>40.807002</td>\n",
       "      <td>15.132</td>\n",
       "      <td>25.053600</td>\n",
       "      <td>6.762756</td>\n",
       "      <td>46.094879</td>\n",
       "      <td>22.058401</td>\n",
       "    </tr>\n",
       "    <tr>\n",
       "      <th>50%</th>\n",
       "      <td>1619.000000</td>\n",
       "      <td>100.158234</td>\n",
       "      <td>40.142956</td>\n",
       "      <td>235.194977</td>\n",
       "      <td>45.234282</td>\n",
       "      <td>15.132</td>\n",
       "      <td>42.076324</td>\n",
       "      <td>9.017009</td>\n",
       "      <td>46.279999</td>\n",
       "      <td>30.066399</td>\n",
       "    </tr>\n",
       "    <tr>\n",
       "      <th>75%</th>\n",
       "      <td>2434.000000</td>\n",
       "      <td>126.060483</td>\n",
       "      <td>70.227558</td>\n",
       "      <td>276.252014</td>\n",
       "      <td>76.124619</td>\n",
       "      <td>15.132</td>\n",
       "      <td>64.212723</td>\n",
       "      <td>11.886057</td>\n",
       "      <td>48.089603</td>\n",
       "      <td>43.862003</td>\n",
       "    </tr>\n",
       "    <tr>\n",
       "      <th>max</th>\n",
       "      <td>3241.000000</td>\n",
       "      <td>330.314424</td>\n",
       "      <td>282.780152</td>\n",
       "      <td>385.008668</td>\n",
       "      <td>113.231044</td>\n",
       "      <td>15.132</td>\n",
       "      <td>180.454575</td>\n",
       "      <td>32.847674</td>\n",
       "      <td>102.762401</td>\n",
       "      <td>90.053604</td>\n",
       "    </tr>\n",
       "  </tbody>\n",
       "</table>\n",
       "</div>"
      ],
      "text/plain": [
       "               key       wire_1       wire_2      wire_3      wire_4  wire_5  \\\n",
       "count  3081.000000  3055.000000  1079.000000   63.000000   14.000000   1.000   \n",
       "mean   1623.426485   100.895853    50.577323  189.482681   57.442841  15.132   \n",
       "std     932.996726    42.012518    39.320216   99.513444   28.824667     NaN   \n",
       "min       1.000000     1.918800     0.030160    0.144144   24.148801  15.132   \n",
       "25%     823.000000    72.115684    20.193680   95.135044   40.807002  15.132   \n",
       "50%    1619.000000   100.158234    40.142956  235.194977   45.234282  15.132   \n",
       "75%    2434.000000   126.060483    70.227558  276.252014   76.124619  15.132   \n",
       "max    3241.000000   330.314424   282.780152  385.008668  113.231044  15.132   \n",
       "\n",
       "           wire_6     wire_7      wire_8     wire_9  \n",
       "count   73.000000  11.000000   19.000000  29.000000  \n",
       "mean    48.016974  10.039007   53.625193  34.155752  \n",
       "std     33.919845   8.610584   16.881728  19.931616  \n",
       "min      0.034320   0.234208   45.076721   4.622800  \n",
       "25%     25.053600   6.762756   46.094879  22.058401  \n",
       "50%     42.076324   9.017009   46.279999  30.066399  \n",
       "75%     64.212723  11.886057   48.089603  43.862003  \n",
       "max    180.454575  32.847674  102.762401  90.053604  "
      ]
     },
     "execution_count": 39,
     "metadata": {},
     "output_type": "execute_result"
    }
   ],
   "source": [
    "wire_new.describe()"
   ]
  },
  {
   "cell_type": "code",
   "execution_count": 40,
   "metadata": {},
   "outputs": [
    {
     "data": {
      "text/plain": [
       "3081"
      ]
     },
     "execution_count": 40,
     "metadata": {},
     "output_type": "execute_result"
    }
   ],
   "source": [
    "len(wire_new['key'].unique())"
   ]
  },
  {
   "cell_type": "code",
   "execution_count": 41,
   "metadata": {},
   "outputs": [
    {
     "data": {
      "text/plain": [
       "2049    1\n",
       "2664    1\n",
       "2590    1\n",
       "543     1\n",
       "2592    1\n",
       "       ..\n",
       "1090    1\n",
       "3139    1\n",
       "1092    1\n",
       "3141    1\n",
       "2047    1\n",
       "Name: key, Length: 3081, dtype: int64"
      ]
     },
     "execution_count": 41,
     "metadata": {},
     "output_type": "execute_result"
    }
   ],
   "source": [
    "wire_new['key'].value_counts()"
   ]
  },
  {
   "cell_type": "markdown",
   "metadata": {},
   "source": [
    "Ситуация такая же как и с сыпучими материалами, скорее всего пропуски означают, что какие-то провололки не использовались в процессе производства определенной партии."
   ]
  },
  {
   "cell_type": "markdown",
   "metadata": {},
   "source": [
    "### Данные о проволочных материалах (время)"
   ]
  },
  {
   "cell_type": "code",
   "execution_count": 42,
   "metadata": {},
   "outputs": [
    {
     "name": "stdout",
     "output_type": "stream",
     "text": [
      "<class 'pandas.core.frame.DataFrame'>\n",
      "RangeIndex: 3081 entries, 0 to 3080\n",
      "Data columns (total 10 columns):\n",
      " #   Column  Non-Null Count  Dtype \n",
      "---  ------  --------------  ----- \n",
      " 0   key     3081 non-null   int64 \n",
      " 1   Wire 1  3055 non-null   object\n",
      " 2   Wire 2  1079 non-null   object\n",
      " 3   Wire 3  63 non-null     object\n",
      " 4   Wire 4  14 non-null     object\n",
      " 5   Wire 5  1 non-null      object\n",
      " 6   Wire 6  73 non-null     object\n",
      " 7   Wire 7  11 non-null     object\n",
      " 8   Wire 8  19 non-null     object\n",
      " 9   Wire 9  29 non-null     object\n",
      "dtypes: int64(1), object(9)\n",
      "memory usage: 240.8+ KB\n"
     ]
    }
   ],
   "source": [
    "wire_time_new.info()"
   ]
  },
  {
   "cell_type": "code",
   "execution_count": 43,
   "metadata": {},
   "outputs": [],
   "source": [
    "wire_time_new = wire_time_new.rename(\n",
    "    columns = {\n",
    "        'Wire 1': 'wire_1',\n",
    "        'Wire 2': 'wire_2',\n",
    "        'Wire 3': 'wire_3',\n",
    "        'Wire 4': 'wire_4',\n",
    "        'Wire 5': 'wire_5',\n",
    "        'Wire 6': 'wire_6',\n",
    "        'Wire 7': 'wire_7',\n",
    "        'Wire 8': 'wire_8',\n",
    "        'Wire 9': 'wire_9'\n",
    "    }\n",
    ")"
   ]
  },
  {
   "cell_type": "code",
   "execution_count": 44,
   "metadata": {},
   "outputs": [
    {
     "data": {
      "text/html": [
       "<div>\n",
       "<style scoped>\n",
       "    .dataframe tbody tr th:only-of-type {\n",
       "        vertical-align: middle;\n",
       "    }\n",
       "\n",
       "    .dataframe tbody tr th {\n",
       "        vertical-align: top;\n",
       "    }\n",
       "\n",
       "    .dataframe thead th {\n",
       "        text-align: right;\n",
       "    }\n",
       "</style>\n",
       "<table border=\"1\" class=\"dataframe\">\n",
       "  <thead>\n",
       "    <tr style=\"text-align: right;\">\n",
       "      <th></th>\n",
       "      <th>key</th>\n",
       "      <th>wire_1</th>\n",
       "      <th>wire_2</th>\n",
       "      <th>wire_3</th>\n",
       "      <th>wire_4</th>\n",
       "      <th>wire_5</th>\n",
       "      <th>wire_6</th>\n",
       "      <th>wire_7</th>\n",
       "      <th>wire_8</th>\n",
       "      <th>wire_9</th>\n",
       "    </tr>\n",
       "  </thead>\n",
       "  <tbody>\n",
       "    <tr>\n",
       "      <th>0</th>\n",
       "      <td>1</td>\n",
       "      <td>2019-05-03 11:06:19</td>\n",
       "      <td>NaN</td>\n",
       "      <td>NaN</td>\n",
       "      <td>NaN</td>\n",
       "      <td>NaN</td>\n",
       "      <td>NaN</td>\n",
       "      <td>NaN</td>\n",
       "      <td>NaN</td>\n",
       "      <td>NaN</td>\n",
       "    </tr>\n",
       "    <tr>\n",
       "      <th>1</th>\n",
       "      <td>2</td>\n",
       "      <td>2019-05-03 11:36:50</td>\n",
       "      <td>NaN</td>\n",
       "      <td>NaN</td>\n",
       "      <td>NaN</td>\n",
       "      <td>NaN</td>\n",
       "      <td>NaN</td>\n",
       "      <td>NaN</td>\n",
       "      <td>NaN</td>\n",
       "      <td>NaN</td>\n",
       "    </tr>\n",
       "    <tr>\n",
       "      <th>2</th>\n",
       "      <td>3</td>\n",
       "      <td>2019-05-03 12:11:46</td>\n",
       "      <td>NaN</td>\n",
       "      <td>NaN</td>\n",
       "      <td>NaN</td>\n",
       "      <td>NaN</td>\n",
       "      <td>NaN</td>\n",
       "      <td>NaN</td>\n",
       "      <td>NaN</td>\n",
       "      <td>NaN</td>\n",
       "    </tr>\n",
       "    <tr>\n",
       "      <th>3</th>\n",
       "      <td>4</td>\n",
       "      <td>2019-05-03 12:43:22</td>\n",
       "      <td>NaN</td>\n",
       "      <td>NaN</td>\n",
       "      <td>NaN</td>\n",
       "      <td>NaN</td>\n",
       "      <td>NaN</td>\n",
       "      <td>NaN</td>\n",
       "      <td>NaN</td>\n",
       "      <td>NaN</td>\n",
       "    </tr>\n",
       "    <tr>\n",
       "      <th>4</th>\n",
       "      <td>5</td>\n",
       "      <td>2019-05-03 13:20:44</td>\n",
       "      <td>2019-05-03 13:15:34</td>\n",
       "      <td>NaN</td>\n",
       "      <td>NaN</td>\n",
       "      <td>NaN</td>\n",
       "      <td>NaN</td>\n",
       "      <td>NaN</td>\n",
       "      <td>NaN</td>\n",
       "      <td>NaN</td>\n",
       "    </tr>\n",
       "  </tbody>\n",
       "</table>\n",
       "</div>"
      ],
      "text/plain": [
       "   key               wire_1               wire_2 wire_3 wire_4 wire_5 wire_6  \\\n",
       "0    1  2019-05-03 11:06:19                  NaN    NaN    NaN    NaN    NaN   \n",
       "1    2  2019-05-03 11:36:50                  NaN    NaN    NaN    NaN    NaN   \n",
       "2    3  2019-05-03 12:11:46                  NaN    NaN    NaN    NaN    NaN   \n",
       "3    4  2019-05-03 12:43:22                  NaN    NaN    NaN    NaN    NaN   \n",
       "4    5  2019-05-03 13:20:44  2019-05-03 13:15:34    NaN    NaN    NaN    NaN   \n",
       "\n",
       "  wire_7 wire_8 wire_9  \n",
       "0    NaN    NaN    NaN  \n",
       "1    NaN    NaN    NaN  \n",
       "2    NaN    NaN    NaN  \n",
       "3    NaN    NaN    NaN  \n",
       "4    NaN    NaN    NaN  "
      ]
     },
     "execution_count": 44,
     "metadata": {},
     "output_type": "execute_result"
    }
   ],
   "source": [
    "wire_time_new.head()"
   ]
  },
  {
   "cell_type": "code",
   "execution_count": 45,
   "metadata": {},
   "outputs": [],
   "source": [
    "for column in wire_time_new.columns:\n",
    "    if column[0] == 'b':\n",
    "        wire_time_new[column] = pd.to_datetime(wire_time_new[column])"
   ]
  },
  {
   "cell_type": "code",
   "execution_count": 46,
   "metadata": {},
   "outputs": [
    {
     "name": "stdout",
     "output_type": "stream",
     "text": [
      "<class 'pandas.core.frame.DataFrame'>\n",
      "RangeIndex: 3081 entries, 0 to 3080\n",
      "Data columns (total 10 columns):\n",
      " #   Column  Non-Null Count  Dtype \n",
      "---  ------  --------------  ----- \n",
      " 0   key     3081 non-null   int64 \n",
      " 1   wire_1  3055 non-null   object\n",
      " 2   wire_2  1079 non-null   object\n",
      " 3   wire_3  63 non-null     object\n",
      " 4   wire_4  14 non-null     object\n",
      " 5   wire_5  1 non-null      object\n",
      " 6   wire_6  73 non-null     object\n",
      " 7   wire_7  11 non-null     object\n",
      " 8   wire_8  19 non-null     object\n",
      " 9   wire_9  29 non-null     object\n",
      "dtypes: int64(1), object(9)\n",
      "memory usage: 240.8+ KB\n"
     ]
    }
   ],
   "source": [
    "wire_time_new.info()"
   ]
  },
  {
   "cell_type": "code",
   "execution_count": 47,
   "metadata": {},
   "outputs": [
    {
     "data": {
      "text/plain": [
       "3081"
      ]
     },
     "execution_count": 47,
     "metadata": {},
     "output_type": "execute_result"
    }
   ],
   "source": [
    "len(wire_time_new['key'].unique())"
   ]
  },
  {
   "cell_type": "code",
   "execution_count": 48,
   "metadata": {},
   "outputs": [
    {
     "data": {
      "text/plain": [
       "2049    1\n",
       "2664    1\n",
       "2590    1\n",
       "543     1\n",
       "2592    1\n",
       "       ..\n",
       "1090    1\n",
       "3139    1\n",
       "1092    1\n",
       "3141    1\n",
       "2047    1\n",
       "Name: key, Length: 3081, dtype: int64"
      ]
     },
     "execution_count": 48,
     "metadata": {},
     "output_type": "execute_result"
    }
   ],
   "source": [
    "wire_time_new['key'].value_counts()"
   ]
  },
  {
   "cell_type": "code",
   "execution_count": 49,
   "metadata": {},
   "outputs": [
    {
     "data": {
      "text/plain": [
       "Text(0.5, 0, 'Наименование проволочного материала')"
      ]
     },
     "execution_count": 49,
     "metadata": {},
     "output_type": "execute_result"
    },
    {
     "data": {
      "image/png": "[encoded data removed]",
      "text/plain": [
       "<Figure size 720x360 with 1 Axes>"
      ]
     },
     "metadata": {
      "needs_background": "light"
     },
     "output_type": "display_data"
    }
   ],
   "source": [
    "plt.figure(figsize = (10,5))\n",
    "wire_time_new.isnull().mean().sort_values(ascending = False).plot(kind = 'bar')\n",
    "plt.title('Статистика использования проволочных материалов')\n",
    "plt.ylabel('Доля использования в партиях')\n",
    "plt.xlabel('Наименование проволочного материала')"
   ]
  },
  {
   "cell_type": "markdown",
   "metadata": {},
   "source": [
    "После объединения таблиц с данными о проволочных материалах можно будет удалить столбец wire_1"
   ]
  },
  {
   "cell_type": "markdown",
   "metadata": {},
   "source": [
    "### Результаты измерения температуры"
   ]
  },
  {
   "cell_type": "markdown",
   "metadata": {},
   "source": [
    "Данные из этой таблицы станут целевым признаком для обучения моделей"
   ]
  },
  {
   "cell_type": "code",
   "execution_count": 50,
   "metadata": {},
   "outputs": [
    {
     "name": "stdout",
     "output_type": "stream",
     "text": [
      "<class 'pandas.core.frame.DataFrame'>\n",
      "RangeIndex: 18092 entries, 0 to 18091\n",
      "Data columns (total 3 columns):\n",
      " #   Column        Non-Null Count  Dtype  \n",
      "---  ------        --------------  -----  \n",
      " 0   key           18092 non-null  int64  \n",
      " 1   Время замера  18092 non-null  object \n",
      " 2   Температура   14665 non-null  float64\n",
      "dtypes: float64(1), int64(1), object(1)\n",
      "memory usage: 424.2+ KB\n"
     ]
    }
   ],
   "source": [
    "temp_new.info()"
   ]
  },
  {
   "cell_type": "code",
   "execution_count": 51,
   "metadata": {},
   "outputs": [],
   "source": [
    "temp_new.columns = ['key', 'measurement_time', 'temperature']"
   ]
  },
  {
   "cell_type": "code",
   "execution_count": 52,
   "metadata": {},
   "outputs": [
    {
     "data": {
      "text/html": [
       "<div>\n",
       "<style scoped>\n",
       "    .dataframe tbody tr th:only-of-type {\n",
       "        vertical-align: middle;\n",
       "    }\n",
       "\n",
       "    .dataframe tbody tr th {\n",
       "        vertical-align: top;\n",
       "    }\n",
       "\n",
       "    .dataframe thead th {\n",
       "        text-align: right;\n",
       "    }\n",
       "</style>\n",
       "<table border=\"1\" class=\"dataframe\">\n",
       "  <thead>\n",
       "    <tr style=\"text-align: right;\">\n",
       "      <th></th>\n",
       "      <th>key</th>\n",
       "      <th>measurement_time</th>\n",
       "      <th>temperature</th>\n",
       "    </tr>\n",
       "  </thead>\n",
       "  <tbody>\n",
       "    <tr>\n",
       "      <th>0</th>\n",
       "      <td>1</td>\n",
       "      <td>2019-05-03 11:02:04</td>\n",
       "      <td>1571.0</td>\n",
       "    </tr>\n",
       "    <tr>\n",
       "      <th>1</th>\n",
       "      <td>1</td>\n",
       "      <td>2019-05-03 11:07:18</td>\n",
       "      <td>1604.0</td>\n",
       "    </tr>\n",
       "    <tr>\n",
       "      <th>2</th>\n",
       "      <td>1</td>\n",
       "      <td>2019-05-03 11:11:34</td>\n",
       "      <td>1618.0</td>\n",
       "    </tr>\n",
       "    <tr>\n",
       "      <th>3</th>\n",
       "      <td>1</td>\n",
       "      <td>2019-05-03 11:18:04</td>\n",
       "      <td>1601.0</td>\n",
       "    </tr>\n",
       "    <tr>\n",
       "      <th>4</th>\n",
       "      <td>1</td>\n",
       "      <td>2019-05-03 11:25:59</td>\n",
       "      <td>1606.0</td>\n",
       "    </tr>\n",
       "  </tbody>\n",
       "</table>\n",
       "</div>"
      ],
      "text/plain": [
       "   key     measurement_time  temperature\n",
       "0    1  2019-05-03 11:02:04       1571.0\n",
       "1    1  2019-05-03 11:07:18       1604.0\n",
       "2    1  2019-05-03 11:11:34       1618.0\n",
       "3    1  2019-05-03 11:18:04       1601.0\n",
       "4    1  2019-05-03 11:25:59       1606.0"
      ]
     },
     "execution_count": 52,
     "metadata": {},
     "output_type": "execute_result"
    }
   ],
   "source": [
    "temp_new.head()"
   ]
  },
  {
   "cell_type": "code",
   "execution_count": 53,
   "metadata": {},
   "outputs": [
    {
     "data": {
      "text/html": [
       "<div>\n",
       "<style scoped>\n",
       "    .dataframe tbody tr th:only-of-type {\n",
       "        vertical-align: middle;\n",
       "    }\n",
       "\n",
       "    .dataframe tbody tr th {\n",
       "        vertical-align: top;\n",
       "    }\n",
       "\n",
       "    .dataframe thead th {\n",
       "        text-align: right;\n",
       "    }\n",
       "</style>\n",
       "<table border=\"1\" class=\"dataframe\">\n",
       "  <thead>\n",
       "    <tr style=\"text-align: right;\">\n",
       "      <th></th>\n",
       "      <th>key</th>\n",
       "      <th>temperature</th>\n",
       "    </tr>\n",
       "  </thead>\n",
       "  <tbody>\n",
       "    <tr>\n",
       "      <th>count</th>\n",
       "      <td>18092.000000</td>\n",
       "      <td>14665.000000</td>\n",
       "    </tr>\n",
       "    <tr>\n",
       "      <th>mean</th>\n",
       "      <td>1616.460977</td>\n",
       "      <td>1590.722741</td>\n",
       "    </tr>\n",
       "    <tr>\n",
       "      <th>std</th>\n",
       "      <td>934.641385</td>\n",
       "      <td>20.394381</td>\n",
       "    </tr>\n",
       "    <tr>\n",
       "      <th>min</th>\n",
       "      <td>1.000000</td>\n",
       "      <td>1191.000000</td>\n",
       "    </tr>\n",
       "    <tr>\n",
       "      <th>25%</th>\n",
       "      <td>807.750000</td>\n",
       "      <td>1580.000000</td>\n",
       "    </tr>\n",
       "    <tr>\n",
       "      <th>50%</th>\n",
       "      <td>1618.000000</td>\n",
       "      <td>1590.000000</td>\n",
       "    </tr>\n",
       "    <tr>\n",
       "      <th>75%</th>\n",
       "      <td>2429.000000</td>\n",
       "      <td>1599.000000</td>\n",
       "    </tr>\n",
       "    <tr>\n",
       "      <th>max</th>\n",
       "      <td>3241.000000</td>\n",
       "      <td>1705.000000</td>\n",
       "    </tr>\n",
       "  </tbody>\n",
       "</table>\n",
       "</div>"
      ],
      "text/plain": [
       "                key   temperature\n",
       "count  18092.000000  14665.000000\n",
       "mean    1616.460977   1590.722741\n",
       "std      934.641385     20.394381\n",
       "min        1.000000   1191.000000\n",
       "25%      807.750000   1580.000000\n",
       "50%     1618.000000   1590.000000\n",
       "75%     2429.000000   1599.000000\n",
       "max     3241.000000   1705.000000"
      ]
     },
     "execution_count": 53,
     "metadata": {},
     "output_type": "execute_result"
    }
   ],
   "source": [
    "temp_new.describe()"
   ]
  },
  {
   "cell_type": "code",
   "execution_count": 54,
   "metadata": {},
   "outputs": [],
   "source": [
    "temp_new['measurement_time'] = pd.to_datetime(temp_new['measurement_time'])"
   ]
  },
  {
   "cell_type": "code",
   "execution_count": 55,
   "metadata": {},
   "outputs": [
    {
     "name": "stdout",
     "output_type": "stream",
     "text": [
      "<class 'pandas.core.frame.DataFrame'>\n",
      "RangeIndex: 18092 entries, 0 to 18091\n",
      "Data columns (total 3 columns):\n",
      " #   Column            Non-Null Count  Dtype         \n",
      "---  ------            --------------  -----         \n",
      " 0   key               18092 non-null  int64         \n",
      " 1   measurement_time  18092 non-null  datetime64[ns]\n",
      " 2   temperature       14665 non-null  float64       \n",
      "dtypes: datetime64[ns](1), float64(1), int64(1)\n",
      "memory usage: 424.2 KB\n"
     ]
    }
   ],
   "source": [
    "temp_new.info()"
   ]
  },
  {
   "cell_type": "code",
   "execution_count": 56,
   "metadata": {},
   "outputs": [
    {
     "data": {
      "text/plain": [
       "3216"
      ]
     },
     "execution_count": 56,
     "metadata": {},
     "output_type": "execute_result"
    }
   ],
   "source": [
    "len(temp_new['key'].unique())"
   ]
  },
  {
   "cell_type": "code",
   "execution_count": 57,
   "metadata": {},
   "outputs": [
    {
     "data": {
      "text/plain": [
       "2108    17\n",
       "1513    16\n",
       "1689    16\n",
       "2567    15\n",
       "322     14\n",
       "        ..\n",
       "556      2\n",
       "1169     2\n",
       "732      2\n",
       "195      1\n",
       "279      1\n",
       "Name: key, Length: 3216, dtype: int64"
      ]
     },
     "execution_count": 57,
     "metadata": {},
     "output_type": "execute_result"
    }
   ],
   "source": [
    "temp_new['key'].value_counts()"
   ]
  },
  {
   "cell_type": "code",
   "execution_count": 58,
   "metadata": {},
   "outputs": [
    {
     "data": {
      "text/plain": [
       "<AxesSubplot:xlabel='temperature'>"
      ]
     },
     "execution_count": 58,
     "metadata": {},
     "output_type": "execute_result"
    },
    {
     "data": {
      "image/png": "[encoded data removed]",
      "text/plain": [
       "<Figure size 432x288 with 1 Axes>"
      ]
     },
     "metadata": {
      "needs_background": "light"
     },
     "output_type": "display_data"
    }
   ],
   "source": [
    "sns.boxplot(temp_new['temperature'])"
   ]
  },
  {
   "cell_type": "markdown",
   "metadata": {},
   "source": [
    "Присутствует много пропусков. Замена пропущенных значений может привести к искажению данных, следовательно от ключей с пропусками нужно будет избавиться на этапе предобработки.\n",
    "\n",
    "Температура плавления стали начинается с примерного порога в 1450 - это означает, что значения ниже данного порога являются выбросами и их нужно будет удалить на этапе предобработки "
   ]
  },
  {
   "cell_type": "markdown",
   "metadata": {},
   "source": [
    "### План работы <a id=\"work_plan\"></a>\n",
    "\n",
    "1. Подготовка данных. Предобработка и создание общей таблицы со всеми данными. Выделить целевой признак - последний замер. Разделить данные на признаки (x) и целевой признак (y).\n",
    "\n",
    "\n",
    "2. Построение моделей. Выбрать модели и провести подбор гиперпараметров с помощью RandomizedSearchCV.\n",
    "\n",
    "\n",
    "3. Тестирование. Проверить работу модели с наилучшим значением метркии MAE на тестовой выборке. Проверить модель на адекватность с помощью DummyRegressor. Сделать общий вывод.\n",
    "\n",
    "\n",
    "4. Написание отчета."
   ]
  },
  {
   "cell_type": "markdown",
   "metadata": {},
   "source": [
    "# Подготовка данных <a id=\"data_preparation\"></a>"
   ]
  },
  {
   "cell_type": "code",
   "execution_count": 59,
   "metadata": {},
   "outputs": [],
   "source": [
    "# Удалим пропущенные значения в целевом признаке\n",
    "#temp_new.dropna(inplace=True)"
   ]
  },
  {
   "cell_type": "code",
   "execution_count": 60,
   "metadata": {},
   "outputs": [
    {
     "name": "stdout",
     "output_type": "stream",
     "text": [
      "<class 'pandas.core.frame.DataFrame'>\n",
      "RangeIndex: 18092 entries, 0 to 18091\n",
      "Data columns (total 3 columns):\n",
      " #   Column            Non-Null Count  Dtype         \n",
      "---  ------            --------------  -----         \n",
      " 0   key               18092 non-null  int64         \n",
      " 1   measurement_time  18092 non-null  datetime64[ns]\n",
      " 2   temperature       14665 non-null  float64       \n",
      "dtypes: datetime64[ns](1), float64(1), int64(1)\n",
      "memory usage: 424.2 KB\n"
     ]
    }
   ],
   "source": [
    "temp_new.info()"
   ]
  },
  {
   "cell_type": "markdown",
   "metadata": {},
   "source": [
    "Удалим значения меньше 1500 градусов"
   ]
  },
  {
   "cell_type": "code",
   "execution_count": 61,
   "metadata": {},
   "outputs": [],
   "source": [
    "df = temp_new[temp_new['temperature'] >= 1500]"
   ]
  },
  {
   "cell_type": "code",
   "execution_count": 62,
   "metadata": {},
   "outputs": [
    {
     "name": "stdout",
     "output_type": "stream",
     "text": [
      "<class 'pandas.core.frame.DataFrame'>\n",
      "Int64Index: 14660 entries, 0 to 18086\n",
      "Data columns (total 3 columns):\n",
      " #   Column            Non-Null Count  Dtype         \n",
      "---  ------            --------------  -----         \n",
      " 0   key               14660 non-null  int64         \n",
      " 1   measurement_time  14660 non-null  datetime64[ns]\n",
      " 2   temperature       14660 non-null  float64       \n",
      "dtypes: datetime64[ns](1), float64(1), int64(1)\n",
      "memory usage: 458.1 KB\n"
     ]
    }
   ],
   "source": [
    "df.info()"
   ]
  },
  {
   "cell_type": "code",
   "execution_count": 63,
   "metadata": {},
   "outputs": [
    {
     "data": {
      "text/plain": [
       "<AxesSubplot:xlabel='temperature'>"
      ]
     },
     "execution_count": 63,
     "metadata": {},
     "output_type": "execute_result"
    },
    {
     "data": {
      "image/png": "[encoded data removed]",
      "text/plain": [
       "<Figure size 432x288 with 1 Axes>"
      ]
     },
     "metadata": {
      "needs_background": "light"
     },
     "output_type": "display_data"
    }
   ],
   "source": [
    "sns.boxplot(df['temperature'])"
   ]
  },
  {
   "cell_type": "markdown",
   "metadata": {},
   "source": [
    "Удалим столбец со временем"
   ]
  },
  {
   "cell_type": "code",
   "execution_count": 64,
   "metadata": {},
   "outputs": [],
   "source": [
    "df = df.drop(['measurement_time'], axis = 1)"
   ]
  },
  {
   "cell_type": "code",
   "execution_count": 65,
   "metadata": {},
   "outputs": [
    {
     "name": "stdout",
     "output_type": "stream",
     "text": [
      "<class 'pandas.core.frame.DataFrame'>\n",
      "Int64Index: 14660 entries, 0 to 18086\n",
      "Data columns (total 2 columns):\n",
      " #   Column       Non-Null Count  Dtype  \n",
      "---  ------       --------------  -----  \n",
      " 0   key          14660 non-null  int64  \n",
      " 1   temperature  14660 non-null  float64\n",
      "dtypes: float64(1), int64(1)\n",
      "memory usage: 343.6 KB\n"
     ]
    }
   ],
   "source": [
    "df.info()"
   ]
  },
  {
   "cell_type": "markdown",
   "metadata": {},
   "source": [
    "Данные с целевым признаком обработаны. Удалены пропуски, выбросы с низкой температурой и столбец со временем замера температуры."
   ]
  },
  {
   "cell_type": "markdown",
   "metadata": {},
   "source": [
    "Сгруппируем датасет по первому и последнему значению key "
   ]
  },
  {
   "cell_type": "code",
   "execution_count": 66,
   "metadata": {},
   "outputs": [],
   "source": [
    "df_first = df.groupby(['key'], axis=0, as_index=False).first()\n",
    "\n",
    "df_last = df.groupby(['key'], axis=0, as_index=False).last() "
   ]
  },
  {
   "cell_type": "code",
   "execution_count": 67,
   "metadata": {},
   "outputs": [
    {
     "name": "stdout",
     "output_type": "stream",
     "text": [
      "<class 'pandas.core.frame.DataFrame'>\n",
      "Int64Index: 3215 entries, 0 to 3214\n",
      "Data columns (total 2 columns):\n",
      " #   Column       Non-Null Count  Dtype  \n",
      "---  ------       --------------  -----  \n",
      " 0   key          3215 non-null   int64  \n",
      " 1   temperature  3215 non-null   float64\n",
      "dtypes: float64(1), int64(1)\n",
      "memory usage: 75.4 KB\n"
     ]
    }
   ],
   "source": [
    "df_first.info()"
   ]
  },
  {
   "cell_type": "code",
   "execution_count": 68,
   "metadata": {},
   "outputs": [
    {
     "name": "stdout",
     "output_type": "stream",
     "text": [
      "<class 'pandas.core.frame.DataFrame'>\n",
      "Int64Index: 3215 entries, 0 to 3214\n",
      "Data columns (total 2 columns):\n",
      " #   Column       Non-Null Count  Dtype  \n",
      "---  ------       --------------  -----  \n",
      " 0   key          3215 non-null   int64  \n",
      " 1   temperature  3215 non-null   float64\n",
      "dtypes: float64(1), int64(1)\n",
      "memory usage: 75.4 KB\n"
     ]
    }
   ],
   "source": [
    "df_last.info()"
   ]
  },
  {
   "cell_type": "code",
   "execution_count": 69,
   "metadata": {},
   "outputs": [],
   "source": [
    "df = pd.merge(df_first, df_last, how ='inner', on ='key') "
   ]
  },
  {
   "cell_type": "code",
   "execution_count": 70,
   "metadata": {},
   "outputs": [
    {
     "data": {
      "text/html": [
       "<div>\n",
       "<style scoped>\n",
       "    .dataframe tbody tr th:only-of-type {\n",
       "        vertical-align: middle;\n",
       "    }\n",
       "\n",
       "    .dataframe tbody tr th {\n",
       "        vertical-align: top;\n",
       "    }\n",
       "\n",
       "    .dataframe thead th {\n",
       "        text-align: right;\n",
       "    }\n",
       "</style>\n",
       "<table border=\"1\" class=\"dataframe\">\n",
       "  <thead>\n",
       "    <tr style=\"text-align: right;\">\n",
       "      <th></th>\n",
       "      <th>key</th>\n",
       "      <th>temperature_x</th>\n",
       "      <th>temperature_y</th>\n",
       "    </tr>\n",
       "  </thead>\n",
       "  <tbody>\n",
       "    <tr>\n",
       "      <th>0</th>\n",
       "      <td>1</td>\n",
       "      <td>1571.0</td>\n",
       "      <td>1613.0</td>\n",
       "    </tr>\n",
       "    <tr>\n",
       "      <th>1</th>\n",
       "      <td>2</td>\n",
       "      <td>1581.0</td>\n",
       "      <td>1602.0</td>\n",
       "    </tr>\n",
       "    <tr>\n",
       "      <th>2</th>\n",
       "      <td>3</td>\n",
       "      <td>1596.0</td>\n",
       "      <td>1599.0</td>\n",
       "    </tr>\n",
       "    <tr>\n",
       "      <th>3</th>\n",
       "      <td>4</td>\n",
       "      <td>1601.0</td>\n",
       "      <td>1625.0</td>\n",
       "    </tr>\n",
       "    <tr>\n",
       "      <th>4</th>\n",
       "      <td>5</td>\n",
       "      <td>1576.0</td>\n",
       "      <td>1602.0</td>\n",
       "    </tr>\n",
       "    <tr>\n",
       "      <th>5</th>\n",
       "      <td>6</td>\n",
       "      <td>1543.0</td>\n",
       "      <td>1596.0</td>\n",
       "    </tr>\n",
       "    <tr>\n",
       "      <th>6</th>\n",
       "      <td>7</td>\n",
       "      <td>1586.0</td>\n",
       "      <td>1599.0</td>\n",
       "    </tr>\n",
       "    <tr>\n",
       "      <th>7</th>\n",
       "      <td>8</td>\n",
       "      <td>1577.0</td>\n",
       "      <td>1598.0</td>\n",
       "    </tr>\n",
       "    <tr>\n",
       "      <th>8</th>\n",
       "      <td>9</td>\n",
       "      <td>1587.0</td>\n",
       "      <td>1592.0</td>\n",
       "    </tr>\n",
       "    <tr>\n",
       "      <th>9</th>\n",
       "      <td>10</td>\n",
       "      <td>1574.0</td>\n",
       "      <td>1593.0</td>\n",
       "    </tr>\n",
       "  </tbody>\n",
       "</table>\n",
       "</div>"
      ],
      "text/plain": [
       "   key  temperature_x  temperature_y\n",
       "0    1         1571.0         1613.0\n",
       "1    2         1581.0         1602.0\n",
       "2    3         1596.0         1599.0\n",
       "3    4         1601.0         1625.0\n",
       "4    5         1576.0         1602.0\n",
       "5    6         1543.0         1596.0\n",
       "6    7         1586.0         1599.0\n",
       "7    8         1577.0         1598.0\n",
       "8    9         1587.0         1592.0\n",
       "9   10         1574.0         1593.0"
      ]
     },
     "execution_count": 70,
     "metadata": {},
     "output_type": "execute_result"
    }
   ],
   "source": [
    "df.head(10)"
   ]
  },
  {
   "cell_type": "markdown",
   "metadata": {},
   "source": [
    "Проверим есть ли строки где совпадает замер начальной и конечной температуры. Их нужно будет удалить тк это скорее всего какая-то ошибка в заполнении данных и она может повлиять на качество модели."
   ]
  },
  {
   "cell_type": "code",
   "execution_count": 71,
   "metadata": {},
   "outputs": [
    {
     "data": {
      "text/plain": [
       "783"
      ]
     },
     "execution_count": 71,
     "metadata": {},
     "output_type": "execute_result"
    }
   ],
   "source": [
    "df['same_temp'] = df['temperature_x'] == df['temperature_y']\n",
    "\n",
    "df['same_temp'].sum()"
   ]
  },
  {
   "cell_type": "markdown",
   "metadata": {},
   "source": [
    "Мы получили 783 ключа с одинаковой температурой в первом и последнем измерении. Удалим их."
   ]
  },
  {
   "cell_type": "code",
   "execution_count": 72,
   "metadata": {},
   "outputs": [],
   "source": [
    "df = df[df['same_temp'] == False]"
   ]
  },
  {
   "cell_type": "code",
   "execution_count": 73,
   "metadata": {},
   "outputs": [],
   "source": [
    "df = df.drop('same_temp', axis = 1)"
   ]
  },
  {
   "cell_type": "code",
   "execution_count": 74,
   "metadata": {},
   "outputs": [],
   "source": [
    "df.columns=['key', 'temp_first', 'temp_last']"
   ]
  },
  {
   "cell_type": "code",
   "execution_count": 75,
   "metadata": {},
   "outputs": [
    {
     "name": "stdout",
     "output_type": "stream",
     "text": [
      "<class 'pandas.core.frame.DataFrame'>\n",
      "Int64Index: 2432 entries, 0 to 2476\n",
      "Data columns (total 3 columns):\n",
      " #   Column      Non-Null Count  Dtype  \n",
      "---  ------      --------------  -----  \n",
      " 0   key         2432 non-null   int64  \n",
      " 1   temp_first  2432 non-null   float64\n",
      " 2   temp_last   2432 non-null   float64\n",
      "dtypes: float64(2), int64(1)\n",
      "memory usage: 76.0 KB\n"
     ]
    }
   ],
   "source": [
    "df.info()"
   ]
  },
  {
   "cell_type": "markdown",
   "metadata": {},
   "source": [
    "Данные с целывым признаком готовы к дальнейшей работе"
   ]
  },
  {
   "cell_type": "code",
   "execution_count": 76,
   "metadata": {},
   "outputs": [
    {
     "data": {
      "text/html": [
       "<div>\n",
       "<style scoped>\n",
       "    .dataframe tbody tr th:only-of-type {\n",
       "        vertical-align: middle;\n",
       "    }\n",
       "\n",
       "    .dataframe tbody tr th {\n",
       "        vertical-align: top;\n",
       "    }\n",
       "\n",
       "    .dataframe thead th {\n",
       "        text-align: right;\n",
       "    }\n",
       "</style>\n",
       "<table border=\"1\" class=\"dataframe\">\n",
       "  <thead>\n",
       "    <tr style=\"text-align: right;\">\n",
       "      <th></th>\n",
       "      <th>key</th>\n",
       "      <th>arc_heating_start</th>\n",
       "      <th>arc_heating_end</th>\n",
       "      <th>active_power</th>\n",
       "      <th>reactive_power</th>\n",
       "    </tr>\n",
       "  </thead>\n",
       "  <tbody>\n",
       "    <tr>\n",
       "      <th>0</th>\n",
       "      <td>1</td>\n",
       "      <td>2019-05-03 11:02:14</td>\n",
       "      <td>2019-05-03 11:06:02</td>\n",
       "      <td>0.305130</td>\n",
       "      <td>0.211253</td>\n",
       "    </tr>\n",
       "    <tr>\n",
       "      <th>1</th>\n",
       "      <td>1</td>\n",
       "      <td>2019-05-03 11:07:28</td>\n",
       "      <td>2019-05-03 11:10:33</td>\n",
       "      <td>0.765658</td>\n",
       "      <td>0.477438</td>\n",
       "    </tr>\n",
       "    <tr>\n",
       "      <th>2</th>\n",
       "      <td>1</td>\n",
       "      <td>2019-05-03 11:11:44</td>\n",
       "      <td>2019-05-03 11:14:36</td>\n",
       "      <td>0.580313</td>\n",
       "      <td>0.430460</td>\n",
       "    </tr>\n",
       "    <tr>\n",
       "      <th>3</th>\n",
       "      <td>1</td>\n",
       "      <td>2019-05-03 11:18:14</td>\n",
       "      <td>2019-05-03 11:24:19</td>\n",
       "      <td>0.518496</td>\n",
       "      <td>0.379979</td>\n",
       "    </tr>\n",
       "    <tr>\n",
       "      <th>4</th>\n",
       "      <td>1</td>\n",
       "      <td>2019-05-03 11:26:09</td>\n",
       "      <td>2019-05-03 11:28:37</td>\n",
       "      <td>0.867133</td>\n",
       "      <td>0.643691</td>\n",
       "    </tr>\n",
       "  </tbody>\n",
       "</table>\n",
       "</div>"
      ],
      "text/plain": [
       "   key   arc_heating_start     arc_heating_end  active_power  reactive_power\n",
       "0    1 2019-05-03 11:02:14 2019-05-03 11:06:02      0.305130        0.211253\n",
       "1    1 2019-05-03 11:07:28 2019-05-03 11:10:33      0.765658        0.477438\n",
       "2    1 2019-05-03 11:11:44 2019-05-03 11:14:36      0.580313        0.430460\n",
       "3    1 2019-05-03 11:18:14 2019-05-03 11:24:19      0.518496        0.379979\n",
       "4    1 2019-05-03 11:26:09 2019-05-03 11:28:37      0.867133        0.643691"
      ]
     },
     "execution_count": 76,
     "metadata": {},
     "output_type": "execute_result"
    }
   ],
   "source": [
    "arc_new.head()"
   ]
  },
  {
   "cell_type": "markdown",
   "metadata": {},
   "source": [
    "Удалим ключ с отрицательной реактивной мощностью"
   ]
  },
  {
   "cell_type": "code",
   "execution_count": 77,
   "metadata": {},
   "outputs": [],
   "source": [
    "arc_new = arc_new[arc_new['reactive_power'] > 0]"
   ]
  },
  {
   "cell_type": "code",
   "execution_count": 78,
   "metadata": {},
   "outputs": [
    {
     "data": {
      "text/html": [
       "<div>\n",
       "<style scoped>\n",
       "    .dataframe tbody tr th:only-of-type {\n",
       "        vertical-align: middle;\n",
       "    }\n",
       "\n",
       "    .dataframe tbody tr th {\n",
       "        vertical-align: top;\n",
       "    }\n",
       "\n",
       "    .dataframe thead th {\n",
       "        text-align: right;\n",
       "    }\n",
       "</style>\n",
       "<table border=\"1\" class=\"dataframe\">\n",
       "  <thead>\n",
       "    <tr style=\"text-align: right;\">\n",
       "      <th></th>\n",
       "      <th>key</th>\n",
       "      <th>active_power</th>\n",
       "      <th>reactive_power</th>\n",
       "    </tr>\n",
       "  </thead>\n",
       "  <tbody>\n",
       "    <tr>\n",
       "      <th>count</th>\n",
       "      <td>14875.000000</td>\n",
       "      <td>14875.000000</td>\n",
       "      <td>14875.000000</td>\n",
       "    </tr>\n",
       "    <tr>\n",
       "      <th>mean</th>\n",
       "      <td>1615.186756</td>\n",
       "      <td>0.662749</td>\n",
       "      <td>0.487115</td>\n",
       "    </tr>\n",
       "    <tr>\n",
       "      <th>std</th>\n",
       "      <td>934.593897</td>\n",
       "      <td>0.258894</td>\n",
       "      <td>0.197612</td>\n",
       "    </tr>\n",
       "    <tr>\n",
       "      <th>min</th>\n",
       "      <td>1.000000</td>\n",
       "      <td>0.223120</td>\n",
       "      <td>0.153777</td>\n",
       "    </tr>\n",
       "    <tr>\n",
       "      <th>25%</th>\n",
       "      <td>806.000000</td>\n",
       "      <td>0.467115</td>\n",
       "      <td>0.337190</td>\n",
       "    </tr>\n",
       "    <tr>\n",
       "      <th>50%</th>\n",
       "      <td>1617.000000</td>\n",
       "      <td>0.599578</td>\n",
       "      <td>0.441665</td>\n",
       "    </tr>\n",
       "    <tr>\n",
       "      <th>75%</th>\n",
       "      <td>2429.000000</td>\n",
       "      <td>0.830135</td>\n",
       "      <td>0.608223</td>\n",
       "    </tr>\n",
       "    <tr>\n",
       "      <th>max</th>\n",
       "      <td>3241.000000</td>\n",
       "      <td>1.463773</td>\n",
       "      <td>1.270284</td>\n",
       "    </tr>\n",
       "  </tbody>\n",
       "</table>\n",
       "</div>"
      ],
      "text/plain": [
       "                key  active_power  reactive_power\n",
       "count  14875.000000  14875.000000    14875.000000\n",
       "mean    1615.186756      0.662749        0.487115\n",
       "std      934.593897      0.258894        0.197612\n",
       "min        1.000000      0.223120        0.153777\n",
       "25%      806.000000      0.467115        0.337190\n",
       "50%     1617.000000      0.599578        0.441665\n",
       "75%     2429.000000      0.830135        0.608223\n",
       "max     3241.000000      1.463773        1.270284"
      ]
     },
     "execution_count": 78,
     "metadata": {},
     "output_type": "execute_result"
    }
   ],
   "source": [
    "arc_new.describe()"
   ]
  },
  {
   "cell_type": "markdown",
   "metadata": {},
   "source": [
    "Посчитаем время нагрева для каждого этапа "
   ]
  },
  {
   "cell_type": "code",
   "execution_count": 79,
   "metadata": {},
   "outputs": [],
   "source": [
    "arc_new['time'] = ((arc_new['arc_heating_end'] - arc_new['arc_heating_start']) / np.timedelta64(1, 'm')).astype('int')  "
   ]
  },
  {
   "cell_type": "code",
   "execution_count": 80,
   "metadata": {},
   "outputs": [
    {
     "data": {
      "text/html": [
       "<div>\n",
       "<style scoped>\n",
       "    .dataframe tbody tr th:only-of-type {\n",
       "        vertical-align: middle;\n",
       "    }\n",
       "\n",
       "    .dataframe tbody tr th {\n",
       "        vertical-align: top;\n",
       "    }\n",
       "\n",
       "    .dataframe thead th {\n",
       "        text-align: right;\n",
       "    }\n",
       "</style>\n",
       "<table border=\"1\" class=\"dataframe\">\n",
       "  <thead>\n",
       "    <tr style=\"text-align: right;\">\n",
       "      <th></th>\n",
       "      <th>key</th>\n",
       "      <th>arc_heating_start</th>\n",
       "      <th>arc_heating_end</th>\n",
       "      <th>active_power</th>\n",
       "      <th>reactive_power</th>\n",
       "      <th>time</th>\n",
       "    </tr>\n",
       "  </thead>\n",
       "  <tbody>\n",
       "    <tr>\n",
       "      <th>0</th>\n",
       "      <td>1</td>\n",
       "      <td>2019-05-03 11:02:14</td>\n",
       "      <td>2019-05-03 11:06:02</td>\n",
       "      <td>0.305130</td>\n",
       "      <td>0.211253</td>\n",
       "      <td>3</td>\n",
       "    </tr>\n",
       "    <tr>\n",
       "      <th>1</th>\n",
       "      <td>1</td>\n",
       "      <td>2019-05-03 11:07:28</td>\n",
       "      <td>2019-05-03 11:10:33</td>\n",
       "      <td>0.765658</td>\n",
       "      <td>0.477438</td>\n",
       "      <td>3</td>\n",
       "    </tr>\n",
       "    <tr>\n",
       "      <th>2</th>\n",
       "      <td>1</td>\n",
       "      <td>2019-05-03 11:11:44</td>\n",
       "      <td>2019-05-03 11:14:36</td>\n",
       "      <td>0.580313</td>\n",
       "      <td>0.430460</td>\n",
       "      <td>2</td>\n",
       "    </tr>\n",
       "    <tr>\n",
       "      <th>3</th>\n",
       "      <td>1</td>\n",
       "      <td>2019-05-03 11:18:14</td>\n",
       "      <td>2019-05-03 11:24:19</td>\n",
       "      <td>0.518496</td>\n",
       "      <td>0.379979</td>\n",
       "      <td>6</td>\n",
       "    </tr>\n",
       "    <tr>\n",
       "      <th>4</th>\n",
       "      <td>1</td>\n",
       "      <td>2019-05-03 11:26:09</td>\n",
       "      <td>2019-05-03 11:28:37</td>\n",
       "      <td>0.867133</td>\n",
       "      <td>0.643691</td>\n",
       "      <td>2</td>\n",
       "    </tr>\n",
       "  </tbody>\n",
       "</table>\n",
       "</div>"
      ],
      "text/plain": [
       "   key   arc_heating_start     arc_heating_end  active_power  reactive_power  \\\n",
       "0    1 2019-05-03 11:02:14 2019-05-03 11:06:02      0.305130        0.211253   \n",
       "1    1 2019-05-03 11:07:28 2019-05-03 11:10:33      0.765658        0.477438   \n",
       "2    1 2019-05-03 11:11:44 2019-05-03 11:14:36      0.580313        0.430460   \n",
       "3    1 2019-05-03 11:18:14 2019-05-03 11:24:19      0.518496        0.379979   \n",
       "4    1 2019-05-03 11:26:09 2019-05-03 11:28:37      0.867133        0.643691   \n",
       "\n",
       "   time  \n",
       "0     3  \n",
       "1     3  \n",
       "2     2  \n",
       "3     6  \n",
       "4     2  "
      ]
     },
     "execution_count": 80,
     "metadata": {},
     "output_type": "execute_result"
    }
   ],
   "source": [
    "arc_new.head()"
   ]
  },
  {
   "cell_type": "markdown",
   "metadata": {},
   "source": [
    "Посчитаем общее время и суммарную мощность для каждого key и сгруппируем"
   ]
  },
  {
   "cell_type": "code",
   "execution_count": 81,
   "metadata": {},
   "outputs": [],
   "source": [
    "arc_group = arc_new.groupby(['key'], axis=0, as_index=False).sum()"
   ]
  },
  {
   "cell_type": "code",
   "execution_count": 82,
   "metadata": {},
   "outputs": [
    {
     "data": {
      "text/html": [
       "<div>\n",
       "<style scoped>\n",
       "    .dataframe tbody tr th:only-of-type {\n",
       "        vertical-align: middle;\n",
       "    }\n",
       "\n",
       "    .dataframe tbody tr th {\n",
       "        vertical-align: top;\n",
       "    }\n",
       "\n",
       "    .dataframe thead th {\n",
       "        text-align: right;\n",
       "    }\n",
       "</style>\n",
       "<table border=\"1\" class=\"dataframe\">\n",
       "  <thead>\n",
       "    <tr style=\"text-align: right;\">\n",
       "      <th></th>\n",
       "      <th>key</th>\n",
       "      <th>active_power</th>\n",
       "      <th>reactive_power</th>\n",
       "      <th>time</th>\n",
       "    </tr>\n",
       "  </thead>\n",
       "  <tbody>\n",
       "    <tr>\n",
       "      <th>0</th>\n",
       "      <td>1</td>\n",
       "      <td>3.036730</td>\n",
       "      <td>2.142821</td>\n",
       "      <td>16</td>\n",
       "    </tr>\n",
       "    <tr>\n",
       "      <th>1</th>\n",
       "      <td>2</td>\n",
       "      <td>2.139408</td>\n",
       "      <td>1.453357</td>\n",
       "      <td>12</td>\n",
       "    </tr>\n",
       "    <tr>\n",
       "      <th>2</th>\n",
       "      <td>3</td>\n",
       "      <td>4.063641</td>\n",
       "      <td>2.937457</td>\n",
       "      <td>9</td>\n",
       "    </tr>\n",
       "    <tr>\n",
       "      <th>3</th>\n",
       "      <td>4</td>\n",
       "      <td>2.706489</td>\n",
       "      <td>2.056992</td>\n",
       "      <td>10</td>\n",
       "    </tr>\n",
       "    <tr>\n",
       "      <th>4</th>\n",
       "      <td>5</td>\n",
       "      <td>2.252950</td>\n",
       "      <td>1.687991</td>\n",
       "      <td>13</td>\n",
       "    </tr>\n",
       "  </tbody>\n",
       "</table>\n",
       "</div>"
      ],
      "text/plain": [
       "   key  active_power  reactive_power  time\n",
       "0    1      3.036730        2.142821    16\n",
       "1    2      2.139408        1.453357    12\n",
       "2    3      4.063641        2.937457     9\n",
       "3    4      2.706489        2.056992    10\n",
       "4    5      2.252950        1.687991    13"
      ]
     },
     "execution_count": 82,
     "metadata": {},
     "output_type": "execute_result"
    }
   ],
   "source": [
    "arc_group.head()"
   ]
  },
  {
   "cell_type": "markdown",
   "metadata": {},
   "source": [
    "Выделим из полученного датасета интересующие нас данные"
   ]
  },
  {
   "cell_type": "code",
   "execution_count": 83,
   "metadata": {},
   "outputs": [],
   "source": [
    "df_arc = arc_group.drop('reactive_power', axis = 1)"
   ]
  },
  {
   "cell_type": "code",
   "execution_count": 84,
   "metadata": {},
   "outputs": [
    {
     "data": {
      "text/html": [
       "<div>\n",
       "<style scoped>\n",
       "    .dataframe tbody tr th:only-of-type {\n",
       "        vertical-align: middle;\n",
       "    }\n",
       "\n",
       "    .dataframe tbody tr th {\n",
       "        vertical-align: top;\n",
       "    }\n",
       "\n",
       "    .dataframe thead th {\n",
       "        text-align: right;\n",
       "    }\n",
       "</style>\n",
       "<table border=\"1\" class=\"dataframe\">\n",
       "  <thead>\n",
       "    <tr style=\"text-align: right;\">\n",
       "      <th></th>\n",
       "      <th>key</th>\n",
       "      <th>active_power</th>\n",
       "      <th>time</th>\n",
       "    </tr>\n",
       "  </thead>\n",
       "  <tbody>\n",
       "    <tr>\n",
       "      <th>0</th>\n",
       "      <td>1</td>\n",
       "      <td>3.036730</td>\n",
       "      <td>16</td>\n",
       "    </tr>\n",
       "    <tr>\n",
       "      <th>1</th>\n",
       "      <td>2</td>\n",
       "      <td>2.139408</td>\n",
       "      <td>12</td>\n",
       "    </tr>\n",
       "    <tr>\n",
       "      <th>2</th>\n",
       "      <td>3</td>\n",
       "      <td>4.063641</td>\n",
       "      <td>9</td>\n",
       "    </tr>\n",
       "    <tr>\n",
       "      <th>3</th>\n",
       "      <td>4</td>\n",
       "      <td>2.706489</td>\n",
       "      <td>10</td>\n",
       "    </tr>\n",
       "    <tr>\n",
       "      <th>4</th>\n",
       "      <td>5</td>\n",
       "      <td>2.252950</td>\n",
       "      <td>13</td>\n",
       "    </tr>\n",
       "  </tbody>\n",
       "</table>\n",
       "</div>"
      ],
      "text/plain": [
       "   key  active_power  time\n",
       "0    1      3.036730    16\n",
       "1    2      2.139408    12\n",
       "2    3      4.063641     9\n",
       "3    4      2.706489    10\n",
       "4    5      2.252950    13"
      ]
     },
     "execution_count": 84,
     "metadata": {},
     "output_type": "execute_result"
    }
   ],
   "source": [
    "df_arc.head()"
   ]
  },
  {
   "cell_type": "markdown",
   "metadata": {},
   "source": [
    "Объединим таблицы df_arc и df по key "
   ]
  },
  {
   "cell_type": "code",
   "execution_count": 85,
   "metadata": {},
   "outputs": [],
   "source": [
    "df = df.merge(df_arc, on = 'key', how = 'inner')"
   ]
  },
  {
   "cell_type": "code",
   "execution_count": 86,
   "metadata": {},
   "outputs": [
    {
     "data": {
      "text/html": [
       "<div>\n",
       "<style scoped>\n",
       "    .dataframe tbody tr th:only-of-type {\n",
       "        vertical-align: middle;\n",
       "    }\n",
       "\n",
       "    .dataframe tbody tr th {\n",
       "        vertical-align: top;\n",
       "    }\n",
       "\n",
       "    .dataframe thead th {\n",
       "        text-align: right;\n",
       "    }\n",
       "</style>\n",
       "<table border=\"1\" class=\"dataframe\">\n",
       "  <thead>\n",
       "    <tr style=\"text-align: right;\">\n",
       "      <th></th>\n",
       "      <th>key</th>\n",
       "      <th>temp_first</th>\n",
       "      <th>temp_last</th>\n",
       "      <th>active_power</th>\n",
       "      <th>time</th>\n",
       "    </tr>\n",
       "  </thead>\n",
       "  <tbody>\n",
       "    <tr>\n",
       "      <th>0</th>\n",
       "      <td>1</td>\n",
       "      <td>1571.0</td>\n",
       "      <td>1613.0</td>\n",
       "      <td>3.036730</td>\n",
       "      <td>16</td>\n",
       "    </tr>\n",
       "    <tr>\n",
       "      <th>1</th>\n",
       "      <td>2</td>\n",
       "      <td>1581.0</td>\n",
       "      <td>1602.0</td>\n",
       "      <td>2.139408</td>\n",
       "      <td>12</td>\n",
       "    </tr>\n",
       "    <tr>\n",
       "      <th>2</th>\n",
       "      <td>3</td>\n",
       "      <td>1596.0</td>\n",
       "      <td>1599.0</td>\n",
       "      <td>4.063641</td>\n",
       "      <td>9</td>\n",
       "    </tr>\n",
       "    <tr>\n",
       "      <th>3</th>\n",
       "      <td>4</td>\n",
       "      <td>1601.0</td>\n",
       "      <td>1625.0</td>\n",
       "      <td>2.706489</td>\n",
       "      <td>10</td>\n",
       "    </tr>\n",
       "    <tr>\n",
       "      <th>4</th>\n",
       "      <td>5</td>\n",
       "      <td>1576.0</td>\n",
       "      <td>1602.0</td>\n",
       "      <td>2.252950</td>\n",
       "      <td>13</td>\n",
       "    </tr>\n",
       "  </tbody>\n",
       "</table>\n",
       "</div>"
      ],
      "text/plain": [
       "   key  temp_first  temp_last  active_power  time\n",
       "0    1      1571.0     1613.0      3.036730    16\n",
       "1    2      1581.0     1602.0      2.139408    12\n",
       "2    3      1596.0     1599.0      4.063641     9\n",
       "3    4      1601.0     1625.0      2.706489    10\n",
       "4    5      1576.0     1602.0      2.252950    13"
      ]
     },
     "execution_count": 86,
     "metadata": {},
     "output_type": "execute_result"
    }
   ],
   "source": [
    "df.head()"
   ]
  },
  {
   "cell_type": "code",
   "execution_count": 87,
   "metadata": {},
   "outputs": [
    {
     "name": "stdout",
     "output_type": "stream",
     "text": [
      "<class 'pandas.core.frame.DataFrame'>\n",
      "Int64Index: 2432 entries, 0 to 2431\n",
      "Data columns (total 5 columns):\n",
      " #   Column        Non-Null Count  Dtype  \n",
      "---  ------        --------------  -----  \n",
      " 0   key           2432 non-null   int64  \n",
      " 1   temp_first    2432 non-null   float64\n",
      " 2   temp_last     2432 non-null   float64\n",
      " 3   active_power  2432 non-null   float64\n",
      " 4   time          2432 non-null   int64  \n",
      "dtypes: float64(3), int64(2)\n",
      "memory usage: 114.0 KB\n"
     ]
    }
   ],
   "source": [
    "df.info()"
   ]
  },
  {
   "cell_type": "markdown",
   "metadata": {},
   "source": [
    "Заполним пропуски в данных о сыпучих материалах нулями"
   ]
  },
  {
   "cell_type": "code",
   "execution_count": 88,
   "metadata": {},
   "outputs": [],
   "source": [
    "bulk_new = bulk_new.fillna(0)"
   ]
  },
  {
   "cell_type": "markdown",
   "metadata": {},
   "source": [
    "Обьединим с таблицей df"
   ]
  },
  {
   "cell_type": "code",
   "execution_count": 89,
   "metadata": {},
   "outputs": [],
   "source": [
    "df = df.merge(bulk_new, on = 'key', how = 'inner')"
   ]
  },
  {
   "cell_type": "code",
   "execution_count": 90,
   "metadata": {},
   "outputs": [
    {
     "data": {
      "text/html": [
       "<div>\n",
       "<style scoped>\n",
       "    .dataframe tbody tr th:only-of-type {\n",
       "        vertical-align: middle;\n",
       "    }\n",
       "\n",
       "    .dataframe tbody tr th {\n",
       "        vertical-align: top;\n",
       "    }\n",
       "\n",
       "    .dataframe thead th {\n",
       "        text-align: right;\n",
       "    }\n",
       "</style>\n",
       "<table border=\"1\" class=\"dataframe\">\n",
       "  <thead>\n",
       "    <tr style=\"text-align: right;\">\n",
       "      <th></th>\n",
       "      <th>key</th>\n",
       "      <th>temp_first</th>\n",
       "      <th>temp_last</th>\n",
       "      <th>active_power</th>\n",
       "      <th>time</th>\n",
       "      <th>bulk_1</th>\n",
       "      <th>bulk_2</th>\n",
       "      <th>bulk_3</th>\n",
       "      <th>bulk_4</th>\n",
       "      <th>bulk_5</th>\n",
       "      <th>bulk_6</th>\n",
       "      <th>bulk_7</th>\n",
       "      <th>bulk_8</th>\n",
       "      <th>bulk_9</th>\n",
       "      <th>bulk_10</th>\n",
       "      <th>bulk_11</th>\n",
       "      <th>bulk_12</th>\n",
       "      <th>bulk_13</th>\n",
       "      <th>bulk_14</th>\n",
       "      <th>bulk_15</th>\n",
       "    </tr>\n",
       "  </thead>\n",
       "  <tbody>\n",
       "    <tr>\n",
       "      <th>0</th>\n",
       "      <td>1</td>\n",
       "      <td>1571.0</td>\n",
       "      <td>1613.0</td>\n",
       "      <td>3.036730</td>\n",
       "      <td>16</td>\n",
       "      <td>0.0</td>\n",
       "      <td>0.0</td>\n",
       "      <td>0.0</td>\n",
       "      <td>43.0</td>\n",
       "      <td>0.0</td>\n",
       "      <td>0.0</td>\n",
       "      <td>0.0</td>\n",
       "      <td>0.0</td>\n",
       "      <td>0.0</td>\n",
       "      <td>0.0</td>\n",
       "      <td>0.0</td>\n",
       "      <td>206.0</td>\n",
       "      <td>0.0</td>\n",
       "      <td>150.0</td>\n",
       "      <td>154.0</td>\n",
       "    </tr>\n",
       "    <tr>\n",
       "      <th>1</th>\n",
       "      <td>2</td>\n",
       "      <td>1581.0</td>\n",
       "      <td>1602.0</td>\n",
       "      <td>2.139408</td>\n",
       "      <td>12</td>\n",
       "      <td>0.0</td>\n",
       "      <td>0.0</td>\n",
       "      <td>0.0</td>\n",
       "      <td>73.0</td>\n",
       "      <td>0.0</td>\n",
       "      <td>0.0</td>\n",
       "      <td>0.0</td>\n",
       "      <td>0.0</td>\n",
       "      <td>0.0</td>\n",
       "      <td>0.0</td>\n",
       "      <td>0.0</td>\n",
       "      <td>206.0</td>\n",
       "      <td>0.0</td>\n",
       "      <td>149.0</td>\n",
       "      <td>154.0</td>\n",
       "    </tr>\n",
       "    <tr>\n",
       "      <th>2</th>\n",
       "      <td>3</td>\n",
       "      <td>1596.0</td>\n",
       "      <td>1599.0</td>\n",
       "      <td>4.063641</td>\n",
       "      <td>9</td>\n",
       "      <td>0.0</td>\n",
       "      <td>0.0</td>\n",
       "      <td>0.0</td>\n",
       "      <td>34.0</td>\n",
       "      <td>0.0</td>\n",
       "      <td>0.0</td>\n",
       "      <td>0.0</td>\n",
       "      <td>0.0</td>\n",
       "      <td>0.0</td>\n",
       "      <td>0.0</td>\n",
       "      <td>0.0</td>\n",
       "      <td>205.0</td>\n",
       "      <td>0.0</td>\n",
       "      <td>152.0</td>\n",
       "      <td>153.0</td>\n",
       "    </tr>\n",
       "    <tr>\n",
       "      <th>3</th>\n",
       "      <td>4</td>\n",
       "      <td>1601.0</td>\n",
       "      <td>1625.0</td>\n",
       "      <td>2.706489</td>\n",
       "      <td>10</td>\n",
       "      <td>0.0</td>\n",
       "      <td>0.0</td>\n",
       "      <td>0.0</td>\n",
       "      <td>81.0</td>\n",
       "      <td>0.0</td>\n",
       "      <td>0.0</td>\n",
       "      <td>0.0</td>\n",
       "      <td>0.0</td>\n",
       "      <td>0.0</td>\n",
       "      <td>0.0</td>\n",
       "      <td>0.0</td>\n",
       "      <td>207.0</td>\n",
       "      <td>0.0</td>\n",
       "      <td>153.0</td>\n",
       "      <td>154.0</td>\n",
       "    </tr>\n",
       "    <tr>\n",
       "      <th>4</th>\n",
       "      <td>5</td>\n",
       "      <td>1576.0</td>\n",
       "      <td>1602.0</td>\n",
       "      <td>2.252950</td>\n",
       "      <td>13</td>\n",
       "      <td>0.0</td>\n",
       "      <td>0.0</td>\n",
       "      <td>0.0</td>\n",
       "      <td>78.0</td>\n",
       "      <td>0.0</td>\n",
       "      <td>0.0</td>\n",
       "      <td>0.0</td>\n",
       "      <td>0.0</td>\n",
       "      <td>0.0</td>\n",
       "      <td>0.0</td>\n",
       "      <td>0.0</td>\n",
       "      <td>203.0</td>\n",
       "      <td>0.0</td>\n",
       "      <td>151.0</td>\n",
       "      <td>152.0</td>\n",
       "    </tr>\n",
       "  </tbody>\n",
       "</table>\n",
       "</div>"
      ],
      "text/plain": [
       "   key  temp_first  temp_last  active_power  time  bulk_1  bulk_2  bulk_3  \\\n",
       "0    1      1571.0     1613.0      3.036730    16     0.0     0.0     0.0   \n",
       "1    2      1581.0     1602.0      2.139408    12     0.0     0.0     0.0   \n",
       "2    3      1596.0     1599.0      4.063641     9     0.0     0.0     0.0   \n",
       "3    4      1601.0     1625.0      2.706489    10     0.0     0.0     0.0   \n",
       "4    5      1576.0     1602.0      2.252950    13     0.0     0.0     0.0   \n",
       "\n",
       "   bulk_4  bulk_5  bulk_6  bulk_7  bulk_8  bulk_9  bulk_10  bulk_11  bulk_12  \\\n",
       "0    43.0     0.0     0.0     0.0     0.0     0.0      0.0      0.0    206.0   \n",
       "1    73.0     0.0     0.0     0.0     0.0     0.0      0.0      0.0    206.0   \n",
       "2    34.0     0.0     0.0     0.0     0.0     0.0      0.0      0.0    205.0   \n",
       "3    81.0     0.0     0.0     0.0     0.0     0.0      0.0      0.0    207.0   \n",
       "4    78.0     0.0     0.0     0.0     0.0     0.0      0.0      0.0    203.0   \n",
       "\n",
       "   bulk_13  bulk_14  bulk_15  \n",
       "0      0.0    150.0    154.0  \n",
       "1      0.0    149.0    154.0  \n",
       "2      0.0    152.0    153.0  \n",
       "3      0.0    153.0    154.0  \n",
       "4      0.0    151.0    152.0  "
      ]
     },
     "execution_count": 90,
     "metadata": {},
     "output_type": "execute_result"
    }
   ],
   "source": [
    "df.head()"
   ]
  },
  {
   "cell_type": "code",
   "execution_count": 91,
   "metadata": {},
   "outputs": [
    {
     "name": "stdout",
     "output_type": "stream",
     "text": [
      "<class 'pandas.core.frame.DataFrame'>\n",
      "Int64Index: 2364 entries, 0 to 2363\n",
      "Data columns (total 20 columns):\n",
      " #   Column        Non-Null Count  Dtype  \n",
      "---  ------        --------------  -----  \n",
      " 0   key           2364 non-null   int64  \n",
      " 1   temp_first    2364 non-null   float64\n",
      " 2   temp_last     2364 non-null   float64\n",
      " 3   active_power  2364 non-null   float64\n",
      " 4   time          2364 non-null   int64  \n",
      " 5   bulk_1        2364 non-null   float64\n",
      " 6   bulk_2        2364 non-null   float64\n",
      " 7   bulk_3        2364 non-null   float64\n",
      " 8   bulk_4        2364 non-null   float64\n",
      " 9   bulk_5        2364 non-null   float64\n",
      " 10  bulk_6        2364 non-null   float64\n",
      " 11  bulk_7        2364 non-null   float64\n",
      " 12  bulk_8        2364 non-null   float64\n",
      " 13  bulk_9        2364 non-null   float64\n",
      " 14  bulk_10       2364 non-null   float64\n",
      " 15  bulk_11       2364 non-null   float64\n",
      " 16  bulk_12       2364 non-null   float64\n",
      " 17  bulk_13       2364 non-null   float64\n",
      " 18  bulk_14       2364 non-null   float64\n",
      " 19  bulk_15       2364 non-null   float64\n",
      "dtypes: float64(18), int64(2)\n",
      "memory usage: 387.8 KB\n"
     ]
    }
   ],
   "source": [
    "df.info()"
   ]
  },
  {
   "cell_type": "markdown",
   "metadata": {},
   "source": [
    "Добавим в итоговую таблицу данные о продувке газом"
   ]
  },
  {
   "cell_type": "code",
   "execution_count": 92,
   "metadata": {},
   "outputs": [
    {
     "data": {
      "text/plain": [
       "key      0\n",
       "gas_1    0\n",
       "dtype: int64"
      ]
     },
     "execution_count": 92,
     "metadata": {},
     "output_type": "execute_result"
    }
   ],
   "source": [
    "gas_new.isnull().sum()"
   ]
  },
  {
   "cell_type": "code",
   "execution_count": 93,
   "metadata": {},
   "outputs": [],
   "source": [
    "df = df.merge(gas_new, on = 'key', how = 'inner')"
   ]
  },
  {
   "cell_type": "code",
   "execution_count": 94,
   "metadata": {},
   "outputs": [
    {
     "name": "stdout",
     "output_type": "stream",
     "text": [
      "<class 'pandas.core.frame.DataFrame'>\n",
      "Int64Index: 2362 entries, 0 to 2361\n",
      "Data columns (total 21 columns):\n",
      " #   Column        Non-Null Count  Dtype  \n",
      "---  ------        --------------  -----  \n",
      " 0   key           2362 non-null   int64  \n",
      " 1   temp_first    2362 non-null   float64\n",
      " 2   temp_last     2362 non-null   float64\n",
      " 3   active_power  2362 non-null   float64\n",
      " 4   time          2362 non-null   int64  \n",
      " 5   bulk_1        2362 non-null   float64\n",
      " 6   bulk_2        2362 non-null   float64\n",
      " 7   bulk_3        2362 non-null   float64\n",
      " 8   bulk_4        2362 non-null   float64\n",
      " 9   bulk_5        2362 non-null   float64\n",
      " 10  bulk_6        2362 non-null   float64\n",
      " 11  bulk_7        2362 non-null   float64\n",
      " 12  bulk_8        2362 non-null   float64\n",
      " 13  bulk_9        2362 non-null   float64\n",
      " 14  bulk_10       2362 non-null   float64\n",
      " 15  bulk_11       2362 non-null   float64\n",
      " 16  bulk_12       2362 non-null   float64\n",
      " 17  bulk_13       2362 non-null   float64\n",
      " 18  bulk_14       2362 non-null   float64\n",
      " 19  bulk_15       2362 non-null   float64\n",
      " 20  gas_1         2362 non-null   float64\n",
      "dtypes: float64(19), int64(2)\n",
      "memory usage: 406.0 KB\n"
     ]
    }
   ],
   "source": [
    "df.info()"
   ]
  },
  {
   "cell_type": "code",
   "execution_count": 95,
   "metadata": {},
   "outputs": [
    {
     "name": "stdout",
     "output_type": "stream",
     "text": [
      "<class 'pandas.core.frame.DataFrame'>\n",
      "RangeIndex: 3081 entries, 0 to 3080\n",
      "Data columns (total 10 columns):\n",
      " #   Column  Non-Null Count  Dtype  \n",
      "---  ------  --------------  -----  \n",
      " 0   key     3081 non-null   int64  \n",
      " 1   wire_1  3055 non-null   float64\n",
      " 2   wire_2  1079 non-null   float64\n",
      " 3   wire_3  63 non-null     float64\n",
      " 4   wire_4  14 non-null     float64\n",
      " 5   wire_5  1 non-null      float64\n",
      " 6   wire_6  73 non-null     float64\n",
      " 7   wire_7  11 non-null     float64\n",
      " 8   wire_8  19 non-null     float64\n",
      " 9   wire_9  29 non-null     float64\n",
      "dtypes: float64(9), int64(1)\n",
      "memory usage: 240.8 KB\n"
     ]
    }
   ],
   "source": [
    "wire_new.info()"
   ]
  },
  {
   "cell_type": "markdown",
   "metadata": {},
   "source": [
    "Удалим столбец wire_1 тк процент подачи этого проволочного материала близок к 0"
   ]
  },
  {
   "cell_type": "code",
   "execution_count": 96,
   "metadata": {},
   "outputs": [],
   "source": [
    "wire_new = wire_new.drop('wire_1', axis = 1)"
   ]
  },
  {
   "cell_type": "markdown",
   "metadata": {},
   "source": [
    "Заполним пропуски нулями"
   ]
  },
  {
   "cell_type": "code",
   "execution_count": 97,
   "metadata": {},
   "outputs": [],
   "source": [
    "wire_new = wire_new.fillna(0)"
   ]
  },
  {
   "cell_type": "code",
   "execution_count": 98,
   "metadata": {},
   "outputs": [
    {
     "name": "stdout",
     "output_type": "stream",
     "text": [
      "<class 'pandas.core.frame.DataFrame'>\n",
      "RangeIndex: 3081 entries, 0 to 3080\n",
      "Data columns (total 9 columns):\n",
      " #   Column  Non-Null Count  Dtype  \n",
      "---  ------  --------------  -----  \n",
      " 0   key     3081 non-null   int64  \n",
      " 1   wire_2  3081 non-null   float64\n",
      " 2   wire_3  3081 non-null   float64\n",
      " 3   wire_4  3081 non-null   float64\n",
      " 4   wire_5  3081 non-null   float64\n",
      " 5   wire_6  3081 non-null   float64\n",
      " 6   wire_7  3081 non-null   float64\n",
      " 7   wire_8  3081 non-null   float64\n",
      " 8   wire_9  3081 non-null   float64\n",
      "dtypes: float64(8), int64(1)\n",
      "memory usage: 216.8 KB\n"
     ]
    }
   ],
   "source": [
    "wire_new.info()"
   ]
  },
  {
   "cell_type": "markdown",
   "metadata": {},
   "source": [
    "Добавим в итоговую таблицу полученные данные о подаче проволочных материалом"
   ]
  },
  {
   "cell_type": "code",
   "execution_count": 99,
   "metadata": {},
   "outputs": [],
   "source": [
    "df = df.merge(wire_new, on = 'key', how = 'inner')"
   ]
  },
  {
   "cell_type": "code",
   "execution_count": 100,
   "metadata": {},
   "outputs": [
    {
     "name": "stdout",
     "output_type": "stream",
     "text": [
      "<class 'pandas.core.frame.DataFrame'>\n",
      "Int64Index: 2292 entries, 0 to 2291\n",
      "Data columns (total 29 columns):\n",
      " #   Column        Non-Null Count  Dtype  \n",
      "---  ------        --------------  -----  \n",
      " 0   key           2292 non-null   int64  \n",
      " 1   temp_first    2292 non-null   float64\n",
      " 2   temp_last     2292 non-null   float64\n",
      " 3   active_power  2292 non-null   float64\n",
      " 4   time          2292 non-null   int64  \n",
      " 5   bulk_1        2292 non-null   float64\n",
      " 6   bulk_2        2292 non-null   float64\n",
      " 7   bulk_3        2292 non-null   float64\n",
      " 8   bulk_4        2292 non-null   float64\n",
      " 9   bulk_5        2292 non-null   float64\n",
      " 10  bulk_6        2292 non-null   float64\n",
      " 11  bulk_7        2292 non-null   float64\n",
      " 12  bulk_8        2292 non-null   float64\n",
      " 13  bulk_9        2292 non-null   float64\n",
      " 14  bulk_10       2292 non-null   float64\n",
      " 15  bulk_11       2292 non-null   float64\n",
      " 16  bulk_12       2292 non-null   float64\n",
      " 17  bulk_13       2292 non-null   float64\n",
      " 18  bulk_14       2292 non-null   float64\n",
      " 19  bulk_15       2292 non-null   float64\n",
      " 20  gas_1         2292 non-null   float64\n",
      " 21  wire_2        2292 non-null   float64\n",
      " 22  wire_3        2292 non-null   float64\n",
      " 23  wire_4        2292 non-null   float64\n",
      " 24  wire_5        2292 non-null   float64\n",
      " 25  wire_6        2292 non-null   float64\n",
      " 26  wire_7        2292 non-null   float64\n",
      " 27  wire_8        2292 non-null   float64\n",
      " 28  wire_9        2292 non-null   float64\n",
      "dtypes: float64(27), int64(2)\n",
      "memory usage: 537.2 KB\n"
     ]
    }
   ],
   "source": [
    "df.info()"
   ]
  },
  {
   "cell_type": "markdown",
   "metadata": {},
   "source": [
    "### Изучим полученный набор данных"
   ]
  },
  {
   "cell_type": "code",
   "execution_count": 101,
   "metadata": {},
   "outputs": [
    {
     "data": {
      "text/html": [
       "<div>\n",
       "<style scoped>\n",
       "    .dataframe tbody tr th:only-of-type {\n",
       "        vertical-align: middle;\n",
       "    }\n",
       "\n",
       "    .dataframe tbody tr th {\n",
       "        vertical-align: top;\n",
       "    }\n",
       "\n",
       "    .dataframe thead th {\n",
       "        text-align: right;\n",
       "    }\n",
       "</style>\n",
       "<table border=\"1\" class=\"dataframe\">\n",
       "  <thead>\n",
       "    <tr style=\"text-align: right;\">\n",
       "      <th></th>\n",
       "      <th>key</th>\n",
       "      <th>temp_first</th>\n",
       "      <th>temp_last</th>\n",
       "      <th>active_power</th>\n",
       "      <th>time</th>\n",
       "      <th>bulk_1</th>\n",
       "      <th>bulk_2</th>\n",
       "      <th>bulk_3</th>\n",
       "      <th>bulk_4</th>\n",
       "      <th>bulk_5</th>\n",
       "      <th>...</th>\n",
       "      <th>bulk_15</th>\n",
       "      <th>gas_1</th>\n",
       "      <th>wire_2</th>\n",
       "      <th>wire_3</th>\n",
       "      <th>wire_4</th>\n",
       "      <th>wire_5</th>\n",
       "      <th>wire_6</th>\n",
       "      <th>wire_7</th>\n",
       "      <th>wire_8</th>\n",
       "      <th>wire_9</th>\n",
       "    </tr>\n",
       "  </thead>\n",
       "  <tbody>\n",
       "    <tr>\n",
       "      <th>key</th>\n",
       "      <td>1.000000</td>\n",
       "      <td>-0.018283</td>\n",
       "      <td>-0.101490</td>\n",
       "      <td>-0.021744</td>\n",
       "      <td>-0.035911</td>\n",
       "      <td>-0.073973</td>\n",
       "      <td>-0.005953</td>\n",
       "      <td>-0.005445</td>\n",
       "      <td>-0.027461</td>\n",
       "      <td>0.035940</td>\n",
       "      <td>...</td>\n",
       "      <td>-0.044507</td>\n",
       "      <td>-0.044232</td>\n",
       "      <td>0.045520</td>\n",
       "      <td>-0.027019</td>\n",
       "      <td>0.049866</td>\n",
       "      <td>NaN</td>\n",
       "      <td>-0.007853</td>\n",
       "      <td>0.037396</td>\n",
       "      <td>-0.035982</td>\n",
       "      <td>0.021832</td>\n",
       "    </tr>\n",
       "    <tr>\n",
       "      <th>temp_first</th>\n",
       "      <td>-0.018283</td>\n",
       "      <td>1.000000</td>\n",
       "      <td>0.295912</td>\n",
       "      <td>-0.158516</td>\n",
       "      <td>-0.396098</td>\n",
       "      <td>0.080698</td>\n",
       "      <td>0.142058</td>\n",
       "      <td>-0.113725</td>\n",
       "      <td>0.162868</td>\n",
       "      <td>0.079260</td>\n",
       "      <td>...</td>\n",
       "      <td>-0.065191</td>\n",
       "      <td>0.036351</td>\n",
       "      <td>-0.099350</td>\n",
       "      <td>-0.003044</td>\n",
       "      <td>0.076478</td>\n",
       "      <td>NaN</td>\n",
       "      <td>0.021131</td>\n",
       "      <td>0.053011</td>\n",
       "      <td>-0.029664</td>\n",
       "      <td>0.002935</td>\n",
       "    </tr>\n",
       "    <tr>\n",
       "      <th>temp_last</th>\n",
       "      <td>-0.101490</td>\n",
       "      <td>0.295912</td>\n",
       "      <td>1.000000</td>\n",
       "      <td>0.173767</td>\n",
       "      <td>0.284915</td>\n",
       "      <td>-0.074575</td>\n",
       "      <td>-0.083297</td>\n",
       "      <td>-0.036570</td>\n",
       "      <td>0.184705</td>\n",
       "      <td>-0.028685</td>\n",
       "      <td>...</td>\n",
       "      <td>0.266341</td>\n",
       "      <td>0.058043</td>\n",
       "      <td>-0.206924</td>\n",
       "      <td>-0.048055</td>\n",
       "      <td>-0.161315</td>\n",
       "      <td>NaN</td>\n",
       "      <td>-0.084913</td>\n",
       "      <td>-0.138620</td>\n",
       "      <td>-0.010902</td>\n",
       "      <td>-0.027797</td>\n",
       "    </tr>\n",
       "    <tr>\n",
       "      <th>active_power</th>\n",
       "      <td>-0.021744</td>\n",
       "      <td>-0.158516</td>\n",
       "      <td>0.173767</td>\n",
       "      <td>1.000000</td>\n",
       "      <td>0.672503</td>\n",
       "      <td>0.102387</td>\n",
       "      <td>0.091488</td>\n",
       "      <td>0.099998</td>\n",
       "      <td>0.002684</td>\n",
       "      <td>0.073457</td>\n",
       "      <td>...</td>\n",
       "      <td>0.167861</td>\n",
       "      <td>0.371044</td>\n",
       "      <td>0.064595</td>\n",
       "      <td>0.054853</td>\n",
       "      <td>0.103654</td>\n",
       "      <td>NaN</td>\n",
       "      <td>0.056350</td>\n",
       "      <td>0.061784</td>\n",
       "      <td>0.034529</td>\n",
       "      <td>-0.023913</td>\n",
       "    </tr>\n",
       "    <tr>\n",
       "      <th>time</th>\n",
       "      <td>-0.035911</td>\n",
       "      <td>-0.396098</td>\n",
       "      <td>0.284915</td>\n",
       "      <td>0.672503</td>\n",
       "      <td>1.000000</td>\n",
       "      <td>0.108116</td>\n",
       "      <td>0.023896</td>\n",
       "      <td>0.082738</td>\n",
       "      <td>-0.034981</td>\n",
       "      <td>0.000515</td>\n",
       "      <td>...</td>\n",
       "      <td>0.304432</td>\n",
       "      <td>0.376465</td>\n",
       "      <td>0.052409</td>\n",
       "      <td>0.025085</td>\n",
       "      <td>0.038917</td>\n",
       "      <td>NaN</td>\n",
       "      <td>0.036482</td>\n",
       "      <td>0.015670</td>\n",
       "      <td>0.019252</td>\n",
       "      <td>-0.008323</td>\n",
       "    </tr>\n",
       "    <tr>\n",
       "      <th>bulk_1</th>\n",
       "      <td>-0.073973</td>\n",
       "      <td>0.080698</td>\n",
       "      <td>-0.074575</td>\n",
       "      <td>0.102387</td>\n",
       "      <td>0.108116</td>\n",
       "      <td>1.000000</td>\n",
       "      <td>0.226154</td>\n",
       "      <td>-0.010730</td>\n",
       "      <td>0.042020</td>\n",
       "      <td>0.060731</td>\n",
       "      <td>...</td>\n",
       "      <td>-0.000347</td>\n",
       "      <td>0.239322</td>\n",
       "      <td>-0.011828</td>\n",
       "      <td>0.020301</td>\n",
       "      <td>0.147230</td>\n",
       "      <td>NaN</td>\n",
       "      <td>0.149470</td>\n",
       "      <td>0.083977</td>\n",
       "      <td>-0.019734</td>\n",
       "      <td>0.011054</td>\n",
       "    </tr>\n",
       "    <tr>\n",
       "      <th>bulk_2</th>\n",
       "      <td>-0.005953</td>\n",
       "      <td>0.142058</td>\n",
       "      <td>-0.083297</td>\n",
       "      <td>0.091488</td>\n",
       "      <td>0.023896</td>\n",
       "      <td>0.226154</td>\n",
       "      <td>1.000000</td>\n",
       "      <td>-0.047432</td>\n",
       "      <td>0.041320</td>\n",
       "      <td>0.360217</td>\n",
       "      <td>...</td>\n",
       "      <td>-0.106584</td>\n",
       "      <td>0.218578</td>\n",
       "      <td>-0.039407</td>\n",
       "      <td>0.223097</td>\n",
       "      <td>0.699320</td>\n",
       "      <td>NaN</td>\n",
       "      <td>0.558836</td>\n",
       "      <td>0.431722</td>\n",
       "      <td>-0.005359</td>\n",
       "      <td>-0.006953</td>\n",
       "    </tr>\n",
       "    <tr>\n",
       "      <th>bulk_3</th>\n",
       "      <td>-0.005445</td>\n",
       "      <td>-0.113725</td>\n",
       "      <td>-0.036570</td>\n",
       "      <td>0.099998</td>\n",
       "      <td>0.082738</td>\n",
       "      <td>-0.010730</td>\n",
       "      <td>-0.047432</td>\n",
       "      <td>1.000000</td>\n",
       "      <td>-0.294046</td>\n",
       "      <td>-0.007336</td>\n",
       "      <td>...</td>\n",
       "      <td>-0.013088</td>\n",
       "      <td>0.057360</td>\n",
       "      <td>0.096414</td>\n",
       "      <td>0.005315</td>\n",
       "      <td>-0.040996</td>\n",
       "      <td>NaN</td>\n",
       "      <td>0.006668</td>\n",
       "      <td>-0.019673</td>\n",
       "      <td>0.004569</td>\n",
       "      <td>0.004253</td>\n",
       "    </tr>\n",
       "    <tr>\n",
       "      <th>bulk_4</th>\n",
       "      <td>-0.027461</td>\n",
       "      <td>0.162868</td>\n",
       "      <td>0.184705</td>\n",
       "      <td>0.002684</td>\n",
       "      <td>-0.034981</td>\n",
       "      <td>0.042020</td>\n",
       "      <td>0.041320</td>\n",
       "      <td>-0.294046</td>\n",
       "      <td>1.000000</td>\n",
       "      <td>0.028898</td>\n",
       "      <td>...</td>\n",
       "      <td>0.102678</td>\n",
       "      <td>0.017007</td>\n",
       "      <td>-0.266854</td>\n",
       "      <td>-0.039212</td>\n",
       "      <td>0.034870</td>\n",
       "      <td>NaN</td>\n",
       "      <td>-0.011198</td>\n",
       "      <td>0.034180</td>\n",
       "      <td>0.008087</td>\n",
       "      <td>-0.058347</td>\n",
       "    </tr>\n",
       "    <tr>\n",
       "      <th>bulk_5</th>\n",
       "      <td>0.035940</td>\n",
       "      <td>0.079260</td>\n",
       "      <td>-0.028685</td>\n",
       "      <td>0.073457</td>\n",
       "      <td>0.000515</td>\n",
       "      <td>0.060731</td>\n",
       "      <td>0.360217</td>\n",
       "      <td>-0.007336</td>\n",
       "      <td>0.028898</td>\n",
       "      <td>1.000000</td>\n",
       "      <td>...</td>\n",
       "      <td>-0.067921</td>\n",
       "      <td>0.087041</td>\n",
       "      <td>-0.014216</td>\n",
       "      <td>0.070712</td>\n",
       "      <td>0.262679</td>\n",
       "      <td>NaN</td>\n",
       "      <td>0.204649</td>\n",
       "      <td>0.172103</td>\n",
       "      <td>-0.008473</td>\n",
       "      <td>-0.010993</td>\n",
       "    </tr>\n",
       "    <tr>\n",
       "      <th>bulk_6</th>\n",
       "      <td>0.008076</td>\n",
       "      <td>-0.125375</td>\n",
       "      <td>-0.179661</td>\n",
       "      <td>0.135078</td>\n",
       "      <td>0.154518</td>\n",
       "      <td>-0.005388</td>\n",
       "      <td>-0.030275</td>\n",
       "      <td>0.066151</td>\n",
       "      <td>-0.250786</td>\n",
       "      <td>-0.022244</td>\n",
       "      <td>...</td>\n",
       "      <td>-0.111848</td>\n",
       "      <td>0.140821</td>\n",
       "      <td>0.202989</td>\n",
       "      <td>-0.046971</td>\n",
       "      <td>-0.026167</td>\n",
       "      <td>NaN</td>\n",
       "      <td>-0.020594</td>\n",
       "      <td>-0.012557</td>\n",
       "      <td>-0.028716</td>\n",
       "      <td>-0.013629</td>\n",
       "    </tr>\n",
       "    <tr>\n",
       "      <th>bulk_7</th>\n",
       "      <td>0.052988</td>\n",
       "      <td>0.088151</td>\n",
       "      <td>-0.108357</td>\n",
       "      <td>0.146441</td>\n",
       "      <td>0.067412</td>\n",
       "      <td>0.238756</td>\n",
       "      <td>0.679331</td>\n",
       "      <td>-0.033919</td>\n",
       "      <td>0.046435</td>\n",
       "      <td>0.288255</td>\n",
       "      <td>...</td>\n",
       "      <td>-0.090863</td>\n",
       "      <td>0.199380</td>\n",
       "      <td>-0.000845</td>\n",
       "      <td>0.156526</td>\n",
       "      <td>0.740554</td>\n",
       "      <td>NaN</td>\n",
       "      <td>0.456044</td>\n",
       "      <td>0.372233</td>\n",
       "      <td>-0.004698</td>\n",
       "      <td>-0.006095</td>\n",
       "    </tr>\n",
       "    <tr>\n",
       "      <th>bulk_8</th>\n",
       "      <td>0.015688</td>\n",
       "      <td>-0.011699</td>\n",
       "      <td>-0.026856</td>\n",
       "      <td>-0.025656</td>\n",
       "      <td>-0.009816</td>\n",
       "      <td>-0.005783</td>\n",
       "      <td>-0.001570</td>\n",
       "      <td>0.020836</td>\n",
       "      <td>-0.013233</td>\n",
       "      <td>-0.002483</td>\n",
       "      <td>...</td>\n",
       "      <td>-0.029625</td>\n",
       "      <td>0.004077</td>\n",
       "      <td>0.018896</td>\n",
       "      <td>-0.002439</td>\n",
       "      <td>-0.001357</td>\n",
       "      <td>NaN</td>\n",
       "      <td>-0.002372</td>\n",
       "      <td>-0.000651</td>\n",
       "      <td>0.321030</td>\n",
       "      <td>-0.001933</td>\n",
       "    </tr>\n",
       "    <tr>\n",
       "      <th>bulk_9</th>\n",
       "      <td>-0.039728</td>\n",
       "      <td>-0.033232</td>\n",
       "      <td>-0.016263</td>\n",
       "      <td>0.027282</td>\n",
       "      <td>0.014120</td>\n",
       "      <td>-0.019957</td>\n",
       "      <td>-0.005420</td>\n",
       "      <td>0.011087</td>\n",
       "      <td>-0.002766</td>\n",
       "      <td>-0.008569</td>\n",
       "      <td>...</td>\n",
       "      <td>-0.094308</td>\n",
       "      <td>0.117082</td>\n",
       "      <td>0.066685</td>\n",
       "      <td>-0.008417</td>\n",
       "      <td>-0.004684</td>\n",
       "      <td>NaN</td>\n",
       "      <td>-0.008186</td>\n",
       "      <td>-0.002248</td>\n",
       "      <td>0.974967</td>\n",
       "      <td>-0.006670</td>\n",
       "    </tr>\n",
       "    <tr>\n",
       "      <th>bulk_10</th>\n",
       "      <td>0.062189</td>\n",
       "      <td>0.035994</td>\n",
       "      <td>0.061679</td>\n",
       "      <td>0.008016</td>\n",
       "      <td>-0.017227</td>\n",
       "      <td>-0.023074</td>\n",
       "      <td>-0.018243</td>\n",
       "      <td>-0.085685</td>\n",
       "      <td>-0.085410</td>\n",
       "      <td>-0.028843</td>\n",
       "      <td>...</td>\n",
       "      <td>0.049935</td>\n",
       "      <td>-0.009925</td>\n",
       "      <td>-0.104242</td>\n",
       "      <td>-0.028332</td>\n",
       "      <td>-0.015767</td>\n",
       "      <td>NaN</td>\n",
       "      <td>-0.018088</td>\n",
       "      <td>-0.007567</td>\n",
       "      <td>-0.017304</td>\n",
       "      <td>-0.022452</td>\n",
       "    </tr>\n",
       "    <tr>\n",
       "      <th>bulk_11</th>\n",
       "      <td>0.038138</td>\n",
       "      <td>-0.110447</td>\n",
       "      <td>-0.110528</td>\n",
       "      <td>0.070376</td>\n",
       "      <td>0.082134</td>\n",
       "      <td>-0.037032</td>\n",
       "      <td>0.001831</td>\n",
       "      <td>-0.008710</td>\n",
       "      <td>-0.117617</td>\n",
       "      <td>-0.015640</td>\n",
       "      <td>...</td>\n",
       "      <td>-0.049994</td>\n",
       "      <td>0.041888</td>\n",
       "      <td>0.066687</td>\n",
       "      <td>-0.021763</td>\n",
       "      <td>-0.012112</td>\n",
       "      <td>NaN</td>\n",
       "      <td>0.009358</td>\n",
       "      <td>-0.005812</td>\n",
       "      <td>-0.013292</td>\n",
       "      <td>-0.017246</td>\n",
       "    </tr>\n",
       "    <tr>\n",
       "      <th>bulk_12</th>\n",
       "      <td>0.026818</td>\n",
       "      <td>-0.083509</td>\n",
       "      <td>0.265241</td>\n",
       "      <td>0.285136</td>\n",
       "      <td>0.471271</td>\n",
       "      <td>0.327641</td>\n",
       "      <td>-0.099758</td>\n",
       "      <td>0.018911</td>\n",
       "      <td>0.104363</td>\n",
       "      <td>-0.073461</td>\n",
       "      <td>...</td>\n",
       "      <td>0.614363</td>\n",
       "      <td>0.215539</td>\n",
       "      <td>-0.100194</td>\n",
       "      <td>-0.121490</td>\n",
       "      <td>-0.086222</td>\n",
       "      <td>NaN</td>\n",
       "      <td>-0.043222</td>\n",
       "      <td>-0.041377</td>\n",
       "      <td>-0.056274</td>\n",
       "      <td>-0.042667</td>\n",
       "    </tr>\n",
       "    <tr>\n",
       "      <th>bulk_13</th>\n",
       "      <td>-0.015618</td>\n",
       "      <td>0.020514</td>\n",
       "      <td>-0.011058</td>\n",
       "      <td>0.105742</td>\n",
       "      <td>0.129599</td>\n",
       "      <td>-0.010420</td>\n",
       "      <td>-0.005683</td>\n",
       "      <td>-0.013773</td>\n",
       "      <td>0.003441</td>\n",
       "      <td>-0.008985</td>\n",
       "      <td>...</td>\n",
       "      <td>0.018517</td>\n",
       "      <td>0.049100</td>\n",
       "      <td>-0.001638</td>\n",
       "      <td>-0.008826</td>\n",
       "      <td>-0.004912</td>\n",
       "      <td>NaN</td>\n",
       "      <td>-0.008584</td>\n",
       "      <td>-0.002357</td>\n",
       "      <td>-0.005390</td>\n",
       "      <td>-0.006994</td>\n",
       "    </tr>\n",
       "    <tr>\n",
       "      <th>bulk_14</th>\n",
       "      <td>-0.111886</td>\n",
       "      <td>-0.183371</td>\n",
       "      <td>0.113141</td>\n",
       "      <td>0.301236</td>\n",
       "      <td>0.464591</td>\n",
       "      <td>0.208158</td>\n",
       "      <td>-0.142016</td>\n",
       "      <td>0.010504</td>\n",
       "      <td>-0.090347</td>\n",
       "      <td>-0.066651</td>\n",
       "      <td>...</td>\n",
       "      <td>0.264473</td>\n",
       "      <td>0.268924</td>\n",
       "      <td>0.035406</td>\n",
       "      <td>-0.009271</td>\n",
       "      <td>-0.122746</td>\n",
       "      <td>NaN</td>\n",
       "      <td>-0.053050</td>\n",
       "      <td>-0.058904</td>\n",
       "      <td>0.043694</td>\n",
       "      <td>0.018400</td>\n",
       "    </tr>\n",
       "    <tr>\n",
       "      <th>bulk_15</th>\n",
       "      <td>-0.044507</td>\n",
       "      <td>-0.065191</td>\n",
       "      <td>0.266341</td>\n",
       "      <td>0.167861</td>\n",
       "      <td>0.304432</td>\n",
       "      <td>-0.000347</td>\n",
       "      <td>-0.106584</td>\n",
       "      <td>-0.013088</td>\n",
       "      <td>0.102678</td>\n",
       "      <td>-0.067921</td>\n",
       "      <td>...</td>\n",
       "      <td>1.000000</td>\n",
       "      <td>0.038962</td>\n",
       "      <td>-0.100165</td>\n",
       "      <td>-0.119153</td>\n",
       "      <td>-0.092122</td>\n",
       "      <td>NaN</td>\n",
       "      <td>-0.032899</td>\n",
       "      <td>-0.044208</td>\n",
       "      <td>-0.090722</td>\n",
       "      <td>-0.037420</td>\n",
       "    </tr>\n",
       "    <tr>\n",
       "      <th>gas_1</th>\n",
       "      <td>-0.044232</td>\n",
       "      <td>0.036351</td>\n",
       "      <td>0.058043</td>\n",
       "      <td>0.371044</td>\n",
       "      <td>0.376465</td>\n",
       "      <td>0.239322</td>\n",
       "      <td>0.218578</td>\n",
       "      <td>0.057360</td>\n",
       "      <td>0.017007</td>\n",
       "      <td>0.087041</td>\n",
       "      <td>...</td>\n",
       "      <td>0.038962</td>\n",
       "      <td>1.000000</td>\n",
       "      <td>0.103576</td>\n",
       "      <td>0.103642</td>\n",
       "      <td>0.146134</td>\n",
       "      <td>NaN</td>\n",
       "      <td>0.108389</td>\n",
       "      <td>0.079358</td>\n",
       "      <td>0.118585</td>\n",
       "      <td>0.013818</td>\n",
       "    </tr>\n",
       "    <tr>\n",
       "      <th>wire_2</th>\n",
       "      <td>0.045520</td>\n",
       "      <td>-0.099350</td>\n",
       "      <td>-0.206924</td>\n",
       "      <td>0.064595</td>\n",
       "      <td>0.052409</td>\n",
       "      <td>-0.011828</td>\n",
       "      <td>-0.039407</td>\n",
       "      <td>0.096414</td>\n",
       "      <td>-0.266854</td>\n",
       "      <td>-0.014216</td>\n",
       "      <td>...</td>\n",
       "      <td>-0.100165</td>\n",
       "      <td>0.103576</td>\n",
       "      <td>1.000000</td>\n",
       "      <td>0.093965</td>\n",
       "      <td>-0.034060</td>\n",
       "      <td>NaN</td>\n",
       "      <td>-0.059231</td>\n",
       "      <td>-0.016345</td>\n",
       "      <td>0.069233</td>\n",
       "      <td>0.213445</td>\n",
       "    </tr>\n",
       "    <tr>\n",
       "      <th>wire_3</th>\n",
       "      <td>-0.027019</td>\n",
       "      <td>-0.003044</td>\n",
       "      <td>-0.048055</td>\n",
       "      <td>0.054853</td>\n",
       "      <td>0.025085</td>\n",
       "      <td>0.020301</td>\n",
       "      <td>0.223097</td>\n",
       "      <td>0.005315</td>\n",
       "      <td>-0.039212</td>\n",
       "      <td>0.070712</td>\n",
       "      <td>...</td>\n",
       "      <td>-0.119153</td>\n",
       "      <td>0.103642</td>\n",
       "      <td>0.093965</td>\n",
       "      <td>1.000000</td>\n",
       "      <td>0.169714</td>\n",
       "      <td>NaN</td>\n",
       "      <td>0.183285</td>\n",
       "      <td>0.100346</td>\n",
       "      <td>-0.008323</td>\n",
       "      <td>-0.010798</td>\n",
       "    </tr>\n",
       "    <tr>\n",
       "      <th>wire_4</th>\n",
       "      <td>0.049866</td>\n",
       "      <td>0.076478</td>\n",
       "      <td>-0.161315</td>\n",
       "      <td>0.103654</td>\n",
       "      <td>0.038917</td>\n",
       "      <td>0.147230</td>\n",
       "      <td>0.699320</td>\n",
       "      <td>-0.040996</td>\n",
       "      <td>0.034870</td>\n",
       "      <td>0.262679</td>\n",
       "      <td>...</td>\n",
       "      <td>-0.092122</td>\n",
       "      <td>0.146134</td>\n",
       "      <td>-0.034060</td>\n",
       "      <td>0.169714</td>\n",
       "      <td>1.000000</td>\n",
       "      <td>NaN</td>\n",
       "      <td>0.445904</td>\n",
       "      <td>0.602957</td>\n",
       "      <td>-0.004632</td>\n",
       "      <td>-0.006010</td>\n",
       "    </tr>\n",
       "    <tr>\n",
       "      <th>wire_5</th>\n",
       "      <td>NaN</td>\n",
       "      <td>NaN</td>\n",
       "      <td>NaN</td>\n",
       "      <td>NaN</td>\n",
       "      <td>NaN</td>\n",
       "      <td>NaN</td>\n",
       "      <td>NaN</td>\n",
       "      <td>NaN</td>\n",
       "      <td>NaN</td>\n",
       "      <td>NaN</td>\n",
       "      <td>...</td>\n",
       "      <td>NaN</td>\n",
       "      <td>NaN</td>\n",
       "      <td>NaN</td>\n",
       "      <td>NaN</td>\n",
       "      <td>NaN</td>\n",
       "      <td>NaN</td>\n",
       "      <td>NaN</td>\n",
       "      <td>NaN</td>\n",
       "      <td>NaN</td>\n",
       "      <td>NaN</td>\n",
       "    </tr>\n",
       "    <tr>\n",
       "      <th>wire_6</th>\n",
       "      <td>-0.007853</td>\n",
       "      <td>0.021131</td>\n",
       "      <td>-0.084913</td>\n",
       "      <td>0.056350</td>\n",
       "      <td>0.036482</td>\n",
       "      <td>0.149470</td>\n",
       "      <td>0.558836</td>\n",
       "      <td>0.006668</td>\n",
       "      <td>-0.011198</td>\n",
       "      <td>0.204649</td>\n",
       "      <td>...</td>\n",
       "      <td>-0.032899</td>\n",
       "      <td>0.108389</td>\n",
       "      <td>-0.059231</td>\n",
       "      <td>0.183285</td>\n",
       "      <td>0.445904</td>\n",
       "      <td>NaN</td>\n",
       "      <td>1.000000</td>\n",
       "      <td>0.302719</td>\n",
       "      <td>-0.008095</td>\n",
       "      <td>-0.010503</td>\n",
       "    </tr>\n",
       "    <tr>\n",
       "      <th>wire_7</th>\n",
       "      <td>0.037396</td>\n",
       "      <td>0.053011</td>\n",
       "      <td>-0.138620</td>\n",
       "      <td>0.061784</td>\n",
       "      <td>0.015670</td>\n",
       "      <td>0.083977</td>\n",
       "      <td>0.431722</td>\n",
       "      <td>-0.019673</td>\n",
       "      <td>0.034180</td>\n",
       "      <td>0.172103</td>\n",
       "      <td>...</td>\n",
       "      <td>-0.044208</td>\n",
       "      <td>0.079358</td>\n",
       "      <td>-0.016345</td>\n",
       "      <td>0.100346</td>\n",
       "      <td>0.602957</td>\n",
       "      <td>NaN</td>\n",
       "      <td>0.302719</td>\n",
       "      <td>1.000000</td>\n",
       "      <td>-0.002223</td>\n",
       "      <td>-0.002884</td>\n",
       "    </tr>\n",
       "    <tr>\n",
       "      <th>wire_8</th>\n",
       "      <td>-0.035982</td>\n",
       "      <td>-0.029664</td>\n",
       "      <td>-0.010902</td>\n",
       "      <td>0.034529</td>\n",
       "      <td>0.019252</td>\n",
       "      <td>-0.019734</td>\n",
       "      <td>-0.005359</td>\n",
       "      <td>0.004569</td>\n",
       "      <td>0.008087</td>\n",
       "      <td>-0.008473</td>\n",
       "      <td>...</td>\n",
       "      <td>-0.090722</td>\n",
       "      <td>0.118585</td>\n",
       "      <td>0.069233</td>\n",
       "      <td>-0.008323</td>\n",
       "      <td>-0.004632</td>\n",
       "      <td>NaN</td>\n",
       "      <td>-0.008095</td>\n",
       "      <td>-0.002223</td>\n",
       "      <td>1.000000</td>\n",
       "      <td>-0.006595</td>\n",
       "    </tr>\n",
       "    <tr>\n",
       "      <th>wire_9</th>\n",
       "      <td>0.021832</td>\n",
       "      <td>0.002935</td>\n",
       "      <td>-0.027797</td>\n",
       "      <td>-0.023913</td>\n",
       "      <td>-0.008323</td>\n",
       "      <td>0.011054</td>\n",
       "      <td>-0.006953</td>\n",
       "      <td>0.004253</td>\n",
       "      <td>-0.058347</td>\n",
       "      <td>-0.010993</td>\n",
       "      <td>...</td>\n",
       "      <td>-0.037420</td>\n",
       "      <td>0.013818</td>\n",
       "      <td>0.213445</td>\n",
       "      <td>-0.010798</td>\n",
       "      <td>-0.006010</td>\n",
       "      <td>NaN</td>\n",
       "      <td>-0.010503</td>\n",
       "      <td>-0.002884</td>\n",
       "      <td>-0.006595</td>\n",
       "      <td>1.000000</td>\n",
       "    </tr>\n",
       "  </tbody>\n",
       "</table>\n",
       "<p>29 rows × 29 columns</p>\n",
       "</div>"
      ],
      "text/plain": [
       "                   key  temp_first  temp_last  active_power      time  \\\n",
       "key           1.000000   -0.018283  -0.101490     -0.021744 -0.035911   \n",
       "temp_first   -0.018283    1.000000   0.295912     -0.158516 -0.396098   \n",
       "temp_last    -0.101490    0.295912   1.000000      0.173767  0.284915   \n",
       "active_power -0.021744   -0.158516   0.173767      1.000000  0.672503   \n",
       "time         -0.035911   -0.396098   0.284915      0.672503  1.000000   \n",
       "bulk_1       -0.073973    0.080698  -0.074575      0.102387  0.108116   \n",
       "bulk_2       -0.005953    0.142058  -0.083297      0.091488  0.023896   \n",
       "bulk_3       -0.005445   -0.113725  -0.036570      0.099998  0.082738   \n",
       "bulk_4       -0.027461    0.162868   0.184705      0.002684 -0.034981   \n",
       "bulk_5        0.035940    0.079260  -0.028685      0.073457  0.000515   \n",
       "bulk_6        0.008076   -0.125375  -0.179661      0.135078  0.154518   \n",
       "bulk_7        0.052988    0.088151  -0.108357      0.146441  0.067412   \n",
       "bulk_8        0.015688   -0.011699  -0.026856     -0.025656 -0.009816   \n",
       "bulk_9       -0.039728   -0.033232  -0.016263      0.027282  0.014120   \n",
       "bulk_10       0.062189    0.035994   0.061679      0.008016 -0.017227   \n",
       "bulk_11       0.038138   -0.110447  -0.110528      0.070376  0.082134   \n",
       "bulk_12       0.026818   -0.083509   0.265241      0.285136  0.471271   \n",
       "bulk_13      -0.015618    0.020514  -0.011058      0.105742  0.129599   \n",
       "bulk_14      -0.111886   -0.183371   0.113141      0.301236  0.464591   \n",
       "bulk_15      -0.044507   -0.065191   0.266341      0.167861  0.304432   \n",
       "gas_1        -0.044232    0.036351   0.058043      0.371044  0.376465   \n",
       "wire_2        0.045520   -0.099350  -0.206924      0.064595  0.052409   \n",
       "wire_3       -0.027019   -0.003044  -0.048055      0.054853  0.025085   \n",
       "wire_4        0.049866    0.076478  -0.161315      0.103654  0.038917   \n",
       "wire_5             NaN         NaN        NaN           NaN       NaN   \n",
       "wire_6       -0.007853    0.021131  -0.084913      0.056350  0.036482   \n",
       "wire_7        0.037396    0.053011  -0.138620      0.061784  0.015670   \n",
       "wire_8       -0.035982   -0.029664  -0.010902      0.034529  0.019252   \n",
       "wire_9        0.021832    0.002935  -0.027797     -0.023913 -0.008323   \n",
       "\n",
       "                bulk_1    bulk_2    bulk_3    bulk_4    bulk_5  ...   bulk_15  \\\n",
       "key          -0.073973 -0.005953 -0.005445 -0.027461  0.035940  ... -0.044507   \n",
       "temp_first    0.080698  0.142058 -0.113725  0.162868  0.079260  ... -0.065191   \n",
       "temp_last    -0.074575 -0.083297 -0.036570  0.184705 -0.028685  ...  0.266341   \n",
       "active_power  0.102387  0.091488  0.099998  0.002684  0.073457  ...  0.167861   \n",
       "time          0.108116  0.023896  0.082738 -0.034981  0.000515  ...  0.304432   \n",
       "bulk_1        1.000000  0.226154 -0.010730  0.042020  0.060731  ... -0.000347   \n",
       "bulk_2        0.226154  1.000000 -0.047432  0.041320  0.360217  ... -0.106584   \n",
       "bulk_3       -0.010730 -0.047432  1.000000 -0.294046 -0.007336  ... -0.013088   \n",
       "bulk_4        0.042020  0.041320 -0.294046  1.000000  0.028898  ...  0.102678   \n",
       "bulk_5        0.060731  0.360217 -0.007336  0.028898  1.000000  ... -0.067921   \n",
       "bulk_6       -0.005388 -0.030275  0.066151 -0.250786 -0.022244  ... -0.111848   \n",
       "bulk_7        0.238756  0.679331 -0.033919  0.046435  0.288255  ... -0.090863   \n",
       "bulk_8       -0.005783 -0.001570  0.020836 -0.013233 -0.002483  ... -0.029625   \n",
       "bulk_9       -0.019957 -0.005420  0.011087 -0.002766 -0.008569  ... -0.094308   \n",
       "bulk_10      -0.023074 -0.018243 -0.085685 -0.085410 -0.028843  ...  0.049935   \n",
       "bulk_11      -0.037032  0.001831 -0.008710 -0.117617 -0.015640  ... -0.049994   \n",
       "bulk_12       0.327641 -0.099758  0.018911  0.104363 -0.073461  ...  0.614363   \n",
       "bulk_13      -0.010420 -0.005683 -0.013773  0.003441 -0.008985  ...  0.018517   \n",
       "bulk_14       0.208158 -0.142016  0.010504 -0.090347 -0.066651  ...  0.264473   \n",
       "bulk_15      -0.000347 -0.106584 -0.013088  0.102678 -0.067921  ...  1.000000   \n",
       "gas_1         0.239322  0.218578  0.057360  0.017007  0.087041  ...  0.038962   \n",
       "wire_2       -0.011828 -0.039407  0.096414 -0.266854 -0.014216  ... -0.100165   \n",
       "wire_3        0.020301  0.223097  0.005315 -0.039212  0.070712  ... -0.119153   \n",
       "wire_4        0.147230  0.699320 -0.040996  0.034870  0.262679  ... -0.092122   \n",
       "wire_5             NaN       NaN       NaN       NaN       NaN  ...       NaN   \n",
       "wire_6        0.149470  0.558836  0.006668 -0.011198  0.204649  ... -0.032899   \n",
       "wire_7        0.083977  0.431722 -0.019673  0.034180  0.172103  ... -0.044208   \n",
       "wire_8       -0.019734 -0.005359  0.004569  0.008087 -0.008473  ... -0.090722   \n",
       "wire_9        0.011054 -0.006953  0.004253 -0.058347 -0.010993  ... -0.037420   \n",
       "\n",
       "                 gas_1    wire_2    wire_3    wire_4  wire_5    wire_6  \\\n",
       "key          -0.044232  0.045520 -0.027019  0.049866     NaN -0.007853   \n",
       "temp_first    0.036351 -0.099350 -0.003044  0.076478     NaN  0.021131   \n",
       "temp_last     0.058043 -0.206924 -0.048055 -0.161315     NaN -0.084913   \n",
       "active_power  0.371044  0.064595  0.054853  0.103654     NaN  0.056350   \n",
       "time          0.376465  0.052409  0.025085  0.038917     NaN  0.036482   \n",
       "bulk_1        0.239322 -0.011828  0.020301  0.147230     NaN  0.149470   \n",
       "bulk_2        0.218578 -0.039407  0.223097  0.699320     NaN  0.558836   \n",
       "bulk_3        0.057360  0.096414  0.005315 -0.040996     NaN  0.006668   \n",
       "bulk_4        0.017007 -0.266854 -0.039212  0.034870     NaN -0.011198   \n",
       "bulk_5        0.087041 -0.014216  0.070712  0.262679     NaN  0.204649   \n",
       "bulk_6        0.140821  0.202989 -0.046971 -0.026167     NaN -0.020594   \n",
       "bulk_7        0.199380 -0.000845  0.156526  0.740554     NaN  0.456044   \n",
       "bulk_8        0.004077  0.018896 -0.002439 -0.001357     NaN -0.002372   \n",
       "bulk_9        0.117082  0.066685 -0.008417 -0.004684     NaN -0.008186   \n",
       "bulk_10      -0.009925 -0.104242 -0.028332 -0.015767     NaN -0.018088   \n",
       "bulk_11       0.041888  0.066687 -0.021763 -0.012112     NaN  0.009358   \n",
       "bulk_12       0.215539 -0.100194 -0.121490 -0.086222     NaN -0.043222   \n",
       "bulk_13       0.049100 -0.001638 -0.008826 -0.004912     NaN -0.008584   \n",
       "bulk_14       0.268924  0.035406 -0.009271 -0.122746     NaN -0.053050   \n",
       "bulk_15       0.038962 -0.100165 -0.119153 -0.092122     NaN -0.032899   \n",
       "gas_1         1.000000  0.103576  0.103642  0.146134     NaN  0.108389   \n",
       "wire_2        0.103576  1.000000  0.093965 -0.034060     NaN -0.059231   \n",
       "wire_3        0.103642  0.093965  1.000000  0.169714     NaN  0.183285   \n",
       "wire_4        0.146134 -0.034060  0.169714  1.000000     NaN  0.445904   \n",
       "wire_5             NaN       NaN       NaN       NaN     NaN       NaN   \n",
       "wire_6        0.108389 -0.059231  0.183285  0.445904     NaN  1.000000   \n",
       "wire_7        0.079358 -0.016345  0.100346  0.602957     NaN  0.302719   \n",
       "wire_8        0.118585  0.069233 -0.008323 -0.004632     NaN -0.008095   \n",
       "wire_9        0.013818  0.213445 -0.010798 -0.006010     NaN -0.010503   \n",
       "\n",
       "                wire_7    wire_8    wire_9  \n",
       "key           0.037396 -0.035982  0.021832  \n",
       "temp_first    0.053011 -0.029664  0.002935  \n",
       "temp_last    -0.138620 -0.010902 -0.027797  \n",
       "active_power  0.061784  0.034529 -0.023913  \n",
       "time          0.015670  0.019252 -0.008323  \n",
       "bulk_1        0.083977 -0.019734  0.011054  \n",
       "bulk_2        0.431722 -0.005359 -0.006953  \n",
       "bulk_3       -0.019673  0.004569  0.004253  \n",
       "bulk_4        0.034180  0.008087 -0.058347  \n",
       "bulk_5        0.172103 -0.008473 -0.010993  \n",
       "bulk_6       -0.012557 -0.028716 -0.013629  \n",
       "bulk_7        0.372233 -0.004698 -0.006095  \n",
       "bulk_8       -0.000651  0.321030 -0.001933  \n",
       "bulk_9       -0.002248  0.974967 -0.006670  \n",
       "bulk_10      -0.007567 -0.017304 -0.022452  \n",
       "bulk_11      -0.005812 -0.013292 -0.017246  \n",
       "bulk_12      -0.041377 -0.056274 -0.042667  \n",
       "bulk_13      -0.002357 -0.005390 -0.006994  \n",
       "bulk_14      -0.058904  0.043694  0.018400  \n",
       "bulk_15      -0.044208 -0.090722 -0.037420  \n",
       "gas_1         0.079358  0.118585  0.013818  \n",
       "wire_2       -0.016345  0.069233  0.213445  \n",
       "wire_3        0.100346 -0.008323 -0.010798  \n",
       "wire_4        0.602957 -0.004632 -0.006010  \n",
       "wire_5             NaN       NaN       NaN  \n",
       "wire_6        0.302719 -0.008095 -0.010503  \n",
       "wire_7        1.000000 -0.002223 -0.002884  \n",
       "wire_8       -0.002223  1.000000 -0.006595  \n",
       "wire_9       -0.002884 -0.006595  1.000000  \n",
       "\n",
       "[29 rows x 29 columns]"
      ]
     },
     "execution_count": 101,
     "metadata": {},
     "output_type": "execute_result"
    }
   ],
   "source": [
    "df.corr()"
   ]
  },
  {
   "cell_type": "code",
   "execution_count": 102,
   "metadata": {},
   "outputs": [
    {
     "data": {
      "text/plain": [
       "<AxesSubplot:>"
      ]
     },
     "execution_count": 102,
     "metadata": {},
     "output_type": "execute_result"
    },
    {
     "data": {
      "image/png": "[encoded data removed]",
      "text/plain": [
       "<Figure size 1080x720 with 2 Axes>"
      ]
     },
     "metadata": {
      "needs_background": "light"
     },
     "output_type": "display_data"
    }
   ],
   "source": [
    "f, ax = plt.subplots(figsize=(15, 10))\n",
    "sns.heatmap(df.corr(), square=True, linewidths=.5)"
   ]
  },
  {
   "cell_type": "markdown",
   "metadata": {},
   "source": [
    "По матрице корреляции можно сделать слующие выводы:\n",
    "\n",
    "Присутствует очень сильная корреляция между столбами wire_8 и bulk_9,\n",
    "\n",
    "Столбец wire_5 по - видимому состоит из одних нулей, следовательно корреляция не просчитывается (его мы удалим).\n",
    "\n",
    "\n",
    "Так как мы будем использовать линейную регрессию нужно избавиться от высококоррелирующих признаков,  может сильно повлиять на качество модели."
   ]
  },
  {
   "cell_type": "code",
   "execution_count": 103,
   "metadata": {},
   "outputs": [],
   "source": [
    "df = df.drop(['wire_5', 'bulk_9'], axis = 1)"
   ]
  },
  {
   "cell_type": "markdown",
   "metadata": {},
   "source": [
    "Для дальнейшей работы столбец key нам уже не потребуется, его мы тоже удаляем"
   ]
  },
  {
   "cell_type": "code",
   "execution_count": 104,
   "metadata": {},
   "outputs": [],
   "source": [
    "df = df.drop('key', axis = 1)"
   ]
  },
  {
   "cell_type": "code",
   "execution_count": 105,
   "metadata": {},
   "outputs": [
    {
     "name": "stdout",
     "output_type": "stream",
     "text": [
      "<class 'pandas.core.frame.DataFrame'>\n",
      "Int64Index: 2292 entries, 0 to 2291\n",
      "Data columns (total 26 columns):\n",
      " #   Column        Non-Null Count  Dtype  \n",
      "---  ------        --------------  -----  \n",
      " 0   temp_first    2292 non-null   float64\n",
      " 1   temp_last     2292 non-null   float64\n",
      " 2   active_power  2292 non-null   float64\n",
      " 3   time          2292 non-null   int64  \n",
      " 4   bulk_1        2292 non-null   float64\n",
      " 5   bulk_2        2292 non-null   float64\n",
      " 6   bulk_3        2292 non-null   float64\n",
      " 7   bulk_4        2292 non-null   float64\n",
      " 8   bulk_5        2292 non-null   float64\n",
      " 9   bulk_6        2292 non-null   float64\n",
      " 10  bulk_7        2292 non-null   float64\n",
      " 11  bulk_8        2292 non-null   float64\n",
      " 12  bulk_10       2292 non-null   float64\n",
      " 13  bulk_11       2292 non-null   float64\n",
      " 14  bulk_12       2292 non-null   float64\n",
      " 15  bulk_13       2292 non-null   float64\n",
      " 16  bulk_14       2292 non-null   float64\n",
      " 17  bulk_15       2292 non-null   float64\n",
      " 18  gas_1         2292 non-null   float64\n",
      " 19  wire_2        2292 non-null   float64\n",
      " 20  wire_3        2292 non-null   float64\n",
      " 21  wire_4        2292 non-null   float64\n",
      " 22  wire_6        2292 non-null   float64\n",
      " 23  wire_7        2292 non-null   float64\n",
      " 24  wire_8        2292 non-null   float64\n",
      " 25  wire_9        2292 non-null   float64\n",
      "dtypes: float64(25), int64(1)\n",
      "memory usage: 483.5 KB\n"
     ]
    }
   ],
   "source": [
    "df.info()"
   ]
  },
  {
   "cell_type": "code",
   "execution_count": 106,
   "metadata": {},
   "outputs": [
    {
     "data": {
      "text/html": [
       "<div>\n",
       "<style scoped>\n",
       "    .dataframe tbody tr th:only-of-type {\n",
       "        vertical-align: middle;\n",
       "    }\n",
       "\n",
       "    .dataframe tbody tr th {\n",
       "        vertical-align: top;\n",
       "    }\n",
       "\n",
       "    .dataframe thead th {\n",
       "        text-align: right;\n",
       "    }\n",
       "</style>\n",
       "<table border=\"1\" class=\"dataframe\">\n",
       "  <thead>\n",
       "    <tr style=\"text-align: right;\">\n",
       "      <th></th>\n",
       "      <th>temp_first</th>\n",
       "      <th>temp_last</th>\n",
       "      <th>active_power</th>\n",
       "      <th>time</th>\n",
       "      <th>bulk_1</th>\n",
       "      <th>bulk_2</th>\n",
       "      <th>bulk_3</th>\n",
       "      <th>bulk_4</th>\n",
       "      <th>bulk_5</th>\n",
       "      <th>bulk_6</th>\n",
       "      <th>...</th>\n",
       "      <th>bulk_14</th>\n",
       "      <th>bulk_15</th>\n",
       "      <th>gas_1</th>\n",
       "      <th>wire_2</th>\n",
       "      <th>wire_3</th>\n",
       "      <th>wire_4</th>\n",
       "      <th>wire_6</th>\n",
       "      <th>wire_7</th>\n",
       "      <th>wire_8</th>\n",
       "      <th>wire_9</th>\n",
       "    </tr>\n",
       "  </thead>\n",
       "  <tbody>\n",
       "    <tr>\n",
       "      <th>2272</th>\n",
       "      <td>1564.0</td>\n",
       "      <td>1594.0</td>\n",
       "      <td>4.116267</td>\n",
       "      <td>12</td>\n",
       "      <td>0.0</td>\n",
       "      <td>0.0</td>\n",
       "      <td>185.0</td>\n",
       "      <td>99.0</td>\n",
       "      <td>0.0</td>\n",
       "      <td>0.0</td>\n",
       "      <td>...</td>\n",
       "      <td>178.0</td>\n",
       "      <td>103.0</td>\n",
       "      <td>17.371982</td>\n",
       "      <td>0.000000</td>\n",
       "      <td>0.0</td>\n",
       "      <td>0.0</td>\n",
       "      <td>0.0</td>\n",
       "      <td>0.0</td>\n",
       "      <td>0.0</td>\n",
       "      <td>0.0</td>\n",
       "    </tr>\n",
       "    <tr>\n",
       "      <th>2273</th>\n",
       "      <td>1576.0</td>\n",
       "      <td>1601.0</td>\n",
       "      <td>3.038059</td>\n",
       "      <td>11</td>\n",
       "      <td>0.0</td>\n",
       "      <td>0.0</td>\n",
       "      <td>130.0</td>\n",
       "      <td>0.0</td>\n",
       "      <td>0.0</td>\n",
       "      <td>0.0</td>\n",
       "      <td>...</td>\n",
       "      <td>181.0</td>\n",
       "      <td>105.0</td>\n",
       "      <td>9.248102</td>\n",
       "      <td>0.000000</td>\n",
       "      <td>0.0</td>\n",
       "      <td>0.0</td>\n",
       "      <td>0.0</td>\n",
       "      <td>0.0</td>\n",
       "      <td>0.0</td>\n",
       "      <td>0.0</td>\n",
       "    </tr>\n",
       "    <tr>\n",
       "      <th>2274</th>\n",
       "      <td>1556.0</td>\n",
       "      <td>1595.0</td>\n",
       "      <td>3.600131</td>\n",
       "      <td>14</td>\n",
       "      <td>0.0</td>\n",
       "      <td>0.0</td>\n",
       "      <td>146.0</td>\n",
       "      <td>30.0</td>\n",
       "      <td>0.0</td>\n",
       "      <td>0.0</td>\n",
       "      <td>...</td>\n",
       "      <td>149.0</td>\n",
       "      <td>103.0</td>\n",
       "      <td>17.437711</td>\n",
       "      <td>0.000000</td>\n",
       "      <td>0.0</td>\n",
       "      <td>0.0</td>\n",
       "      <td>0.0</td>\n",
       "      <td>0.0</td>\n",
       "      <td>0.0</td>\n",
       "      <td>0.0</td>\n",
       "    </tr>\n",
       "    <tr>\n",
       "      <th>2275</th>\n",
       "      <td>1559.0</td>\n",
       "      <td>1598.0</td>\n",
       "      <td>4.421327</td>\n",
       "      <td>14</td>\n",
       "      <td>0.0</td>\n",
       "      <td>0.0</td>\n",
       "      <td>121.0</td>\n",
       "      <td>94.0</td>\n",
       "      <td>0.0</td>\n",
       "      <td>0.0</td>\n",
       "      <td>...</td>\n",
       "      <td>149.0</td>\n",
       "      <td>104.0</td>\n",
       "      <td>14.220873</td>\n",
       "      <td>0.000000</td>\n",
       "      <td>0.0</td>\n",
       "      <td>0.0</td>\n",
       "      <td>0.0</td>\n",
       "      <td>0.0</td>\n",
       "      <td>0.0</td>\n",
       "      <td>0.0</td>\n",
       "    </tr>\n",
       "    <tr>\n",
       "      <th>2276</th>\n",
       "      <td>1569.0</td>\n",
       "      <td>1598.0</td>\n",
       "      <td>2.667037</td>\n",
       "      <td>16</td>\n",
       "      <td>0.0</td>\n",
       "      <td>0.0</td>\n",
       "      <td>0.0</td>\n",
       "      <td>79.0</td>\n",
       "      <td>0.0</td>\n",
       "      <td>0.0</td>\n",
       "      <td>...</td>\n",
       "      <td>246.0</td>\n",
       "      <td>103.0</td>\n",
       "      <td>14.214662</td>\n",
       "      <td>0.000000</td>\n",
       "      <td>0.0</td>\n",
       "      <td>0.0</td>\n",
       "      <td>0.0</td>\n",
       "      <td>0.0</td>\n",
       "      <td>0.0</td>\n",
       "      <td>0.0</td>\n",
       "    </tr>\n",
       "    <tr>\n",
       "      <th>2277</th>\n",
       "      <td>1635.0</td>\n",
       "      <td>1592.0</td>\n",
       "      <td>1.104213</td>\n",
       "      <td>4</td>\n",
       "      <td>0.0</td>\n",
       "      <td>0.0</td>\n",
       "      <td>0.0</td>\n",
       "      <td>47.0</td>\n",
       "      <td>0.0</td>\n",
       "      <td>0.0</td>\n",
       "      <td>...</td>\n",
       "      <td>119.0</td>\n",
       "      <td>103.0</td>\n",
       "      <td>3.361715</td>\n",
       "      <td>11.038560</td>\n",
       "      <td>0.0</td>\n",
       "      <td>0.0</td>\n",
       "      <td>0.0</td>\n",
       "      <td>0.0</td>\n",
       "      <td>0.0</td>\n",
       "      <td>0.0</td>\n",
       "    </tr>\n",
       "    <tr>\n",
       "      <th>2278</th>\n",
       "      <td>1582.0</td>\n",
       "      <td>1616.0</td>\n",
       "      <td>3.316613</td>\n",
       "      <td>15</td>\n",
       "      <td>0.0</td>\n",
       "      <td>0.0</td>\n",
       "      <td>0.0</td>\n",
       "      <td>98.0</td>\n",
       "      <td>0.0</td>\n",
       "      <td>0.0</td>\n",
       "      <td>...</td>\n",
       "      <td>209.0</td>\n",
       "      <td>104.0</td>\n",
       "      <td>13.050460</td>\n",
       "      <td>42.103359</td>\n",
       "      <td>0.0</td>\n",
       "      <td>0.0</td>\n",
       "      <td>0.0</td>\n",
       "      <td>0.0</td>\n",
       "      <td>0.0</td>\n",
       "      <td>0.0</td>\n",
       "    </tr>\n",
       "    <tr>\n",
       "      <th>2279</th>\n",
       "      <td>1589.0</td>\n",
       "      <td>1592.0</td>\n",
       "      <td>0.819979</td>\n",
       "      <td>5</td>\n",
       "      <td>0.0</td>\n",
       "      <td>0.0</td>\n",
       "      <td>0.0</td>\n",
       "      <td>49.0</td>\n",
       "      <td>0.0</td>\n",
       "      <td>0.0</td>\n",
       "      <td>...</td>\n",
       "      <td>98.0</td>\n",
       "      <td>104.0</td>\n",
       "      <td>5.976477</td>\n",
       "      <td>0.000000</td>\n",
       "      <td>0.0</td>\n",
       "      <td>0.0</td>\n",
       "      <td>0.0</td>\n",
       "      <td>0.0</td>\n",
       "      <td>0.0</td>\n",
       "      <td>0.0</td>\n",
       "    </tr>\n",
       "    <tr>\n",
       "      <th>2280</th>\n",
       "      <td>1568.0</td>\n",
       "      <td>1583.0</td>\n",
       "      <td>5.262919</td>\n",
       "      <td>17</td>\n",
       "      <td>0.0</td>\n",
       "      <td>0.0</td>\n",
       "      <td>0.0</td>\n",
       "      <td>0.0</td>\n",
       "      <td>0.0</td>\n",
       "      <td>121.0</td>\n",
       "      <td>...</td>\n",
       "      <td>221.0</td>\n",
       "      <td>105.0</td>\n",
       "      <td>20.135799</td>\n",
       "      <td>85.413121</td>\n",
       "      <td>0.0</td>\n",
       "      <td>0.0</td>\n",
       "      <td>0.0</td>\n",
       "      <td>0.0</td>\n",
       "      <td>0.0</td>\n",
       "      <td>0.0</td>\n",
       "    </tr>\n",
       "    <tr>\n",
       "      <th>2281</th>\n",
       "      <td>1602.0</td>\n",
       "      <td>1577.0</td>\n",
       "      <td>3.687733</td>\n",
       "      <td>8</td>\n",
       "      <td>0.0</td>\n",
       "      <td>0.0</td>\n",
       "      <td>23.0</td>\n",
       "      <td>0.0</td>\n",
       "      <td>0.0</td>\n",
       "      <td>0.0</td>\n",
       "      <td>...</td>\n",
       "      <td>140.0</td>\n",
       "      <td>105.0</td>\n",
       "      <td>28.306153</td>\n",
       "      <td>37.066639</td>\n",
       "      <td>0.0</td>\n",
       "      <td>0.0</td>\n",
       "      <td>0.0</td>\n",
       "      <td>0.0</td>\n",
       "      <td>0.0</td>\n",
       "      <td>0.0</td>\n",
       "    </tr>\n",
       "    <tr>\n",
       "      <th>2282</th>\n",
       "      <td>1613.0</td>\n",
       "      <td>1579.0</td>\n",
       "      <td>0.930546</td>\n",
       "      <td>4</td>\n",
       "      <td>0.0</td>\n",
       "      <td>0.0</td>\n",
       "      <td>0.0</td>\n",
       "      <td>0.0</td>\n",
       "      <td>0.0</td>\n",
       "      <td>100.0</td>\n",
       "      <td>...</td>\n",
       "      <td>149.0</td>\n",
       "      <td>104.0</td>\n",
       "      <td>10.772628</td>\n",
       "      <td>0.000000</td>\n",
       "      <td>0.0</td>\n",
       "      <td>0.0</td>\n",
       "      <td>0.0</td>\n",
       "      <td>0.0</td>\n",
       "      <td>0.0</td>\n",
       "      <td>0.0</td>\n",
       "    </tr>\n",
       "    <tr>\n",
       "      <th>2283</th>\n",
       "      <td>1602.0</td>\n",
       "      <td>1619.0</td>\n",
       "      <td>2.668707</td>\n",
       "      <td>14</td>\n",
       "      <td>0.0</td>\n",
       "      <td>0.0</td>\n",
       "      <td>50.0</td>\n",
       "      <td>116.0</td>\n",
       "      <td>0.0</td>\n",
       "      <td>0.0</td>\n",
       "      <td>...</td>\n",
       "      <td>197.0</td>\n",
       "      <td>209.0</td>\n",
       "      <td>20.019526</td>\n",
       "      <td>0.000000</td>\n",
       "      <td>0.0</td>\n",
       "      <td>0.0</td>\n",
       "      <td>0.0</td>\n",
       "      <td>0.0</td>\n",
       "      <td>0.0</td>\n",
       "      <td>0.0</td>\n",
       "    </tr>\n",
       "    <tr>\n",
       "      <th>2284</th>\n",
       "      <td>1618.0</td>\n",
       "      <td>1595.0</td>\n",
       "      <td>2.325828</td>\n",
       "      <td>10</td>\n",
       "      <td>0.0</td>\n",
       "      <td>0.0</td>\n",
       "      <td>74.0</td>\n",
       "      <td>198.0</td>\n",
       "      <td>0.0</td>\n",
       "      <td>0.0</td>\n",
       "      <td>...</td>\n",
       "      <td>198.0</td>\n",
       "      <td>209.0</td>\n",
       "      <td>11.375063</td>\n",
       "      <td>0.000000</td>\n",
       "      <td>0.0</td>\n",
       "      <td>0.0</td>\n",
       "      <td>0.0</td>\n",
       "      <td>0.0</td>\n",
       "      <td>0.0</td>\n",
       "      <td>0.0</td>\n",
       "    </tr>\n",
       "    <tr>\n",
       "      <th>2285</th>\n",
       "      <td>1599.0</td>\n",
       "      <td>1594.0</td>\n",
       "      <td>2.199920</td>\n",
       "      <td>5</td>\n",
       "      <td>0.0</td>\n",
       "      <td>0.0</td>\n",
       "      <td>115.0</td>\n",
       "      <td>105.0</td>\n",
       "      <td>0.0</td>\n",
       "      <td>0.0</td>\n",
       "      <td>...</td>\n",
       "      <td>118.0</td>\n",
       "      <td>205.0</td>\n",
       "      <td>9.421691</td>\n",
       "      <td>0.000000</td>\n",
       "      <td>0.0</td>\n",
       "      <td>0.0</td>\n",
       "      <td>0.0</td>\n",
       "      <td>0.0</td>\n",
       "      <td>0.0</td>\n",
       "      <td>0.0</td>\n",
       "    </tr>\n",
       "    <tr>\n",
       "      <th>2286</th>\n",
       "      <td>1585.0</td>\n",
       "      <td>1591.0</td>\n",
       "      <td>1.504776</td>\n",
       "      <td>8</td>\n",
       "      <td>0.0</td>\n",
       "      <td>0.0</td>\n",
       "      <td>0.0</td>\n",
       "      <td>162.0</td>\n",
       "      <td>0.0</td>\n",
       "      <td>0.0</td>\n",
       "      <td>...</td>\n",
       "      <td>119.0</td>\n",
       "      <td>155.0</td>\n",
       "      <td>3.983053</td>\n",
       "      <td>0.000000</td>\n",
       "      <td>0.0</td>\n",
       "      <td>0.0</td>\n",
       "      <td>0.0</td>\n",
       "      <td>0.0</td>\n",
       "      <td>0.0</td>\n",
       "      <td>0.0</td>\n",
       "    </tr>\n",
       "    <tr>\n",
       "      <th>2287</th>\n",
       "      <td>1570.0</td>\n",
       "      <td>1591.0</td>\n",
       "      <td>3.168133</td>\n",
       "      <td>10</td>\n",
       "      <td>0.0</td>\n",
       "      <td>0.0</td>\n",
       "      <td>21.0</td>\n",
       "      <td>0.0</td>\n",
       "      <td>0.0</td>\n",
       "      <td>0.0</td>\n",
       "      <td>...</td>\n",
       "      <td>129.0</td>\n",
       "      <td>223.0</td>\n",
       "      <td>7.125735</td>\n",
       "      <td>0.000000</td>\n",
       "      <td>0.0</td>\n",
       "      <td>0.0</td>\n",
       "      <td>0.0</td>\n",
       "      <td>0.0</td>\n",
       "      <td>0.0</td>\n",
       "      <td>0.0</td>\n",
       "    </tr>\n",
       "    <tr>\n",
       "      <th>2288</th>\n",
       "      <td>1554.0</td>\n",
       "      <td>1591.0</td>\n",
       "      <td>4.174918</td>\n",
       "      <td>12</td>\n",
       "      <td>0.0</td>\n",
       "      <td>0.0</td>\n",
       "      <td>0.0</td>\n",
       "      <td>63.0</td>\n",
       "      <td>0.0</td>\n",
       "      <td>0.0</td>\n",
       "      <td>...</td>\n",
       "      <td>129.0</td>\n",
       "      <td>226.0</td>\n",
       "      <td>9.412616</td>\n",
       "      <td>0.000000</td>\n",
       "      <td>0.0</td>\n",
       "      <td>0.0</td>\n",
       "      <td>0.0</td>\n",
       "      <td>0.0</td>\n",
       "      <td>0.0</td>\n",
       "      <td>0.0</td>\n",
       "    </tr>\n",
       "    <tr>\n",
       "      <th>2289</th>\n",
       "      <td>1571.0</td>\n",
       "      <td>1589.0</td>\n",
       "      <td>3.605239</td>\n",
       "      <td>8</td>\n",
       "      <td>0.0</td>\n",
       "      <td>0.0</td>\n",
       "      <td>0.0</td>\n",
       "      <td>85.0</td>\n",
       "      <td>0.0</td>\n",
       "      <td>0.0</td>\n",
       "      <td>...</td>\n",
       "      <td>124.0</td>\n",
       "      <td>226.0</td>\n",
       "      <td>6.271699</td>\n",
       "      <td>9.048000</td>\n",
       "      <td>0.0</td>\n",
       "      <td>0.0</td>\n",
       "      <td>0.0</td>\n",
       "      <td>0.0</td>\n",
       "      <td>0.0</td>\n",
       "      <td>0.0</td>\n",
       "    </tr>\n",
       "    <tr>\n",
       "      <th>2290</th>\n",
       "      <td>1591.0</td>\n",
       "      <td>1594.0</td>\n",
       "      <td>3.202310</td>\n",
       "      <td>11</td>\n",
       "      <td>0.0</td>\n",
       "      <td>0.0</td>\n",
       "      <td>90.0</td>\n",
       "      <td>0.0</td>\n",
       "      <td>0.0</td>\n",
       "      <td>0.0</td>\n",
       "      <td>...</td>\n",
       "      <td>129.0</td>\n",
       "      <td>207.0</td>\n",
       "      <td>14.953657</td>\n",
       "      <td>0.000000</td>\n",
       "      <td>0.0</td>\n",
       "      <td>0.0</td>\n",
       "      <td>0.0</td>\n",
       "      <td>0.0</td>\n",
       "      <td>0.0</td>\n",
       "      <td>0.0</td>\n",
       "    </tr>\n",
       "    <tr>\n",
       "      <th>2291</th>\n",
       "      <td>1569.0</td>\n",
       "      <td>1603.0</td>\n",
       "      <td>1.737084</td>\n",
       "      <td>13</td>\n",
       "      <td>0.0</td>\n",
       "      <td>0.0</td>\n",
       "      <td>47.0</td>\n",
       "      <td>0.0</td>\n",
       "      <td>0.0</td>\n",
       "      <td>0.0</td>\n",
       "      <td>...</td>\n",
       "      <td>126.0</td>\n",
       "      <td>227.0</td>\n",
       "      <td>11.336151</td>\n",
       "      <td>50.005280</td>\n",
       "      <td>0.0</td>\n",
       "      <td>0.0</td>\n",
       "      <td>0.0</td>\n",
       "      <td>0.0</td>\n",
       "      <td>0.0</td>\n",
       "      <td>0.0</td>\n",
       "    </tr>\n",
       "  </tbody>\n",
       "</table>\n",
       "<p>20 rows × 26 columns</p>\n",
       "</div>"
      ],
      "text/plain": [
       "      temp_first  temp_last  active_power  time  bulk_1  bulk_2  bulk_3  \\\n",
       "2272      1564.0     1594.0      4.116267    12     0.0     0.0   185.0   \n",
       "2273      1576.0     1601.0      3.038059    11     0.0     0.0   130.0   \n",
       "2274      1556.0     1595.0      3.600131    14     0.0     0.0   146.0   \n",
       "2275      1559.0     1598.0      4.421327    14     0.0     0.0   121.0   \n",
       "2276      1569.0     1598.0      2.667037    16     0.0     0.0     0.0   \n",
       "2277      1635.0     1592.0      1.104213     4     0.0     0.0     0.0   \n",
       "2278      1582.0     1616.0      3.316613    15     0.0     0.0     0.0   \n",
       "2279      1589.0     1592.0      0.819979     5     0.0     0.0     0.0   \n",
       "2280      1568.0     1583.0      5.262919    17     0.0     0.0     0.0   \n",
       "2281      1602.0     1577.0      3.687733     8     0.0     0.0    23.0   \n",
       "2282      1613.0     1579.0      0.930546     4     0.0     0.0     0.0   \n",
       "2283      1602.0     1619.0      2.668707    14     0.0     0.0    50.0   \n",
       "2284      1618.0     1595.0      2.325828    10     0.0     0.0    74.0   \n",
       "2285      1599.0     1594.0      2.199920     5     0.0     0.0   115.0   \n",
       "2286      1585.0     1591.0      1.504776     8     0.0     0.0     0.0   \n",
       "2287      1570.0     1591.0      3.168133    10     0.0     0.0    21.0   \n",
       "2288      1554.0     1591.0      4.174918    12     0.0     0.0     0.0   \n",
       "2289      1571.0     1589.0      3.605239     8     0.0     0.0     0.0   \n",
       "2290      1591.0     1594.0      3.202310    11     0.0     0.0    90.0   \n",
       "2291      1569.0     1603.0      1.737084    13     0.0     0.0    47.0   \n",
       "\n",
       "      bulk_4  bulk_5  bulk_6  ...  bulk_14  bulk_15      gas_1     wire_2  \\\n",
       "2272    99.0     0.0     0.0  ...    178.0    103.0  17.371982   0.000000   \n",
       "2273     0.0     0.0     0.0  ...    181.0    105.0   9.248102   0.000000   \n",
       "2274    30.0     0.0     0.0  ...    149.0    103.0  17.437711   0.000000   \n",
       "2275    94.0     0.0     0.0  ...    149.0    104.0  14.220873   0.000000   \n",
       "2276    79.0     0.0     0.0  ...    246.0    103.0  14.214662   0.000000   \n",
       "2277    47.0     0.0     0.0  ...    119.0    103.0   3.361715  11.038560   \n",
       "2278    98.0     0.0     0.0  ...    209.0    104.0  13.050460  42.103359   \n",
       "2279    49.0     0.0     0.0  ...     98.0    104.0   5.976477   0.000000   \n",
       "2280     0.0     0.0   121.0  ...    221.0    105.0  20.135799  85.413121   \n",
       "2281     0.0     0.0     0.0  ...    140.0    105.0  28.306153  37.066639   \n",
       "2282     0.0     0.0   100.0  ...    149.0    104.0  10.772628   0.000000   \n",
       "2283   116.0     0.0     0.0  ...    197.0    209.0  20.019526   0.000000   \n",
       "2284   198.0     0.0     0.0  ...    198.0    209.0  11.375063   0.000000   \n",
       "2285   105.0     0.0     0.0  ...    118.0    205.0   9.421691   0.000000   \n",
       "2286   162.0     0.0     0.0  ...    119.0    155.0   3.983053   0.000000   \n",
       "2287     0.0     0.0     0.0  ...    129.0    223.0   7.125735   0.000000   \n",
       "2288    63.0     0.0     0.0  ...    129.0    226.0   9.412616   0.000000   \n",
       "2289    85.0     0.0     0.0  ...    124.0    226.0   6.271699   9.048000   \n",
       "2290     0.0     0.0     0.0  ...    129.0    207.0  14.953657   0.000000   \n",
       "2291     0.0     0.0     0.0  ...    126.0    227.0  11.336151  50.005280   \n",
       "\n",
       "      wire_3  wire_4  wire_6  wire_7  wire_8  wire_9  \n",
       "2272     0.0     0.0     0.0     0.0     0.0     0.0  \n",
       "2273     0.0     0.0     0.0     0.0     0.0     0.0  \n",
       "2274     0.0     0.0     0.0     0.0     0.0     0.0  \n",
       "2275     0.0     0.0     0.0     0.0     0.0     0.0  \n",
       "2276     0.0     0.0     0.0     0.0     0.0     0.0  \n",
       "2277     0.0     0.0     0.0     0.0     0.0     0.0  \n",
       "2278     0.0     0.0     0.0     0.0     0.0     0.0  \n",
       "2279     0.0     0.0     0.0     0.0     0.0     0.0  \n",
       "2280     0.0     0.0     0.0     0.0     0.0     0.0  \n",
       "2281     0.0     0.0     0.0     0.0     0.0     0.0  \n",
       "2282     0.0     0.0     0.0     0.0     0.0     0.0  \n",
       "2283     0.0     0.0     0.0     0.0     0.0     0.0  \n",
       "2284     0.0     0.0     0.0     0.0     0.0     0.0  \n",
       "2285     0.0     0.0     0.0     0.0     0.0     0.0  \n",
       "2286     0.0     0.0     0.0     0.0     0.0     0.0  \n",
       "2287     0.0     0.0     0.0     0.0     0.0     0.0  \n",
       "2288     0.0     0.0     0.0     0.0     0.0     0.0  \n",
       "2289     0.0     0.0     0.0     0.0     0.0     0.0  \n",
       "2290     0.0     0.0     0.0     0.0     0.0     0.0  \n",
       "2291     0.0     0.0     0.0     0.0     0.0     0.0  \n",
       "\n",
       "[20 rows x 26 columns]"
      ]
     },
     "execution_count": 106,
     "metadata": {},
     "output_type": "execute_result"
    }
   ],
   "source": [
    "df.tail(20)"
   ]
  },
  {
   "cell_type": "markdown",
   "metadata": {},
   "source": [
    "### Вывод\n",
    "\n",
    "1. Мы удалили такие аномалии как отрицательная реактивная мощность и температура меньше 1500 градусов.\n",
    "\n",
    "2. Выделили начальную и конечную температуру.\n",
    "\n",
    "3. Посчитали общее время и суммарную мощность для каждого key. Создали новый признак time - общее время нагрева для каждого этапа в минутах.\n",
    "\n",
    "4. Заполнили пропуски нулями. Также было принято решение удалить столбец wire_1 тк он практически полностью состоял из пропусков.\n",
    "\n",
    "5. Обьединили все признаки в итоговый датафрейм df по столбцу key.\n",
    "\n",
    "6. Построили матрицу корреляции полученных признаков. \n",
    "\n",
    "Удалилили столбец wire_5 тк он полностью состоит из нулей. \n",
    "\n",
    "Удалили столбец bulk_9 потому что он слишком сильно коррелирует со столбцом wire_8, а это может помешать при обучении модели линейной регрессии.\n",
    "\n",
    "Удалили столбец key, он был нужен нам только для объединения признаков, а в обучении модели он не потребуется.\n"
   ]
  },
  {
   "cell_type": "code",
   "execution_count": 107,
   "metadata": {},
   "outputs": [
    {
     "data": {
      "image/png": "[encoded data removed]",
      "text/plain": [
       "<Figure size 432x288 with 1 Axes>"
      ]
     },
     "metadata": {
      "needs_background": "light"
     },
     "output_type": "display_data"
    },
    {
     "data": {
      "image/png": "[encoded data removed]",
      "text/plain": [
       "<Figure size 432x288 with 1 Axes>"
      ]
     },
     "metadata": {
      "needs_background": "light"
     },
     "output_type": "display_data"
    },
    {
     "data": {
      "image/png": "[encoded data removed]",
      "text/plain": [
       "<Figure size 432x288 with 1 Axes>"
      ]
     },
     "metadata": {
      "needs_background": "light"
     },
     "output_type": "display_data"
    },
    {
     "data": {
      "image/png": "[encoded data removed]",
      "text/plain": [
       "<Figure size 432x288 with 1 Axes>"
      ]
     },
     "metadata": {
      "needs_background": "light"
     },
     "output_type": "display_data"
    },
    {
     "data": {
      "image/png": "[encoded data removed]",
      "text/plain": [
       "<Figure size 432x288 with 1 Axes>"
      ]
     },
     "metadata": {
      "needs_background": "light"
     },
     "output_type": "display_data"
    },
    {
     "data": {
      "image/png": "[encoded data removed]",
      "text/plain": [
       "<Figure size 432x288 with 1 Axes>"
      ]
     },
     "metadata": {
      "needs_background": "light"
     },
     "output_type": "display_data"
    },
    {
     "data": {
      "image/png": "[encoded data removed]",
      "text/plain": [
       "<Figure size 432x288 with 1 Axes>"
      ]
     },
     "metadata": {
      "needs_background": "light"
     },
     "output_type": "display_data"
    },
    {
     "data": {
      "image/png": "[encoded data removed]",
      "text/plain": [
       "<Figure size 432x288 with 1 Axes>"
      ]
     },
     "metadata": {
      "needs_background": "light"
     },
     "output_type": "display_data"
    },
    {
     "data": {
      "image/png": "[encoded data removed]",
      "text/plain": [
       "<Figure size 432x288 with 1 Axes>"
      ]
     },
     "metadata": {
      "needs_background": "light"
     },
     "output_type": "display_data"
    },
    {
     "data": {
      "image/png": "[encoded data removed]",
      "text/plain": [
       "<Figure size 432x288 with 1 Axes>"
      ]
     },
     "metadata": {
      "needs_background": "light"
     },
     "output_type": "display_data"
    },
    {
     "data": {
      "image/png": "[encoded data removed]",
      "text/plain": [
       "<Figure size 432x288 with 1 Axes>"
      ]
     },
     "metadata": {
      "needs_background": "light"
     },
     "output_type": "display_data"
    },
    {
     "data": {
      "image/png": "[encoded data removed]",
      "text/plain": [
       "<Figure size 432x288 with 1 Axes>"
      ]
     },
     "metadata": {
      "needs_background": "light"
     },
     "output_type": "display_data"
    },
    {
     "data": {
      "image/png": "[encoded data removed]",
      "text/plain": [
       "<Figure size 432x288 with 1 Axes>"
      ]
     },
     "metadata": {
      "needs_background": "light"
     },
     "output_type": "display_data"
    },
    {
     "data": {
      "image/png": "[encoded data removed]",
      "text/plain": [
       "<Figure size 432x288 with 1 Axes>"
      ]
     },
     "metadata": {
      "needs_background": "light"
     },
     "output_type": "display_data"
    },
    {
     "data": {
      "image/png": "[encoded data removed]",
      "text/plain": [
       "<Figure size 432x288 with 1 Axes>"
      ]
     },
     "metadata": {
      "needs_background": "light"
     },
     "output_type": "display_data"
    },
    {
     "data": {
      "image/png": "[encoded data removed]",
      "text/plain": [
       "<Figure size 432x288 with 1 Axes>"
      ]
     },
     "metadata": {
      "needs_background": "light"
     },
     "output_type": "display_data"
    },
    {
     "data": {
      "image/png": "[encoded data removed]",
      "text/plain": [
       "<Figure size 432x288 with 1 Axes>"
      ]
     },
     "metadata": {
      "needs_background": "light"
     },
     "output_type": "display_data"
    },
    {
     "data": {
      "image/png": "[encoded data removed]",
      "text/plain": [
       "<Figure size 432x288 with 1 Axes>"
      ]
     },
     "metadata": {
      "needs_background": "light"
     },
     "output_type": "display_data"
    },
    {
     "data": {
      "image/png": "[encoded data removed]",
      "text/plain": [
       "<Figure size 432x288 with 1 Axes>"
      ]
     },
     "metadata": {
      "needs_background": "light"
     },
     "output_type": "display_data"
    },
    {
     "data": {
      "image/png": "[encoded data removed]",
      "text/plain": [
       "<Figure size 432x288 with 1 Axes>"
      ]
     },
     "metadata": {
      "needs_background": "light"
     },
     "output_type": "display_data"
    },
    {
     "data": {
      "image/png": "[encoded data removed]",
      "text/plain": [
       "<Figure size 432x288 with 1 Axes>"
      ]
     },
     "metadata": {
      "needs_background": "light"
     },
     "output_type": "display_data"
    },
    {
     "data": {
      "image/png": "[encoded data removed]",
      "text/plain": [
       "<Figure size 432x288 with 1 Axes>"
      ]
     },
     "metadata": {
      "needs_background": "light"
     },
     "output_type": "display_data"
    },
    {
     "data": {
      "image/png": "[encoded data removed]",
      "text/plain": [
       "<Figure size 432x288 with 1 Axes>"
      ]
     },
     "metadata": {
      "needs_background": "light"
     },
     "output_type": "display_data"
    },
    {
     "data": {
      "image/png": "[encoded data removed]",
      "text/plain": [
       "<Figure size 432x288 with 1 Axes>"
      ]
     },
     "metadata": {
      "needs_background": "light"
     },
     "output_type": "display_data"
    },
    {
     "data": {
      "image/png": "[encoded data removed]",
      "text/plain": [
       "<Figure size 432x288 with 1 Axes>"
      ]
     },
     "metadata": {
      "needs_background": "light"
     },
     "output_type": "display_data"
    },
    {
     "data": {
      "image/png": "[encoded data removed]",
      "text/plain": [
       "<Figure size 432x288 with 1 Axes>"
      ]
     },
     "metadata": {
      "needs_background": "light"
     },
     "output_type": "display_data"
    }
   ],
   "source": [
    "for column in df:\n",
    "  sns.histplot(df, x = column, multiple = 'stack')\n",
    "  plt.show()"
   ]
  },
  {
   "cell_type": "markdown",
   "metadata": {},
   "source": [
    "# Построение моделей  <a id=\"building_models\"></a>"
   ]
  },
  {
   "cell_type": "code",
   "execution_count": 108,
   "metadata": {},
   "outputs": [],
   "source": [
    "RANDOM_STATE = np.random.RandomState(170723)"
   ]
  },
  {
   "cell_type": "markdown",
   "metadata": {},
   "source": [
    "Разделим датафрейм на признаки и целевой признак - конечная температура (temp_last)"
   ]
  },
  {
   "cell_type": "code",
   "execution_count": 109,
   "metadata": {},
   "outputs": [],
   "source": [
    "X = df.drop(['temp_last'], axis=1)\n",
    "y = df['temp_last']"
   ]
  },
  {
   "cell_type": "code",
   "execution_count": 110,
   "metadata": {},
   "outputs": [],
   "source": [
    "X_train, X_test, y_train, y_test = train_test_split(\n",
    "    X, y, test_size = 0.25, random_state = RANDOM_STATE)"
   ]
  },
  {
   "cell_type": "code",
   "execution_count": 111,
   "metadata": {},
   "outputs": [
    {
     "data": {
      "text/plain": [
       "(1719, 25)"
      ]
     },
     "execution_count": 111,
     "metadata": {},
     "output_type": "execute_result"
    }
   ],
   "source": [
    "X_train.shape"
   ]
  },
  {
   "cell_type": "code",
   "execution_count": 112,
   "metadata": {},
   "outputs": [
    {
     "data": {
      "text/plain": [
       "(1719,)"
      ]
     },
     "execution_count": 112,
     "metadata": {},
     "output_type": "execute_result"
    }
   ],
   "source": [
    "y_train.shape"
   ]
  },
  {
   "cell_type": "code",
   "execution_count": 113,
   "metadata": {},
   "outputs": [
    {
     "data": {
      "text/plain": [
       "(573, 25)"
      ]
     },
     "execution_count": 113,
     "metadata": {},
     "output_type": "execute_result"
    }
   ],
   "source": [
    "X_test.shape"
   ]
  },
  {
   "cell_type": "markdown",
   "metadata": {},
   "source": [
    "Масштабируем признаки, исполльзуя StandardScaler"
   ]
  },
  {
   "cell_type": "code",
   "execution_count": 114,
   "metadata": {},
   "outputs": [],
   "source": [
    "scaler = StandardScaler()\n",
    "\n",
    "scaler.fit(X_train)\n",
    "\n",
    "X_train = scaler.transform(X_train)\n",
    "X_test = scaler.transform(X_test)"
   ]
  },
  {
   "cell_type": "code",
   "execution_count": 115,
   "metadata": {
    "scrolled": true
   },
   "outputs": [
    {
     "data": {
      "text/plain": [
       "(1719, 25)"
      ]
     },
     "execution_count": 115,
     "metadata": {},
     "output_type": "execute_result"
    }
   ],
   "source": [
    "X_train.shape"
   ]
  },
  {
   "cell_type": "code",
   "execution_count": 116,
   "metadata": {
    "scrolled": true
   },
   "outputs": [
    {
     "name": "stdout",
     "output_type": "stream",
     "text": [
      "Fitting 5 folds for each of 10 candidates, totalling 50 fits\n",
      "[CV] END ...........................alpha=0.8627424931092645; total time=   0.0s\n",
      "[CV] END ...........................alpha=0.8627424931092645; total time=   0.0s\n",
      "[CV] END ...........................alpha=0.8627424931092645; total time=   0.0s\n",
      "[CV] END ...........................alpha=0.8627424931092645; total time=   0.0s\n",
      "[CV] END ...........................alpha=0.8627424931092645; total time=   0.0s\n",
      "[CV] END ............................alpha=0.912252431193288; total time=   0.1s\n",
      "[CV] END ............................alpha=0.912252431193288; total time=   0.0s\n",
      "[CV] END ............................alpha=0.912252431193288; total time=   0.1s\n",
      "[CV] END ............................alpha=0.912252431193288; total time=   0.0s\n",
      "[CV] END ............................alpha=0.912252431193288; total time=   0.0s\n",
      "[CV] END ..........................alpha=0.46738852863272407; total time=   0.1s\n",
      "[CV] END ..........................alpha=0.46738852863272407; total time=   0.0s\n",
      "[CV] END ..........................alpha=0.46738852863272407; total time=   0.0s\n",
      "[CV] END ..........................alpha=0.46738852863272407; total time=   0.0s\n",
      "[CV] END ..........................alpha=0.46738852863272407; total time=   0.0s\n",
      "[CV] END .........................alpha=0.037784953332338334; total time=   0.0s\n",
      "[CV] END .........................alpha=0.037784953332338334; total time=   0.0s\n",
      "[CV] END .........................alpha=0.037784953332338334; total time=   0.1s\n",
      "[CV] END .........................alpha=0.037784953332338334; total time=   0.0s\n",
      "[CV] END .........................alpha=0.037784953332338334; total time=   0.1s\n",
      "[CV] END ...........................alpha=0.8419333463562022; total time=   0.0s\n",
      "[CV] END ...........................alpha=0.8419333463562022; total time=   0.1s\n",
      "[CV] END ...........................alpha=0.8419333463562022; total time=   0.0s\n",
      "[CV] END ...........................alpha=0.8419333463562022; total time=   0.1s\n",
      "[CV] END ...........................alpha=0.8419333463562022; total time=   0.0s\n",
      "[CV] END ..........................alpha=0.12035824615674928; total time=   0.1s\n",
      "[CV] END ..........................alpha=0.12035824615674928; total time=   0.0s\n",
      "[CV] END ..........................alpha=0.12035824615674928; total time=   0.1s\n",
      "[CV] END ..........................alpha=0.12035824615674928; total time=   0.0s\n",
      "[CV] END ..........................alpha=0.12035824615674928; total time=   0.1s\n",
      "[CV] END ...........................alpha=0.3477176999691317; total time=   0.1s\n",
      "[CV] END ...........................alpha=0.3477176999691317; total time=   0.0s\n",
      "[CV] END ...........................alpha=0.3477176999691317; total time=   0.1s\n",
      "[CV] END ...........................alpha=0.3477176999691317; total time=   0.0s\n",
      "[CV] END ...........................alpha=0.3477176999691317; total time=   0.1s\n",
      "[CV] END ..........................alpha=0.12778062529799983; total time=   0.0s\n",
      "[CV] END ..........................alpha=0.12778062529799983; total time=   0.1s\n",
      "[CV] END ..........................alpha=0.12778062529799983; total time=   0.0s\n",
      "[CV] END ..........................alpha=0.12778062529799983; total time=   0.1s\n",
      "[CV] END ..........................alpha=0.12778062529799983; total time=   0.0s\n",
      "[CV] END ...........................alpha=0.8779490508620954; total time=   0.1s\n",
      "[CV] END ...........................alpha=0.8779490508620954; total time=   0.0s\n",
      "[CV] END ...........................alpha=0.8779490508620954; total time=   0.1s\n",
      "[CV] END ...........................alpha=0.8779490508620954; total time=   0.0s\n",
      "[CV] END ...........................alpha=0.8779490508620954; total time=   0.1s\n",
      "[CV] END ...........................alpha=0.6971451948486715; total time=   0.0s\n",
      "[CV] END ...........................alpha=0.6971451948486715; total time=   0.1s\n",
      "[CV] END ...........................alpha=0.6971451948486715; total time=   0.0s\n",
      "[CV] END ...........................alpha=0.6971451948486715; total time=   0.1s\n",
      "[CV] END ...........................alpha=0.6971451948486715; total time=   0.0s\n",
      "Best params for Linear Regression : {'alpha': 0.912252431193288}\n",
      "Linear Regression:\n",
      "Best score:  6.417150806812183\n",
      "\n",
      "Fitting 5 folds for each of 10 candidates, totalling 50 fits\n",
      "[CV] END max_depth=10, min_samples_split=10, n_estimators=626; total time=   3.2s\n",
      "[CV] END max_depth=10, min_samples_split=10, n_estimators=626; total time=   3.0s\n",
      "[CV] END max_depth=10, min_samples_split=10, n_estimators=626; total time=   3.1s\n",
      "[CV] END max_depth=10, min_samples_split=10, n_estimators=626; total time=   3.1s\n",
      "[CV] END max_depth=10, min_samples_split=10, n_estimators=626; total time=   3.0s\n",
      "[CV] END max_depth=12, min_samples_split=14, n_estimators=627; total time=   3.2s\n",
      "[CV] END max_depth=12, min_samples_split=14, n_estimators=627; total time=   3.2s\n",
      "[CV] END max_depth=12, min_samples_split=14, n_estimators=627; total time=   3.3s\n",
      "[CV] END max_depth=12, min_samples_split=14, n_estimators=627; total time=   3.1s\n",
      "[CV] END max_depth=12, min_samples_split=14, n_estimators=627; total time=   3.2s\n",
      "[CV] END max_depth=2, min_samples_split=13, n_estimators=619; total time=   1.2s\n",
      "[CV] END max_depth=2, min_samples_split=13, n_estimators=619; total time=   1.1s\n",
      "[CV] END max_depth=2, min_samples_split=13, n_estimators=619; total time=   1.2s\n",
      "[CV] END max_depth=2, min_samples_split=13, n_estimators=619; total time=   1.2s\n",
      "[CV] END max_depth=2, min_samples_split=13, n_estimators=619; total time=   1.2s\n",
      "[CV] END max_depth=12, min_samples_split=7, n_estimators=639; total time=   3.4s\n",
      "[CV] END max_depth=12, min_samples_split=7, n_estimators=639; total time=   3.4s\n",
      "[CV] END max_depth=12, min_samples_split=7, n_estimators=639; total time=   3.4s\n",
      "[CV] END max_depth=12, min_samples_split=7, n_estimators=639; total time=   3.4s\n",
      "[CV] END max_depth=12, min_samples_split=7, n_estimators=639; total time=   3.6s\n",
      "[CV] END max_depth=15, min_samples_split=16, n_estimators=647; total time=   3.5s\n",
      "[CV] END max_depth=15, min_samples_split=16, n_estimators=647; total time=   3.4s\n",
      "[CV] END max_depth=15, min_samples_split=16, n_estimators=647; total time=   3.5s\n",
      "[CV] END max_depth=15, min_samples_split=16, n_estimators=647; total time=   3.4s\n",
      "[CV] END max_depth=15, min_samples_split=16, n_estimators=647; total time=   3.5s\n",
      "[CV] END .max_depth=4, min_samples_split=7, n_estimators=695; total time=   1.9s\n",
      "[CV] END .max_depth=4, min_samples_split=7, n_estimators=695; total time=   1.9s\n",
      "[CV] END .max_depth=4, min_samples_split=7, n_estimators=695; total time=   1.9s\n",
      "[CV] END .max_depth=4, min_samples_split=7, n_estimators=695; total time=   1.9s\n",
      "[CV] END .max_depth=4, min_samples_split=7, n_estimators=695; total time=   2.0s\n",
      "[CV] END .max_depth=6, min_samples_split=6, n_estimators=680; total time=   2.6s\n",
      "[CV] END .max_depth=6, min_samples_split=6, n_estimators=680; total time=   2.4s\n",
      "[CV] END .max_depth=6, min_samples_split=6, n_estimators=680; total time=   2.4s\n",
      "[CV] END .max_depth=6, min_samples_split=6, n_estimators=680; total time=   2.5s\n",
      "[CV] END .max_depth=6, min_samples_split=6, n_estimators=680; total time=   2.4s\n",
      "[CV] END .max_depth=9, min_samples_split=8, n_estimators=691; total time=   3.1s\n",
      "[CV] END .max_depth=9, min_samples_split=8, n_estimators=691; total time=   3.2s\n",
      "[CV] END .max_depth=9, min_samples_split=8, n_estimators=691; total time=   3.4s\n",
      "[CV] END .max_depth=9, min_samples_split=8, n_estimators=691; total time=   3.3s\n",
      "[CV] END .max_depth=9, min_samples_split=8, n_estimators=691; total time=   3.2s\n",
      "[CV] END max_depth=2, min_samples_split=12, n_estimators=656; total time=   1.3s\n",
      "[CV] END max_depth=2, min_samples_split=12, n_estimators=656; total time=   1.3s\n",
      "[CV] END max_depth=2, min_samples_split=12, n_estimators=656; total time=   1.3s\n",
      "[CV] END max_depth=2, min_samples_split=12, n_estimators=656; total time=   1.3s\n",
      "[CV] END max_depth=2, min_samples_split=12, n_estimators=656; total time=   1.3s\n",
      "[CV] END max_depth=11, min_samples_split=19, n_estimators=643; total time=   3.2s\n",
      "[CV] END max_depth=11, min_samples_split=19, n_estimators=643; total time=   3.1s\n",
      "[CV] END max_depth=11, min_samples_split=19, n_estimators=643; total time=   3.1s\n",
      "[CV] END max_depth=11, min_samples_split=19, n_estimators=643; total time=   3.1s\n",
      "[CV] END max_depth=11, min_samples_split=19, n_estimators=643; total time=   3.1s\n",
      "Best params for Random Forest : {'max_depth': 10, 'min_samples_split': 10, 'n_estimators': 626}\n",
      "Random Forest:\n",
      "Best score:  6.295778113450734\n",
      "\n"
     ]
    }
   ],
   "source": [
    "# определим гиперпараметры для каждой модели\n",
    "param_distributions = {\n",
    "    'Linear Regression': {'alpha': uniform(0.001, 1)},\n",
    "        \n",
    "    'Random Forest': {'n_estimators': randint(100, 200, 500),\n",
    "                      'max_depth': randint(1, 20),\n",
    "                      'min_samples_split': randint(2, 20)},\n",
    "}\n",
    "\n",
    "models = [('Linear Regression', Ridge(random_state = RANDOM_STATE)),\n",
    "          ('Random Forest', RandomForestRegressor(random_state = RANDOM_STATE))]\n",
    "\n",
    "\n",
    "# создадим MAE scorer\n",
    "scorer = make_scorer(mean_absolute_error, greater_is_better = False)\n",
    "\n",
    "for name, model in models:\n",
    "    random_search = RandomizedSearchCV(estimator = model,\n",
    "                                       param_distributions = param_distributions[name],\n",
    "                                       n_iter = 10,\n",
    "                                       verbose = 2,\n",
    "                                       cv = 5,\n",
    "                                       scoring = scorer,\n",
    "                                       random_state = RANDOM_STATE)\n",
    "\n",
    "    # обучаем random search на тренировачной выборке\n",
    "    random_search.fit(X_train, y_train)\n",
    "\n",
    "    # получаем лучшие гиперпараметры\n",
    "    best_params = random_search.best_params_\n",
    "    print(f\"Best params for {name} : {best_params}\")\n",
    "\n",
    "    # обучаем и оцениваем модель на лучших гиперпараметрах \n",
    "    best_model = model.set_params(**best_params)\n",
    "    best_model.fit(X_train, y_train)\n",
    "    \n",
    "    print(name + ':')\n",
    "    print('Best score: ', random_search.best_score_ * -1)\n",
    "    print()"
   ]
  },
  {
   "cell_type": "markdown",
   "metadata": {},
   "source": [
    "1. Best params for Linear Regression : {'alpha': 0.912252431193288}\n",
    "\n",
    "Linear Regression:\n",
    "\n",
    "Best score:  6.417150806812183\n",
    "\n",
    "2. Best params for Random Forest : {'max_depth': 10, 'min_samples_split': 10, 'n_estimators': 626}\n",
    "\n",
    "Random Forest:\n",
    "\n",
    "Best score:  6.295778113450734"
   ]
  },
  {
   "cell_type": "markdown",
   "metadata": {},
   "source": [
    "### Проверим лучшую модель на тестовой выборке"
   ]
  },
  {
   "cell_type": "markdown",
   "metadata": {},
   "source": [
    "Best params for Random Forest : {'max_depth': 10, 'min_samples_split': 10, 'n_estimators': 626}\n",
    "\n",
    "Random Forest\n",
    "\n",
    "Best score:  6.295778113450734"
   ]
  },
  {
   "cell_type": "code",
   "execution_count": 117,
   "metadata": {},
   "outputs": [
    {
     "name": "stdout",
     "output_type": "stream",
     "text": [
      "Random Forest MAE test: 6.399752096902537\n"
     ]
    }
   ],
   "source": [
    "# Создание модели RandomForestRegressor\n",
    "rf = RandomForestRegressor(max_depth = 10, \n",
    "                           min_samples_split = 10,\n",
    "                           n_estimators = 626,\n",
    "                           random_state = RANDOM_STATE)\n",
    "\n",
    "# Обучение модели\n",
    "rf.fit(X_train, y_train)\n",
    "\n",
    "# Предсказание на тестовом наборе данных\n",
    "y_pred_rf = rf.predict(X_test)\n",
    "\n",
    "# Оценка качества модели\n",
    "MAE_test_rf = mean_absolute_error(y_pred_rf, y_test)\n",
    "\n",
    "print('Random Forest MAE test:', MAE_test_rf)"
   ]
  },
  {
   "cell_type": "markdown",
   "metadata": {},
   "source": [
    "Random Forest MAE test: 6.399752096902537"
   ]
  },
  {
   "cell_type": "code",
   "execution_count": 118,
   "metadata": {},
   "outputs": [
    {
     "name": "stdout",
     "output_type": "stream",
     "text": [
      "Random Forest R2 score : 0.378010297442425\n"
     ]
    }
   ],
   "source": [
    "# Рассчитываем метрику R2 для RandomForestRegressor\n",
    "r2_rf = r2_score(y_test, y_pred_rf)\n",
    "\n",
    "print('Random Forest R2 score :', r2_rf)"
   ]
  },
  {
   "cell_type": "markdown",
   "metadata": {},
   "source": [
    "Random Forest R2 score : 0.378010297442425"
   ]
  },
  {
   "cell_type": "markdown",
   "metadata": {},
   "source": [
    "Метрика R2 дает слишком низкий результат относительно единицы, следовательно на практике модель может показать себя недостаточно хорошо. Возможно это связано с тем, что присутствуют признаки с очень низкой важностью, либо заполнение пропусков нулями было не самым лучшим решением и слодовало поступить иначе. "
   ]
  },
  {
   "cell_type": "markdown",
   "metadata": {},
   "source": [
    "### Проверим модель на адекватность"
   ]
  },
  {
   "cell_type": "code",
   "execution_count": 119,
   "metadata": {},
   "outputs": [
    {
     "name": "stdout",
     "output_type": "stream",
     "text": [
      "Dummy Test MAE: 8.28926676189636\n"
     ]
    }
   ],
   "source": [
    "dummy_model = DummyRegressor(strategy=\"mean\")\n",
    "\n",
    "dummy_model.fit(X_train, y_train)\n",
    "y_pred_dummy = dummy_model.predict(X_test)\n",
    "\n",
    "MAE_dummy = mean_absolute_error(y_pred_dummy, y_test)\n",
    "\n",
    "print(\"Dummy Test MAE:\", MAE_dummy)"
   ]
  },
  {
   "cell_type": "markdown",
   "metadata": {},
   "source": [
    "Dummy Test MAE: 8.28926676189636"
   ]
  },
  {
   "cell_type": "markdown",
   "metadata": {},
   "source": [
    "### Исследуем важность признаков лучшей модели"
   ]
  },
  {
   "cell_type": "code",
   "execution_count": 120,
   "metadata": {},
   "outputs": [
    {
     "name": "stdout",
     "output_type": "stream",
     "text": [
      "         Feature  Importance\n",
      "0     temp_first    0.244438\n",
      "2           time    0.206457\n",
      "8         bulk_6    0.091925\n",
      "17         gas_1    0.060214\n",
      "16       bulk_15    0.057152\n",
      "1   active_power    0.047722\n",
      "15       bulk_14    0.046739\n",
      "18        wire_2    0.045513\n",
      "13       bulk_12    0.038464\n",
      "9         bulk_7    0.035136\n",
      "5         bulk_3    0.025865\n",
      "6         bulk_4    0.022487\n",
      "4         bulk_2    0.013435\n",
      "22        wire_7    0.011998\n",
      "3         bulk_1    0.011194\n",
      "20        wire_4    0.010646\n",
      "12       bulk_11    0.008535\n",
      "21        wire_6    0.007690\n",
      "19        wire_3    0.007655\n",
      "11       bulk_10    0.004277\n",
      "7         bulk_5    0.001287\n",
      "24        wire_9    0.000626\n",
      "23        wire_8    0.000291\n",
      "14       bulk_13    0.000254\n",
      "10        bulk_8    0.000000\n"
     ]
    }
   ],
   "source": [
    "# Получаем важность признаков\n",
    "importance = rf.feature_importances_\n",
    "feature_names = ['temp_first', 'active_power', 'time', 'bulk_1', 'bulk_2', \n",
    "                 'bulk_3', 'bulk_4', 'bulk_5', 'bulk_6', 'bulk_7', 'bulk_8', 'bulk_10',\n",
    "                 'bulk_11', 'bulk_12', 'bulk_13', 'bulk_14', 'bulk_15', 'gas_1',\n",
    "                 'wire_2', 'wire_3', 'wire_4', 'wire_6', 'wire_7', 'wire_8', 'wire_9']\n",
    "\n",
    "# Сортируем признаки по важности\n",
    "feature_importance = pd.DataFrame({'Feature': feature_names, 'Importance': importance})\n",
    "feature_importance.sort_values('Importance', ascending = False, inplace = True)\n",
    "\n",
    "# Выводим результаты\n",
    "print(feature_importance)"
   ]
  },
  {
   "cell_type": "markdown",
   "metadata": {},
   "source": [
    "         Feature  Importance\n",
    "         \n",
    "0     temp_first    0.244438\n",
    "\n",
    "2           time    0.206457\n",
    "\n",
    "8         bulk_6    0.091925\n",
    "\n",
    "17         gas_1    0.060214\n",
    "\n",
    "16       bulk_15    0.057152\n",
    "\n",
    "1   active_power    0.047722\n",
    "\n",
    "15       bulk_14    0.046739\n",
    "\n",
    "18        wire_2    0.045513\n",
    "\n",
    "13       bulk_12    0.038464\n",
    "\n",
    "9         bulk_7    0.035136\n",
    "\n",
    "5         bulk_3    0.025865\n",
    "\n",
    "6         bulk_4    0.022487\n",
    "\n",
    "4         bulk_2    0.013435\n",
    "\n",
    "22        wire_7    0.011998\n",
    "\n",
    "3         bulk_1    0.011194\n",
    "\n",
    "20        wire_4    0.010646\n",
    "\n",
    "12       bulk_11    0.008535\n",
    "\n",
    "21        wire_6    0.007690\n",
    "\n",
    "19        wire_3    0.007655\n",
    "\n",
    "11       bulk_10    0.004277\n",
    "\n",
    "7         bulk_5    0.001287\n",
    "\n",
    "24        wire_9    0.000626\n",
    "\n",
    "23        wire_8    0.000291\n",
    "\n",
    "14       bulk_13    0.000254\n",
    "\n",
    "10        bulk_8    0.000000"
   ]
  },
  {
   "cell_type": "markdown",
   "metadata": {},
   "source": [
    "Основываясь на результатах оценки features importance, мы можем наблюдать следующее:\n",
    "\n",
    "1. Наиболее значимыми признаками являются 'temp_first' и 'time'. Это указывает на то, что начальная температура и общее время нагрева стали оказывает наибольшее влияние на эффективность.\n",
    "\n",
    "\n",
    "2. На втором месте такие пизнаки как 'bulk_6' и 'gas_1'. Это говорит о том, что подача определенного количества газа и сыпучего материала под номером 6 также играет решающую роль в определении эффективности.\n",
    "\n",
    "\n",
    "3. На третьем месте такие пизнаки как 'active_power', 'bulk_15'. Количество сыпучих материалов bulk_15 и активная мощность также являются важным фактором, влияющим на эффективность.\n",
    "\n",
    "\n",
    "4. Другие признаки, такие как наличие добавок в виде сыпучих метериалов 'bulk_14' и 'wire_2' имеют среднюю важность, которая указывают на их небольшую значимость в процессе обработки стали.\n",
    "\n",
    "Оставшиеся признаки имеют очень низкие оценки значимости, такие как. Эти признаки могут не вносить существенного вклада в эффективность прогнозирования модели и потенциально могут быть удалены в будущих анализах, чтобы упростить модель без значительного ущерба для точности."
   ]
  },
  {
   "cell_type": "markdown",
   "metadata": {},
   "source": [
    "# Вывод <a id=\"conclusion\"></a>"
   ]
  },
  {
   "cell_type": "markdown",
   "metadata": {},
   "source": [
    "Вывод\n",
    "\n",
    "В данном проекте основной целью было построить модель, которая предскажет температуру стали, поможет оптимизировать расходы и энергопотребление на этапе обработки.\n",
    "\n",
    "1. В процессе анализа данных было обнаружено много пропусков и несколько аномалий.\n",
    "\n",
    "\n",
    "2. На этапе предобработки было сделано следующее:\n",
    "\n",
    "Мы удалили такие аномалии как отрицательная реактивная мощность и температура меньше 1500 градусов.\n",
    "\n",
    "Выделили начальную и конечную температуру.\n",
    "\n",
    "Посчитали общее время и суммарную мощность для каждого key. \n",
    "\n",
    "Создали новый признак time - общее время нагрева для каждого этапа в минутах.\n",
    "\n",
    "Заполнили пропуски нулями. \n",
    "\n",
    "Было принято решение удалить столбец wire_1 тк он практически полностью состоял из пропусков.\n",
    "\n",
    "Обьединили все признаки в итоговый датафрейм df по столбцу key.\n",
    "\n",
    "Построили матрицу корреляции полученных признаков. \n",
    "\n",
    "Удалилили столбец wire_5 тк он полностью состоит из нулей. \n",
    "\n",
    "Удалили столбец bulk_9 потому что он слишком сильно коррелирует со столбцом wire_8, а это могло помешать при обучении моделей.\n",
    "\n",
    "Удалили столбец key, он был нужен нам только для объединения признаков, а в обучении модели он не потребуется.\n",
    "\n",
    "3. Проверили модели Linear Regression и Random Forest на тренировочной выборке. \n",
    "\n",
    "Наилучший результат показала модель Random Forest:\n",
    "\n",
    "RandomForestRegressor MAE = 6.29\n",
    "\n",
    "\n",
    "4. На тестовой выборке модель RandomForestRegressor с гиперпараметрами:\n",
    "\n",
    "max_depth = 10, min_samples_split = 10, n_estimators = 626\n",
    "\n",
    "Random Forest MAE test: 6.38, что соответствует требованиям заказчика, значит цель достигнута.\n",
    "\n",
    "5. Провели анализ важности признаков для модели.\n",
    "\n",
    "Наиболее значимыми признаками являются 'temp_first' и 'time'. Это указывает на то, что начальная температура и общее время нагрева стали оказывает наибольшее влияние на эффективность.\n",
    "\n",
    "На втором месте такие пизнаки как 'bulk_6' и 'gas_1'. Это говорит о том, что подача определенного количества газа и сыпучего материала под номером 6 также играет решающую роль в определении эффективности.\n",
    "\n",
    "На третьем месте такие пизнаки как 'active_power', 'bulk_15'. Количество сыпучих материалов bulk_15 и активная мощность также являются важным фактором, влияющим на эффективность.\n",
    "\n",
    "\n",
    "6. Была использована константная модель для выявления адекватности модели. Модель RandomForestRegressor превзошла константную модель по тестовым данным, что указывает на ее эффективность в прогнозировании температуры стали. RandomForestRegressor MAE = 6.38 против DummyRegressor = 8.28.\n",
    "\n"
   ]
  },
  {
   "cell_type": "markdown",
   "metadata": {},
   "source": [
    "## Отчет <a id=\"report\"></a>"
   ]
  },
  {
   "cell_type": "markdown",
   "metadata": {},
   "source": [
    "### Сравнение решения и плана, если есть отклонение, то нужно объясняснить, почему какие-то пункты не выполнены"
   ]
  },
  {
   "cell_type": "markdown",
   "metadata": {},
   "source": [
    "Все пункты выполнены в полном соответствии с планом работы.\n",
    "\n",
    "\n",
    "План работы \n",
    "\n",
    "1.\tПодготовка данных. Предобработка и создание общей таблицы со всеми данными. Выделить целевой признак - последний замер. Разделить данные на признаки (x) и целевой признак (y).\n",
    "\n",
    "2.\tПостроение моделей. Выбрать модели и провести подбор гиперпараметров с помощью RandomizedSearchCV.\n",
    "\n",
    "3.\tТестирование. Проверить работу модели с наилучшим значением метркии MAE на тестовой выборке. Проверить модель на адекватность с помощью DummyRegressor. Сделать общий вывод.\n",
    "\n",
    "4.\tНаписание отчета.\n",
    "\n"
   ]
  },
  {
   "cell_type": "markdown",
   "metadata": {},
   "source": [
    "### Описание трудностей проекта и как они были решены"
   ]
  },
  {
   "cell_type": "markdown",
   "metadata": {},
   "source": [
    "Сложность данного проекта заключалась в том, чтобы правильно подготовить таблицу с признаками и целевым признаком, по которой будут обучаться модели. Поэтому сначала была проведена подготовка целевого признака и в дальнейшем уже по полученным ключам мы добавляли данные из других таблиц.\n",
    "\n",
    "Так же потребовалось углубиться в процесс работы чтобы определить какие данные из таблиц понадобятся в качестве признаков для обучения моделей, а какие можно будет отбросить. \n",
    "\n",
    "Сомнение вызвало решение заказчика заполнить большое количество пропусков в таблицах о подаче сыпучих и проволочных материалов нулями. Возможно такое решение и привело к тому, что в процессе исследования важности признаков для итоговой модели, больше 50% этих признаков имели очень низкую степень значимости и эти пропуски следовало обработать по-другому."
   ]
  },
  {
   "cell_type": "markdown",
   "metadata": {},
   "source": [
    "### Описание ключевых шагов решения (если их нет, то нужно написать \"ключевых шагов решения нет\")"
   ]
  },
  {
   "cell_type": "markdown",
   "metadata": {},
   "source": [
    "1. Провели анализ данных из всех таблиц, построили графики и составили план работы.\n",
    "\n",
    "\n",
    "2. Выполнили предобработку данных. На этом этапе начали создавать итоговую таблицу с признаками и целевым признаком для обучения и тестирования моделей.\n",
    "\n",
    "\n",
    "3. Изучили полученный набор данных. Построили график корреляции признаков, удалили высоко коррелирующие признаки. Вывели все графики распределения признаков в итоговой таблице.\n",
    "\n",
    "\n",
    "4. Разделили датафрейм на тренировочную и тестовую выборки. Сделали масштабирование признаков, используя StandardScaler. Обучили 2 модели, линейная регрессия и рандомный лес, на тренировочной выборке с кросс- валидацией. \n",
    "\n",
    "\n",
    "5. Проверили работу лучшей модели на тестовой выборке, а также сравнили с результатом работы константной модели для проверки на адекватность предсказаний. Исследовали важность признаков для лучшей модели и написали вывод.\n",
    "\n",
    "\n",
    "6. Написание общего вывода по проведенному исследованию.\n"
   ]
  },
  {
   "cell_type": "markdown",
   "metadata": {},
   "source": [
    "### Все признаки, которые использовали для обучения Итоговой модели и описать конкретно, как все эти признаки предобрабатывались (нужно рассказать именно про все признаки Итоговой модели)"
   ]
  },
  {
   "cell_type": "markdown",
   "metadata": {},
   "source": [
    "Первым делом мы подготовили целевой признак, используя данные из таблицы data_temp_new.csv — результаты измерения температуры. Нам известно, что температура плавления стали начинается с 1500 градусов, поэтому ключи с измерениями менее 1500 градусов были удалены из таблицы. После удаления этих ключей мы построили график boxplot чтобы убедиться, что не осталось аномальных выбросов и все температуры находятся в правильном диапазоне. Столбец со временем замера температуры был удален, потому что эти данные для обучения модели не нужны. Из полученной таблицы создали два новых датасета в которых сгруппировали данные по первому и последнему замеру температуры. Затем создаем новый датасет методом merge для объединения таблиц, в который вносим первый замер – начальную температуру и последний замер – конечную температуру, который станет целевым признаком для наших моделей. Проверили таблицу на наличие строк с одинаковым измерением начальной и конечной температуры. Такого быть не должно, поэтому ключи с этими данными тоже были удалены. В итоге мы получили таблицу df, с которой дальше будем работать и добавлять в неё оставшиеся признаки для обучения моделей.\n",
    "\n",
    "В таблице data_arc_new.csv — данные об электродах было обнаружено значение с отрицательной реактивной мощностью, по согласованию с заказчиком эти данные были удалены из таблицы. Затем мы создали новый признак time – время нагрева для каждого этапа. Для каждого ключа посчитали общее время и суммарную мощность. Данные с реактивной мощностью были удалены из таблицы, для обучения модели они нам не понадобятся. Оставшиеся данные внесли в таблицу df объединив по ключу.\n",
    "\n",
    "В таблице data_bulk_new.csv — данные о подаче сыпучих материалов (объём) было обнаружено много пропусков, из мы заполнили нулями по требованию заказчика и объединили данные с таблицей df по ключу с помощью merge. \n",
    "\n",
    "В таблице data_gas_new.csv — данные о продувке сплава газом пропусков или дубликатов мы не обнаружили, значит в предобработке она не нуждается. Сразу объединяем её с таблицей df по ключу методом merge.\n",
    "\n",
    "В таблице data_wire_new.csv — данные о проволочных материалах (объём) тоже было обнаружено много пропусков. В столбце wire_1 пропусков более 80%, а значит заполнять эти пропуску нулями нет смысла, это может привести к искажению предсказаний будущей модели. Поэтому было принято решение удалить столбец wire_1. После заполнения оставшихся пропусков нулями мы объединили данные о подаче проволочных материалов с итоговой таблицей df по ключу.\n",
    "\n",
    "Таблицы со временем data_bulk_time_new.csv — данные о подаче сыпучих материалов (время) и data_wire_time_new.csv — данные о проволочных материалах (время) на этапе предобработки и подготовки признаков не использовались, для обучения модели они нам не потребуются.\n"
   ]
  },
  {
   "cell_type": "markdown",
   "metadata": {},
   "source": [
    "### Полное описание Итоговой модели (с гиперпараметрами, включая random_state, если был использован) и итоговая метрика на тестовой выборке"
   ]
  },
  {
   "cell_type": "markdown",
   "metadata": {},
   "source": [
    "На тренировочной выборке лучший результат показала модель случайного леса RandomForestRegressor MAE = 6.29. \n",
    "\n",
    "С гиперпараметрами:\n",
    "\n",
    "max_depth = 10, min_samples_split = 10, n_estimators = 626, random_state = 170723\n",
    "\n",
    "На тестовой выборке модель показала результат MAE = 6.38, что соответствует требованиям заказчика.\n",
    "\n",
    "Мы провели анализ важности признаков для итоговой модели.\n",
    "\n",
    "Наиболее значимыми признаками являются 'temp_first' и 'time'. Это указывает на то, что начальная температура и общее время нагрева стали оказывает наибольшее влияние на эффективность.\n",
    "\n",
    "На втором месте такие пизнаки как 'bulk_6' и 'gas_1'. Это говорит о том, что подача определенного количества газа и сыпучего материала под номером 6 также играет решающую роль в определении эффективности.\n",
    "\n",
    "На третьем месте такие пизнаки как 'active_power', 'bulk_15'. Количество сыпучих материалов bulk_15 и активная мощность также являются важным фактором, влияющим на эффективность.\n",
    "\n",
    "Оставшиеся признаки имеют очень низкие оценки значимости, такие как. Эти признаки могут не вносить существенного вклада в эффективность прогнозирования модели и потенциально могут быть удалены в будущих анализах, чтобы упростить модель без значительного ущерба для точности.\n",
    "\n",
    "Для проверки адекватности модели была использована константная модель. Модель RandomForestRegressor превзошла константную модель по тестовым данным, что указывает на ее эффективность в прогнозировании температуры стали. RandomForestRegressor MAE = 6.38 против DummyRegressor = 8.28."
   ]
  }
 ],
 "metadata": {
  "ExecuteTimeLog": [
   {
    "duration": 1280,
    "start_time": "2023-07-24T03:41:07.707Z"
   },
   {
    "duration": 1859,
    "start_time": "2023-07-24T03:41:08.990Z"
   },
   {
    "duration": 3,
    "start_time": "2023-07-24T03:41:10.851Z"
   },
   {
    "duration": 801,
    "start_time": "2023-07-24T03:41:10.856Z"
   },
   {
    "duration": 3,
    "start_time": "2023-07-24T03:41:11.659Z"
   },
   {
    "duration": 41,
    "start_time": "2023-07-24T03:41:11.664Z"
   },
   {
    "duration": 12,
    "start_time": "2023-07-24T03:41:11.707Z"
   },
   {
    "duration": 18,
    "start_time": "2023-07-24T03:41:11.721Z"
   },
   {
    "duration": 4,
    "start_time": "2023-07-24T03:41:11.740Z"
   },
   {
    "duration": 19,
    "start_time": "2023-07-24T03:41:11.746Z"
   },
   {
    "duration": 16,
    "start_time": "2023-07-24T03:41:11.767Z"
   },
   {
    "duration": 19,
    "start_time": "2023-07-24T03:41:11.784Z"
   },
   {
    "duration": 5,
    "start_time": "2023-07-24T03:41:11.812Z"
   },
   {
    "duration": 8,
    "start_time": "2023-07-24T03:41:11.819Z"
   },
   {
    "duration": 208,
    "start_time": "2023-07-24T03:41:11.828Z"
   },
   {
    "duration": 166,
    "start_time": "2023-07-24T03:41:12.038Z"
   },
   {
    "duration": 15,
    "start_time": "2023-07-24T03:41:12.206Z"
   },
   {
    "duration": 17,
    "start_time": "2023-07-24T03:41:12.223Z"
   },
   {
    "duration": 29,
    "start_time": "2023-07-24T03:41:12.242Z"
   },
   {
    "duration": 133,
    "start_time": "2023-07-24T03:41:12.272Z"
   },
   {
    "duration": 8,
    "start_time": "2023-07-24T03:41:12.407Z"
   },
   {
    "duration": 23,
    "start_time": "2023-07-24T03:41:12.416Z"
   },
   {
    "duration": 26,
    "start_time": "2023-07-24T03:41:12.441Z"
   },
   {
    "duration": 20,
    "start_time": "2023-07-24T03:41:12.469Z"
   },
   {
    "duration": 21,
    "start_time": "2023-07-24T03:41:12.492Z"
   },
   {
    "duration": 41,
    "start_time": "2023-07-24T03:41:12.514Z"
   },
   {
    "duration": 13,
    "start_time": "2023-07-24T03:41:12.556Z"
   },
   {
    "duration": 10,
    "start_time": "2023-07-24T03:41:12.573Z"
   },
   {
    "duration": 17,
    "start_time": "2023-07-24T03:41:12.585Z"
   },
   {
    "duration": 212,
    "start_time": "2023-07-24T03:41:12.604Z"
   },
   {
    "duration": 12,
    "start_time": "2023-07-24T03:41:12.818Z"
   },
   {
    "duration": 42,
    "start_time": "2023-07-24T03:41:12.832Z"
   },
   {
    "duration": 37,
    "start_time": "2023-07-24T03:41:12.876Z"
   },
   {
    "duration": 30,
    "start_time": "2023-07-24T03:41:12.915Z"
   },
   {
    "duration": 31,
    "start_time": "2023-07-24T03:41:12.948Z"
   },
   {
    "duration": 193,
    "start_time": "2023-07-24T03:41:12.981Z"
   },
   {
    "duration": 10,
    "start_time": "2023-07-24T03:41:13.176Z"
   },
   {
    "duration": 15,
    "start_time": "2023-07-24T03:41:13.187Z"
   },
   {
    "duration": 32,
    "start_time": "2023-07-24T03:41:13.203Z"
   },
   {
    "duration": 46,
    "start_time": "2023-07-24T03:41:13.237Z"
   },
   {
    "duration": 5,
    "start_time": "2023-07-24T03:41:13.284Z"
   },
   {
    "duration": 20,
    "start_time": "2023-07-24T03:41:13.290Z"
   },
   {
    "duration": 50,
    "start_time": "2023-07-24T03:41:13.311Z"
   },
   {
    "duration": 40,
    "start_time": "2023-07-24T03:41:13.363Z"
   },
   {
    "duration": 38,
    "start_time": "2023-07-24T03:41:13.406Z"
   },
   {
    "duration": 12,
    "start_time": "2023-07-24T03:41:13.446Z"
   },
   {
    "duration": 51,
    "start_time": "2023-07-24T03:41:13.460Z"
   },
   {
    "duration": 20,
    "start_time": "2023-07-24T03:41:13.513Z"
   },
   {
    "duration": 19,
    "start_time": "2023-07-24T03:41:13.534Z"
   },
   {
    "duration": 210,
    "start_time": "2023-07-24T03:41:13.555Z"
   },
   {
    "duration": 11,
    "start_time": "2023-07-24T03:41:13.767Z"
   },
   {
    "duration": 15,
    "start_time": "2023-07-24T03:41:13.780Z"
   },
   {
    "duration": 23,
    "start_time": "2023-07-24T03:41:13.797Z"
   },
   {
    "duration": 31,
    "start_time": "2023-07-24T03:41:13.822Z"
   },
   {
    "duration": 10,
    "start_time": "2023-07-24T03:41:13.856Z"
   },
   {
    "duration": 25,
    "start_time": "2023-07-24T03:41:13.868Z"
   },
   {
    "duration": 8,
    "start_time": "2023-07-24T03:41:13.895Z"
   },
   {
    "duration": 28,
    "start_time": "2023-07-24T03:41:13.904Z"
   },
   {
    "duration": 109,
    "start_time": "2023-07-24T03:41:13.934Z"
   },
   {
    "duration": 3,
    "start_time": "2023-07-24T03:41:14.044Z"
   },
   {
    "duration": 31,
    "start_time": "2023-07-24T03:41:14.048Z"
   },
   {
    "duration": 15,
    "start_time": "2023-07-24T03:41:14.081Z"
   },
   {
    "duration": 24,
    "start_time": "2023-07-24T03:41:14.097Z"
   },
   {
    "duration": 113,
    "start_time": "2023-07-24T03:41:14.122Z"
   },
   {
    "duration": 3,
    "start_time": "2023-07-24T03:41:14.237Z"
   },
   {
    "duration": 25,
    "start_time": "2023-07-24T03:41:14.242Z"
   },
   {
    "duration": 26,
    "start_time": "2023-07-24T03:41:14.269Z"
   },
   {
    "duration": 33,
    "start_time": "2023-07-24T03:41:14.296Z"
   },
   {
    "duration": 21,
    "start_time": "2023-07-24T03:41:14.331Z"
   },
   {
    "duration": 15,
    "start_time": "2023-07-24T03:41:14.354Z"
   },
   {
    "duration": 18,
    "start_time": "2023-07-24T03:41:14.371Z"
   },
   {
    "duration": 8,
    "start_time": "2023-07-24T03:41:14.390Z"
   },
   {
    "duration": 30,
    "start_time": "2023-07-24T03:41:14.400Z"
   },
   {
    "duration": 30,
    "start_time": "2023-07-24T03:41:14.431Z"
   },
   {
    "duration": 22,
    "start_time": "2023-07-24T03:41:14.463Z"
   },
   {
    "duration": 36,
    "start_time": "2023-07-24T03:41:14.487Z"
   },
   {
    "duration": 12,
    "start_time": "2023-07-24T03:41:14.525Z"
   },
   {
    "duration": 15,
    "start_time": "2023-07-24T03:41:14.539Z"
   },
   {
    "duration": 20,
    "start_time": "2023-07-24T03:41:14.556Z"
   },
   {
    "duration": 7,
    "start_time": "2023-07-24T03:41:14.577Z"
   },
   {
    "duration": 29,
    "start_time": "2023-07-24T03:41:14.586Z"
   },
   {
    "duration": 10,
    "start_time": "2023-07-24T03:41:14.622Z"
   },
   {
    "duration": 12,
    "start_time": "2023-07-24T03:41:14.635Z"
   },
   {
    "duration": 6,
    "start_time": "2023-07-24T03:41:14.650Z"
   },
   {
    "duration": 36,
    "start_time": "2023-07-24T03:41:14.658Z"
   },
   {
    "duration": 20,
    "start_time": "2023-07-24T03:41:14.695Z"
   },
   {
    "duration": 22,
    "start_time": "2023-07-24T03:41:14.717Z"
   },
   {
    "duration": 16,
    "start_time": "2023-07-24T03:41:14.740Z"
   },
   {
    "duration": 4,
    "start_time": "2023-07-24T03:41:14.758Z"
   },
   {
    "duration": 25,
    "start_time": "2023-07-24T03:41:14.764Z"
   },
   {
    "duration": 26,
    "start_time": "2023-07-24T03:41:14.791Z"
   },
   {
    "duration": 19,
    "start_time": "2023-07-24T03:41:14.818Z"
   },
   {
    "duration": 26,
    "start_time": "2023-07-24T03:41:14.839Z"
   },
   {
    "duration": 25,
    "start_time": "2023-07-24T03:41:14.867Z"
   },
   {
    "duration": 21,
    "start_time": "2023-07-24T03:41:14.894Z"
   },
   {
    "duration": 34,
    "start_time": "2023-07-24T03:41:14.918Z"
   },
   {
    "duration": 6,
    "start_time": "2023-07-24T03:41:14.955Z"
   },
   {
    "duration": 26,
    "start_time": "2023-07-24T03:41:14.963Z"
   },
   {
    "duration": 84,
    "start_time": "2023-07-24T03:41:14.991Z"
   },
   {
    "duration": 31,
    "start_time": "2023-07-24T03:41:15.077Z"
   },
   {
    "duration": 19,
    "start_time": "2023-07-24T03:41:15.110Z"
   },
   {
    "duration": 60,
    "start_time": "2023-07-24T03:41:15.131Z"
   },
   {
    "duration": 897,
    "start_time": "2023-07-24T03:41:15.193Z"
   },
   {
    "duration": 5,
    "start_time": "2023-07-24T03:41:16.092Z"
   },
   {
    "duration": 36,
    "start_time": "2023-07-24T03:41:16.099Z"
   },
   {
    "duration": 38,
    "start_time": "2023-07-24T03:41:16.137Z"
   },
   {
    "duration": 42,
    "start_time": "2023-07-24T03:41:16.177Z"
   },
   {
    "duration": 3,
    "start_time": "2023-07-24T03:41:16.220Z"
   },
   {
    "duration": 10,
    "start_time": "2023-07-24T03:41:16.225Z"
   },
   {
    "duration": 19,
    "start_time": "2023-07-24T03:41:16.236Z"
   },
   {
    "duration": 28,
    "start_time": "2023-07-24T03:41:16.257Z"
   },
   {
    "duration": 16,
    "start_time": "2023-07-24T03:41:16.287Z"
   },
   {
    "duration": 12,
    "start_time": "2023-07-24T03:41:16.306Z"
   },
   {
    "duration": 25,
    "start_time": "2023-07-24T03:41:16.320Z"
   },
   {
    "duration": 9,
    "start_time": "2023-07-24T03:41:16.346Z"
   },
   {
    "duration": 1006,
    "start_time": "2023-07-24T03:57:22.903Z"
   },
   {
    "duration": 1787,
    "start_time": "2023-07-24T03:57:23.912Z"
   },
   {
    "duration": 3,
    "start_time": "2023-07-24T03:57:25.701Z"
   },
   {
    "duration": 709,
    "start_time": "2023-07-24T03:57:25.706Z"
   },
   {
    "duration": 4,
    "start_time": "2023-07-24T03:57:26.417Z"
   },
   {
    "duration": 63,
    "start_time": "2023-07-24T03:57:26.423Z"
   },
   {
    "duration": 36,
    "start_time": "2023-07-24T03:57:26.488Z"
   },
   {
    "duration": 15,
    "start_time": "2023-07-24T03:57:26.526Z"
   },
   {
    "duration": 4,
    "start_time": "2023-07-24T03:57:26.542Z"
   },
   {
    "duration": 20,
    "start_time": "2023-07-24T03:57:26.548Z"
   },
   {
    "duration": 13,
    "start_time": "2023-07-24T03:57:26.570Z"
   },
   {
    "duration": 50,
    "start_time": "2023-07-24T03:57:26.585Z"
   },
   {
    "duration": 4,
    "start_time": "2023-07-24T03:57:26.636Z"
   },
   {
    "duration": 8,
    "start_time": "2023-07-24T03:57:26.642Z"
   },
   {
    "duration": 234,
    "start_time": "2023-07-24T03:57:26.651Z"
   },
   {
    "duration": 183,
    "start_time": "2023-07-24T03:57:26.887Z"
   },
   {
    "duration": 10,
    "start_time": "2023-07-24T03:57:27.072Z"
   },
   {
    "duration": 27,
    "start_time": "2023-07-24T03:57:27.084Z"
   },
   {
    "duration": 27,
    "start_time": "2023-07-24T03:57:27.114Z"
   },
   {
    "duration": 154,
    "start_time": "2023-07-24T03:57:27.143Z"
   },
   {
    "duration": 4,
    "start_time": "2023-07-24T03:57:27.299Z"
   },
   {
    "duration": 31,
    "start_time": "2023-07-24T03:57:27.305Z"
   },
   {
    "duration": 17,
    "start_time": "2023-07-24T03:57:27.338Z"
   },
   {
    "duration": 18,
    "start_time": "2023-07-24T03:57:27.357Z"
   },
   {
    "duration": 27,
    "start_time": "2023-07-24T03:57:27.376Z"
   },
   {
    "duration": 48,
    "start_time": "2023-07-24T03:57:27.404Z"
   },
   {
    "duration": 13,
    "start_time": "2023-07-24T03:57:27.454Z"
   },
   {
    "duration": 4,
    "start_time": "2023-07-24T03:57:27.472Z"
   },
   {
    "duration": 9,
    "start_time": "2023-07-24T03:57:27.478Z"
   },
   {
    "duration": 266,
    "start_time": "2023-07-24T03:57:27.488Z"
   },
   {
    "duration": 11,
    "start_time": "2023-07-24T03:57:27.756Z"
   },
   {
    "duration": 28,
    "start_time": "2023-07-24T03:57:27.769Z"
   },
   {
    "duration": 51,
    "start_time": "2023-07-24T03:57:27.799Z"
   },
   {
    "duration": 9,
    "start_time": "2023-07-24T03:57:27.852Z"
   },
   {
    "duration": 18,
    "start_time": "2023-07-24T03:57:27.863Z"
   },
   {
    "duration": 203,
    "start_time": "2023-07-24T03:57:27.883Z"
   },
   {
    "duration": 11,
    "start_time": "2023-07-24T03:57:28.088Z"
   },
   {
    "duration": 14,
    "start_time": "2023-07-24T03:57:28.101Z"
   },
   {
    "duration": 17,
    "start_time": "2023-07-24T03:57:28.118Z"
   },
   {
    "duration": 43,
    "start_time": "2023-07-24T03:57:28.136Z"
   },
   {
    "duration": 37,
    "start_time": "2023-07-24T03:57:28.181Z"
   },
   {
    "duration": 9,
    "start_time": "2023-07-24T03:57:28.221Z"
   },
   {
    "duration": 16,
    "start_time": "2023-07-24T03:57:28.232Z"
   },
   {
    "duration": 14,
    "start_time": "2023-07-24T03:57:28.250Z"
   },
   {
    "duration": 22,
    "start_time": "2023-07-24T03:57:28.266Z"
   },
   {
    "duration": 10,
    "start_time": "2023-07-24T03:57:28.290Z"
   },
   {
    "duration": 23,
    "start_time": "2023-07-24T03:57:28.302Z"
   },
   {
    "duration": 5,
    "start_time": "2023-07-24T03:57:28.327Z"
   },
   {
    "duration": 11,
    "start_time": "2023-07-24T03:57:28.334Z"
   },
   {
    "duration": 250,
    "start_time": "2023-07-24T03:57:28.347Z"
   },
   {
    "duration": 23,
    "start_time": "2023-07-24T03:57:28.599Z"
   },
   {
    "duration": 6,
    "start_time": "2023-07-24T03:57:28.624Z"
   },
   {
    "duration": 10,
    "start_time": "2023-07-24T03:57:28.632Z"
   },
   {
    "duration": 23,
    "start_time": "2023-07-24T03:57:28.644Z"
   },
   {
    "duration": 9,
    "start_time": "2023-07-24T03:57:28.670Z"
   },
   {
    "duration": 42,
    "start_time": "2023-07-24T03:57:28.680Z"
   },
   {
    "duration": 6,
    "start_time": "2023-07-24T03:57:28.725Z"
   },
   {
    "duration": 24,
    "start_time": "2023-07-24T03:57:28.733Z"
   },
   {
    "duration": 121,
    "start_time": "2023-07-24T03:57:28.759Z"
   },
   {
    "duration": 3,
    "start_time": "2023-07-24T03:57:28.881Z"
   },
   {
    "duration": 28,
    "start_time": "2023-07-24T03:57:28.886Z"
   },
   {
    "duration": 6,
    "start_time": "2023-07-24T03:57:28.917Z"
   },
   {
    "duration": 21,
    "start_time": "2023-07-24T03:57:28.925Z"
   },
   {
    "duration": 127,
    "start_time": "2023-07-24T03:57:28.948Z"
   },
   {
    "duration": 4,
    "start_time": "2023-07-24T03:57:29.077Z"
   },
   {
    "duration": 27,
    "start_time": "2023-07-24T03:57:29.083Z"
   },
   {
    "duration": 15,
    "start_time": "2023-07-24T03:57:29.112Z"
   },
   {
    "duration": 15,
    "start_time": "2023-07-24T03:57:29.129Z"
   },
   {
    "duration": 29,
    "start_time": "2023-07-24T03:57:29.146Z"
   },
   {
    "duration": 32,
    "start_time": "2023-07-24T03:57:29.177Z"
   },
   {
    "duration": 12,
    "start_time": "2023-07-24T03:57:29.211Z"
   },
   {
    "duration": 14,
    "start_time": "2023-07-24T03:57:29.225Z"
   },
   {
    "duration": 8,
    "start_time": "2023-07-24T03:57:29.240Z"
   },
   {
    "duration": 11,
    "start_time": "2023-07-24T03:57:29.250Z"
   },
   {
    "duration": 9,
    "start_time": "2023-07-24T03:57:29.262Z"
   },
   {
    "duration": 17,
    "start_time": "2023-07-24T03:57:29.273Z"
   },
   {
    "duration": 10,
    "start_time": "2023-07-24T03:57:29.291Z"
   },
   {
    "duration": 13,
    "start_time": "2023-07-24T03:57:29.303Z"
   },
   {
    "duration": 27,
    "start_time": "2023-07-24T03:57:29.318Z"
   },
   {
    "duration": 5,
    "start_time": "2023-07-24T03:57:29.346Z"
   },
   {
    "duration": 13,
    "start_time": "2023-07-24T03:57:29.353Z"
   },
   {
    "duration": 45,
    "start_time": "2023-07-24T03:57:29.372Z"
   },
   {
    "duration": 10,
    "start_time": "2023-07-24T03:57:29.420Z"
   },
   {
    "duration": 30,
    "start_time": "2023-07-24T03:57:29.432Z"
   },
   {
    "duration": 51,
    "start_time": "2023-07-24T03:57:29.464Z"
   },
   {
    "duration": 29,
    "start_time": "2023-07-24T03:57:29.518Z"
   },
   {
    "duration": 44,
    "start_time": "2023-07-24T03:57:29.550Z"
   },
   {
    "duration": 53,
    "start_time": "2023-07-24T03:57:29.596Z"
   },
   {
    "duration": 57,
    "start_time": "2023-07-24T03:57:29.651Z"
   },
   {
    "duration": 36,
    "start_time": "2023-07-24T03:57:29.711Z"
   },
   {
    "duration": 44,
    "start_time": "2023-07-24T03:57:29.749Z"
   },
   {
    "duration": 34,
    "start_time": "2023-07-24T03:57:29.795Z"
   },
   {
    "duration": 66,
    "start_time": "2023-07-24T03:57:29.834Z"
   },
   {
    "duration": 50,
    "start_time": "2023-07-24T03:57:29.903Z"
   },
   {
    "duration": 21,
    "start_time": "2023-07-24T03:57:29.956Z"
   },
   {
    "duration": 24,
    "start_time": "2023-07-24T03:57:29.979Z"
   },
   {
    "duration": 43,
    "start_time": "2023-07-24T03:57:30.005Z"
   },
   {
    "duration": 40,
    "start_time": "2023-07-24T03:57:30.050Z"
   },
   {
    "duration": 111,
    "start_time": "2023-07-24T03:57:30.092Z"
   },
   {
    "duration": 29,
    "start_time": "2023-07-24T03:57:30.205Z"
   },
   {
    "duration": 90,
    "start_time": "2023-07-24T03:57:30.236Z"
   },
   {
    "duration": 122,
    "start_time": "2023-07-24T03:57:30.328Z"
   },
   {
    "duration": 1094,
    "start_time": "2023-07-24T03:57:30.452Z"
   },
   {
    "duration": 6,
    "start_time": "2023-07-24T03:57:31.548Z"
   },
   {
    "duration": 29,
    "start_time": "2023-07-24T03:57:31.556Z"
   },
   {
    "duration": 56,
    "start_time": "2023-07-24T03:57:31.587Z"
   },
   {
    "duration": 111,
    "start_time": "2023-07-24T03:57:31.646Z"
   },
   {
    "duration": 4,
    "start_time": "2023-07-24T03:57:31.760Z"
   },
   {
    "duration": 35,
    "start_time": "2023-07-24T03:57:31.765Z"
   },
   {
    "duration": 56,
    "start_time": "2023-07-24T03:57:31.802Z"
   },
   {
    "duration": 46,
    "start_time": "2023-07-24T03:57:31.860Z"
   },
   {
    "duration": 38,
    "start_time": "2023-07-24T03:57:31.908Z"
   },
   {
    "duration": 44,
    "start_time": "2023-07-24T03:57:31.948Z"
   },
   {
    "duration": 57,
    "start_time": "2023-07-24T03:57:31.994Z"
   },
   {
    "duration": 28,
    "start_time": "2023-07-24T03:57:32.053Z"
   },
   {
    "duration": 0,
    "start_time": "2023-07-24T04:08:33.305Z"
   },
   {
    "duration": 0,
    "start_time": "2023-07-24T04:08:33.306Z"
   },
   {
    "duration": 0,
    "start_time": "2023-07-24T04:08:33.307Z"
   },
   {
    "duration": 0,
    "start_time": "2023-07-24T04:08:33.308Z"
   },
   {
    "duration": 0,
    "start_time": "2023-07-24T04:08:33.310Z"
   },
   {
    "duration": 0,
    "start_time": "2023-07-24T04:08:33.311Z"
   },
   {
    "duration": 938,
    "start_time": "2023-07-24T04:08:44.880Z"
   },
   {
    "duration": 1628,
    "start_time": "2023-07-24T04:08:45.821Z"
   },
   {
    "duration": 4,
    "start_time": "2023-07-24T04:08:47.451Z"
   },
   {
    "duration": 528,
    "start_time": "2023-07-24T04:08:47.456Z"
   },
   {
    "duration": 3,
    "start_time": "2023-07-24T04:08:47.986Z"
   },
   {
    "duration": 48,
    "start_time": "2023-07-24T04:08:47.991Z"
   },
   {
    "duration": 14,
    "start_time": "2023-07-24T04:08:48.041Z"
   },
   {
    "duration": 19,
    "start_time": "2023-07-24T04:08:48.058Z"
   },
   {
    "duration": 3,
    "start_time": "2023-07-24T04:08:48.080Z"
   },
   {
    "duration": 40,
    "start_time": "2023-07-24T04:08:48.085Z"
   },
   {
    "duration": 14,
    "start_time": "2023-07-24T04:08:48.128Z"
   },
   {
    "duration": 26,
    "start_time": "2023-07-24T04:08:48.144Z"
   },
   {
    "duration": 15,
    "start_time": "2023-07-24T04:08:48.172Z"
   },
   {
    "duration": 7,
    "start_time": "2023-07-24T04:08:48.213Z"
   },
   {
    "duration": 218,
    "start_time": "2023-07-24T04:08:48.222Z"
   },
   {
    "duration": 185,
    "start_time": "2023-07-24T04:08:48.443Z"
   },
   {
    "duration": 12,
    "start_time": "2023-07-24T04:08:48.632Z"
   },
   {
    "duration": 20,
    "start_time": "2023-07-24T04:08:48.646Z"
   },
   {
    "duration": 19,
    "start_time": "2023-07-24T04:08:48.668Z"
   },
   {
    "duration": 144,
    "start_time": "2023-07-24T04:08:48.689Z"
   },
   {
    "duration": 5,
    "start_time": "2023-07-24T04:08:48.835Z"
   },
   {
    "duration": 10,
    "start_time": "2023-07-24T04:08:48.842Z"
   },
   {
    "duration": 17,
    "start_time": "2023-07-24T04:08:48.854Z"
   },
   {
    "duration": 9,
    "start_time": "2023-07-24T04:08:48.874Z"
   },
   {
    "duration": 35,
    "start_time": "2023-07-24T04:08:48.885Z"
   },
   {
    "duration": 37,
    "start_time": "2023-07-24T04:08:48.923Z"
   },
   {
    "duration": 14,
    "start_time": "2023-07-24T04:08:48.963Z"
   },
   {
    "duration": 5,
    "start_time": "2023-07-24T04:08:48.979Z"
   },
   {
    "duration": 34,
    "start_time": "2023-07-24T04:08:48.986Z"
   },
   {
    "duration": 229,
    "start_time": "2023-07-24T04:08:49.023Z"
   },
   {
    "duration": 11,
    "start_time": "2023-07-24T04:08:49.254Z"
   },
   {
    "duration": 10,
    "start_time": "2023-07-24T04:08:49.267Z"
   },
   {
    "duration": 18,
    "start_time": "2023-07-24T04:08:49.278Z"
   },
   {
    "duration": 4,
    "start_time": "2023-07-24T04:08:49.313Z"
   },
   {
    "duration": 14,
    "start_time": "2023-07-24T04:08:49.319Z"
   },
   {
    "duration": 192,
    "start_time": "2023-07-24T04:08:49.336Z"
   },
   {
    "duration": 11,
    "start_time": "2023-07-24T04:08:49.530Z"
   },
   {
    "duration": 7,
    "start_time": "2023-07-24T04:08:49.544Z"
   },
   {
    "duration": 16,
    "start_time": "2023-07-24T04:08:49.552Z"
   },
   {
    "duration": 72,
    "start_time": "2023-07-24T04:08:49.570Z"
   },
   {
    "duration": 5,
    "start_time": "2023-07-24T04:08:49.648Z"
   },
   {
    "duration": 29,
    "start_time": "2023-07-24T04:08:49.655Z"
   },
   {
    "duration": 26,
    "start_time": "2023-07-24T04:08:49.687Z"
   },
   {
    "duration": 6,
    "start_time": "2023-07-24T04:08:49.716Z"
   },
   {
    "duration": 16,
    "start_time": "2023-07-24T04:08:49.724Z"
   },
   {
    "duration": 5,
    "start_time": "2023-07-24T04:08:49.742Z"
   },
   {
    "duration": 15,
    "start_time": "2023-07-24T04:08:49.750Z"
   },
   {
    "duration": 12,
    "start_time": "2023-07-24T04:08:49.768Z"
   },
   {
    "duration": 9,
    "start_time": "2023-07-24T04:08:49.814Z"
   },
   {
    "duration": 225,
    "start_time": "2023-07-24T04:08:49.826Z"
   },
   {
    "duration": 14,
    "start_time": "2023-07-24T04:08:50.053Z"
   },
   {
    "duration": 9,
    "start_time": "2023-07-24T04:08:50.069Z"
   },
   {
    "duration": 33,
    "start_time": "2023-07-24T04:08:50.080Z"
   },
   {
    "duration": 30,
    "start_time": "2023-07-24T04:08:50.115Z"
   },
   {
    "duration": 10,
    "start_time": "2023-07-24T04:08:50.147Z"
   },
   {
    "duration": 28,
    "start_time": "2023-07-24T04:08:50.159Z"
   },
   {
    "duration": 6,
    "start_time": "2023-07-24T04:08:50.190Z"
   },
   {
    "duration": 11,
    "start_time": "2023-07-24T04:08:50.198Z"
   },
   {
    "duration": 123,
    "start_time": "2023-07-24T04:08:50.212Z"
   },
   {
    "duration": 3,
    "start_time": "2023-07-24T04:08:50.337Z"
   },
   {
    "duration": 14,
    "start_time": "2023-07-24T04:08:50.342Z"
   },
   {
    "duration": 20,
    "start_time": "2023-07-24T04:08:50.358Z"
   },
   {
    "duration": 41,
    "start_time": "2023-07-24T04:08:50.380Z"
   },
   {
    "duration": 207,
    "start_time": "2023-07-24T04:08:50.422Z"
   },
   {
    "duration": 4,
    "start_time": "2023-07-24T04:08:50.631Z"
   },
   {
    "duration": 50,
    "start_time": "2023-07-24T04:08:50.636Z"
   },
   {
    "duration": 26,
    "start_time": "2023-07-24T04:08:50.688Z"
   },
   {
    "duration": 12,
    "start_time": "2023-07-24T04:08:50.716Z"
   },
   {
    "duration": 50,
    "start_time": "2023-07-24T04:08:50.729Z"
   },
   {
    "duration": 17,
    "start_time": "2023-07-24T04:08:50.781Z"
   },
   {
    "duration": 34,
    "start_time": "2023-07-24T04:08:50.800Z"
   },
   {
    "duration": 18,
    "start_time": "2023-07-24T04:08:50.835Z"
   },
   {
    "duration": 26,
    "start_time": "2023-07-24T04:08:50.855Z"
   },
   {
    "duration": 32,
    "start_time": "2023-07-24T04:08:50.883Z"
   },
   {
    "duration": 18,
    "start_time": "2023-07-24T04:08:50.917Z"
   },
   {
    "duration": 26,
    "start_time": "2023-07-24T04:08:50.938Z"
   },
   {
    "duration": 28,
    "start_time": "2023-07-24T04:08:50.965Z"
   },
   {
    "duration": 55,
    "start_time": "2023-07-24T04:08:50.994Z"
   },
   {
    "duration": 36,
    "start_time": "2023-07-24T04:08:51.051Z"
   },
   {
    "duration": 7,
    "start_time": "2023-07-24T04:08:51.089Z"
   },
   {
    "duration": 15,
    "start_time": "2023-07-24T04:08:51.098Z"
   },
   {
    "duration": 15,
    "start_time": "2023-07-24T04:08:51.115Z"
   },
   {
    "duration": 12,
    "start_time": "2023-07-24T04:08:51.132Z"
   },
   {
    "duration": 11,
    "start_time": "2023-07-24T04:08:51.146Z"
   },
   {
    "duration": 13,
    "start_time": "2023-07-24T04:08:51.159Z"
   },
   {
    "duration": 9,
    "start_time": "2023-07-24T04:08:51.174Z"
   },
   {
    "duration": 10,
    "start_time": "2023-07-24T04:08:51.185Z"
   },
   {
    "duration": 28,
    "start_time": "2023-07-24T04:08:51.196Z"
   },
   {
    "duration": 12,
    "start_time": "2023-07-24T04:08:51.226Z"
   },
   {
    "duration": 33,
    "start_time": "2023-07-24T04:08:51.240Z"
   },
   {
    "duration": 37,
    "start_time": "2023-07-24T04:08:51.275Z"
   },
   {
    "duration": 19,
    "start_time": "2023-07-24T04:08:51.313Z"
   },
   {
    "duration": 8,
    "start_time": "2023-07-24T04:08:51.334Z"
   },
   {
    "duration": 11,
    "start_time": "2023-07-24T04:08:51.343Z"
   },
   {
    "duration": 28,
    "start_time": "2023-07-24T04:08:51.356Z"
   },
   {
    "duration": 259,
    "start_time": "2023-07-24T04:08:51.386Z"
   },
   {
    "duration": 69,
    "start_time": "2023-07-24T04:08:51.648Z"
   },
   {
    "duration": 8,
    "start_time": "2023-07-24T04:08:51.720Z"
   },
   {
    "duration": 17,
    "start_time": "2023-07-24T04:08:51.730Z"
   },
   {
    "duration": 8,
    "start_time": "2023-07-24T04:08:51.749Z"
   },
   {
    "duration": 27,
    "start_time": "2023-07-24T04:08:51.759Z"
   },
   {
    "duration": 69,
    "start_time": "2023-07-24T04:08:51.789Z"
   },
   {
    "duration": 883,
    "start_time": "2023-07-24T04:08:51.860Z"
   },
   {
    "duration": 6,
    "start_time": "2023-07-24T04:08:52.745Z"
   },
   {
    "duration": 38,
    "start_time": "2023-07-24T04:08:52.753Z"
   },
   {
    "duration": 18,
    "start_time": "2023-07-24T04:08:52.792Z"
   },
   {
    "duration": 41,
    "start_time": "2023-07-24T04:08:52.812Z"
   },
   {
    "duration": 4,
    "start_time": "2023-07-24T04:08:52.855Z"
   },
   {
    "duration": 14,
    "start_time": "2023-07-24T04:08:52.861Z"
   },
   {
    "duration": 24,
    "start_time": "2023-07-24T04:08:52.877Z"
   },
   {
    "duration": 13,
    "start_time": "2023-07-24T04:08:52.903Z"
   },
   {
    "duration": 8,
    "start_time": "2023-07-24T04:08:52.918Z"
   },
   {
    "duration": 18,
    "start_time": "2023-07-24T04:08:52.927Z"
   },
   {
    "duration": 18,
    "start_time": "2023-07-24T04:08:52.947Z"
   },
   {
    "duration": 6,
    "start_time": "2023-07-24T04:08:52.966Z"
   },
   {
    "duration": 0,
    "start_time": "2023-07-24T04:14:55.678Z"
   },
   {
    "duration": 0,
    "start_time": "2023-07-24T04:14:55.680Z"
   },
   {
    "duration": 0,
    "start_time": "2023-07-24T04:14:55.681Z"
   },
   {
    "duration": 0,
    "start_time": "2023-07-24T04:14:55.683Z"
   },
   {
    "duration": 0,
    "start_time": "2023-07-24T04:14:55.684Z"
   },
   {
    "duration": 0,
    "start_time": "2023-07-24T04:14:55.686Z"
   },
   {
    "duration": 1290,
    "start_time": "2023-07-24T04:14:59.277Z"
   },
   {
    "duration": 1840,
    "start_time": "2023-07-24T04:15:00.570Z"
   },
   {
    "duration": 7,
    "start_time": "2023-07-24T04:15:02.413Z"
   },
   {
    "duration": 681,
    "start_time": "2023-07-24T04:15:02.423Z"
   },
   {
    "duration": 4,
    "start_time": "2023-07-24T04:15:03.105Z"
   },
   {
    "duration": 264,
    "start_time": "2023-07-24T04:15:03.111Z"
   },
   {
    "duration": 14,
    "start_time": "2023-07-24T04:15:03.377Z"
   },
   {
    "duration": 36,
    "start_time": "2023-07-24T04:15:03.394Z"
   },
   {
    "duration": 27,
    "start_time": "2023-07-24T04:15:03.432Z"
   },
   {
    "duration": 90,
    "start_time": "2023-07-24T04:15:03.462Z"
   },
   {
    "duration": 45,
    "start_time": "2023-07-24T04:15:03.554Z"
   },
   {
    "duration": 26,
    "start_time": "2023-07-24T04:15:03.602Z"
   },
   {
    "duration": 21,
    "start_time": "2023-07-24T04:15:03.631Z"
   },
   {
    "duration": 94,
    "start_time": "2023-07-24T04:15:03.653Z"
   },
   {
    "duration": 286,
    "start_time": "2023-07-24T04:15:03.749Z"
   },
   {
    "duration": 189,
    "start_time": "2023-07-24T04:15:04.037Z"
   },
   {
    "duration": 12,
    "start_time": "2023-07-24T04:15:04.228Z"
   },
   {
    "duration": 68,
    "start_time": "2023-07-24T04:15:04.242Z"
   },
   {
    "duration": 57,
    "start_time": "2023-07-24T04:15:04.311Z"
   },
   {
    "duration": 176,
    "start_time": "2023-07-24T04:15:04.371Z"
   },
   {
    "duration": 5,
    "start_time": "2023-07-24T04:15:04.549Z"
   },
   {
    "duration": 16,
    "start_time": "2023-07-24T04:15:04.556Z"
   },
   {
    "duration": 41,
    "start_time": "2023-07-24T04:15:04.574Z"
   },
   {
    "duration": 6,
    "start_time": "2023-07-24T04:15:04.618Z"
   },
   {
    "duration": 36,
    "start_time": "2023-07-24T04:15:04.625Z"
   },
   {
    "duration": 40,
    "start_time": "2023-07-24T04:15:04.663Z"
   },
   {
    "duration": 16,
    "start_time": "2023-07-24T04:15:04.705Z"
   },
   {
    "duration": 12,
    "start_time": "2023-07-24T04:15:04.727Z"
   },
   {
    "duration": 22,
    "start_time": "2023-07-24T04:15:04.742Z"
   },
   {
    "duration": 255,
    "start_time": "2023-07-24T04:15:04.766Z"
   },
   {
    "duration": 12,
    "start_time": "2023-07-24T04:15:05.024Z"
   },
   {
    "duration": 13,
    "start_time": "2023-07-24T04:15:05.039Z"
   },
   {
    "duration": 65,
    "start_time": "2023-07-24T04:15:05.054Z"
   },
   {
    "duration": 11,
    "start_time": "2023-07-24T04:15:05.122Z"
   },
   {
    "duration": 34,
    "start_time": "2023-07-24T04:15:05.135Z"
   },
   {
    "duration": 224,
    "start_time": "2023-07-24T04:15:05.172Z"
   },
   {
    "duration": 21,
    "start_time": "2023-07-24T04:15:05.398Z"
   },
   {
    "duration": 30,
    "start_time": "2023-07-24T04:15:05.422Z"
   },
   {
    "duration": 28,
    "start_time": "2023-07-24T04:15:05.454Z"
   },
   {
    "duration": 53,
    "start_time": "2023-07-24T04:15:05.484Z"
   },
   {
    "duration": 6,
    "start_time": "2023-07-24T04:15:05.539Z"
   },
   {
    "duration": 25,
    "start_time": "2023-07-24T04:15:05.546Z"
   },
   {
    "duration": 106,
    "start_time": "2023-07-24T04:15:05.572Z"
   },
   {
    "duration": 20,
    "start_time": "2023-07-24T04:15:05.680Z"
   },
   {
    "duration": 30,
    "start_time": "2023-07-24T04:15:05.701Z"
   },
   {
    "duration": 8,
    "start_time": "2023-07-24T04:15:05.733Z"
   },
   {
    "duration": 20,
    "start_time": "2023-07-24T04:15:05.743Z"
   },
   {
    "duration": 17,
    "start_time": "2023-07-24T04:15:05.765Z"
   },
   {
    "duration": 24,
    "start_time": "2023-07-24T04:15:05.784Z"
   },
   {
    "duration": 222,
    "start_time": "2023-07-24T04:15:05.810Z"
   },
   {
    "duration": 17,
    "start_time": "2023-07-24T04:15:06.035Z"
   },
   {
    "duration": 4,
    "start_time": "2023-07-24T04:15:06.054Z"
   },
   {
    "duration": 32,
    "start_time": "2023-07-24T04:15:06.060Z"
   },
   {
    "duration": 48,
    "start_time": "2023-07-24T04:15:06.094Z"
   },
   {
    "duration": 10,
    "start_time": "2023-07-24T04:15:06.144Z"
   },
   {
    "duration": 52,
    "start_time": "2023-07-24T04:15:06.156Z"
   },
   {
    "duration": 5,
    "start_time": "2023-07-24T04:15:06.211Z"
   },
   {
    "duration": 27,
    "start_time": "2023-07-24T04:15:06.218Z"
   },
   {
    "duration": 185,
    "start_time": "2023-07-24T04:15:06.247Z"
   },
   {
    "duration": 2,
    "start_time": "2023-07-24T04:15:06.435Z"
   },
   {
    "duration": 45,
    "start_time": "2023-07-24T04:15:06.440Z"
   },
   {
    "duration": 5,
    "start_time": "2023-07-24T04:15:06.487Z"
   },
   {
    "duration": 43,
    "start_time": "2023-07-24T04:15:06.494Z"
   },
   {
    "duration": 129,
    "start_time": "2023-07-24T04:15:06.539Z"
   },
   {
    "duration": 4,
    "start_time": "2023-07-24T04:15:06.670Z"
   },
   {
    "duration": 160,
    "start_time": "2023-07-24T04:15:06.676Z"
   },
   {
    "duration": 72,
    "start_time": "2023-07-24T04:15:06.838Z"
   },
   {
    "duration": 147,
    "start_time": "2023-07-24T04:15:06.912Z"
   },
   {
    "duration": 35,
    "start_time": "2023-07-24T04:15:07.062Z"
   },
   {
    "duration": 19,
    "start_time": "2023-07-24T04:15:07.100Z"
   },
   {
    "duration": 13,
    "start_time": "2023-07-24T04:15:07.122Z"
   },
   {
    "duration": 13,
    "start_time": "2023-07-24T04:15:07.137Z"
   },
   {
    "duration": 7,
    "start_time": "2023-07-24T04:15:07.153Z"
   },
   {
    "duration": 6,
    "start_time": "2023-07-24T04:15:07.163Z"
   },
   {
    "duration": 32,
    "start_time": "2023-07-24T04:15:07.172Z"
   },
   {
    "duration": 22,
    "start_time": "2023-07-24T04:15:07.207Z"
   },
   {
    "duration": 26,
    "start_time": "2023-07-24T04:15:07.232Z"
   },
   {
    "duration": 14,
    "start_time": "2023-07-24T04:15:07.261Z"
   },
   {
    "duration": 51,
    "start_time": "2023-07-24T04:15:07.278Z"
   },
   {
    "duration": 8,
    "start_time": "2023-07-24T04:15:07.332Z"
   },
   {
    "duration": 20,
    "start_time": "2023-07-24T04:15:07.343Z"
   },
   {
    "duration": 26,
    "start_time": "2023-07-24T04:15:07.377Z"
   },
   {
    "duration": 14,
    "start_time": "2023-07-24T04:15:07.415Z"
   },
   {
    "duration": 11,
    "start_time": "2023-07-24T04:15:07.432Z"
   },
   {
    "duration": 56,
    "start_time": "2023-07-24T04:15:07.446Z"
   },
   {
    "duration": 16,
    "start_time": "2023-07-24T04:15:07.504Z"
   },
   {
    "duration": 31,
    "start_time": "2023-07-24T04:15:07.521Z"
   },
   {
    "duration": 28,
    "start_time": "2023-07-24T04:15:07.554Z"
   },
   {
    "duration": 23,
    "start_time": "2023-07-24T04:15:07.584Z"
   },
   {
    "duration": 38,
    "start_time": "2023-07-24T04:15:07.611Z"
   },
   {
    "duration": 55,
    "start_time": "2023-07-24T04:15:07.652Z"
   },
   {
    "duration": 14,
    "start_time": "2023-07-24T04:15:07.709Z"
   },
   {
    "duration": 9,
    "start_time": "2023-07-24T04:15:07.727Z"
   },
   {
    "duration": 22,
    "start_time": "2023-07-24T04:15:07.739Z"
   },
   {
    "duration": 19,
    "start_time": "2023-07-24T04:15:07.764Z"
   },
   {
    "duration": 31,
    "start_time": "2023-07-24T04:15:07.785Z"
   },
   {
    "duration": 6,
    "start_time": "2023-07-24T04:15:07.818Z"
   },
   {
    "duration": 13,
    "start_time": "2023-07-24T04:15:07.826Z"
   },
   {
    "duration": 27,
    "start_time": "2023-07-24T04:15:07.841Z"
   },
   {
    "duration": 9,
    "start_time": "2023-07-24T04:15:07.870Z"
   },
   {
    "duration": 47,
    "start_time": "2023-07-24T04:15:07.881Z"
   },
   {
    "duration": 52,
    "start_time": "2023-07-24T04:15:07.931Z"
   },
   {
    "duration": 936,
    "start_time": "2023-07-24T04:15:07.986Z"
   },
   {
    "duration": 7,
    "start_time": "2023-07-24T04:15:08.925Z"
   },
   {
    "duration": 16,
    "start_time": "2023-07-24T04:15:08.934Z"
   },
   {
    "duration": 26,
    "start_time": "2023-07-24T04:15:08.953Z"
   },
   {
    "duration": 66,
    "start_time": "2023-07-24T04:15:08.982Z"
   },
   {
    "duration": 4,
    "start_time": "2023-07-24T04:15:09.049Z"
   },
   {
    "duration": 7,
    "start_time": "2023-07-24T04:15:09.055Z"
   },
   {
    "duration": 7,
    "start_time": "2023-07-24T04:15:09.064Z"
   },
   {
    "duration": 17,
    "start_time": "2023-07-24T04:15:09.073Z"
   },
   {
    "duration": 25,
    "start_time": "2023-07-24T04:15:09.093Z"
   },
   {
    "duration": 23,
    "start_time": "2023-07-24T04:15:09.120Z"
   },
   {
    "duration": 22,
    "start_time": "2023-07-24T04:15:09.145Z"
   },
   {
    "duration": 5,
    "start_time": "2023-07-24T04:15:09.170Z"
   },
   {
    "duration": 103533,
    "start_time": "2023-07-24T04:15:09.177Z"
   },
   {
    "duration": 0,
    "start_time": "2023-07-24T04:16:52.714Z"
   },
   {
    "duration": 0,
    "start_time": "2023-07-24T04:16:52.715Z"
   },
   {
    "duration": 0,
    "start_time": "2023-07-24T04:16:52.716Z"
   },
   {
    "duration": 0,
    "start_time": "2023-07-24T04:16:52.717Z"
   },
   {
    "duration": 0,
    "start_time": "2023-07-24T04:16:52.719Z"
   },
   {
    "duration": 1171,
    "start_time": "2023-07-24T04:17:03.262Z"
   },
   {
    "duration": 1871,
    "start_time": "2023-07-24T04:17:04.439Z"
   },
   {
    "duration": 4,
    "start_time": "2023-07-24T04:17:06.312Z"
   },
   {
    "duration": 680,
    "start_time": "2023-07-24T04:17:06.319Z"
   },
   {
    "duration": 3,
    "start_time": "2023-07-24T04:17:07.001Z"
   },
   {
    "duration": 70,
    "start_time": "2023-07-24T04:17:07.006Z"
   },
   {
    "duration": 19,
    "start_time": "2023-07-24T04:17:07.079Z"
   },
   {
    "duration": 35,
    "start_time": "2023-07-24T04:17:07.101Z"
   },
   {
    "duration": 4,
    "start_time": "2023-07-24T04:17:07.138Z"
   },
   {
    "duration": 16,
    "start_time": "2023-07-24T04:17:07.145Z"
   },
   {
    "duration": 17,
    "start_time": "2023-07-24T04:17:07.164Z"
   },
   {
    "duration": 55,
    "start_time": "2023-07-24T04:17:07.183Z"
   },
   {
    "duration": 7,
    "start_time": "2023-07-24T04:17:07.240Z"
   },
   {
    "duration": 9,
    "start_time": "2023-07-24T04:17:07.250Z"
   },
   {
    "duration": 268,
    "start_time": "2023-07-24T04:17:07.261Z"
   },
   {
    "duration": 245,
    "start_time": "2023-07-24T04:17:07.532Z"
   },
   {
    "duration": 16,
    "start_time": "2023-07-24T04:17:07.779Z"
   },
   {
    "duration": 23,
    "start_time": "2023-07-24T04:17:07.797Z"
   },
   {
    "duration": 40,
    "start_time": "2023-07-24T04:17:07.823Z"
   },
   {
    "duration": 151,
    "start_time": "2023-07-24T04:17:07.865Z"
   },
   {
    "duration": 7,
    "start_time": "2023-07-24T04:17:08.019Z"
   },
   {
    "duration": 10,
    "start_time": "2023-07-24T04:17:08.029Z"
   },
   {
    "duration": 15,
    "start_time": "2023-07-24T04:17:08.042Z"
   },
   {
    "duration": 21,
    "start_time": "2023-07-24T04:17:08.060Z"
   },
   {
    "duration": 44,
    "start_time": "2023-07-24T04:17:08.083Z"
   },
   {
    "duration": 55,
    "start_time": "2023-07-24T04:17:08.130Z"
   },
   {
    "duration": 33,
    "start_time": "2023-07-24T04:17:08.188Z"
   },
   {
    "duration": 6,
    "start_time": "2023-07-24T04:17:08.227Z"
   },
   {
    "duration": 8,
    "start_time": "2023-07-24T04:17:08.235Z"
   },
   {
    "duration": 293,
    "start_time": "2023-07-24T04:17:08.245Z"
   },
   {
    "duration": 19,
    "start_time": "2023-07-24T04:17:08.540Z"
   },
   {
    "duration": 13,
    "start_time": "2023-07-24T04:17:08.561Z"
   },
   {
    "duration": 23,
    "start_time": "2023-07-24T04:17:08.577Z"
   },
   {
    "duration": 6,
    "start_time": "2023-07-24T04:17:08.614Z"
   },
   {
    "duration": 9,
    "start_time": "2023-07-24T04:17:08.622Z"
   },
   {
    "duration": 240,
    "start_time": "2023-07-24T04:17:08.634Z"
   },
   {
    "duration": 14,
    "start_time": "2023-07-24T04:17:08.877Z"
   },
   {
    "duration": 22,
    "start_time": "2023-07-24T04:17:08.894Z"
   },
   {
    "duration": 16,
    "start_time": "2023-07-24T04:17:08.918Z"
   },
   {
    "duration": 75,
    "start_time": "2023-07-24T04:17:08.936Z"
   },
   {
    "duration": 5,
    "start_time": "2023-07-24T04:17:09.015Z"
   },
   {
    "duration": 11,
    "start_time": "2023-07-24T04:17:09.022Z"
   },
   {
    "duration": 19,
    "start_time": "2023-07-24T04:17:09.035Z"
   },
   {
    "duration": 6,
    "start_time": "2023-07-24T04:17:09.056Z"
   },
   {
    "duration": 49,
    "start_time": "2023-07-24T04:17:09.065Z"
   },
   {
    "duration": 8,
    "start_time": "2023-07-24T04:17:09.116Z"
   },
   {
    "duration": 30,
    "start_time": "2023-07-24T04:17:09.126Z"
   },
   {
    "duration": 10,
    "start_time": "2023-07-24T04:17:09.158Z"
   },
   {
    "duration": 9,
    "start_time": "2023-07-24T04:17:09.170Z"
   },
   {
    "duration": 280,
    "start_time": "2023-07-24T04:17:09.182Z"
   },
   {
    "duration": 17,
    "start_time": "2023-07-24T04:17:09.464Z"
   },
   {
    "duration": 5,
    "start_time": "2023-07-24T04:17:09.483Z"
   },
   {
    "duration": 35,
    "start_time": "2023-07-24T04:17:09.490Z"
   },
   {
    "duration": 31,
    "start_time": "2023-07-24T04:17:09.527Z"
   },
   {
    "duration": 17,
    "start_time": "2023-07-24T04:17:09.561Z"
   },
   {
    "duration": 44,
    "start_time": "2023-07-24T04:17:09.580Z"
   },
   {
    "duration": 15,
    "start_time": "2023-07-24T04:17:09.626Z"
   },
   {
    "duration": 10,
    "start_time": "2023-07-24T04:17:09.644Z"
   },
   {
    "duration": 185,
    "start_time": "2023-07-24T04:17:09.655Z"
   },
   {
    "duration": 5,
    "start_time": "2023-07-24T04:17:09.842Z"
   },
   {
    "duration": 46,
    "start_time": "2023-07-24T04:17:09.849Z"
   },
   {
    "duration": 7,
    "start_time": "2023-07-24T04:17:09.898Z"
   },
   {
    "duration": 29,
    "start_time": "2023-07-24T04:17:09.909Z"
   },
   {
    "duration": 177,
    "start_time": "2023-07-24T04:17:09.940Z"
   },
   {
    "duration": 5,
    "start_time": "2023-07-24T04:17:10.120Z"
   },
   {
    "duration": 24,
    "start_time": "2023-07-24T04:17:10.128Z"
   },
   {
    "duration": 32,
    "start_time": "2023-07-24T04:17:10.154Z"
   },
   {
    "duration": 67,
    "start_time": "2023-07-24T04:17:10.188Z"
   },
   {
    "duration": 24,
    "start_time": "2023-07-24T04:17:10.258Z"
   },
   {
    "duration": 10,
    "start_time": "2023-07-24T04:17:10.284Z"
   },
   {
    "duration": 20,
    "start_time": "2023-07-24T04:17:10.296Z"
   },
   {
    "duration": 16,
    "start_time": "2023-07-24T04:17:10.318Z"
   },
   {
    "duration": 18,
    "start_time": "2023-07-24T04:17:10.335Z"
   },
   {
    "duration": 14,
    "start_time": "2023-07-24T04:17:10.356Z"
   },
   {
    "duration": 9,
    "start_time": "2023-07-24T04:17:10.372Z"
   },
   {
    "duration": 14,
    "start_time": "2023-07-24T04:17:10.383Z"
   },
   {
    "duration": 21,
    "start_time": "2023-07-24T04:17:10.399Z"
   },
   {
    "duration": 9,
    "start_time": "2023-07-24T04:17:10.423Z"
   },
   {
    "duration": 48,
    "start_time": "2023-07-24T04:17:10.435Z"
   },
   {
    "duration": 28,
    "start_time": "2023-07-24T04:17:10.486Z"
   },
   {
    "duration": 20,
    "start_time": "2023-07-24T04:17:10.518Z"
   },
   {
    "duration": 10,
    "start_time": "2023-07-24T04:17:10.547Z"
   },
   {
    "duration": 28,
    "start_time": "2023-07-24T04:17:10.560Z"
   },
   {
    "duration": 16,
    "start_time": "2023-07-24T04:17:10.590Z"
   },
   {
    "duration": 18,
    "start_time": "2023-07-24T04:17:10.609Z"
   },
   {
    "duration": 12,
    "start_time": "2023-07-24T04:17:10.630Z"
   },
   {
    "duration": 16,
    "start_time": "2023-07-24T04:17:10.645Z"
   },
   {
    "duration": 15,
    "start_time": "2023-07-24T04:17:10.663Z"
   },
   {
    "duration": 5,
    "start_time": "2023-07-24T04:17:10.712Z"
   },
   {
    "duration": 13,
    "start_time": "2023-07-24T04:17:10.720Z"
   },
   {
    "duration": 29,
    "start_time": "2023-07-24T04:17:10.736Z"
   },
   {
    "duration": 22,
    "start_time": "2023-07-24T04:17:10.767Z"
   },
   {
    "duration": 8,
    "start_time": "2023-07-24T04:17:10.814Z"
   },
   {
    "duration": 31,
    "start_time": "2023-07-24T04:17:10.825Z"
   },
   {
    "duration": 21,
    "start_time": "2023-07-24T04:17:10.858Z"
   },
   {
    "duration": 18,
    "start_time": "2023-07-24T04:17:10.881Z"
   },
   {
    "duration": 18,
    "start_time": "2023-07-24T04:17:10.902Z"
   },
   {
    "duration": 35,
    "start_time": "2023-07-24T04:17:10.922Z"
   },
   {
    "duration": 37,
    "start_time": "2023-07-24T04:17:10.960Z"
   },
   {
    "duration": 13,
    "start_time": "2023-07-24T04:17:11.000Z"
   },
   {
    "duration": 20,
    "start_time": "2023-07-24T04:17:11.016Z"
   },
   {
    "duration": 75,
    "start_time": "2023-07-24T04:17:11.039Z"
   },
   {
    "duration": 1020,
    "start_time": "2023-07-24T04:17:11.116Z"
   },
   {
    "duration": 11,
    "start_time": "2023-07-24T04:17:12.139Z"
   },
   {
    "duration": 23,
    "start_time": "2023-07-24T04:17:12.153Z"
   },
   {
    "duration": 25,
    "start_time": "2023-07-24T04:17:12.178Z"
   },
   {
    "duration": 72,
    "start_time": "2023-07-24T04:17:12.206Z"
   },
   {
    "duration": 4,
    "start_time": "2023-07-24T04:17:12.281Z"
   },
   {
    "duration": 30,
    "start_time": "2023-07-24T04:17:12.287Z"
   },
   {
    "duration": 30,
    "start_time": "2023-07-24T04:17:12.320Z"
   },
   {
    "duration": 23,
    "start_time": "2023-07-24T04:17:12.352Z"
   },
   {
    "duration": 9,
    "start_time": "2023-07-24T04:17:12.378Z"
   },
   {
    "duration": 13,
    "start_time": "2023-07-24T04:17:12.389Z"
   },
   {
    "duration": 44,
    "start_time": "2023-07-24T04:17:12.405Z"
   },
   {
    "duration": 6,
    "start_time": "2023-07-24T04:17:12.452Z"
   },
   {
    "duration": 172868,
    "start_time": "2023-07-24T04:17:12.461Z"
   },
   {
    "duration": 0,
    "start_time": "2023-07-24T04:20:05.334Z"
   },
   {
    "duration": 0,
    "start_time": "2023-07-24T04:20:05.336Z"
   },
   {
    "duration": 0,
    "start_time": "2023-07-24T04:20:05.337Z"
   },
   {
    "duration": 0,
    "start_time": "2023-07-24T04:20:05.339Z"
   },
   {
    "duration": 0,
    "start_time": "2023-07-24T04:20:05.340Z"
   },
   {
    "duration": 1224,
    "start_time": "2023-07-24T04:20:26.156Z"
   },
   {
    "duration": 1747,
    "start_time": "2023-07-24T04:20:27.383Z"
   },
   {
    "duration": 3,
    "start_time": "2023-07-24T04:20:29.132Z"
   },
   {
    "duration": 658,
    "start_time": "2023-07-24T04:20:29.139Z"
   },
   {
    "duration": 4,
    "start_time": "2023-07-24T04:20:29.799Z"
   },
   {
    "duration": 69,
    "start_time": "2023-07-24T04:20:29.805Z"
   },
   {
    "duration": 19,
    "start_time": "2023-07-24T04:20:29.876Z"
   },
   {
    "duration": 33,
    "start_time": "2023-07-24T04:20:29.898Z"
   },
   {
    "duration": 10,
    "start_time": "2023-07-24T04:20:29.933Z"
   },
   {
    "duration": 22,
    "start_time": "2023-07-24T04:20:29.947Z"
   },
   {
    "duration": 63,
    "start_time": "2023-07-24T04:20:29.971Z"
   },
   {
    "duration": 48,
    "start_time": "2023-07-24T04:20:30.038Z"
   },
   {
    "duration": 66,
    "start_time": "2023-07-24T04:20:30.089Z"
   },
   {
    "duration": 40,
    "start_time": "2023-07-24T04:20:30.158Z"
   },
   {
    "duration": 261,
    "start_time": "2023-07-24T04:20:30.201Z"
   },
   {
    "duration": 186,
    "start_time": "2023-07-24T04:20:30.464Z"
   },
   {
    "duration": 12,
    "start_time": "2023-07-24T04:20:30.652Z"
   },
   {
    "duration": 39,
    "start_time": "2023-07-24T04:20:30.666Z"
   },
   {
    "duration": 82,
    "start_time": "2023-07-24T04:20:30.707Z"
   },
   {
    "duration": 188,
    "start_time": "2023-07-24T04:20:30.791Z"
   },
   {
    "duration": 5,
    "start_time": "2023-07-24T04:20:30.982Z"
   },
   {
    "duration": 71,
    "start_time": "2023-07-24T04:20:30.989Z"
   },
   {
    "duration": 28,
    "start_time": "2023-07-24T04:20:31.065Z"
   },
   {
    "duration": 69,
    "start_time": "2023-07-24T04:20:31.095Z"
   },
   {
    "duration": 68,
    "start_time": "2023-07-24T04:20:31.166Z"
   },
   {
    "duration": 50,
    "start_time": "2023-07-24T04:20:31.237Z"
   },
   {
    "duration": 19,
    "start_time": "2023-07-24T04:20:31.289Z"
   },
   {
    "duration": 14,
    "start_time": "2023-07-24T04:20:31.314Z"
   },
   {
    "duration": 64,
    "start_time": "2023-07-24T04:20:31.330Z"
   },
   {
    "duration": 278,
    "start_time": "2023-07-24T04:20:31.396Z"
   },
   {
    "duration": 12,
    "start_time": "2023-07-24T04:20:31.677Z"
   },
   {
    "duration": 31,
    "start_time": "2023-07-24T04:20:31.690Z"
   },
   {
    "duration": 33,
    "start_time": "2023-07-24T04:20:31.723Z"
   },
   {
    "duration": 37,
    "start_time": "2023-07-24T04:20:31.759Z"
   },
   {
    "duration": 29,
    "start_time": "2023-07-24T04:20:31.799Z"
   },
   {
    "duration": 205,
    "start_time": "2023-07-24T04:20:31.833Z"
   },
   {
    "duration": 13,
    "start_time": "2023-07-24T04:20:32.041Z"
   },
   {
    "duration": 40,
    "start_time": "2023-07-24T04:20:32.056Z"
   },
   {
    "duration": 47,
    "start_time": "2023-07-24T04:20:32.098Z"
   },
   {
    "duration": 303,
    "start_time": "2023-07-24T04:20:32.147Z"
   },
   {
    "duration": 31,
    "start_time": "2023-07-24T04:20:32.452Z"
   },
   {
    "duration": 86,
    "start_time": "2023-07-24T04:20:32.486Z"
   },
   {
    "duration": 31,
    "start_time": "2023-07-24T04:20:32.575Z"
   },
   {
    "duration": 46,
    "start_time": "2023-07-24T04:20:32.608Z"
   },
   {
    "duration": 47,
    "start_time": "2023-07-24T04:20:32.656Z"
   },
   {
    "duration": 63,
    "start_time": "2023-07-24T04:20:32.705Z"
   },
   {
    "duration": 61,
    "start_time": "2023-07-24T04:20:32.769Z"
   },
   {
    "duration": 49,
    "start_time": "2023-07-24T04:20:32.833Z"
   },
   {
    "duration": 16,
    "start_time": "2023-07-24T04:20:32.885Z"
   },
   {
    "duration": 203,
    "start_time": "2023-07-24T04:20:32.903Z"
   },
   {
    "duration": 22,
    "start_time": "2023-07-24T04:20:33.107Z"
   },
   {
    "duration": 8,
    "start_time": "2023-07-24T04:20:33.131Z"
   },
   {
    "duration": 30,
    "start_time": "2023-07-24T04:20:33.140Z"
   },
   {
    "duration": 33,
    "start_time": "2023-07-24T04:20:33.172Z"
   },
   {
    "duration": 26,
    "start_time": "2023-07-24T04:20:33.207Z"
   },
   {
    "duration": 48,
    "start_time": "2023-07-24T04:20:33.235Z"
   },
   {
    "duration": 38,
    "start_time": "2023-07-24T04:20:33.284Z"
   },
   {
    "duration": 18,
    "start_time": "2023-07-24T04:20:33.324Z"
   },
   {
    "duration": 130,
    "start_time": "2023-07-24T04:20:33.344Z"
   },
   {
    "duration": 3,
    "start_time": "2023-07-24T04:20:33.476Z"
   },
   {
    "duration": 22,
    "start_time": "2023-07-24T04:20:33.482Z"
   },
   {
    "duration": 9,
    "start_time": "2023-07-24T04:20:33.515Z"
   },
   {
    "duration": 28,
    "start_time": "2023-07-24T04:20:33.527Z"
   },
   {
    "duration": 201,
    "start_time": "2023-07-24T04:20:33.558Z"
   },
   {
    "duration": 6,
    "start_time": "2023-07-24T04:20:33.762Z"
   },
   {
    "duration": 19,
    "start_time": "2023-07-24T04:20:33.770Z"
   },
   {
    "duration": 31,
    "start_time": "2023-07-24T04:20:33.792Z"
   },
   {
    "duration": 49,
    "start_time": "2023-07-24T04:20:33.831Z"
   },
   {
    "duration": 18,
    "start_time": "2023-07-24T04:20:33.884Z"
   },
   {
    "duration": 38,
    "start_time": "2023-07-24T04:20:33.905Z"
   },
   {
    "duration": 18,
    "start_time": "2023-07-24T04:20:33.946Z"
   },
   {
    "duration": 20,
    "start_time": "2023-07-24T04:20:33.966Z"
   },
   {
    "duration": 22,
    "start_time": "2023-07-24T04:20:33.988Z"
   },
   {
    "duration": 22,
    "start_time": "2023-07-24T04:20:34.011Z"
   },
   {
    "duration": 6,
    "start_time": "2023-07-24T04:20:34.034Z"
   },
   {
    "duration": 23,
    "start_time": "2023-07-24T04:20:34.042Z"
   },
   {
    "duration": 16,
    "start_time": "2023-07-24T04:20:34.067Z"
   },
   {
    "duration": 37,
    "start_time": "2023-07-24T04:20:34.085Z"
   },
   {
    "duration": 45,
    "start_time": "2023-07-24T04:20:34.129Z"
   },
   {
    "duration": 8,
    "start_time": "2023-07-24T04:20:34.177Z"
   },
   {
    "duration": 18,
    "start_time": "2023-07-24T04:20:34.188Z"
   },
   {
    "duration": 21,
    "start_time": "2023-07-24T04:20:34.212Z"
   },
   {
    "duration": 19,
    "start_time": "2023-07-24T04:20:34.235Z"
   },
   {
    "duration": 23,
    "start_time": "2023-07-24T04:20:34.257Z"
   },
   {
    "duration": 21,
    "start_time": "2023-07-24T04:20:34.282Z"
   },
   {
    "duration": 25,
    "start_time": "2023-07-24T04:20:34.305Z"
   },
   {
    "duration": 13,
    "start_time": "2023-07-24T04:20:34.331Z"
   },
   {
    "duration": 32,
    "start_time": "2023-07-24T04:20:34.346Z"
   },
   {
    "duration": 3,
    "start_time": "2023-07-24T04:20:34.380Z"
   },
   {
    "duration": 19,
    "start_time": "2023-07-24T04:20:34.385Z"
   },
   {
    "duration": 32,
    "start_time": "2023-07-24T04:20:34.406Z"
   },
   {
    "duration": 13,
    "start_time": "2023-07-24T04:20:34.440Z"
   },
   {
    "duration": 18,
    "start_time": "2023-07-24T04:20:34.454Z"
   },
   {
    "duration": 14,
    "start_time": "2023-07-24T04:20:34.474Z"
   },
   {
    "duration": 26,
    "start_time": "2023-07-24T04:20:34.489Z"
   },
   {
    "duration": 15,
    "start_time": "2023-07-24T04:20:34.521Z"
   },
   {
    "duration": 8,
    "start_time": "2023-07-24T04:20:34.538Z"
   },
   {
    "duration": 38,
    "start_time": "2023-07-24T04:20:34.548Z"
   },
   {
    "duration": 34,
    "start_time": "2023-07-24T04:20:34.588Z"
   },
   {
    "duration": 10,
    "start_time": "2023-07-24T04:20:34.623Z"
   },
   {
    "duration": 40,
    "start_time": "2023-07-24T04:20:34.635Z"
   },
   {
    "duration": 63,
    "start_time": "2023-07-24T04:20:34.677Z"
   },
   {
    "duration": 901,
    "start_time": "2023-07-24T04:20:34.743Z"
   },
   {
    "duration": 8,
    "start_time": "2023-07-24T04:20:35.647Z"
   },
   {
    "duration": 47,
    "start_time": "2023-07-24T04:20:35.656Z"
   },
   {
    "duration": 40,
    "start_time": "2023-07-24T04:20:35.707Z"
   },
   {
    "duration": 57,
    "start_time": "2023-07-24T04:20:35.749Z"
   },
   {
    "duration": 3,
    "start_time": "2023-07-24T04:20:35.808Z"
   },
   {
    "duration": 29,
    "start_time": "2023-07-24T04:20:35.815Z"
   },
   {
    "duration": 27,
    "start_time": "2023-07-24T04:20:35.846Z"
   },
   {
    "duration": 21,
    "start_time": "2023-07-24T04:20:35.875Z"
   },
   {
    "duration": 40,
    "start_time": "2023-07-24T04:20:35.898Z"
   },
   {
    "duration": 25,
    "start_time": "2023-07-24T04:20:35.941Z"
   },
   {
    "duration": 69,
    "start_time": "2023-07-24T04:20:35.969Z"
   },
   {
    "duration": 11,
    "start_time": "2023-07-24T04:20:36.041Z"
   },
   {
    "duration": 1058931,
    "start_time": "2023-07-24T04:20:36.054Z"
   },
   {
    "duration": 0,
    "start_time": "2023-07-24T04:38:14.988Z"
   },
   {
    "duration": 0,
    "start_time": "2023-07-24T04:38:14.989Z"
   },
   {
    "duration": 0,
    "start_time": "2023-07-24T04:38:14.990Z"
   },
   {
    "duration": 0,
    "start_time": "2023-07-24T04:38:14.991Z"
   },
   {
    "duration": 0,
    "start_time": "2023-07-24T04:38:14.992Z"
   },
   {
    "duration": 0,
    "start_time": "2023-07-24T04:38:14.994Z"
   },
   {
    "duration": 0,
    "start_time": "2023-07-24T04:38:14.995Z"
   },
   {
    "duration": 2379,
    "start_time": "2023-07-24T04:38:24.011Z"
   },
   {
    "duration": 2147,
    "start_time": "2023-07-24T04:38:40.894Z"
   },
   {
    "duration": 1687,
    "start_time": "2023-07-24T04:38:43.043Z"
   },
   {
    "duration": 3,
    "start_time": "2023-07-24T04:38:44.732Z"
   },
   {
    "duration": 571,
    "start_time": "2023-07-24T04:38:44.737Z"
   },
   {
    "duration": 6,
    "start_time": "2023-07-24T04:38:45.310Z"
   },
   {
    "duration": 55,
    "start_time": "2023-07-24T04:38:45.318Z"
   },
   {
    "duration": 14,
    "start_time": "2023-07-24T04:38:45.375Z"
   },
   {
    "duration": 34,
    "start_time": "2023-07-24T04:38:45.391Z"
   },
   {
    "duration": 5,
    "start_time": "2023-07-24T04:38:45.431Z"
   },
   {
    "duration": 23,
    "start_time": "2023-07-24T04:38:45.439Z"
   },
   {
    "duration": 24,
    "start_time": "2023-07-24T04:38:45.464Z"
   },
   {
    "duration": 39,
    "start_time": "2023-07-24T04:38:45.491Z"
   },
   {
    "duration": 6,
    "start_time": "2023-07-24T04:38:45.531Z"
   },
   {
    "duration": 16,
    "start_time": "2023-07-24T04:38:45.538Z"
   },
   {
    "duration": 259,
    "start_time": "2023-07-24T04:38:45.556Z"
   },
   {
    "duration": 179,
    "start_time": "2023-07-24T04:38:45.817Z"
   },
   {
    "duration": 23,
    "start_time": "2023-07-24T04:38:45.998Z"
   },
   {
    "duration": 10,
    "start_time": "2023-07-24T04:38:46.023Z"
   },
   {
    "duration": 22,
    "start_time": "2023-07-24T04:38:46.035Z"
   },
   {
    "duration": 142,
    "start_time": "2023-07-24T04:38:46.059Z"
   },
   {
    "duration": 17,
    "start_time": "2023-07-24T04:38:46.203Z"
   },
   {
    "duration": 10,
    "start_time": "2023-07-24T04:38:46.229Z"
   },
   {
    "duration": 21,
    "start_time": "2023-07-24T04:38:46.241Z"
   },
   {
    "duration": 6,
    "start_time": "2023-07-24T04:38:46.265Z"
   },
   {
    "duration": 56,
    "start_time": "2023-07-24T04:38:46.274Z"
   },
   {
    "duration": 42,
    "start_time": "2023-07-24T04:38:46.332Z"
   },
   {
    "duration": 15,
    "start_time": "2023-07-24T04:38:46.377Z"
   },
   {
    "duration": 4,
    "start_time": "2023-07-24T04:38:46.397Z"
   },
   {
    "duration": 9,
    "start_time": "2023-07-24T04:38:46.422Z"
   },
   {
    "duration": 223,
    "start_time": "2023-07-24T04:38:46.433Z"
   },
   {
    "duration": 11,
    "start_time": "2023-07-24T04:38:46.657Z"
   },
   {
    "duration": 5,
    "start_time": "2023-07-24T04:38:46.670Z"
   },
   {
    "duration": 16,
    "start_time": "2023-07-24T04:38:46.677Z"
   },
   {
    "duration": 33,
    "start_time": "2023-07-24T04:38:46.695Z"
   },
   {
    "duration": 8,
    "start_time": "2023-07-24T04:38:46.730Z"
   },
   {
    "duration": 200,
    "start_time": "2023-07-24T04:38:46.741Z"
   },
   {
    "duration": 12,
    "start_time": "2023-07-24T04:38:46.943Z"
   },
   {
    "duration": 15,
    "start_time": "2023-07-24T04:38:46.958Z"
   },
   {
    "duration": 22,
    "start_time": "2023-07-24T04:38:46.975Z"
   },
   {
    "duration": 60,
    "start_time": "2023-07-24T04:38:46.999Z"
   },
   {
    "duration": 6,
    "start_time": "2023-07-24T04:38:47.062Z"
   },
   {
    "duration": 12,
    "start_time": "2023-07-24T04:38:47.070Z"
   },
   {
    "duration": 12,
    "start_time": "2023-07-24T04:38:47.085Z"
   },
   {
    "duration": 8,
    "start_time": "2023-07-24T04:38:47.118Z"
   },
   {
    "duration": 14,
    "start_time": "2023-07-24T04:38:47.128Z"
   },
   {
    "duration": 7,
    "start_time": "2023-07-24T04:38:47.144Z"
   },
   {
    "duration": 22,
    "start_time": "2023-07-24T04:38:47.153Z"
   },
   {
    "duration": 5,
    "start_time": "2023-07-24T04:38:47.177Z"
   },
   {
    "duration": 34,
    "start_time": "2023-07-24T04:38:47.184Z"
   },
   {
    "duration": 204,
    "start_time": "2023-07-24T04:38:47.225Z"
   },
   {
    "duration": 13,
    "start_time": "2023-07-24T04:38:47.431Z"
   },
   {
    "duration": 2,
    "start_time": "2023-07-24T04:38:47.446Z"
   },
   {
    "duration": 11,
    "start_time": "2023-07-24T04:38:47.450Z"
   },
   {
    "duration": 19,
    "start_time": "2023-07-24T04:38:47.462Z"
   },
   {
    "duration": 6,
    "start_time": "2023-07-24T04:38:47.483Z"
   },
   {
    "duration": 34,
    "start_time": "2023-07-24T04:38:47.491Z"
   },
   {
    "duration": 5,
    "start_time": "2023-07-24T04:38:47.527Z"
   },
   {
    "duration": 7,
    "start_time": "2023-07-24T04:38:47.534Z"
   },
   {
    "duration": 123,
    "start_time": "2023-07-24T04:38:47.543Z"
   },
   {
    "duration": 3,
    "start_time": "2023-07-24T04:38:47.667Z"
   },
   {
    "duration": 15,
    "start_time": "2023-07-24T04:38:47.671Z"
   },
   {
    "duration": 4,
    "start_time": "2023-07-24T04:38:47.688Z"
   },
   {
    "duration": 37,
    "start_time": "2023-07-24T04:38:47.693Z"
   },
   {
    "duration": 112,
    "start_time": "2023-07-24T04:38:47.732Z"
   },
   {
    "duration": 4,
    "start_time": "2023-07-24T04:38:47.846Z"
   },
   {
    "duration": 22,
    "start_time": "2023-07-24T04:38:47.853Z"
   },
   {
    "duration": 11,
    "start_time": "2023-07-24T04:38:47.877Z"
   },
   {
    "duration": 37,
    "start_time": "2023-07-24T04:38:47.890Z"
   },
   {
    "duration": 18,
    "start_time": "2023-07-24T04:38:47.931Z"
   },
   {
    "duration": 10,
    "start_time": "2023-07-24T04:38:47.951Z"
   },
   {
    "duration": 11,
    "start_time": "2023-07-24T04:38:47.963Z"
   },
   {
    "duration": 6,
    "start_time": "2023-07-24T04:38:47.977Z"
   },
   {
    "duration": 39,
    "start_time": "2023-07-24T04:38:47.985Z"
   },
   {
    "duration": 12,
    "start_time": "2023-07-24T04:38:48.025Z"
   },
   {
    "duration": 31,
    "start_time": "2023-07-24T04:38:48.039Z"
   },
   {
    "duration": 25,
    "start_time": "2023-07-24T04:38:48.071Z"
   },
   {
    "duration": 20,
    "start_time": "2023-07-24T04:38:48.098Z"
   },
   {
    "duration": 16,
    "start_time": "2023-07-24T04:38:48.121Z"
   },
   {
    "duration": 41,
    "start_time": "2023-07-24T04:38:48.140Z"
   },
   {
    "duration": 5,
    "start_time": "2023-07-24T04:38:48.182Z"
   },
   {
    "duration": 19,
    "start_time": "2023-07-24T04:38:48.189Z"
   },
   {
    "duration": 13,
    "start_time": "2023-07-24T04:38:48.221Z"
   },
   {
    "duration": 11,
    "start_time": "2023-07-24T04:38:48.236Z"
   },
   {
    "duration": 10,
    "start_time": "2023-07-24T04:38:48.250Z"
   },
   {
    "duration": 10,
    "start_time": "2023-07-24T04:38:48.262Z"
   },
   {
    "duration": 8,
    "start_time": "2023-07-24T04:38:48.273Z"
   },
   {
    "duration": 12,
    "start_time": "2023-07-24T04:38:48.283Z"
   },
   {
    "duration": 34,
    "start_time": "2023-07-24T04:38:48.297Z"
   },
   {
    "duration": 4,
    "start_time": "2023-07-24T04:38:48.332Z"
   },
   {
    "duration": 12,
    "start_time": "2023-07-24T04:38:48.337Z"
   },
   {
    "duration": 22,
    "start_time": "2023-07-24T04:38:48.351Z"
   },
   {
    "duration": 12,
    "start_time": "2023-07-24T04:38:48.375Z"
   },
   {
    "duration": 39,
    "start_time": "2023-07-24T04:38:48.389Z"
   },
   {
    "duration": 7,
    "start_time": "2023-07-24T04:38:48.430Z"
   },
   {
    "duration": 12,
    "start_time": "2023-07-24T04:38:48.439Z"
   },
   {
    "duration": 11,
    "start_time": "2023-07-24T04:38:48.453Z"
   },
   {
    "duration": 4,
    "start_time": "2023-07-24T04:38:48.466Z"
   },
   {
    "duration": 6,
    "start_time": "2023-07-24T04:38:48.471Z"
   },
   {
    "duration": 35,
    "start_time": "2023-07-24T04:38:48.479Z"
   },
   {
    "duration": 13,
    "start_time": "2023-07-24T04:38:48.516Z"
   },
   {
    "duration": 14,
    "start_time": "2023-07-24T04:38:48.530Z"
   },
   {
    "duration": 37,
    "start_time": "2023-07-24T04:38:48.545Z"
   },
   {
    "duration": 915,
    "start_time": "2023-07-24T04:38:48.584Z"
   },
   {
    "duration": 13,
    "start_time": "2023-07-24T04:38:49.501Z"
   },
   {
    "duration": 5,
    "start_time": "2023-07-24T04:38:49.524Z"
   },
   {
    "duration": 21,
    "start_time": "2023-07-24T04:38:49.530Z"
   },
   {
    "duration": 68,
    "start_time": "2023-07-24T04:38:49.554Z"
   },
   {
    "duration": 13,
    "start_time": "2023-07-24T04:38:49.623Z"
   },
   {
    "duration": 4,
    "start_time": "2023-07-24T04:38:49.639Z"
   },
   {
    "duration": 10,
    "start_time": "2023-07-24T04:38:49.646Z"
   },
   {
    "duration": 7,
    "start_time": "2023-07-24T04:38:49.658Z"
   },
   {
    "duration": 5,
    "start_time": "2023-07-24T04:38:49.668Z"
   },
   {
    "duration": 5,
    "start_time": "2023-07-24T04:38:49.676Z"
   },
   {
    "duration": 51,
    "start_time": "2023-07-24T04:38:49.683Z"
   },
   {
    "duration": 4,
    "start_time": "2023-07-24T04:38:49.737Z"
   },
   {
    "duration": 1598,
    "start_time": "2023-07-24T04:46:25.583Z"
   },
   {
    "duration": 3,
    "start_time": "2023-07-24T04:46:27.183Z"
   },
   {
    "duration": 960,
    "start_time": "2023-07-24T04:46:27.187Z"
   },
   {
    "duration": 4,
    "start_time": "2023-07-24T04:46:28.149Z"
   },
   {
    "duration": 47,
    "start_time": "2023-07-24T04:46:28.155Z"
   },
   {
    "duration": 22,
    "start_time": "2023-07-24T04:46:28.204Z"
   },
   {
    "duration": 17,
    "start_time": "2023-07-24T04:46:28.229Z"
   },
   {
    "duration": 5,
    "start_time": "2023-07-24T04:46:28.248Z"
   },
   {
    "duration": 17,
    "start_time": "2023-07-24T04:46:28.255Z"
   },
   {
    "duration": 45,
    "start_time": "2023-07-24T04:46:28.278Z"
   },
   {
    "duration": 23,
    "start_time": "2023-07-24T04:46:28.326Z"
   },
   {
    "duration": 5,
    "start_time": "2023-07-24T04:46:28.351Z"
   },
   {
    "duration": 7,
    "start_time": "2023-07-24T04:46:28.357Z"
   },
   {
    "duration": 220,
    "start_time": "2023-07-24T04:46:28.366Z"
   },
   {
    "duration": 179,
    "start_time": "2023-07-24T04:46:28.588Z"
   },
   {
    "duration": 11,
    "start_time": "2023-07-24T04:46:28.769Z"
   },
   {
    "duration": 4,
    "start_time": "2023-07-24T04:46:28.782Z"
   },
   {
    "duration": 37,
    "start_time": "2023-07-24T04:46:28.787Z"
   },
   {
    "duration": 55,
    "start_time": "2023-07-24T04:46:28.826Z"
   },
   {
    "duration": 5,
    "start_time": "2023-07-24T04:46:28.883Z"
   },
   {
    "duration": 34,
    "start_time": "2023-07-24T04:46:28.890Z"
   },
   {
    "duration": 16,
    "start_time": "2023-07-24T04:46:28.927Z"
   },
   {
    "duration": 5,
    "start_time": "2023-07-24T04:46:28.944Z"
   },
   {
    "duration": 16,
    "start_time": "2023-07-24T04:46:28.951Z"
   },
   {
    "duration": 46,
    "start_time": "2023-07-24T04:46:28.969Z"
   },
   {
    "duration": 29,
    "start_time": "2023-07-24T04:46:29.018Z"
   },
   {
    "duration": 6,
    "start_time": "2023-07-24T04:46:29.049Z"
   },
   {
    "duration": 6,
    "start_time": "2023-07-24T04:46:29.063Z"
   },
   {
    "duration": 250,
    "start_time": "2023-07-24T04:46:29.071Z"
   },
   {
    "duration": 12,
    "start_time": "2023-07-24T04:46:29.323Z"
   },
   {
    "duration": 5,
    "start_time": "2023-07-24T04:46:29.337Z"
   },
   {
    "duration": 16,
    "start_time": "2023-07-24T04:46:29.343Z"
   },
   {
    "duration": 5,
    "start_time": "2023-07-24T04:46:29.361Z"
   },
   {
    "duration": 7,
    "start_time": "2023-07-24T04:46:29.368Z"
   },
   {
    "duration": 309,
    "start_time": "2023-07-24T04:46:29.377Z"
   },
   {
    "duration": 38,
    "start_time": "2023-07-24T04:46:29.689Z"
   },
   {
    "duration": 12,
    "start_time": "2023-07-24T04:46:29.729Z"
   },
   {
    "duration": 21,
    "start_time": "2023-07-24T04:46:29.744Z"
   },
   {
    "duration": 94,
    "start_time": "2023-07-24T04:46:29.768Z"
   },
   {
    "duration": 5,
    "start_time": "2023-07-24T04:46:29.865Z"
   },
   {
    "duration": 9,
    "start_time": "2023-07-24T04:46:29.873Z"
   },
   {
    "duration": 39,
    "start_time": "2023-07-24T04:46:29.884Z"
   },
   {
    "duration": 16,
    "start_time": "2023-07-24T04:46:29.925Z"
   },
   {
    "duration": 27,
    "start_time": "2023-07-24T04:46:29.947Z"
   },
   {
    "duration": 7,
    "start_time": "2023-07-24T04:46:29.976Z"
   },
   {
    "duration": 26,
    "start_time": "2023-07-24T04:46:29.986Z"
   },
   {
    "duration": 41,
    "start_time": "2023-07-24T04:46:30.018Z"
   },
   {
    "duration": 84,
    "start_time": "2023-07-24T04:46:30.061Z"
   },
   {
    "duration": 218,
    "start_time": "2023-07-24T04:46:30.147Z"
   },
   {
    "duration": 13,
    "start_time": "2023-07-24T04:46:30.368Z"
   },
   {
    "duration": 693,
    "start_time": "2023-07-24T04:46:30.383Z"
   },
   {
    "duration": 551,
    "start_time": "2023-07-24T04:46:31.079Z"
   },
   {
    "duration": 96,
    "start_time": "2023-07-24T04:46:31.632Z"
   },
   {
    "duration": 43,
    "start_time": "2023-07-24T04:46:31.731Z"
   },
   {
    "duration": 133,
    "start_time": "2023-07-24T04:46:31.776Z"
   },
   {
    "duration": 74,
    "start_time": "2023-07-24T04:46:31.911Z"
   },
   {
    "duration": 236,
    "start_time": "2023-07-24T04:46:31.987Z"
   },
   {
    "duration": 214,
    "start_time": "2023-07-24T04:46:32.226Z"
   },
   {
    "duration": 3,
    "start_time": "2023-07-24T04:46:32.442Z"
   },
   {
    "duration": 215,
    "start_time": "2023-07-24T04:46:32.446Z"
   },
   {
    "duration": 92,
    "start_time": "2023-07-24T04:46:32.663Z"
   },
   {
    "duration": 170,
    "start_time": "2023-07-24T04:46:32.756Z"
   },
   {
    "duration": 276,
    "start_time": "2023-07-24T04:46:32.928Z"
   },
   {
    "duration": 23,
    "start_time": "2023-07-24T04:46:33.206Z"
   },
   {
    "duration": 19,
    "start_time": "2023-07-24T04:46:33.231Z"
   },
   {
    "duration": 31,
    "start_time": "2023-07-24T04:46:33.252Z"
   },
   {
    "duration": 21,
    "start_time": "2023-07-24T04:46:33.284Z"
   },
   {
    "duration": 26,
    "start_time": "2023-07-24T04:46:33.307Z"
   },
   {
    "duration": 19,
    "start_time": "2023-07-24T04:46:33.335Z"
   },
   {
    "duration": 19,
    "start_time": "2023-07-24T04:46:33.355Z"
   },
   {
    "duration": 27,
    "start_time": "2023-07-24T04:46:33.376Z"
   },
   {
    "duration": 28,
    "start_time": "2023-07-24T04:46:33.405Z"
   },
   {
    "duration": 40,
    "start_time": "2023-07-24T04:46:33.435Z"
   },
   {
    "duration": 10,
    "start_time": "2023-07-24T04:46:33.477Z"
   },
   {
    "duration": 35,
    "start_time": "2023-07-24T04:46:33.489Z"
   },
   {
    "duration": 39,
    "start_time": "2023-07-24T04:46:33.527Z"
   },
   {
    "duration": 13,
    "start_time": "2023-07-24T04:46:33.568Z"
   },
   {
    "duration": 25,
    "start_time": "2023-07-24T04:46:33.583Z"
   },
   {
    "duration": 6,
    "start_time": "2023-07-24T04:46:33.610Z"
   },
   {
    "duration": 20,
    "start_time": "2023-07-24T04:46:33.624Z"
   },
   {
    "duration": 13,
    "start_time": "2023-07-24T04:46:33.646Z"
   },
   {
    "duration": 11,
    "start_time": "2023-07-24T04:46:33.665Z"
   },
   {
    "duration": 8,
    "start_time": "2023-07-24T04:46:33.680Z"
   },
   {
    "duration": 24,
    "start_time": "2023-07-24T04:46:33.691Z"
   },
   {
    "duration": 19,
    "start_time": "2023-07-24T04:46:33.717Z"
   },
   {
    "duration": 13,
    "start_time": "2023-07-24T04:46:33.738Z"
   },
   {
    "duration": 24,
    "start_time": "2023-07-24T04:46:33.754Z"
   },
   {
    "duration": 7,
    "start_time": "2023-07-24T04:46:33.781Z"
   },
   {
    "duration": 27,
    "start_time": "2023-07-24T04:46:33.790Z"
   },
   {
    "duration": 25,
    "start_time": "2023-07-24T04:46:33.819Z"
   },
   {
    "duration": 29,
    "start_time": "2023-07-24T04:46:33.846Z"
   },
   {
    "duration": 11,
    "start_time": "2023-07-24T04:46:33.877Z"
   },
   {
    "duration": 33,
    "start_time": "2023-07-24T04:46:33.891Z"
   },
   {
    "duration": 35,
    "start_time": "2023-07-24T04:46:33.929Z"
   },
   {
    "duration": 28,
    "start_time": "2023-07-24T04:46:33.966Z"
   },
   {
    "duration": 6,
    "start_time": "2023-07-24T04:46:33.997Z"
   },
   {
    "duration": 18,
    "start_time": "2023-07-24T04:46:34.005Z"
   },
   {
    "duration": 18,
    "start_time": "2023-07-24T04:46:34.027Z"
   },
   {
    "duration": 17,
    "start_time": "2023-07-24T04:46:34.046Z"
   },
   {
    "duration": 22,
    "start_time": "2023-07-24T04:46:34.064Z"
   },
   {
    "duration": 46,
    "start_time": "2023-07-24T04:46:34.088Z"
   },
   {
    "duration": 898,
    "start_time": "2023-07-24T04:46:34.135Z"
   },
   {
    "duration": 6,
    "start_time": "2023-07-24T04:46:35.035Z"
   },
   {
    "duration": 24,
    "start_time": "2023-07-24T04:46:35.042Z"
   },
   {
    "duration": 37,
    "start_time": "2023-07-24T04:46:35.068Z"
   },
   {
    "duration": 49,
    "start_time": "2023-07-24T04:46:35.107Z"
   },
   {
    "duration": 3,
    "start_time": "2023-07-24T04:46:35.158Z"
   },
   {
    "duration": 23,
    "start_time": "2023-07-24T04:46:35.163Z"
   },
   {
    "duration": 10,
    "start_time": "2023-07-24T04:46:35.187Z"
   },
   {
    "duration": 26,
    "start_time": "2023-07-24T04:46:35.198Z"
   },
   {
    "duration": 11,
    "start_time": "2023-07-24T04:46:35.226Z"
   },
   {
    "duration": 21,
    "start_time": "2023-07-24T04:46:35.238Z"
   },
   {
    "duration": 28,
    "start_time": "2023-07-24T04:46:35.261Z"
   },
   {
    "duration": 6,
    "start_time": "2023-07-24T04:46:35.291Z"
   },
   {
    "duration": 157199,
    "start_time": "2023-07-24T04:46:35.299Z"
   },
   {
    "duration": 4106,
    "start_time": "2023-07-24T04:49:12.500Z"
   },
   {
    "duration": 12,
    "start_time": "2023-07-24T04:49:16.614Z"
   },
   {
    "duration": 6,
    "start_time": "2023-07-24T04:49:16.631Z"
   },
   {
    "duration": 59,
    "start_time": "2023-07-24T04:49:16.639Z"
   },
   {
    "duration": 3364,
    "start_time": "2023-07-24T04:49:52.501Z"
   },
   {
    "duration": 3883,
    "start_time": "2023-07-24T04:50:04.193Z"
   },
   {
    "duration": 3968,
    "start_time": "2023-07-24T04:50:11.594Z"
   },
   {
    "duration": 4701,
    "start_time": "2023-07-24T04:50:17.461Z"
   },
   {
    "duration": 4488,
    "start_time": "2023-07-24T04:50:30.349Z"
   },
   {
    "duration": 4267,
    "start_time": "2023-07-24T04:50:56.593Z"
   },
   {
    "duration": 4661,
    "start_time": "2023-07-24T20:57:56.447Z"
   },
   {
    "duration": 66,
    "start_time": "2023-07-24T20:58:01.110Z"
   },
   {
    "duration": 989,
    "start_time": "2023-07-24T20:58:01.178Z"
   },
   {
    "duration": 6,
    "start_time": "2023-07-24T20:58:02.170Z"
   },
   {
    "duration": 138,
    "start_time": "2023-07-24T20:58:02.178Z"
   },
   {
    "duration": 70,
    "start_time": "2023-07-24T20:58:02.318Z"
   },
   {
    "duration": 21,
    "start_time": "2023-07-24T20:58:02.392Z"
   },
   {
    "duration": 4,
    "start_time": "2023-07-24T20:58:02.468Z"
   },
   {
    "duration": 19,
    "start_time": "2023-07-24T20:58:02.475Z"
   },
   {
    "duration": 84,
    "start_time": "2023-07-24T20:58:02.499Z"
   },
   {
    "duration": 85,
    "start_time": "2023-07-24T20:58:02.586Z"
   },
   {
    "duration": 6,
    "start_time": "2023-07-24T20:58:02.673Z"
   },
   {
    "duration": 25,
    "start_time": "2023-07-24T20:58:02.682Z"
   },
   {
    "duration": 572,
    "start_time": "2023-07-24T20:58:02.709Z"
   },
   {
    "duration": 423,
    "start_time": "2023-07-24T20:58:03.283Z"
   },
   {
    "duration": 69,
    "start_time": "2023-07-24T20:58:03.708Z"
   },
   {
    "duration": 7,
    "start_time": "2023-07-24T20:58:03.779Z"
   },
   {
    "duration": 78,
    "start_time": "2023-07-24T20:58:03.791Z"
   },
   {
    "duration": 128,
    "start_time": "2023-07-24T20:58:03.871Z"
   },
   {
    "duration": 6,
    "start_time": "2023-07-24T20:58:04.001Z"
   },
   {
    "duration": 64,
    "start_time": "2023-07-24T20:58:04.009Z"
   },
   {
    "duration": 18,
    "start_time": "2023-07-24T20:58:04.075Z"
   },
   {
    "duration": 8,
    "start_time": "2023-07-24T20:58:04.095Z"
   },
   {
    "duration": 38,
    "start_time": "2023-07-24T20:58:04.168Z"
   },
   {
    "duration": 95,
    "start_time": "2023-07-24T20:58:04.208Z"
   },
   {
    "duration": 69,
    "start_time": "2023-07-24T20:58:04.307Z"
   },
   {
    "duration": 12,
    "start_time": "2023-07-24T20:58:04.379Z"
   },
   {
    "duration": 11,
    "start_time": "2023-07-24T20:58:04.396Z"
   },
   {
    "duration": 537,
    "start_time": "2023-07-24T20:58:04.467Z"
   },
   {
    "duration": 83,
    "start_time": "2023-07-24T20:58:05.006Z"
   },
   {
    "duration": 75,
    "start_time": "2023-07-24T20:58:05.092Z"
   },
   {
    "duration": 37,
    "start_time": "2023-07-24T20:58:05.170Z"
   },
   {
    "duration": 6,
    "start_time": "2023-07-24T20:58:05.209Z"
   },
   {
    "duration": 10,
    "start_time": "2023-07-24T20:58:05.268Z"
   },
   {
    "duration": 820,
    "start_time": "2023-07-24T20:58:05.280Z"
   },
   {
    "duration": 76,
    "start_time": "2023-07-24T20:58:06.103Z"
   },
   {
    "duration": 6,
    "start_time": "2023-07-24T20:58:06.181Z"
   },
   {
    "duration": 101,
    "start_time": "2023-07-24T20:58:06.190Z"
   },
   {
    "duration": 104,
    "start_time": "2023-07-24T20:58:06.293Z"
   },
   {
    "duration": 6,
    "start_time": "2023-07-24T20:58:06.400Z"
   },
   {
    "duration": 16,
    "start_time": "2023-07-24T20:58:06.467Z"
   },
   {
    "duration": 99,
    "start_time": "2023-07-24T20:58:06.486Z"
   },
   {
    "duration": 6,
    "start_time": "2023-07-24T20:58:06.587Z"
   },
   {
    "duration": 28,
    "start_time": "2023-07-24T20:58:06.595Z"
   },
   {
    "duration": 63,
    "start_time": "2023-07-24T20:58:06.625Z"
   },
   {
    "duration": 19,
    "start_time": "2023-07-24T20:58:06.690Z"
   },
   {
    "duration": 61,
    "start_time": "2023-07-24T20:58:06.710Z"
   },
   {
    "duration": 9,
    "start_time": "2023-07-24T20:58:06.774Z"
   },
   {
    "duration": 739,
    "start_time": "2023-07-24T20:58:06.785Z"
   },
   {
    "duration": 26,
    "start_time": "2023-07-24T20:58:07.568Z"
   },
   {
    "duration": 78,
    "start_time": "2023-07-24T20:58:07.599Z"
   },
   {
    "duration": 16,
    "start_time": "2023-07-24T20:58:07.692Z"
   },
   {
    "duration": 72,
    "start_time": "2023-07-24T20:58:07.710Z"
   },
   {
    "duration": 16,
    "start_time": "2023-07-24T20:58:07.785Z"
   },
   {
    "duration": 76,
    "start_time": "2023-07-24T20:58:07.803Z"
   },
   {
    "duration": 5,
    "start_time": "2023-07-24T20:58:07.882Z"
   },
   {
    "duration": 8,
    "start_time": "2023-07-24T20:58:07.889Z"
   },
   {
    "duration": 315,
    "start_time": "2023-07-24T20:58:07.899Z"
   },
   {
    "duration": 4,
    "start_time": "2023-07-24T20:58:08.268Z"
   },
   {
    "duration": 28,
    "start_time": "2023-07-24T20:58:08.274Z"
   },
   {
    "duration": 11,
    "start_time": "2023-07-24T20:58:08.366Z"
   },
   {
    "duration": 19,
    "start_time": "2023-07-24T20:58:08.379Z"
   },
   {
    "duration": 409,
    "start_time": "2023-07-24T20:58:08.400Z"
   },
   {
    "duration": 12,
    "start_time": "2023-07-24T20:58:08.869Z"
   },
   {
    "duration": 85,
    "start_time": "2023-07-24T20:58:08.884Z"
   },
   {
    "duration": 14,
    "start_time": "2023-07-24T20:58:08.971Z"
   },
   {
    "duration": 15,
    "start_time": "2023-07-24T20:58:08.988Z"
   },
   {
    "duration": 72,
    "start_time": "2023-07-24T20:58:09.006Z"
   },
   {
    "duration": 8,
    "start_time": "2023-07-24T20:58:09.080Z"
   },
   {
    "duration": 84,
    "start_time": "2023-07-24T20:58:09.090Z"
   },
   {
    "duration": 22,
    "start_time": "2023-07-24T20:58:09.176Z"
   },
   {
    "duration": 7,
    "start_time": "2023-07-24T20:58:09.201Z"
   },
   {
    "duration": 61,
    "start_time": "2023-07-24T20:58:09.210Z"
   },
   {
    "duration": 6,
    "start_time": "2023-07-24T20:58:09.273Z"
   },
   {
    "duration": 23,
    "start_time": "2023-07-24T20:58:09.281Z"
   },
   {
    "duration": 32,
    "start_time": "2023-07-24T20:58:09.367Z"
   },
   {
    "duration": 6,
    "start_time": "2023-07-24T20:58:09.402Z"
   },
   {
    "duration": 81,
    "start_time": "2023-07-24T20:58:09.410Z"
   },
   {
    "duration": 7,
    "start_time": "2023-07-24T20:58:09.493Z"
   },
   {
    "duration": 71,
    "start_time": "2023-07-24T20:58:09.503Z"
   },
   {
    "duration": 32,
    "start_time": "2023-07-24T20:58:09.575Z"
   },
   {
    "duration": 92,
    "start_time": "2023-07-24T20:58:09.679Z"
   },
   {
    "duration": 6,
    "start_time": "2023-07-24T20:58:09.781Z"
   },
   {
    "duration": 16,
    "start_time": "2023-07-24T20:58:09.789Z"
   },
   {
    "duration": 11,
    "start_time": "2023-07-24T20:58:09.807Z"
   },
   {
    "duration": 30,
    "start_time": "2023-07-24T20:58:09.868Z"
   },
   {
    "duration": 13,
    "start_time": "2023-07-24T20:58:09.901Z"
   },
   {
    "duration": 17,
    "start_time": "2023-07-24T20:58:09.967Z"
   },
   {
    "duration": 22,
    "start_time": "2023-07-24T20:58:09.986Z"
   },
   {
    "duration": 173,
    "start_time": "2023-07-24T20:58:10.010Z"
   },
   {
    "duration": 17,
    "start_time": "2023-07-24T20:58:10.185Z"
   },
   {
    "duration": 72,
    "start_time": "2023-07-24T20:58:10.203Z"
   },
   {
    "duration": 30,
    "start_time": "2023-07-24T20:58:10.277Z"
   },
   {
    "duration": 70,
    "start_time": "2023-07-24T20:58:10.309Z"
   },
   {
    "duration": 94,
    "start_time": "2023-07-24T20:58:10.381Z"
   },
   {
    "duration": 28,
    "start_time": "2023-07-24T20:58:10.478Z"
   },
   {
    "duration": 63,
    "start_time": "2023-07-24T20:58:10.507Z"
   },
   {
    "duration": 104,
    "start_time": "2023-07-24T20:58:10.577Z"
   },
   {
    "duration": 87,
    "start_time": "2023-07-24T20:58:10.688Z"
   },
   {
    "duration": 25,
    "start_time": "2023-07-24T20:58:10.788Z"
   },
   {
    "duration": 185,
    "start_time": "2023-07-24T20:58:10.816Z"
   },
   {
    "duration": 2085,
    "start_time": "2023-07-24T20:58:11.003Z"
   },
   {
    "duration": 7,
    "start_time": "2023-07-24T20:58:13.090Z"
   },
   {
    "duration": 65,
    "start_time": "2023-07-24T20:58:13.104Z"
   },
   {
    "duration": 24,
    "start_time": "2023-07-24T20:58:13.172Z"
   },
   {
    "duration": 181,
    "start_time": "2023-07-24T20:58:13.198Z"
   },
   {
    "duration": 4,
    "start_time": "2023-07-24T20:58:13.385Z"
   },
   {
    "duration": 36,
    "start_time": "2023-07-24T20:58:13.391Z"
   },
   {
    "duration": 5,
    "start_time": "2023-07-24T20:58:13.470Z"
   },
   {
    "duration": 50,
    "start_time": "2023-07-24T20:58:13.477Z"
   },
   {
    "duration": 6,
    "start_time": "2023-07-24T20:58:13.567Z"
   },
   {
    "duration": 16,
    "start_time": "2023-07-24T20:58:13.575Z"
   },
   {
    "duration": 74,
    "start_time": "2023-07-24T20:58:13.594Z"
   },
   {
    "duration": 4,
    "start_time": "2023-07-24T20:58:13.671Z"
   },
   {
    "duration": 1835,
    "start_time": "2023-07-25T14:03:21.702Z"
   },
   {
    "duration": 3,
    "start_time": "2023-07-25T14:03:23.539Z"
   },
   {
    "duration": 576,
    "start_time": "2023-07-25T14:03:23.544Z"
   },
   {
    "duration": 3,
    "start_time": "2023-07-25T14:03:24.122Z"
   },
   {
    "duration": 61,
    "start_time": "2023-07-25T14:03:24.127Z"
   },
   {
    "duration": 15,
    "start_time": "2023-07-25T14:03:24.189Z"
   },
   {
    "duration": 38,
    "start_time": "2023-07-25T14:03:24.205Z"
   },
   {
    "duration": 41,
    "start_time": "2023-07-25T14:03:24.245Z"
   },
   {
    "duration": 37,
    "start_time": "2023-07-25T14:03:24.288Z"
   },
   {
    "duration": 31,
    "start_time": "2023-07-25T14:03:24.327Z"
   },
   {
    "duration": 29,
    "start_time": "2023-07-25T14:03:24.360Z"
   },
   {
    "duration": 6,
    "start_time": "2023-07-25T14:03:24.391Z"
   },
   {
    "duration": 10,
    "start_time": "2023-07-25T14:03:24.398Z"
   },
   {
    "duration": 215,
    "start_time": "2023-07-25T14:03:24.411Z"
   },
   {
    "duration": 202,
    "start_time": "2023-07-25T14:03:24.628Z"
   },
   {
    "duration": 19,
    "start_time": "2023-07-25T14:03:24.832Z"
   },
   {
    "duration": 8,
    "start_time": "2023-07-25T14:03:24.861Z"
   },
   {
    "duration": 31,
    "start_time": "2023-07-25T14:03:24.871Z"
   },
   {
    "duration": 69,
    "start_time": "2023-07-25T14:03:24.904Z"
   },
   {
    "duration": 6,
    "start_time": "2023-07-25T14:03:24.975Z"
   },
   {
    "duration": 15,
    "start_time": "2023-07-25T14:03:24.982Z"
   },
   {
    "duration": 34,
    "start_time": "2023-07-25T14:03:25.000Z"
   },
   {
    "duration": 7,
    "start_time": "2023-07-25T14:03:25.036Z"
   },
   {
    "duration": 40,
    "start_time": "2023-07-25T14:03:25.045Z"
   },
   {
    "duration": 34,
    "start_time": "2023-07-25T14:03:25.087Z"
   },
   {
    "duration": 15,
    "start_time": "2023-07-25T14:03:25.123Z"
   },
   {
    "duration": 6,
    "start_time": "2023-07-25T14:03:25.139Z"
   },
   {
    "duration": 22,
    "start_time": "2023-07-25T14:03:25.147Z"
   },
   {
    "duration": 321,
    "start_time": "2023-07-25T14:03:25.172Z"
   },
   {
    "duration": 12,
    "start_time": "2023-07-25T14:03:25.494Z"
   },
   {
    "duration": 8,
    "start_time": "2023-07-25T14:03:25.508Z"
   },
   {
    "duration": 21,
    "start_time": "2023-07-25T14:03:25.517Z"
   },
   {
    "duration": 11,
    "start_time": "2023-07-25T14:03:25.560Z"
   },
   {
    "duration": 18,
    "start_time": "2023-07-25T14:03:25.573Z"
   },
   {
    "duration": 265,
    "start_time": "2023-07-25T14:03:25.593Z"
   },
   {
    "duration": 11,
    "start_time": "2023-07-25T14:03:25.868Z"
   },
   {
    "duration": 10,
    "start_time": "2023-07-25T14:03:25.881Z"
   },
   {
    "duration": 17,
    "start_time": "2023-07-25T14:03:25.892Z"
   },
   {
    "duration": 56,
    "start_time": "2023-07-25T14:03:25.911Z"
   },
   {
    "duration": 6,
    "start_time": "2023-07-25T14:03:25.968Z"
   },
   {
    "duration": 8,
    "start_time": "2023-07-25T14:03:25.982Z"
   },
   {
    "duration": 19,
    "start_time": "2023-07-25T14:03:25.992Z"
   },
   {
    "duration": 8,
    "start_time": "2023-07-25T14:03:26.013Z"
   },
   {
    "duration": 33,
    "start_time": "2023-07-25T14:03:26.023Z"
   },
   {
    "duration": 18,
    "start_time": "2023-07-25T14:03:26.059Z"
   },
   {
    "duration": 22,
    "start_time": "2023-07-25T14:03:26.079Z"
   },
   {
    "duration": 6,
    "start_time": "2023-07-25T14:03:26.103Z"
   },
   {
    "duration": 10,
    "start_time": "2023-07-25T14:03:26.110Z"
   },
   {
    "duration": 193,
    "start_time": "2023-07-25T14:03:26.122Z"
   },
   {
    "duration": 12,
    "start_time": "2023-07-25T14:03:26.317Z"
   },
   {
    "duration": 34,
    "start_time": "2023-07-25T14:03:26.331Z"
   },
   {
    "duration": 12,
    "start_time": "2023-07-25T14:03:26.369Z"
   },
   {
    "duration": 22,
    "start_time": "2023-07-25T14:03:26.383Z"
   },
   {
    "duration": 11,
    "start_time": "2023-07-25T14:03:26.406Z"
   },
   {
    "duration": 14,
    "start_time": "2023-07-25T14:03:26.418Z"
   },
   {
    "duration": 60,
    "start_time": "2023-07-25T14:03:26.434Z"
   },
   {
    "duration": 8,
    "start_time": "2023-07-25T14:03:26.496Z"
   },
   {
    "duration": 105,
    "start_time": "2023-07-25T14:03:26.506Z"
   },
   {
    "duration": 3,
    "start_time": "2023-07-25T14:03:26.613Z"
   },
   {
    "duration": 22,
    "start_time": "2023-07-25T14:03:26.618Z"
   },
   {
    "duration": 59,
    "start_time": "2023-07-25T14:03:26.642Z"
   },
   {
    "duration": 96,
    "start_time": "2023-07-25T14:03:26.703Z"
   },
   {
    "duration": 190,
    "start_time": "2023-07-25T14:03:26.801Z"
   },
   {
    "duration": 4,
    "start_time": "2023-07-25T14:03:26.992Z"
   },
   {
    "duration": 20,
    "start_time": "2023-07-25T14:03:26.999Z"
   },
   {
    "duration": 13,
    "start_time": "2023-07-25T14:03:27.021Z"
   },
   {
    "duration": 27,
    "start_time": "2023-07-25T14:03:27.036Z"
   },
   {
    "duration": 40,
    "start_time": "2023-07-25T14:03:27.067Z"
   },
   {
    "duration": 14,
    "start_time": "2023-07-25T14:03:27.109Z"
   },
   {
    "duration": 30,
    "start_time": "2023-07-25T14:03:27.125Z"
   },
   {
    "duration": 30,
    "start_time": "2023-07-25T14:03:27.162Z"
   },
   {
    "duration": 26,
    "start_time": "2023-07-25T14:03:27.194Z"
   },
   {
    "duration": 15,
    "start_time": "2023-07-25T14:03:27.222Z"
   },
   {
    "duration": 8,
    "start_time": "2023-07-25T14:03:27.239Z"
   },
   {
    "duration": 43,
    "start_time": "2023-07-25T14:03:27.248Z"
   },
   {
    "duration": 37,
    "start_time": "2023-07-25T14:03:27.293Z"
   },
   {
    "duration": 18,
    "start_time": "2023-07-25T14:03:27.332Z"
   },
   {
    "duration": 56,
    "start_time": "2023-07-25T14:03:27.352Z"
   },
   {
    "duration": 7,
    "start_time": "2023-07-25T14:03:27.410Z"
   },
   {
    "duration": 29,
    "start_time": "2023-07-25T14:03:27.419Z"
   },
   {
    "duration": 30,
    "start_time": "2023-07-25T14:03:27.450Z"
   },
   {
    "duration": 19,
    "start_time": "2023-07-25T14:03:27.482Z"
   },
   {
    "duration": 13,
    "start_time": "2023-07-25T14:03:27.503Z"
   },
   {
    "duration": 23,
    "start_time": "2023-07-25T14:03:27.518Z"
   },
   {
    "duration": 73,
    "start_time": "2023-07-25T14:03:27.543Z"
   },
   {
    "duration": 38,
    "start_time": "2023-07-25T14:03:27.619Z"
   },
   {
    "duration": 22,
    "start_time": "2023-07-25T14:03:27.665Z"
   },
   {
    "duration": 17,
    "start_time": "2023-07-25T14:03:27.689Z"
   },
   {
    "duration": 20,
    "start_time": "2023-07-25T14:03:27.707Z"
   },
   {
    "duration": 30,
    "start_time": "2023-07-25T14:03:27.729Z"
   },
   {
    "duration": 55,
    "start_time": "2023-07-25T14:03:27.761Z"
   },
   {
    "duration": 7,
    "start_time": "2023-07-25T14:03:27.819Z"
   },
   {
    "duration": 10,
    "start_time": "2023-07-25T14:03:27.827Z"
   },
   {
    "duration": 44,
    "start_time": "2023-07-25T14:03:27.839Z"
   },
   {
    "duration": 11,
    "start_time": "2023-07-25T14:03:27.885Z"
   },
   {
    "duration": 13,
    "start_time": "2023-07-25T14:03:27.897Z"
   },
   {
    "duration": 19,
    "start_time": "2023-07-25T14:03:27.911Z"
   },
   {
    "duration": 20,
    "start_time": "2023-07-25T14:03:27.932Z"
   },
   {
    "duration": 16,
    "start_time": "2023-07-25T14:03:27.958Z"
   },
   {
    "duration": 25,
    "start_time": "2023-07-25T14:03:27.976Z"
   },
   {
    "duration": 45,
    "start_time": "2023-07-25T14:03:28.003Z"
   },
   {
    "duration": 1010,
    "start_time": "2023-07-25T14:03:28.052Z"
   },
   {
    "duration": 7,
    "start_time": "2023-07-25T14:03:29.070Z"
   },
   {
    "duration": 53,
    "start_time": "2023-07-25T14:03:29.079Z"
   },
   {
    "duration": 52,
    "start_time": "2023-07-25T14:03:29.134Z"
   },
   {
    "duration": 62,
    "start_time": "2023-07-25T14:03:29.188Z"
   },
   {
    "duration": 20,
    "start_time": "2023-07-25T14:03:29.254Z"
   },
   {
    "duration": 6,
    "start_time": "2023-07-25T14:03:29.277Z"
   },
   {
    "duration": 9,
    "start_time": "2023-07-25T14:03:29.285Z"
   },
   {
    "duration": 9,
    "start_time": "2023-07-25T14:03:29.296Z"
   },
   {
    "duration": 11,
    "start_time": "2023-07-25T14:03:29.307Z"
   },
   {
    "duration": 11,
    "start_time": "2023-07-25T14:03:29.320Z"
   },
   {
    "duration": 19,
    "start_time": "2023-07-25T14:03:29.334Z"
   },
   {
    "duration": 12,
    "start_time": "2023-07-25T14:03:29.363Z"
   },
   {
    "duration": 173929,
    "start_time": "2023-07-25T14:03:29.376Z"
   },
   {
    "duration": 4561,
    "start_time": "2023-07-25T14:06:23.307Z"
   },
   {
    "duration": 6,
    "start_time": "2023-07-25T14:06:27.872Z"
   },
   {
    "duration": 19,
    "start_time": "2023-07-25T14:06:27.880Z"
   },
   {
    "duration": 69,
    "start_time": "2023-07-25T14:06:27.901Z"
   },
   {
    "duration": 1772,
    "start_time": "2023-07-25T18:40:12.762Z"
   },
   {
    "duration": 3,
    "start_time": "2023-07-25T18:40:14.536Z"
   },
   {
    "duration": 620,
    "start_time": "2023-07-25T18:40:14.541Z"
   },
   {
    "duration": 4,
    "start_time": "2023-07-25T18:40:15.163Z"
   },
   {
    "duration": 76,
    "start_time": "2023-07-25T18:40:15.168Z"
   },
   {
    "duration": 15,
    "start_time": "2023-07-25T18:40:15.246Z"
   },
   {
    "duration": 34,
    "start_time": "2023-07-25T18:40:15.262Z"
   },
   {
    "duration": 4,
    "start_time": "2023-07-25T18:40:15.297Z"
   },
   {
    "duration": 44,
    "start_time": "2023-07-25T18:40:15.302Z"
   },
   {
    "duration": 51,
    "start_time": "2023-07-25T18:40:15.349Z"
   },
   {
    "duration": 43,
    "start_time": "2023-07-25T18:40:15.401Z"
   },
   {
    "duration": 5,
    "start_time": "2023-07-25T18:40:15.445Z"
   },
   {
    "duration": 16,
    "start_time": "2023-07-25T18:40:15.451Z"
   },
   {
    "duration": 184,
    "start_time": "2023-07-25T18:40:15.469Z"
   },
   {
    "duration": 163,
    "start_time": "2023-07-25T18:40:15.655Z"
   },
   {
    "duration": 13,
    "start_time": "2023-07-25T18:40:15.820Z"
   },
   {
    "duration": 13,
    "start_time": "2023-07-25T18:40:15.836Z"
   },
   {
    "duration": 29,
    "start_time": "2023-07-25T18:40:15.852Z"
   },
   {
    "duration": 54,
    "start_time": "2023-07-25T18:40:15.883Z"
   },
   {
    "duration": 4,
    "start_time": "2023-07-25T18:40:15.940Z"
   },
   {
    "duration": 9,
    "start_time": "2023-07-25T18:40:15.946Z"
   },
   {
    "duration": 25,
    "start_time": "2023-07-25T18:40:15.956Z"
   },
   {
    "duration": 6,
    "start_time": "2023-07-25T18:40:15.983Z"
   },
   {
    "duration": 27,
    "start_time": "2023-07-25T18:40:15.990Z"
   },
   {
    "duration": 32,
    "start_time": "2023-07-25T18:40:16.018Z"
   },
   {
    "duration": 28,
    "start_time": "2023-07-25T18:40:16.052Z"
   },
   {
    "duration": 8,
    "start_time": "2023-07-25T18:40:16.081Z"
   },
   {
    "duration": 7,
    "start_time": "2023-07-25T18:40:16.094Z"
   },
   {
    "duration": 266,
    "start_time": "2023-07-25T18:40:16.103Z"
   },
   {
    "duration": 14,
    "start_time": "2023-07-25T18:40:16.375Z"
   },
   {
    "duration": 20,
    "start_time": "2023-07-25T18:40:16.391Z"
   },
   {
    "duration": 27,
    "start_time": "2023-07-25T18:40:16.413Z"
   },
   {
    "duration": 16,
    "start_time": "2023-07-25T18:40:16.442Z"
   },
   {
    "duration": 19,
    "start_time": "2023-07-25T18:40:16.460Z"
   },
   {
    "duration": 280,
    "start_time": "2023-07-25T18:40:16.481Z"
   },
   {
    "duration": 16,
    "start_time": "2023-07-25T18:40:16.764Z"
   },
   {
    "duration": 10,
    "start_time": "2023-07-25T18:40:16.782Z"
   },
   {
    "duration": 16,
    "start_time": "2023-07-25T18:40:16.793Z"
   },
   {
    "duration": 42,
    "start_time": "2023-07-25T18:40:16.811Z"
   },
   {
    "duration": 6,
    "start_time": "2023-07-25T18:40:16.855Z"
   },
   {
    "duration": 8,
    "start_time": "2023-07-25T18:40:16.876Z"
   },
   {
    "duration": 16,
    "start_time": "2023-07-25T18:40:16.886Z"
   },
   {
    "duration": 8,
    "start_time": "2023-07-25T18:40:16.904Z"
   },
   {
    "duration": 14,
    "start_time": "2023-07-25T18:40:16.914Z"
   },
   {
    "duration": 8,
    "start_time": "2023-07-25T18:40:16.930Z"
   },
   {
    "duration": 37,
    "start_time": "2023-07-25T18:40:16.939Z"
   },
   {
    "duration": 5,
    "start_time": "2023-07-25T18:40:16.978Z"
   },
   {
    "duration": 15,
    "start_time": "2023-07-25T18:40:16.985Z"
   },
   {
    "duration": 194,
    "start_time": "2023-07-25T18:40:17.002Z"
   },
   {
    "duration": 15,
    "start_time": "2023-07-25T18:40:17.198Z"
   },
   {
    "duration": 11,
    "start_time": "2023-07-25T18:40:17.215Z"
   },
   {
    "duration": 17,
    "start_time": "2023-07-25T18:40:17.228Z"
   },
   {
    "duration": 18,
    "start_time": "2023-07-25T18:40:17.246Z"
   },
   {
    "duration": 10,
    "start_time": "2023-07-25T18:40:17.276Z"
   },
   {
    "duration": 18,
    "start_time": "2023-07-25T18:40:17.288Z"
   },
   {
    "duration": 4,
    "start_time": "2023-07-25T18:40:17.308Z"
   },
   {
    "duration": 13,
    "start_time": "2023-07-25T18:40:17.314Z"
   },
   {
    "duration": 112,
    "start_time": "2023-07-25T18:40:17.329Z"
   },
   {
    "duration": 2,
    "start_time": "2023-07-25T18:40:17.443Z"
   },
   {
    "duration": 28,
    "start_time": "2023-07-25T18:40:17.447Z"
   },
   {
    "duration": 5,
    "start_time": "2023-07-25T18:40:17.477Z"
   },
   {
    "duration": 13,
    "start_time": "2023-07-25T18:40:17.484Z"
   },
   {
    "duration": 122,
    "start_time": "2023-07-25T18:40:17.498Z"
   },
   {
    "duration": 5,
    "start_time": "2023-07-25T18:40:17.622Z"
   },
   {
    "duration": 23,
    "start_time": "2023-07-25T18:40:17.629Z"
   },
   {
    "duration": 12,
    "start_time": "2023-07-25T18:40:17.654Z"
   },
   {
    "duration": 18,
    "start_time": "2023-07-25T18:40:17.667Z"
   },
   {
    "duration": 12,
    "start_time": "2023-07-25T18:40:17.687Z"
   },
   {
    "duration": 21,
    "start_time": "2023-07-25T18:40:17.702Z"
   },
   {
    "duration": 21,
    "start_time": "2023-07-25T18:40:17.725Z"
   },
   {
    "duration": 19,
    "start_time": "2023-07-25T18:40:17.747Z"
   },
   {
    "duration": 11,
    "start_time": "2023-07-25T18:40:17.768Z"
   },
   {
    "duration": 5,
    "start_time": "2023-07-25T18:40:17.781Z"
   },
   {
    "duration": 14,
    "start_time": "2023-07-25T18:40:17.787Z"
   },
   {
    "duration": 23,
    "start_time": "2023-07-25T18:40:17.803Z"
   },
   {
    "duration": 14,
    "start_time": "2023-07-25T18:40:17.828Z"
   },
   {
    "duration": 14,
    "start_time": "2023-07-25T18:40:17.844Z"
   },
   {
    "duration": 30,
    "start_time": "2023-07-25T18:40:17.860Z"
   },
   {
    "duration": 6,
    "start_time": "2023-07-25T18:40:17.892Z"
   },
   {
    "duration": 14,
    "start_time": "2023-07-25T18:40:17.899Z"
   },
   {
    "duration": 15,
    "start_time": "2023-07-25T18:40:17.915Z"
   },
   {
    "duration": 9,
    "start_time": "2023-07-25T18:40:17.938Z"
   },
   {
    "duration": 27,
    "start_time": "2023-07-25T18:40:17.949Z"
   },
   {
    "duration": 15,
    "start_time": "2023-07-25T18:40:17.978Z"
   },
   {
    "duration": 13,
    "start_time": "2023-07-25T18:40:17.994Z"
   },
   {
    "duration": 25,
    "start_time": "2023-07-25T18:40:18.009Z"
   },
   {
    "duration": 17,
    "start_time": "2023-07-25T18:40:18.035Z"
   },
   {
    "duration": 20,
    "start_time": "2023-07-25T18:40:18.054Z"
   },
   {
    "duration": 22,
    "start_time": "2023-07-25T18:40:18.076Z"
   },
   {
    "duration": 39,
    "start_time": "2023-07-25T18:40:18.101Z"
   },
   {
    "duration": 34,
    "start_time": "2023-07-25T18:40:18.143Z"
   },
   {
    "duration": 9,
    "start_time": "2023-07-25T18:40:18.180Z"
   },
   {
    "duration": 14,
    "start_time": "2023-07-25T18:40:18.191Z"
   },
   {
    "duration": 12,
    "start_time": "2023-07-25T18:40:18.208Z"
   },
   {
    "duration": 13,
    "start_time": "2023-07-25T18:40:18.222Z"
   },
   {
    "duration": 39,
    "start_time": "2023-07-25T18:40:18.236Z"
   },
   {
    "duration": 17,
    "start_time": "2023-07-25T18:40:18.278Z"
   },
   {
    "duration": 37,
    "start_time": "2023-07-25T18:40:18.298Z"
   },
   {
    "duration": 12,
    "start_time": "2023-07-25T18:40:18.337Z"
   },
   {
    "duration": 30,
    "start_time": "2023-07-25T18:40:18.351Z"
   },
   {
    "duration": 57,
    "start_time": "2023-07-25T18:40:18.383Z"
   },
   {
    "duration": 883,
    "start_time": "2023-07-25T18:40:18.442Z"
   },
   {
    "duration": 5,
    "start_time": "2023-07-25T18:40:19.327Z"
   },
   {
    "duration": 15,
    "start_time": "2023-07-25T18:40:19.334Z"
   },
   {
    "duration": 15,
    "start_time": "2023-07-25T18:40:19.350Z"
   },
   {
    "duration": 42,
    "start_time": "2023-07-25T18:40:19.366Z"
   },
   {
    "duration": 15,
    "start_time": "2023-07-25T18:40:19.410Z"
   },
   {
    "duration": 19,
    "start_time": "2023-07-25T18:40:19.426Z"
   },
   {
    "duration": 24,
    "start_time": "2023-07-25T18:40:19.447Z"
   },
   {
    "duration": 20,
    "start_time": "2023-07-25T18:40:19.473Z"
   },
   {
    "duration": 27,
    "start_time": "2023-07-25T18:40:19.495Z"
   },
   {
    "duration": 14,
    "start_time": "2023-07-25T18:40:19.524Z"
   },
   {
    "duration": 20,
    "start_time": "2023-07-25T18:40:19.539Z"
   },
   {
    "duration": 6,
    "start_time": "2023-07-25T18:40:19.561Z"
   },
   {
    "duration": 159271,
    "start_time": "2023-07-25T18:40:19.568Z"
   },
   {
    "duration": 4188,
    "start_time": "2023-07-25T18:42:58.841Z"
   },
   {
    "duration": 4,
    "start_time": "2023-07-25T18:43:03.030Z"
   },
   {
    "duration": 24,
    "start_time": "2023-07-25T18:43:03.036Z"
   },
   {
    "duration": 74,
    "start_time": "2023-07-25T18:43:03.061Z"
   },
   {
    "duration": 0,
    "start_time": "2023-07-25T19:58:54.716Z"
   },
   {
    "duration": 113,
    "start_time": "2023-07-25T19:59:11.326Z"
   },
   {
    "duration": 97,
    "start_time": "2023-07-25T19:59:35.360Z"
   },
   {
    "duration": 85,
    "start_time": "2023-07-25T20:00:00.136Z"
   },
   {
    "duration": 92,
    "start_time": "2023-07-25T20:00:10.115Z"
   },
   {
    "duration": 92,
    "start_time": "2023-07-25T20:00:27.301Z"
   },
   {
    "duration": 1727,
    "start_time": "2023-07-25T20:01:53.427Z"
   },
   {
    "duration": 182,
    "start_time": "2023-07-25T20:02:29.684Z"
   },
   {
    "duration": 13,
    "start_time": "2023-07-25T20:04:22.696Z"
   },
   {
    "duration": 1024,
    "start_time": "2023-07-25T20:06:57.044Z"
   },
   {
    "duration": 181,
    "start_time": "2023-07-25T20:07:12.942Z"
   },
   {
    "duration": 780,
    "start_time": "2023-07-25T20:10:32.236Z"
   },
   {
    "duration": 4991,
    "start_time": "2023-07-25T20:10:42.969Z"
   },
   {
    "duration": 934,
    "start_time": "2023-07-25T20:11:00.297Z"
   },
   {
    "duration": 930,
    "start_time": "2023-07-25T20:11:26.752Z"
   },
   {
    "duration": 589,
    "start_time": "2023-07-25T20:11:44.816Z"
   },
   {
    "duration": 613,
    "start_time": "2023-07-25T20:11:58.997Z"
   },
   {
    "duration": 131,
    "start_time": "2023-07-25T20:12:23.097Z"
   },
   {
    "duration": 363,
    "start_time": "2023-07-25T20:12:31.747Z"
   },
   {
    "duration": 17,
    "start_time": "2023-07-25T20:13:15.753Z"
   },
   {
    "duration": 4,
    "start_time": "2023-07-25T20:13:43.397Z"
   },
   {
    "duration": 1391,
    "start_time": "2023-07-25T20:13:46.728Z"
   },
   {
    "duration": 1134,
    "start_time": "2023-07-25T20:14:03.136Z"
   },
   {
    "duration": 1277,
    "start_time": "2023-07-25T20:14:30.941Z"
   },
   {
    "duration": 153359,
    "start_time": "2023-07-25T20:14:58.905Z"
   },
   {
    "duration": 155886,
    "start_time": "2023-07-25T20:19:44.190Z"
   },
   {
    "duration": 140,
    "start_time": "2023-07-25T20:22:54.748Z"
   },
   {
    "duration": 155036,
    "start_time": "2023-07-25T20:22:59.141Z"
   },
   {
    "duration": 1408,
    "start_time": "2023-07-25T20:25:34.179Z"
   },
   {
    "duration": 164,
    "start_time": "2023-07-25T20:26:07.888Z"
   },
   {
    "duration": 785,
    "start_time": "2023-07-25T20:26:11.761Z"
   },
   {
    "duration": 820,
    "start_time": "2023-07-25T20:26:21.433Z"
   },
   {
    "duration": 1499,
    "start_time": "2023-07-25T20:27:02.105Z"
   },
   {
    "duration": 785,
    "start_time": "2023-07-25T20:27:34.549Z"
   },
   {
    "duration": 780,
    "start_time": "2023-07-25T20:27:43.861Z"
   },
   {
    "duration": 772,
    "start_time": "2023-07-25T20:27:56.990Z"
   },
   {
    "duration": 1712,
    "start_time": "2023-07-25T20:28:27.011Z"
   },
   {
    "duration": 1684,
    "start_time": "2023-07-25T20:28:42.407Z"
   },
   {
    "duration": 1744,
    "start_time": "2023-07-25T20:28:48.317Z"
   },
   {
    "duration": 94,
    "start_time": "2023-07-25T20:34:45.058Z"
   },
   {
    "duration": 152,
    "start_time": "2023-07-25T20:35:34.228Z"
   },
   {
    "duration": 155,
    "start_time": "2023-07-25T20:37:43.892Z"
   },
   {
    "duration": 137,
    "start_time": "2023-07-25T20:37:51.604Z"
   },
   {
    "duration": 132,
    "start_time": "2023-07-25T20:37:59.422Z"
   },
   {
    "duration": 102,
    "start_time": "2023-07-25T20:38:04.550Z"
   },
   {
    "duration": 139,
    "start_time": "2023-07-25T20:38:19.296Z"
   },
   {
    "duration": 173,
    "start_time": "2023-07-25T20:38:26.212Z"
   },
   {
    "duration": 139,
    "start_time": "2023-07-25T20:38:33.541Z"
   },
   {
    "duration": 160,
    "start_time": "2023-07-25T20:38:38.534Z"
   },
   {
    "duration": 131,
    "start_time": "2023-07-25T20:38:43.565Z"
   },
   {
    "duration": 131,
    "start_time": "2023-07-25T20:39:39.712Z"
   },
   {
    "duration": 134,
    "start_time": "2023-07-25T20:39:51.775Z"
   },
   {
    "duration": 135,
    "start_time": "2023-07-25T20:39:53.642Z"
   },
   {
    "duration": 116,
    "start_time": "2023-07-25T20:39:59.004Z"
   },
   {
    "duration": 128,
    "start_time": "2023-07-25T20:40:07.516Z"
   },
   {
    "duration": 134,
    "start_time": "2023-07-25T20:40:15.517Z"
   },
   {
    "duration": 120,
    "start_time": "2023-07-25T20:41:23.611Z"
   },
   {
    "duration": 122,
    "start_time": "2023-07-25T20:41:34.553Z"
   },
   {
    "duration": 112,
    "start_time": "2023-07-25T20:41:39.833Z"
   },
   {
    "duration": 123,
    "start_time": "2023-07-25T20:41:45.384Z"
   },
   {
    "duration": 140,
    "start_time": "2023-07-25T20:41:51.100Z"
   },
   {
    "duration": 131,
    "start_time": "2023-07-25T20:43:57.050Z"
   },
   {
    "duration": 129,
    "start_time": "2023-07-25T20:43:57.449Z"
   },
   {
    "duration": 109,
    "start_time": "2023-07-25T20:43:59.518Z"
   },
   {
    "duration": 122,
    "start_time": "2023-07-25T20:43:59.892Z"
   },
   {
    "duration": 115,
    "start_time": "2023-07-25T20:44:00.265Z"
   },
   {
    "duration": 128,
    "start_time": "2023-07-25T20:44:02.480Z"
   },
   {
    "duration": 116,
    "start_time": "2023-07-25T20:44:02.901Z"
   },
   {
    "duration": 1532,
    "start_time": "2023-07-25T20:44:47.565Z"
   },
   {
    "duration": 3,
    "start_time": "2023-07-25T20:44:49.099Z"
   },
   {
    "duration": 682,
    "start_time": "2023-07-25T20:44:49.103Z"
   },
   {
    "duration": 3,
    "start_time": "2023-07-25T20:44:49.787Z"
   },
   {
    "duration": 56,
    "start_time": "2023-07-25T20:44:49.792Z"
   },
   {
    "duration": 11,
    "start_time": "2023-07-25T20:44:49.850Z"
   },
   {
    "duration": 18,
    "start_time": "2023-07-25T20:44:49.862Z"
   },
   {
    "duration": 3,
    "start_time": "2023-07-25T20:44:49.882Z"
   },
   {
    "duration": 16,
    "start_time": "2023-07-25T20:44:49.888Z"
   },
   {
    "duration": 10,
    "start_time": "2023-07-25T20:44:49.908Z"
   },
   {
    "duration": 20,
    "start_time": "2023-07-25T20:44:49.920Z"
   },
   {
    "duration": 5,
    "start_time": "2023-07-25T20:44:49.942Z"
   },
   {
    "duration": 7,
    "start_time": "2023-07-25T20:44:49.976Z"
   },
   {
    "duration": 199,
    "start_time": "2023-07-25T20:44:49.985Z"
   },
   {
    "duration": 163,
    "start_time": "2023-07-25T20:44:50.186Z"
   },
   {
    "duration": 11,
    "start_time": "2023-07-25T20:44:50.350Z"
   },
   {
    "duration": 30,
    "start_time": "2023-07-25T20:44:50.363Z"
   },
   {
    "duration": 25,
    "start_time": "2023-07-25T20:44:50.395Z"
   },
   {
    "duration": 52,
    "start_time": "2023-07-25T20:44:50.422Z"
   },
   {
    "duration": 5,
    "start_time": "2023-07-25T20:44:50.475Z"
   },
   {
    "duration": 14,
    "start_time": "2023-07-25T20:44:50.481Z"
   },
   {
    "duration": 15,
    "start_time": "2023-07-25T20:44:50.497Z"
   },
   {
    "duration": 8,
    "start_time": "2023-07-25T20:44:50.513Z"
   },
   {
    "duration": 26,
    "start_time": "2023-07-25T20:44:50.522Z"
   },
   {
    "duration": 37,
    "start_time": "2023-07-25T20:44:50.550Z"
   },
   {
    "duration": 12,
    "start_time": "2023-07-25T20:44:50.589Z"
   },
   {
    "duration": 17,
    "start_time": "2023-07-25T20:44:50.603Z"
   },
   {
    "duration": 22,
    "start_time": "2023-07-25T20:44:50.624Z"
   },
   {
    "duration": 208,
    "start_time": "2023-07-25T20:44:50.648Z"
   },
   {
    "duration": 17,
    "start_time": "2023-07-25T20:44:50.858Z"
   },
   {
    "duration": 38,
    "start_time": "2023-07-25T20:44:50.876Z"
   },
   {
    "duration": 51,
    "start_time": "2023-07-25T20:44:50.916Z"
   },
   {
    "duration": 20,
    "start_time": "2023-07-25T20:44:50.968Z"
   },
   {
    "duration": 25,
    "start_time": "2023-07-25T20:44:50.990Z"
   },
   {
    "duration": 249,
    "start_time": "2023-07-25T20:44:51.017Z"
   },
   {
    "duration": 14,
    "start_time": "2023-07-25T20:44:51.268Z"
   },
   {
    "duration": 17,
    "start_time": "2023-07-25T20:44:51.284Z"
   },
   {
    "duration": 26,
    "start_time": "2023-07-25T20:44:51.302Z"
   },
   {
    "duration": 45,
    "start_time": "2023-07-25T20:44:51.329Z"
   },
   {
    "duration": 4,
    "start_time": "2023-07-25T20:44:51.376Z"
   },
   {
    "duration": 22,
    "start_time": "2023-07-25T20:44:51.381Z"
   },
   {
    "duration": 30,
    "start_time": "2023-07-25T20:44:51.405Z"
   },
   {
    "duration": 36,
    "start_time": "2023-07-25T20:44:51.436Z"
   },
   {
    "duration": 46,
    "start_time": "2023-07-25T20:44:51.474Z"
   },
   {
    "duration": 15,
    "start_time": "2023-07-25T20:44:51.521Z"
   },
   {
    "duration": 18,
    "start_time": "2023-07-25T20:44:51.537Z"
   },
   {
    "duration": 44,
    "start_time": "2023-07-25T20:44:51.556Z"
   },
   {
    "duration": 28,
    "start_time": "2023-07-25T20:44:51.602Z"
   },
   {
    "duration": 204,
    "start_time": "2023-07-25T20:44:51.631Z"
   },
   {
    "duration": 11,
    "start_time": "2023-07-25T20:44:51.837Z"
   },
   {
    "duration": 33,
    "start_time": "2023-07-25T20:44:51.850Z"
   },
   {
    "duration": 35,
    "start_time": "2023-07-25T20:44:51.885Z"
   },
   {
    "duration": 29,
    "start_time": "2023-07-25T20:44:51.922Z"
   },
   {
    "duration": 34,
    "start_time": "2023-07-25T20:44:51.952Z"
   },
   {
    "duration": 29,
    "start_time": "2023-07-25T20:44:51.987Z"
   },
   {
    "duration": 14,
    "start_time": "2023-07-25T20:44:52.018Z"
   },
   {
    "duration": 38,
    "start_time": "2023-07-25T20:44:52.034Z"
   },
   {
    "duration": 92,
    "start_time": "2023-07-25T20:44:52.073Z"
   },
   {
    "duration": 3,
    "start_time": "2023-07-25T20:44:52.166Z"
   },
   {
    "duration": 35,
    "start_time": "2023-07-25T20:44:52.170Z"
   },
   {
    "duration": 37,
    "start_time": "2023-07-25T20:44:52.207Z"
   },
   {
    "duration": 15,
    "start_time": "2023-07-25T20:44:52.246Z"
   },
   {
    "duration": 93,
    "start_time": "2023-07-25T20:44:52.262Z"
   },
   {
    "duration": 4,
    "start_time": "2023-07-25T20:44:52.357Z"
   },
   {
    "duration": 33,
    "start_time": "2023-07-25T20:44:52.362Z"
   },
   {
    "duration": 24,
    "start_time": "2023-07-25T20:44:52.397Z"
   },
   {
    "duration": 41,
    "start_time": "2023-07-25T20:44:52.422Z"
   },
   {
    "duration": 30,
    "start_time": "2023-07-25T20:44:52.465Z"
   },
   {
    "duration": 18,
    "start_time": "2023-07-25T20:44:52.497Z"
   },
   {
    "duration": 21,
    "start_time": "2023-07-25T20:44:52.517Z"
   },
   {
    "duration": 11,
    "start_time": "2023-07-25T20:44:52.540Z"
   },
   {
    "duration": 22,
    "start_time": "2023-07-25T20:44:52.552Z"
   },
   {
    "duration": 25,
    "start_time": "2023-07-25T20:44:52.575Z"
   },
   {
    "duration": 19,
    "start_time": "2023-07-25T20:44:52.601Z"
   },
   {
    "duration": 19,
    "start_time": "2023-07-25T20:44:52.621Z"
   },
   {
    "duration": 9,
    "start_time": "2023-07-25T20:44:52.641Z"
   },
   {
    "duration": 19,
    "start_time": "2023-07-25T20:44:52.651Z"
   },
   {
    "duration": 26,
    "start_time": "2023-07-25T20:44:52.672Z"
   },
   {
    "duration": 33,
    "start_time": "2023-07-25T20:44:52.699Z"
   },
   {
    "duration": 15,
    "start_time": "2023-07-25T20:44:52.734Z"
   },
   {
    "duration": 26,
    "start_time": "2023-07-25T20:44:52.751Z"
   },
   {
    "duration": 27,
    "start_time": "2023-07-25T20:44:52.783Z"
   },
   {
    "duration": 15,
    "start_time": "2023-07-25T20:44:52.812Z"
   },
   {
    "duration": 15,
    "start_time": "2023-07-25T20:44:52.828Z"
   },
   {
    "duration": 20,
    "start_time": "2023-07-25T20:44:52.845Z"
   },
   {
    "duration": 12,
    "start_time": "2023-07-25T20:44:52.866Z"
   },
   {
    "duration": 42,
    "start_time": "2023-07-25T20:44:52.880Z"
   },
   {
    "duration": 12,
    "start_time": "2023-07-25T20:44:52.923Z"
   },
   {
    "duration": 23,
    "start_time": "2023-07-25T20:44:52.936Z"
   },
   {
    "duration": 53,
    "start_time": "2023-07-25T20:44:52.960Z"
   },
   {
    "duration": 41,
    "start_time": "2023-07-25T20:44:53.014Z"
   },
   {
    "duration": 25,
    "start_time": "2023-07-25T20:44:53.057Z"
   },
   {
    "duration": 59,
    "start_time": "2023-07-25T20:44:53.083Z"
   },
   {
    "duration": 51,
    "start_time": "2023-07-25T20:44:53.144Z"
   },
   {
    "duration": 50,
    "start_time": "2023-07-25T20:44:53.197Z"
   },
   {
    "duration": 42,
    "start_time": "2023-07-25T20:44:53.248Z"
   },
   {
    "duration": 48,
    "start_time": "2023-07-25T20:44:53.292Z"
   },
   {
    "duration": 73,
    "start_time": "2023-07-25T20:44:53.342Z"
   },
   {
    "duration": 19,
    "start_time": "2023-07-25T20:44:53.417Z"
   },
   {
    "duration": 50,
    "start_time": "2023-07-25T20:44:53.438Z"
   },
   {
    "duration": 53,
    "start_time": "2023-07-25T20:44:53.490Z"
   },
   {
    "duration": 868,
    "start_time": "2023-07-25T20:44:53.545Z"
   },
   {
    "duration": 4,
    "start_time": "2023-07-25T20:44:54.415Z"
   },
   {
    "duration": 25,
    "start_time": "2023-07-25T20:44:54.420Z"
   },
   {
    "duration": 46,
    "start_time": "2023-07-25T20:44:54.447Z"
   },
   {
    "duration": 55,
    "start_time": "2023-07-25T20:44:54.494Z"
   },
   {
    "duration": 191,
    "start_time": "2023-07-25T20:44:54.551Z"
   },
   {
    "duration": 115,
    "start_time": "2023-07-25T20:44:54.743Z"
   },
   {
    "duration": 120,
    "start_time": "2023-07-25T20:44:54.860Z"
   },
   {
    "duration": 127,
    "start_time": "2023-07-25T20:44:54.982Z"
   },
   {
    "duration": 136,
    "start_time": "2023-07-25T20:44:55.111Z"
   },
   {
    "duration": 228,
    "start_time": "2023-07-25T20:44:55.248Z"
   },
   {
    "duration": 130,
    "start_time": "2023-07-25T20:44:55.478Z"
   },
   {
    "duration": 126,
    "start_time": "2023-07-25T20:44:55.610Z"
   },
   {
    "duration": 141,
    "start_time": "2023-07-25T20:44:55.738Z"
   },
   {
    "duration": 134,
    "start_time": "2023-07-25T20:44:55.880Z"
   },
   {
    "duration": 146,
    "start_time": "2023-07-25T20:44:56.015Z"
   },
   {
    "duration": 161,
    "start_time": "2023-07-25T20:44:56.163Z"
   },
   {
    "duration": 163,
    "start_time": "2023-07-25T20:44:56.326Z"
   },
   {
    "duration": 140,
    "start_time": "2023-07-25T20:44:56.491Z"
   },
   {
    "duration": 129,
    "start_time": "2023-07-25T20:44:56.633Z"
   },
   {
    "duration": 157,
    "start_time": "2023-07-25T20:44:56.764Z"
   },
   {
    "duration": 133,
    "start_time": "2023-07-25T20:44:56.923Z"
   },
   {
    "duration": 162,
    "start_time": "2023-07-25T20:44:57.058Z"
   },
   {
    "duration": 153,
    "start_time": "2023-07-25T20:44:57.222Z"
   },
   {
    "duration": 135,
    "start_time": "2023-07-25T20:44:57.377Z"
   },
   {
    "duration": 243,
    "start_time": "2023-07-25T20:44:57.513Z"
   },
   {
    "duration": 132,
    "start_time": "2023-07-25T20:44:57.758Z"
   },
   {
    "duration": 134,
    "start_time": "2023-07-25T20:44:57.892Z"
   },
   {
    "duration": 122,
    "start_time": "2023-07-25T20:44:58.028Z"
   },
   {
    "duration": 127,
    "start_time": "2023-07-25T20:44:58.152Z"
   },
   {
    "duration": 132,
    "start_time": "2023-07-25T20:44:58.281Z"
   },
   {
    "duration": 3,
    "start_time": "2023-07-25T20:44:58.414Z"
   },
   {
    "duration": 7,
    "start_time": "2023-07-25T20:44:58.418Z"
   },
   {
    "duration": 6,
    "start_time": "2023-07-25T20:44:58.427Z"
   },
   {
    "duration": 11,
    "start_time": "2023-07-25T20:44:58.435Z"
   },
   {
    "duration": 8,
    "start_time": "2023-07-25T20:44:58.447Z"
   },
   {
    "duration": 5,
    "start_time": "2023-07-25T20:44:58.457Z"
   },
   {
    "duration": 15,
    "start_time": "2023-07-25T20:44:58.463Z"
   },
   {
    "duration": 3,
    "start_time": "2023-07-25T20:44:58.480Z"
   },
   {
    "duration": 141716,
    "start_time": "2023-07-25T20:44:58.484Z"
   },
   {
    "duration": 3664,
    "start_time": "2023-07-25T20:47:20.201Z"
   },
   {
    "duration": 10,
    "start_time": "2023-07-25T20:47:23.867Z"
   },
   {
    "duration": 39,
    "start_time": "2023-07-25T20:47:23.879Z"
   },
   {
    "duration": 58,
    "start_time": "2023-07-25T20:47:23.920Z"
   },
   {
    "duration": 357,
    "start_time": "2023-07-25T20:53:27.432Z"
   },
   {
    "duration": 4491,
    "start_time": "2023-07-25T20:56:32.112Z"
   },
   {
    "duration": 4157,
    "start_time": "2023-07-25T20:56:54.044Z"
   },
   {
    "duration": 4292,
    "start_time": "2023-07-25T20:57:07.443Z"
   },
   {
    "duration": 4663,
    "start_time": "2023-07-25T21:00:51.236Z"
   },
   {
    "duration": 1453,
    "start_time": "2023-07-25T21:14:40.705Z"
   },
   {
    "duration": 3,
    "start_time": "2023-07-25T21:14:42.160Z"
   },
   {
    "duration": 346,
    "start_time": "2023-07-25T21:14:42.164Z"
   },
   {
    "duration": 3,
    "start_time": "2023-07-25T21:14:42.511Z"
   },
   {
    "duration": 49,
    "start_time": "2023-07-25T21:14:42.516Z"
   },
   {
    "duration": 11,
    "start_time": "2023-07-25T21:14:42.566Z"
   },
   {
    "duration": 22,
    "start_time": "2023-07-25T21:14:42.579Z"
   },
   {
    "duration": 21,
    "start_time": "2023-07-25T21:14:42.603Z"
   },
   {
    "duration": 30,
    "start_time": "2023-07-25T21:14:42.626Z"
   },
   {
    "duration": 28,
    "start_time": "2023-07-25T21:14:42.657Z"
   },
   {
    "duration": 33,
    "start_time": "2023-07-25T21:14:42.687Z"
   },
   {
    "duration": 4,
    "start_time": "2023-07-25T21:14:42.721Z"
   },
   {
    "duration": 12,
    "start_time": "2023-07-25T21:14:42.727Z"
   },
   {
    "duration": 172,
    "start_time": "2023-07-25T21:14:42.742Z"
   },
   {
    "duration": 161,
    "start_time": "2023-07-25T21:14:42.916Z"
   },
   {
    "duration": 10,
    "start_time": "2023-07-25T21:14:43.079Z"
   },
   {
    "duration": 17,
    "start_time": "2023-07-25T21:14:43.091Z"
   },
   {
    "duration": 47,
    "start_time": "2023-07-25T21:14:43.109Z"
   },
   {
    "duration": 70,
    "start_time": "2023-07-25T21:14:43.157Z"
   },
   {
    "duration": 5,
    "start_time": "2023-07-25T21:14:43.229Z"
   },
   {
    "duration": 52,
    "start_time": "2023-07-25T21:14:43.236Z"
   },
   {
    "duration": 26,
    "start_time": "2023-07-25T21:14:43.289Z"
   },
   {
    "duration": 50,
    "start_time": "2023-07-25T21:14:43.317Z"
   },
   {
    "duration": 34,
    "start_time": "2023-07-25T21:14:43.369Z"
   },
   {
    "duration": 46,
    "start_time": "2023-07-25T21:14:43.405Z"
   },
   {
    "duration": 38,
    "start_time": "2023-07-25T21:14:43.453Z"
   },
   {
    "duration": 35,
    "start_time": "2023-07-25T21:14:43.493Z"
   },
   {
    "duration": 38,
    "start_time": "2023-07-25T21:14:43.530Z"
   },
   {
    "duration": 211,
    "start_time": "2023-07-25T21:14:43.570Z"
   },
   {
    "duration": 11,
    "start_time": "2023-07-25T21:14:43.784Z"
   },
   {
    "duration": 11,
    "start_time": "2023-07-25T21:14:43.797Z"
   },
   {
    "duration": 33,
    "start_time": "2023-07-25T21:14:43.809Z"
   },
   {
    "duration": 21,
    "start_time": "2023-07-25T21:14:43.844Z"
   },
   {
    "duration": 11,
    "start_time": "2023-07-25T21:14:43.867Z"
   },
   {
    "duration": 238,
    "start_time": "2023-07-25T21:14:43.880Z"
   },
   {
    "duration": 10,
    "start_time": "2023-07-25T21:14:44.120Z"
   },
   {
    "duration": 79,
    "start_time": "2023-07-25T21:14:44.131Z"
   },
   {
    "duration": 30,
    "start_time": "2023-07-25T21:14:44.212Z"
   },
   {
    "duration": 50,
    "start_time": "2023-07-25T21:14:44.244Z"
   },
   {
    "duration": 3,
    "start_time": "2023-07-25T21:14:44.296Z"
   },
   {
    "duration": 22,
    "start_time": "2023-07-25T21:14:44.304Z"
   },
   {
    "duration": 16,
    "start_time": "2023-07-25T21:14:44.328Z"
   },
   {
    "duration": 24,
    "start_time": "2023-07-25T21:14:44.346Z"
   },
   {
    "duration": 43,
    "start_time": "2023-07-25T21:14:44.372Z"
   },
   {
    "duration": 21,
    "start_time": "2023-07-25T21:14:44.417Z"
   },
   {
    "duration": 34,
    "start_time": "2023-07-25T21:14:44.440Z"
   },
   {
    "duration": 37,
    "start_time": "2023-07-25T21:14:44.475Z"
   },
   {
    "duration": 21,
    "start_time": "2023-07-25T21:14:44.514Z"
   },
   {
    "duration": 169,
    "start_time": "2023-07-25T21:14:44.537Z"
   },
   {
    "duration": 10,
    "start_time": "2023-07-25T21:14:44.708Z"
   },
   {
    "duration": 20,
    "start_time": "2023-07-25T21:14:44.720Z"
   },
   {
    "duration": 22,
    "start_time": "2023-07-25T21:14:44.742Z"
   },
   {
    "duration": 55,
    "start_time": "2023-07-25T21:14:44.766Z"
   },
   {
    "duration": 18,
    "start_time": "2023-07-25T21:14:44.822Z"
   },
   {
    "duration": 28,
    "start_time": "2023-07-25T21:14:44.842Z"
   },
   {
    "duration": 14,
    "start_time": "2023-07-25T21:14:44.871Z"
   },
   {
    "duration": 9,
    "start_time": "2023-07-25T21:14:44.886Z"
   },
   {
    "duration": 97,
    "start_time": "2023-07-25T21:14:44.897Z"
   },
   {
    "duration": 2,
    "start_time": "2023-07-25T21:14:44.995Z"
   },
   {
    "duration": 62,
    "start_time": "2023-07-25T21:14:44.999Z"
   },
   {
    "duration": 32,
    "start_time": "2023-07-25T21:14:45.063Z"
   },
   {
    "duration": 17,
    "start_time": "2023-07-25T21:14:45.096Z"
   },
   {
    "duration": 121,
    "start_time": "2023-07-25T21:14:45.115Z"
   },
   {
    "duration": 4,
    "start_time": "2023-07-25T21:14:45.239Z"
   },
   {
    "duration": 14,
    "start_time": "2023-07-25T21:14:45.244Z"
   },
   {
    "duration": 40,
    "start_time": "2023-07-25T21:14:45.259Z"
   },
   {
    "duration": 31,
    "start_time": "2023-07-25T21:14:45.301Z"
   },
   {
    "duration": 33,
    "start_time": "2023-07-25T21:14:45.334Z"
   },
   {
    "duration": 18,
    "start_time": "2023-07-25T21:14:45.369Z"
   },
   {
    "duration": 15,
    "start_time": "2023-07-25T21:14:45.389Z"
   },
   {
    "duration": 12,
    "start_time": "2023-07-25T21:14:45.406Z"
   },
   {
    "duration": 17,
    "start_time": "2023-07-25T21:14:45.420Z"
   },
   {
    "duration": 7,
    "start_time": "2023-07-25T21:14:45.439Z"
   },
   {
    "duration": 16,
    "start_time": "2023-07-25T21:14:45.447Z"
   },
   {
    "duration": 17,
    "start_time": "2023-07-25T21:14:45.465Z"
   },
   {
    "duration": 21,
    "start_time": "2023-07-25T21:14:45.483Z"
   },
   {
    "duration": 12,
    "start_time": "2023-07-25T21:14:45.506Z"
   },
   {
    "duration": 24,
    "start_time": "2023-07-25T21:14:45.520Z"
   },
   {
    "duration": 5,
    "start_time": "2023-07-25T21:14:45.545Z"
   },
   {
    "duration": 20,
    "start_time": "2023-07-25T21:14:45.551Z"
   },
   {
    "duration": 22,
    "start_time": "2023-07-25T21:14:45.572Z"
   },
   {
    "duration": 22,
    "start_time": "2023-07-25T21:14:45.595Z"
   },
   {
    "duration": 18,
    "start_time": "2023-07-25T21:14:45.619Z"
   },
   {
    "duration": 15,
    "start_time": "2023-07-25T21:14:45.639Z"
   },
   {
    "duration": 30,
    "start_time": "2023-07-25T21:14:45.656Z"
   },
   {
    "duration": 24,
    "start_time": "2023-07-25T21:14:45.688Z"
   },
   {
    "duration": 27,
    "start_time": "2023-07-25T21:14:45.714Z"
   },
   {
    "duration": 19,
    "start_time": "2023-07-25T21:14:45.743Z"
   },
   {
    "duration": 29,
    "start_time": "2023-07-25T21:14:45.764Z"
   },
   {
    "duration": 33,
    "start_time": "2023-07-25T21:14:45.795Z"
   },
   {
    "duration": 18,
    "start_time": "2023-07-25T21:14:45.830Z"
   },
   {
    "duration": 6,
    "start_time": "2023-07-25T21:14:45.849Z"
   },
   {
    "duration": 18,
    "start_time": "2023-07-25T21:14:45.856Z"
   },
   {
    "duration": 21,
    "start_time": "2023-07-25T21:14:45.876Z"
   },
   {
    "duration": 10,
    "start_time": "2023-07-25T21:14:45.898Z"
   },
   {
    "duration": 3,
    "start_time": "2023-07-25T21:14:45.910Z"
   },
   {
    "duration": 9,
    "start_time": "2023-07-25T21:14:45.915Z"
   },
   {
    "duration": 14,
    "start_time": "2023-07-25T21:14:45.926Z"
   },
   {
    "duration": 7,
    "start_time": "2023-07-25T21:14:45.941Z"
   },
   {
    "duration": 25,
    "start_time": "2023-07-25T21:14:45.950Z"
   },
   {
    "duration": 38,
    "start_time": "2023-07-25T21:14:45.977Z"
   },
   {
    "duration": 897,
    "start_time": "2023-07-25T21:14:46.017Z"
   },
   {
    "duration": 6,
    "start_time": "2023-07-25T21:14:46.915Z"
   },
   {
    "duration": 42,
    "start_time": "2023-07-25T21:14:46.922Z"
   },
   {
    "duration": 46,
    "start_time": "2023-07-25T21:14:46.966Z"
   },
   {
    "duration": 55,
    "start_time": "2023-07-25T21:14:47.013Z"
   },
   {
    "duration": 4362,
    "start_time": "2023-07-25T21:14:47.069Z"
   },
   {
    "duration": 3,
    "start_time": "2023-07-25T21:14:51.433Z"
   },
   {
    "duration": 51,
    "start_time": "2023-07-25T21:14:51.437Z"
   },
   {
    "duration": 63,
    "start_time": "2023-07-25T21:14:51.490Z"
   },
   {
    "duration": 40,
    "start_time": "2023-07-25T21:14:51.555Z"
   },
   {
    "duration": 45,
    "start_time": "2023-07-25T21:14:51.598Z"
   },
   {
    "duration": 46,
    "start_time": "2023-07-25T21:14:51.645Z"
   },
   {
    "duration": 29,
    "start_time": "2023-07-25T21:14:51.694Z"
   },
   {
    "duration": 17,
    "start_time": "2023-07-25T21:14:51.725Z"
   },
   {
    "duration": 141598,
    "start_time": "2023-07-25T21:14:51.744Z"
   },
   {
    "duration": 3696,
    "start_time": "2023-07-25T21:17:13.344Z"
   },
   {
    "duration": 4,
    "start_time": "2023-07-25T21:17:17.042Z"
   },
   {
    "duration": 32,
    "start_time": "2023-07-25T21:17:17.047Z"
   },
   {
    "duration": 54,
    "start_time": "2023-07-25T21:17:17.081Z"
   }
  ],
  "kernelspec": {
   "display_name": "Python 3 (ipykernel)",
   "language": "python",
   "name": "python3"
  },
  "language_info": {
   "codemirror_mode": {
    "name": "ipython",
    "version": 3
   },
   "file_extension": ".py",
   "mimetype": "text/x-python",
   "name": "python",
   "nbconvert_exporter": "python",
   "pygments_lexer": "ipython3",
   "version": "3.9.13"
  },
  "toc": {
   "base_numbering": 1,
   "nav_menu": {},
   "number_sections": true,
   "sideBar": true,
   "skip_h1_title": true,
   "title_cell": "Table of Contents",
   "title_sidebar": "Contents",
   "toc_cell": false,
   "toc_position": {
    "height": "calc(100% - 180px)",
    "left": "10px",
    "top": "150px",
    "width": "165px"
   },
   "toc_section_display": true,
   "toc_window_display": true
  }
 },
 "nbformat": 4,
 "nbformat_minor": 2
}
