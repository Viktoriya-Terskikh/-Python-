{
 "cells": [
  {
   "cell_type": "markdown",
   "id": "6d13f1ab",
   "metadata": {},
   "source": [
    "<div style=\"border:solid purple 2px; padding: 20px\"> \n",
    "\n",
    "**Привет, Виктория!**\n",
    "\n",
    "Меня зовут Мария Новожилова и я буду делать ревью твоего проекта по предобработке данных. Давай будем общаться на **«ты»**. Если это неприемлемо, обязательно напиши мне в комментариях — мы перейдем на **«вы»**.\n",
    "\n",
    "<div class=\"alert alert-danger\">\n",
    "<b>Комментарий ревьюера ❌:</b> Так я выделяю те комментарии, на которые нужно обратить внимание в первую очередь. После их доработки проект будет принят. </div>\n",
    "\n",
    "<div class=\"alert alert-success\">\n",
    "<b>Комментарий ревьюера ✔️:</b> Зеленым цветом отмечены удачные и элегантные решения, на которые можно опираться в будущих проектах.</div>\n",
    "\n",
    "<div class=\"alert alert-warning\">\n",
    "<b>Комментарий ревьюера ⚠️:</b> Оранжевым цветом выделено то, что в следующий раз можно сделать по-другому. Ты можешь учесть эти комментарии при выполнении будущих заданий или доработать проект сейчас (однако это не обязательно).</div>\n",
    "    \n",
    "Давай работать над проектом в диалоге: если ты **что-то меняешь** в проекте по моим рекомендациям — **пиши об этом**. Выбери для своих комментариев какой-то заметный цвет.\n",
    "\n",
    "<div class=\"alert alert-info\">\n",
    "<b>Комментарий студента:</b> Например, такой.</div>   \n",
    "    \n",
    "Так мне будет легче отследить изменения. Пожалуйста, **не перемещай, не изменяй и не удаляй мои комментарии**. Всё это поможет выполнить повторную проверку твоего проекта оперативнее."
   ]
  },
  {
   "cell_type": "markdown",
   "id": "5d2355d4",
   "metadata": {},
   "source": [
    "<div class=\"alert alert-success\">\n",
    "<b>Комментарий ревьюера 2V ✔️✔️:</b> Привет, новые комментарии отмечены 2V."
   ]
  },
  {
   "cell_type": "markdown",
   "id": "77ad6071",
   "metadata": {},
   "source": [
    "<div class=\"alert alert-success\">\n",
    "<b>Комментарий ревьюера 3V ✔️✔️✔️:</b> Привет, новые комментарии отмечены 3V."
   ]
  },
  {
   "cell_type": "markdown",
   "id": "b570c4ed",
   "metadata": {
    "deletable": false,
    "editable": false,
    "id": "c81daeeb"
   },
   "source": [
    "# Исследование надежности заемщиков\n"
   ]
  },
  {
   "cell_type": "markdown",
   "id": "9b86e846",
   "metadata": {
    "deletable": false,
    "editable": false,
    "id": "827c20bf"
   },
   "source": [
    "Во второй части проекта вы выполните шаги 3 и 4. Их вручную проверит ревьюер.\n",
    "Чтобы вам не пришлось писать код заново для шагов 1 и 2, мы добавили авторские решения в ячейки с кодом. \n",
    "\n"
   ]
  },
  {
   "cell_type": "markdown",
   "id": "26639741",
   "metadata": {},
   "source": [
    "<div class=\"alert alert-warning\">\n",
    "<b>Комментарий ревьюера ⚠️:</b> Хорошая практика начинать проект с описания контекста и задачи. Лучше сделать это описание более подробным."
   ]
  },
  {
   "cell_type": "markdown",
   "id": "639f6409",
   "metadata": {},
   "source": [
    "<div class=\"alert alert-info\">\n",
    "<b>Комментарий ревьера:</b> Проверка начинается с <a href=#link>шага 3</a></div>   "
   ]
  },
  {
   "cell_type": "markdown",
   "id": "675a182b",
   "metadata": {
    "deletable": false,
    "editable": false,
    "id": "744d7639"
   },
   "source": [
    "## Откройте таблицу и изучите общую информацию о данных"
   ]
  },
  {
   "cell_type": "markdown",
   "id": "0252a9fc",
   "metadata": {
    "deletable": false,
    "editable": false,
    "id": "e7a14c31"
   },
   "source": [
    "**Задание 1. Импортируйте библиотеку pandas. Считайте данные из csv-файла в датафрейм и сохраните в переменную `data`. Путь к файлу:**\n",
    "\n",
    "`/datasets/data.csv`"
   ]
  },
  {
   "cell_type": "code",
   "execution_count": 2,
   "id": "44688102",
   "metadata": {
    "deletable": false,
    "id": "7bcf75c9"
   },
   "outputs": [],
   "source": [
    "import pandas as pd\n",
    "\n",
    "try:\n",
    "    data = pd.read_csv('/datasets/data.csv')\n",
    "except:\n",
    "    data = pd.read_csv('https://code.s3.yandex.net/datasets/data.csv')"
   ]
  },
  {
   "cell_type": "markdown",
   "id": "75819376",
   "metadata": {
    "deletable": false,
    "editable": false,
    "id": "b8038fe3"
   },
   "source": [
    "**Задание 2. Выведите первые 20 строчек датафрейма `data` на экран.**"
   ]
  },
  {
   "cell_type": "code",
   "execution_count": 3,
   "id": "466f5414",
   "metadata": {
    "deletable": false,
    "id": "2a7cab99",
    "outputId": "1a8f3ef2-d323-4ec2-ddf7-89670b5944c4"
   },
   "outputs": [
    {
     "data": {
      "text/html": [
       "<div>\n",
       "<style scoped>\n",
       "    .dataframe tbody tr th:only-of-type {\n",
       "        vertical-align: middle;\n",
       "    }\n",
       "\n",
       "    .dataframe tbody tr th {\n",
       "        vertical-align: top;\n",
       "    }\n",
       "\n",
       "    .dataframe thead th {\n",
       "        text-align: right;\n",
       "    }\n",
       "</style>\n",
       "<table border=\"1\" class=\"dataframe\">\n",
       "  <thead>\n",
       "    <tr style=\"text-align: right;\">\n",
       "      <th></th>\n",
       "      <th>children</th>\n",
       "      <th>days_employed</th>\n",
       "      <th>dob_years</th>\n",
       "      <th>education</th>\n",
       "      <th>education_id</th>\n",
       "      <th>family_status</th>\n",
       "      <th>family_status_id</th>\n",
       "      <th>gender</th>\n",
       "      <th>income_type</th>\n",
       "      <th>debt</th>\n",
       "      <th>total_income</th>\n",
       "      <th>purpose</th>\n",
       "    </tr>\n",
       "  </thead>\n",
       "  <tbody>\n",
       "    <tr>\n",
       "      <th>0</th>\n",
       "      <td>1</td>\n",
       "      <td>-8437.673028</td>\n",
       "      <td>42</td>\n",
       "      <td>высшее</td>\n",
       "      <td>0</td>\n",
       "      <td>женат / замужем</td>\n",
       "      <td>0</td>\n",
       "      <td>F</td>\n",
       "      <td>сотрудник</td>\n",
       "      <td>0</td>\n",
       "      <td>253875.639453</td>\n",
       "      <td>покупка жилья</td>\n",
       "    </tr>\n",
       "    <tr>\n",
       "      <th>1</th>\n",
       "      <td>1</td>\n",
       "      <td>-4024.803754</td>\n",
       "      <td>36</td>\n",
       "      <td>среднее</td>\n",
       "      <td>1</td>\n",
       "      <td>женат / замужем</td>\n",
       "      <td>0</td>\n",
       "      <td>F</td>\n",
       "      <td>сотрудник</td>\n",
       "      <td>0</td>\n",
       "      <td>112080.014102</td>\n",
       "      <td>приобретение автомобиля</td>\n",
       "    </tr>\n",
       "    <tr>\n",
       "      <th>2</th>\n",
       "      <td>0</td>\n",
       "      <td>-5623.422610</td>\n",
       "      <td>33</td>\n",
       "      <td>Среднее</td>\n",
       "      <td>1</td>\n",
       "      <td>женат / замужем</td>\n",
       "      <td>0</td>\n",
       "      <td>M</td>\n",
       "      <td>сотрудник</td>\n",
       "      <td>0</td>\n",
       "      <td>145885.952297</td>\n",
       "      <td>покупка жилья</td>\n",
       "    </tr>\n",
       "    <tr>\n",
       "      <th>3</th>\n",
       "      <td>3</td>\n",
       "      <td>-4124.747207</td>\n",
       "      <td>32</td>\n",
       "      <td>среднее</td>\n",
       "      <td>1</td>\n",
       "      <td>женат / замужем</td>\n",
       "      <td>0</td>\n",
       "      <td>M</td>\n",
       "      <td>сотрудник</td>\n",
       "      <td>0</td>\n",
       "      <td>267628.550329</td>\n",
       "      <td>дополнительное образование</td>\n",
       "    </tr>\n",
       "    <tr>\n",
       "      <th>4</th>\n",
       "      <td>0</td>\n",
       "      <td>340266.072047</td>\n",
       "      <td>53</td>\n",
       "      <td>среднее</td>\n",
       "      <td>1</td>\n",
       "      <td>гражданский брак</td>\n",
       "      <td>1</td>\n",
       "      <td>F</td>\n",
       "      <td>пенсионер</td>\n",
       "      <td>0</td>\n",
       "      <td>158616.077870</td>\n",
       "      <td>сыграть свадьбу</td>\n",
       "    </tr>\n",
       "    <tr>\n",
       "      <th>5</th>\n",
       "      <td>0</td>\n",
       "      <td>-926.185831</td>\n",
       "      <td>27</td>\n",
       "      <td>высшее</td>\n",
       "      <td>0</td>\n",
       "      <td>гражданский брак</td>\n",
       "      <td>1</td>\n",
       "      <td>M</td>\n",
       "      <td>компаньон</td>\n",
       "      <td>0</td>\n",
       "      <td>255763.565419</td>\n",
       "      <td>покупка жилья</td>\n",
       "    </tr>\n",
       "    <tr>\n",
       "      <th>6</th>\n",
       "      <td>0</td>\n",
       "      <td>-2879.202052</td>\n",
       "      <td>43</td>\n",
       "      <td>высшее</td>\n",
       "      <td>0</td>\n",
       "      <td>женат / замужем</td>\n",
       "      <td>0</td>\n",
       "      <td>F</td>\n",
       "      <td>компаньон</td>\n",
       "      <td>0</td>\n",
       "      <td>240525.971920</td>\n",
       "      <td>операции с жильем</td>\n",
       "    </tr>\n",
       "    <tr>\n",
       "      <th>7</th>\n",
       "      <td>0</td>\n",
       "      <td>-152.779569</td>\n",
       "      <td>50</td>\n",
       "      <td>СРЕДНЕЕ</td>\n",
       "      <td>1</td>\n",
       "      <td>женат / замужем</td>\n",
       "      <td>0</td>\n",
       "      <td>M</td>\n",
       "      <td>сотрудник</td>\n",
       "      <td>0</td>\n",
       "      <td>135823.934197</td>\n",
       "      <td>образование</td>\n",
       "    </tr>\n",
       "    <tr>\n",
       "      <th>8</th>\n",
       "      <td>2</td>\n",
       "      <td>-6929.865299</td>\n",
       "      <td>35</td>\n",
       "      <td>ВЫСШЕЕ</td>\n",
       "      <td>0</td>\n",
       "      <td>гражданский брак</td>\n",
       "      <td>1</td>\n",
       "      <td>F</td>\n",
       "      <td>сотрудник</td>\n",
       "      <td>0</td>\n",
       "      <td>95856.832424</td>\n",
       "      <td>на проведение свадьбы</td>\n",
       "    </tr>\n",
       "    <tr>\n",
       "      <th>9</th>\n",
       "      <td>0</td>\n",
       "      <td>-2188.756445</td>\n",
       "      <td>41</td>\n",
       "      <td>среднее</td>\n",
       "      <td>1</td>\n",
       "      <td>женат / замужем</td>\n",
       "      <td>0</td>\n",
       "      <td>M</td>\n",
       "      <td>сотрудник</td>\n",
       "      <td>0</td>\n",
       "      <td>144425.938277</td>\n",
       "      <td>покупка жилья для семьи</td>\n",
       "    </tr>\n",
       "    <tr>\n",
       "      <th>10</th>\n",
       "      <td>2</td>\n",
       "      <td>-4171.483647</td>\n",
       "      <td>36</td>\n",
       "      <td>высшее</td>\n",
       "      <td>0</td>\n",
       "      <td>женат / замужем</td>\n",
       "      <td>0</td>\n",
       "      <td>M</td>\n",
       "      <td>компаньон</td>\n",
       "      <td>0</td>\n",
       "      <td>113943.491460</td>\n",
       "      <td>покупка недвижимости</td>\n",
       "    </tr>\n",
       "    <tr>\n",
       "      <th>11</th>\n",
       "      <td>0</td>\n",
       "      <td>-792.701887</td>\n",
       "      <td>40</td>\n",
       "      <td>среднее</td>\n",
       "      <td>1</td>\n",
       "      <td>женат / замужем</td>\n",
       "      <td>0</td>\n",
       "      <td>F</td>\n",
       "      <td>сотрудник</td>\n",
       "      <td>0</td>\n",
       "      <td>77069.234271</td>\n",
       "      <td>покупка коммерческой недвижимости</td>\n",
       "    </tr>\n",
       "    <tr>\n",
       "      <th>12</th>\n",
       "      <td>0</td>\n",
       "      <td>NaN</td>\n",
       "      <td>65</td>\n",
       "      <td>среднее</td>\n",
       "      <td>1</td>\n",
       "      <td>гражданский брак</td>\n",
       "      <td>1</td>\n",
       "      <td>M</td>\n",
       "      <td>пенсионер</td>\n",
       "      <td>0</td>\n",
       "      <td>NaN</td>\n",
       "      <td>сыграть свадьбу</td>\n",
       "    </tr>\n",
       "    <tr>\n",
       "      <th>13</th>\n",
       "      <td>0</td>\n",
       "      <td>-1846.641941</td>\n",
       "      <td>54</td>\n",
       "      <td>неоконченное высшее</td>\n",
       "      <td>2</td>\n",
       "      <td>женат / замужем</td>\n",
       "      <td>0</td>\n",
       "      <td>F</td>\n",
       "      <td>сотрудник</td>\n",
       "      <td>0</td>\n",
       "      <td>130458.228857</td>\n",
       "      <td>приобретение автомобиля</td>\n",
       "    </tr>\n",
       "    <tr>\n",
       "      <th>14</th>\n",
       "      <td>0</td>\n",
       "      <td>-1844.956182</td>\n",
       "      <td>56</td>\n",
       "      <td>высшее</td>\n",
       "      <td>0</td>\n",
       "      <td>гражданский брак</td>\n",
       "      <td>1</td>\n",
       "      <td>F</td>\n",
       "      <td>компаньон</td>\n",
       "      <td>1</td>\n",
       "      <td>165127.911772</td>\n",
       "      <td>покупка жилой недвижимости</td>\n",
       "    </tr>\n",
       "    <tr>\n",
       "      <th>15</th>\n",
       "      <td>1</td>\n",
       "      <td>-972.364419</td>\n",
       "      <td>26</td>\n",
       "      <td>среднее</td>\n",
       "      <td>1</td>\n",
       "      <td>женат / замужем</td>\n",
       "      <td>0</td>\n",
       "      <td>F</td>\n",
       "      <td>сотрудник</td>\n",
       "      <td>0</td>\n",
       "      <td>116820.904450</td>\n",
       "      <td>строительство собственной недвижимости</td>\n",
       "    </tr>\n",
       "    <tr>\n",
       "      <th>16</th>\n",
       "      <td>0</td>\n",
       "      <td>-1719.934226</td>\n",
       "      <td>35</td>\n",
       "      <td>среднее</td>\n",
       "      <td>1</td>\n",
       "      <td>женат / замужем</td>\n",
       "      <td>0</td>\n",
       "      <td>F</td>\n",
       "      <td>сотрудник</td>\n",
       "      <td>0</td>\n",
       "      <td>289202.704229</td>\n",
       "      <td>недвижимость</td>\n",
       "    </tr>\n",
       "    <tr>\n",
       "      <th>17</th>\n",
       "      <td>0</td>\n",
       "      <td>-2369.999720</td>\n",
       "      <td>33</td>\n",
       "      <td>высшее</td>\n",
       "      <td>0</td>\n",
       "      <td>гражданский брак</td>\n",
       "      <td>1</td>\n",
       "      <td>M</td>\n",
       "      <td>сотрудник</td>\n",
       "      <td>0</td>\n",
       "      <td>90410.586745</td>\n",
       "      <td>строительство недвижимости</td>\n",
       "    </tr>\n",
       "    <tr>\n",
       "      <th>18</th>\n",
       "      <td>0</td>\n",
       "      <td>400281.136913</td>\n",
       "      <td>53</td>\n",
       "      <td>среднее</td>\n",
       "      <td>1</td>\n",
       "      <td>вдовец / вдова</td>\n",
       "      <td>2</td>\n",
       "      <td>F</td>\n",
       "      <td>пенсионер</td>\n",
       "      <td>0</td>\n",
       "      <td>56823.777243</td>\n",
       "      <td>на покупку подержанного автомобиля</td>\n",
       "    </tr>\n",
       "    <tr>\n",
       "      <th>19</th>\n",
       "      <td>0</td>\n",
       "      <td>-10038.818549</td>\n",
       "      <td>48</td>\n",
       "      <td>СРЕДНЕЕ</td>\n",
       "      <td>1</td>\n",
       "      <td>в разводе</td>\n",
       "      <td>3</td>\n",
       "      <td>F</td>\n",
       "      <td>сотрудник</td>\n",
       "      <td>0</td>\n",
       "      <td>242831.107982</td>\n",
       "      <td>на покупку своего автомобиля</td>\n",
       "    </tr>\n",
       "  </tbody>\n",
       "</table>\n",
       "</div>"
      ],
      "text/plain": [
       "    children  days_employed  dob_years            education  education_id  \\\n",
       "0          1   -8437.673028         42               высшее             0   \n",
       "1          1   -4024.803754         36              среднее             1   \n",
       "2          0   -5623.422610         33              Среднее             1   \n",
       "3          3   -4124.747207         32              среднее             1   \n",
       "4          0  340266.072047         53              среднее             1   \n",
       "5          0    -926.185831         27               высшее             0   \n",
       "6          0   -2879.202052         43               высшее             0   \n",
       "7          0    -152.779569         50              СРЕДНЕЕ             1   \n",
       "8          2   -6929.865299         35               ВЫСШЕЕ             0   \n",
       "9          0   -2188.756445         41              среднее             1   \n",
       "10         2   -4171.483647         36               высшее             0   \n",
       "11         0    -792.701887         40              среднее             1   \n",
       "12         0            NaN         65              среднее             1   \n",
       "13         0   -1846.641941         54  неоконченное высшее             2   \n",
       "14         0   -1844.956182         56               высшее             0   \n",
       "15         1    -972.364419         26              среднее             1   \n",
       "16         0   -1719.934226         35              среднее             1   \n",
       "17         0   -2369.999720         33               высшее             0   \n",
       "18         0  400281.136913         53              среднее             1   \n",
       "19         0  -10038.818549         48              СРЕДНЕЕ             1   \n",
       "\n",
       "       family_status  family_status_id gender income_type  debt  \\\n",
       "0    женат / замужем                 0      F   сотрудник     0   \n",
       "1    женат / замужем                 0      F   сотрудник     0   \n",
       "2    женат / замужем                 0      M   сотрудник     0   \n",
       "3    женат / замужем                 0      M   сотрудник     0   \n",
       "4   гражданский брак                 1      F   пенсионер     0   \n",
       "5   гражданский брак                 1      M   компаньон     0   \n",
       "6    женат / замужем                 0      F   компаньон     0   \n",
       "7    женат / замужем                 0      M   сотрудник     0   \n",
       "8   гражданский брак                 1      F   сотрудник     0   \n",
       "9    женат / замужем                 0      M   сотрудник     0   \n",
       "10   женат / замужем                 0      M   компаньон     0   \n",
       "11   женат / замужем                 0      F   сотрудник     0   \n",
       "12  гражданский брак                 1      M   пенсионер     0   \n",
       "13   женат / замужем                 0      F   сотрудник     0   \n",
       "14  гражданский брак                 1      F   компаньон     1   \n",
       "15   женат / замужем                 0      F   сотрудник     0   \n",
       "16   женат / замужем                 0      F   сотрудник     0   \n",
       "17  гражданский брак                 1      M   сотрудник     0   \n",
       "18    вдовец / вдова                 2      F   пенсионер     0   \n",
       "19         в разводе                 3      F   сотрудник     0   \n",
       "\n",
       "     total_income                                 purpose  \n",
       "0   253875.639453                           покупка жилья  \n",
       "1   112080.014102                 приобретение автомобиля  \n",
       "2   145885.952297                           покупка жилья  \n",
       "3   267628.550329              дополнительное образование  \n",
       "4   158616.077870                         сыграть свадьбу  \n",
       "5   255763.565419                           покупка жилья  \n",
       "6   240525.971920                       операции с жильем  \n",
       "7   135823.934197                             образование  \n",
       "8    95856.832424                   на проведение свадьбы  \n",
       "9   144425.938277                 покупка жилья для семьи  \n",
       "10  113943.491460                    покупка недвижимости  \n",
       "11   77069.234271       покупка коммерческой недвижимости  \n",
       "12            NaN                         сыграть свадьбу  \n",
       "13  130458.228857                 приобретение автомобиля  \n",
       "14  165127.911772              покупка жилой недвижимости  \n",
       "15  116820.904450  строительство собственной недвижимости  \n",
       "16  289202.704229                            недвижимость  \n",
       "17   90410.586745              строительство недвижимости  \n",
       "18   56823.777243      на покупку подержанного автомобиля  \n",
       "19  242831.107982            на покупку своего автомобиля  "
      ]
     },
     "execution_count": 3,
     "metadata": {},
     "output_type": "execute_result"
    }
   ],
   "source": [
    "data.head(20)"
   ]
  },
  {
   "cell_type": "markdown",
   "id": "03f3536d",
   "metadata": {
    "deletable": false,
    "editable": false,
    "id": "1c12e233"
   },
   "source": [
    "**Задание 3. Выведите основную информацию о датафрейме с помощью метода `info()`.**"
   ]
  },
  {
   "cell_type": "code",
   "execution_count": 4,
   "id": "73c560cb",
   "metadata": {
    "deletable": false,
    "id": "2b757bca",
    "outputId": "15376089-8dad-46c9-b520-c05248d43158"
   },
   "outputs": [
    {
     "name": "stdout",
     "output_type": "stream",
     "text": [
      "<class 'pandas.core.frame.DataFrame'>\n",
      "RangeIndex: 21525 entries, 0 to 21524\n",
      "Data columns (total 12 columns):\n",
      " #   Column            Non-Null Count  Dtype  \n",
      "---  ------            --------------  -----  \n",
      " 0   children          21525 non-null  int64  \n",
      " 1   days_employed     19351 non-null  float64\n",
      " 2   dob_years         21525 non-null  int64  \n",
      " 3   education         21525 non-null  object \n",
      " 4   education_id      21525 non-null  int64  \n",
      " 5   family_status     21525 non-null  object \n",
      " 6   family_status_id  21525 non-null  int64  \n",
      " 7   gender            21525 non-null  object \n",
      " 8   income_type       21525 non-null  object \n",
      " 9   debt              21525 non-null  int64  \n",
      " 10  total_income      19351 non-null  float64\n",
      " 11  purpose           21525 non-null  object \n",
      "dtypes: float64(2), int64(5), object(5)\n",
      "memory usage: 2.0+ MB\n"
     ]
    }
   ],
   "source": [
    "data.info()"
   ]
  },
  {
   "cell_type": "markdown",
   "id": "3d0f2635",
   "metadata": {
    "deletable": false,
    "editable": false,
    "id": "333ec665"
   },
   "source": [
    "## Предобработка данных"
   ]
  },
  {
   "cell_type": "markdown",
   "id": "a65588ee",
   "metadata": {
    "deletable": false,
    "editable": false,
    "id": "02d92d53"
   },
   "source": [
    "### Удаление пропусков"
   ]
  },
  {
   "cell_type": "markdown",
   "id": "5a41a885",
   "metadata": {
    "deletable": false,
    "editable": false,
    "id": "cd84967c"
   },
   "source": [
    "**Задание 4. Выведите количество пропущенных значений для каждого столбца. Используйте комбинацию двух методов.**"
   ]
  },
  {
   "cell_type": "code",
   "execution_count": 5,
   "id": "1e6bde02",
   "metadata": {
    "deletable": false,
    "id": "7f9b2309",
    "outputId": "81f4d817-781c-465c-ed15-91ce4446810d"
   },
   "outputs": [
    {
     "data": {
      "text/plain": [
       "children               0\n",
       "days_employed       2174\n",
       "dob_years              0\n",
       "education              0\n",
       "education_id           0\n",
       "family_status          0\n",
       "family_status_id       0\n",
       "gender                 0\n",
       "income_type            0\n",
       "debt                   0\n",
       "total_income        2174\n",
       "purpose                0\n",
       "dtype: int64"
      ]
     },
     "execution_count": 5,
     "metadata": {},
     "output_type": "execute_result"
    }
   ],
   "source": [
    "data.isna().sum()"
   ]
  },
  {
   "cell_type": "markdown",
   "id": "6d86e7c6",
   "metadata": {
    "deletable": false,
    "editable": false,
    "id": "db86e27b"
   },
   "source": [
    "**Задание 5. В двух столбцах есть пропущенные значения. Один из них — `days_employed`. Пропуски в этом столбце вы обработаете на следующем этапе. Другой столбец с пропущенными значениями — `total_income` — хранит данные о доходах. На сумму дохода сильнее всего влияет тип занятости, поэтому заполнить пропуски в этом столбце нужно медианным значением по каждому типу из столбца `income_type`. Например, у человека с типом занятости `сотрудник` пропуск в столбце `total_income` должен быть заполнен медианным доходом среди всех записей с тем же типом.**"
   ]
  },
  {
   "cell_type": "code",
   "execution_count": 6,
   "id": "8e989a1b",
   "metadata": {
    "deletable": false,
    "id": "42006a93"
   },
   "outputs": [],
   "source": [
    "for t in data['income_type'].unique():\n",
    "    data.loc[(data['income_type'] == t) & (data['total_income'].isna()), 'total_income'] = \\\n",
    "    data.loc[(data['income_type'] == t), 'total_income'].median()"
   ]
  },
  {
   "cell_type": "markdown",
   "id": "205aa9c0",
   "metadata": {
    "deletable": false,
    "editable": false,
    "id": "89da5ece"
   },
   "source": [
    "### Обработка аномальных значений"
   ]
  },
  {
   "cell_type": "markdown",
   "id": "da8f3092",
   "metadata": {
    "deletable": false,
    "editable": false,
    "id": "57964554"
   },
   "source": [
    "**Задание 6. В данных могут встречаться артефакты (аномалии) — значения, которые не отражают действительность и появились по какой-то ошибке. таким артефактом будет отрицательное количество дней трудового стажа в столбце `days_employed`. Для реальных данных это нормально. Обработайте значения в этом столбце: замените все отрицательные значения положительными с помощью метода `abs()`.**"
   ]
  },
  {
   "cell_type": "code",
   "execution_count": 7,
   "id": "c92c0e08",
   "metadata": {
    "deletable": false,
    "id": "f6f055bf"
   },
   "outputs": [],
   "source": [
    "data['days_employed'] = data['days_employed'].abs()"
   ]
  },
  {
   "cell_type": "markdown",
   "id": "b6912aa8",
   "metadata": {
    "deletable": false,
    "editable": false,
    "id": "6107dd2f"
   },
   "source": [
    "**Задание 7. Для каждого типа занятости выведите медианное значение трудового стажа `days_employed` в днях.**"
   ]
  },
  {
   "cell_type": "code",
   "execution_count": 8,
   "id": "4453bc5c",
   "metadata": {
    "deletable": false,
    "id": "85a5faf6",
    "outputId": "801ef80e-522b-4668-f34e-565af7432bcf"
   },
   "outputs": [
    {
     "data": {
      "text/plain": [
       "income_type\n",
       "безработный        366413.652744\n",
       "в декрете            3296.759962\n",
       "госслужащий          2689.368353\n",
       "компаньон            1547.382223\n",
       "пенсионер          365213.306266\n",
       "предприниматель       520.848083\n",
       "сотрудник            1574.202821\n",
       "студент               578.751554\n",
       "Name: days_employed, dtype: float64"
      ]
     },
     "execution_count": 8,
     "metadata": {},
     "output_type": "execute_result"
    }
   ],
   "source": [
    "data.groupby('income_type')['days_employed'].agg('median')"
   ]
  },
  {
   "cell_type": "markdown",
   "id": "6cbd6263",
   "metadata": {
    "deletable": false,
    "editable": false,
    "id": "38d1a030"
   },
   "source": [
    "У двух типов (безработные и пенсионеры) получатся аномально большие значения. Исправить такие значения сложно, поэтому оставьте их как есть. Тем более этот столбец не понадобится вам для исследования."
   ]
  },
  {
   "cell_type": "markdown",
   "id": "fc41ebd8",
   "metadata": {
    "deletable": false,
    "editable": false,
    "id": "d8a9f147"
   },
   "source": [
    "**Задание 8. Выведите перечень уникальных значений столбца `children`.**"
   ]
  },
  {
   "cell_type": "code",
   "execution_count": 9,
   "id": "c0621453",
   "metadata": {
    "deletable": false,
    "id": "ef5056eb",
    "outputId": "6975b15c-7f95-4697-d16d-a0c79b657b03"
   },
   "outputs": [
    {
     "data": {
      "text/plain": [
       "array([ 1,  0,  3,  2, -1,  4, 20,  5])"
      ]
     },
     "execution_count": 9,
     "metadata": {},
     "output_type": "execute_result"
    }
   ],
   "source": [
    "data['children'].unique()"
   ]
  },
  {
   "cell_type": "markdown",
   "id": "4bb4b00f",
   "metadata": {
    "deletable": false,
    "editable": false,
    "id": "40b9ebf2"
   },
   "source": [
    "**Задание 9. В столбце `children` есть два аномальных значения. Удалите строки, в которых встречаются такие аномальные значения из датафрейма `data`.**"
   ]
  },
  {
   "cell_type": "code",
   "execution_count": 10,
   "id": "40fb33fb",
   "metadata": {
    "deletable": false,
    "id": "3ff9801d"
   },
   "outputs": [],
   "source": [
    "data = data[(data['children'] != -1) & (data['children'] != 20)]"
   ]
  },
  {
   "cell_type": "markdown",
   "id": "9c87c16c",
   "metadata": {
    "deletable": false,
    "editable": false,
    "id": "bbc4d0ce"
   },
   "source": [
    "**Задание 10. Ещё раз выведите перечень уникальных значений столбца `children`, чтобы убедиться, что артефакты удалены.**"
   ]
  },
  {
   "cell_type": "code",
   "execution_count": 11,
   "id": "ec72cbf7",
   "metadata": {
    "deletable": false,
    "id": "ad4fa8b7",
    "outputId": "b2097101-d49d-44d9-901b-32a65c9463d1"
   },
   "outputs": [
    {
     "data": {
      "text/plain": [
       "array([1, 0, 3, 2, 4, 5])"
      ]
     },
     "execution_count": 11,
     "metadata": {},
     "output_type": "execute_result"
    }
   ],
   "source": [
    "data['children'].unique()"
   ]
  },
  {
   "cell_type": "markdown",
   "id": "7dbe7756",
   "metadata": {
    "deletable": false,
    "editable": false,
    "id": "75440b63"
   },
   "source": [
    "### Удаление пропусков (продолжение)"
   ]
  },
  {
   "cell_type": "markdown",
   "id": "1fe53a9e",
   "metadata": {
    "deletable": false,
    "editable": false,
    "id": "f4ea573f"
   },
   "source": [
    "**Задание 11. Заполните пропуски в столбце `days_employed` медианными значениями по каждого типа занятости `income_type`.**"
   ]
  },
  {
   "cell_type": "code",
   "execution_count": 12,
   "id": "efc8a2d4",
   "metadata": {
    "deletable": false,
    "id": "af6b1a7e"
   },
   "outputs": [],
   "source": [
    "for t in data['income_type'].unique():\n",
    "    data.loc[(data['income_type'] == t) & (data['days_employed'].isna()), 'days_employed'] = \\\n",
    "    data.loc[(data['income_type'] == t), 'days_employed'].median()"
   ]
  },
  {
   "cell_type": "markdown",
   "id": "6405f4a6",
   "metadata": {
    "deletable": false,
    "editable": false,
    "id": "2753f40d"
   },
   "source": [
    "**Задание 12. Убедитесь, что все пропуски заполнены. Проверьте себя и ещё раз выведите количество пропущенных значений для каждого столбца с помощью двух методов.**"
   ]
  },
  {
   "cell_type": "code",
   "execution_count": 13,
   "id": "8b5cd246",
   "metadata": {
    "deletable": false,
    "id": "55f78bc2",
    "outputId": "8da1e4e1-358e-4e87-98c9-f261bce0a7b2"
   },
   "outputs": [
    {
     "data": {
      "text/plain": [
       "children            0\n",
       "days_employed       0\n",
       "dob_years           0\n",
       "education           0\n",
       "education_id        0\n",
       "family_status       0\n",
       "family_status_id    0\n",
       "gender              0\n",
       "income_type         0\n",
       "debt                0\n",
       "total_income        0\n",
       "purpose             0\n",
       "dtype: int64"
      ]
     },
     "execution_count": 13,
     "metadata": {},
     "output_type": "execute_result"
    }
   ],
   "source": [
    "data.isna().sum()"
   ]
  },
  {
   "cell_type": "markdown",
   "id": "60aec317",
   "metadata": {
    "deletable": false,
    "editable": false,
    "id": "ddc81e43"
   },
   "source": [
    "### Изменение типов данных"
   ]
  },
  {
   "cell_type": "markdown",
   "id": "c0fc536d",
   "metadata": {
    "deletable": false,
    "editable": false,
    "id": "42d19d24"
   },
   "source": [
    "**Задание 13. Замените вещественный тип данных в столбце `total_income` на целочисленный с помощью метода `astype()`.**"
   ]
  },
  {
   "cell_type": "code",
   "execution_count": 14,
   "id": "0037171a",
   "metadata": {
    "deletable": false,
    "id": "920b65ad"
   },
   "outputs": [],
   "source": [
    "data['total_income'] = data['total_income'].astype(int)"
   ]
  },
  {
   "cell_type": "markdown",
   "id": "8a623087",
   "metadata": {
    "deletable": false,
    "editable": false,
    "id": "80c420ba"
   },
   "source": [
    "### Обработка дубликатов"
   ]
  },
  {
   "cell_type": "markdown",
   "id": "5d1ca0b1",
   "metadata": {
    "deletable": false,
    "editable": false
   },
   "source": [
    "**Задание 14. Обработайте неявные дубликаты в столбце `education`. В этом столбце есть одни и те же значения, но записанные по-разному: с использованием заглавных и строчных букв. Приведите их к нижнему регистру. Проверьте остальные столбцы.**"
   ]
  },
  {
   "cell_type": "code",
   "execution_count": 15,
   "id": "001591dd",
   "metadata": {
    "deletable": false
   },
   "outputs": [],
   "source": [
    "data['education'] = data['education'].str.lower()"
   ]
  },
  {
   "cell_type": "markdown",
   "id": "84de611c",
   "metadata": {
    "deletable": false,
    "editable": false,
    "id": "dc587695"
   },
   "source": [
    "**Задание 15. Выведите на экран количество строк-дубликатов в данных. Если такие строки присутствуют, удалите их.**"
   ]
  },
  {
   "cell_type": "code",
   "execution_count": 16,
   "id": "8ff8ad42",
   "metadata": {
    "deletable": false,
    "id": "3ee445e4",
    "outputId": "9684deba-1934-42d1-99e1-cda61740f822"
   },
   "outputs": [
    {
     "data": {
      "text/plain": [
       "71"
      ]
     },
     "execution_count": 16,
     "metadata": {},
     "output_type": "execute_result"
    }
   ],
   "source": [
    "data.duplicated().sum()"
   ]
  },
  {
   "cell_type": "code",
   "execution_count": 17,
   "id": "575a105f",
   "metadata": {
    "deletable": false,
    "id": "8575fe05"
   },
   "outputs": [],
   "source": [
    "data = data.drop_duplicates()"
   ]
  },
  {
   "cell_type": "markdown",
   "id": "f96ff69c",
   "metadata": {
    "deletable": false,
    "editable": false,
    "id": "9904cf55"
   },
   "source": [
    "### Категоризация данных"
   ]
  },
  {
   "cell_type": "markdown",
   "id": "7d58b6ec",
   "metadata": {
    "deletable": false,
    "editable": false,
    "id": "72fcc8a2"
   },
   "source": [
    "**Задание 16. На основании диапазонов, указанных ниже, создайте в датафрейме `data` столбец `total_income_category` с категориями:**\n",
    "\n",
    "- 0–30000 — `'E'`;\n",
    "- 30001–50000 — `'D'`;\n",
    "- 50001–200000 — `'C'`;\n",
    "- 200001–1000000 — `'B'`;\n",
    "- 1000001 и выше — `'A'`.\n",
    "\n",
    "\n",
    "**Например, кредитополучателю с доходом 25000 нужно назначить категорию `'E'`, а клиенту, получающему 235000, — `'B'`. Используйте собственную функцию с именем `categorize_income()` и метод `apply()`.**"
   ]
  },
  {
   "cell_type": "code",
   "execution_count": 18,
   "id": "80c5c20c",
   "metadata": {
    "deletable": false,
    "id": "e1771346"
   },
   "outputs": [],
   "source": [
    "def categorize_income(income):\n",
    "    try:\n",
    "        if 0 <= income <= 30000:\n",
    "            return 'E'\n",
    "        elif 30001 <= income <= 50000:\n",
    "            return 'D'\n",
    "        elif 50001 <= income <= 200000:\n",
    "            return 'C'\n",
    "        elif 200001 <= income <= 1000000:\n",
    "            return 'B'\n",
    "        elif income >= 1000001:\n",
    "            return 'A'\n",
    "    except:\n",
    "        pass"
   ]
  },
  {
   "cell_type": "code",
   "execution_count": 19,
   "id": "07b7cfb3",
   "metadata": {
    "deletable": false,
    "id": "d5f3586d"
   },
   "outputs": [],
   "source": [
    "data['total_income_category'] = data['total_income'].apply(categorize_income)"
   ]
  },
  {
   "cell_type": "markdown",
   "id": "d9a79123",
   "metadata": {
    "deletable": false,
    "editable": false,
    "id": "dde49b5c"
   },
   "source": [
    "**Задание 17. Выведите на экран перечень уникальных целей взятия кредита из столбца `purpose`.**"
   ]
  },
  {
   "cell_type": "code",
   "execution_count": 20,
   "id": "98efa7a0",
   "metadata": {
    "deletable": false,
    "id": "f67ce9b3",
    "outputId": "673c12d9-7d7e-4ae0-9812-c622c89dd244"
   },
   "outputs": [
    {
     "data": {
      "text/plain": [
       "array(['покупка жилья', 'приобретение автомобиля',\n",
       "       'дополнительное образование', 'сыграть свадьбу',\n",
       "       'операции с жильем', 'образование', 'на проведение свадьбы',\n",
       "       'покупка жилья для семьи', 'покупка недвижимости',\n",
       "       'покупка коммерческой недвижимости', 'покупка жилой недвижимости',\n",
       "       'строительство собственной недвижимости', 'недвижимость',\n",
       "       'строительство недвижимости', 'на покупку подержанного автомобиля',\n",
       "       'на покупку своего автомобиля',\n",
       "       'операции с коммерческой недвижимостью',\n",
       "       'строительство жилой недвижимости', 'жилье',\n",
       "       'операции со своей недвижимостью', 'автомобили',\n",
       "       'заняться образованием', 'сделка с подержанным автомобилем',\n",
       "       'получение образования', 'автомобиль', 'свадьба',\n",
       "       'получение дополнительного образования', 'покупка своего жилья',\n",
       "       'операции с недвижимостью', 'получение высшего образования',\n",
       "       'свой автомобиль', 'сделка с автомобилем',\n",
       "       'профильное образование', 'высшее образование',\n",
       "       'покупка жилья для сдачи', 'на покупку автомобиля', 'ремонт жилью',\n",
       "       'заняться высшим образованием'], dtype=object)"
      ]
     },
     "execution_count": 20,
     "metadata": {},
     "output_type": "execute_result"
    }
   ],
   "source": [
    "data['purpose'].unique()"
   ]
  },
  {
   "cell_type": "markdown",
   "id": "b4d73b63",
   "metadata": {
    "deletable": false,
    "editable": false,
    "id": "85d0aef0"
   },
   "source": [
    "**Задание 18. Создайте функцию, которая на основании данных из столбца `purpose` сформирует новый столбец `purpose_category`, в который войдут следующие категории:**\n",
    "\n",
    "- `'операции с автомобилем'`,\n",
    "- `'операции с недвижимостью'`,\n",
    "- `'проведение свадьбы'`,\n",
    "- `'получение образования'`.\n",
    "\n",
    "**Например, если в столбце `purpose` находится подстрока `'на покупку автомобиля'`, то в столбце `purpose_category` должна появиться строка `'операции с автомобилем'`.**\n",
    "\n",
    "**Используйте собственную функцию с именем `categorize_purpose()` и метод `apply()`. Изучите данные в столбце `purpose` и определите, какие подстроки помогут вам правильно определить категорию.**"
   ]
  },
  {
   "cell_type": "code",
   "execution_count": 21,
   "id": "dcfe571f",
   "metadata": {
    "deletable": false,
    "id": "e149fab4"
   },
   "outputs": [],
   "source": [
    "def categorize_purpose(row):\n",
    "    try:\n",
    "        if 'автом' in row:\n",
    "            return 'операции с автомобилем'\n",
    "        elif 'жил' in row or 'недвиж' in row:\n",
    "            return 'операции с недвижимостью'\n",
    "        elif 'свад' in row:\n",
    "            return 'проведение свадьбы'\n",
    "        elif 'образов' in row:\n",
    "            return 'получение образования'\n",
    "    except:\n",
    "        return 'нет категории'"
   ]
  },
  {
   "cell_type": "code",
   "execution_count": 22,
   "id": "8ea5abee",
   "metadata": {
    "deletable": false,
    "id": "bf36e69b"
   },
   "outputs": [],
   "source": [
    "data['purpose_category'] = data['purpose'].apply(categorize_purpose)"
   ]
  },
  {
   "cell_type": "markdown",
   "id": "3ab3879b",
   "metadata": {},
   "source": [
    "<div id='link'></div> "
   ]
  },
  {
   "cell_type": "markdown",
   "id": "229d785f",
   "metadata": {},
   "source": [
    "<div class=\"alert alert-warning\">\n",
    "<b>Комментарий ревьюера ⚠️:</b> Предыдущий раздел заполнен автоматически и безупречен с точки зрения структуры и кода, но надо отметить, что в нём не хватает промежуточных выводов. В следующем задании и в будущих проектах промежуточные и итоговые выводы будут обязательны."
   ]
  },
  {
   "cell_type": "markdown",
   "id": "095a57b2",
   "metadata": {
    "deletable": false,
    "editable": false,
    "id": "09b242bf"
   },
   "source": [
    "### Шаг 3. Исследуйте данные и ответьте на вопросы"
   ]
  },
  {
   "cell_type": "markdown",
   "id": "359aafea",
   "metadata": {
    "deletable": false,
    "editable": false,
    "id": "c5d66278"
   },
   "source": [
    "#### 3.1 Есть ли зависимость между количеством детей и возвратом кредита в срок?"
   ]
  },
  {
   "cell_type": "code",
   "execution_count": 23,
   "id": "b1fab114",
   "metadata": {
    "deletable": false,
    "id": "2cacfc4a"
   },
   "outputs": [
    {
     "data": {
      "text/html": [
       "<div>\n",
       "<style scoped>\n",
       "    .dataframe tbody tr th:only-of-type {\n",
       "        vertical-align: middle;\n",
       "    }\n",
       "\n",
       "    .dataframe tbody tr th {\n",
       "        vertical-align: top;\n",
       "    }\n",
       "\n",
       "    .dataframe thead th {\n",
       "        text-align: right;\n",
       "    }\n",
       "</style>\n",
       "<table border=\"1\" class=\"dataframe\">\n",
       "  <thead>\n",
       "    <tr style=\"text-align: right;\">\n",
       "      <th></th>\n",
       "      <th>count_children</th>\n",
       "      <th>sum_children</th>\n",
       "      <th>result_children</th>\n",
       "    </tr>\n",
       "    <tr>\n",
       "      <th>children</th>\n",
       "      <th></th>\n",
       "      <th></th>\n",
       "      <th></th>\n",
       "    </tr>\n",
       "  </thead>\n",
       "  <tbody>\n",
       "    <tr>\n",
       "      <th>4</th>\n",
       "      <td>41</td>\n",
       "      <td>4</td>\n",
       "      <td>0.097561</td>\n",
       "    </tr>\n",
       "    <tr>\n",
       "      <th>2</th>\n",
       "      <td>2052</td>\n",
       "      <td>194</td>\n",
       "      <td>0.094542</td>\n",
       "    </tr>\n",
       "    <tr>\n",
       "      <th>1</th>\n",
       "      <td>4808</td>\n",
       "      <td>444</td>\n",
       "      <td>0.092346</td>\n",
       "    </tr>\n",
       "    <tr>\n",
       "      <th>3</th>\n",
       "      <td>330</td>\n",
       "      <td>27</td>\n",
       "      <td>0.081818</td>\n",
       "    </tr>\n",
       "    <tr>\n",
       "      <th>0</th>\n",
       "      <td>14091</td>\n",
       "      <td>1063</td>\n",
       "      <td>0.075438</td>\n",
       "    </tr>\n",
       "    <tr>\n",
       "      <th>5</th>\n",
       "      <td>9</td>\n",
       "      <td>0</td>\n",
       "      <td>0.000000</td>\n",
       "    </tr>\n",
       "  </tbody>\n",
       "</table>\n",
       "</div>"
      ],
      "text/plain": [
       "          count_children  sum_children  result_children\n",
       "children                                               \n",
       "4                     41             4         0.097561\n",
       "2                   2052           194         0.094542\n",
       "1                   4808           444         0.092346\n",
       "3                    330            27         0.081818\n",
       "0                  14091          1063         0.075438\n",
       "5                      9             0         0.000000"
      ]
     },
     "execution_count": 23,
     "metadata": {},
     "output_type": "execute_result"
    }
   ],
   "source": [
    "# Ваш код будет здесь. Вы можете создавать новые ячейки.\n",
    "debt_from_children = pd.DataFrame()\n",
    "debt_from_children['count_children'] = data.groupby('children')['debt'].count()\n",
    "debt_from_children['sum_children'] = data.groupby('children')['debt'].sum()\n",
    "debt_from_children['result_children'] =\\\n",
    "debt_from_children['sum_children'] / debt_from_children['count_children']\n",
    "\n",
    "debt_from_children.sort_values('result_children', ascending=False)"
   ]
  },
  {
   "cell_type": "markdown",
   "id": "3f4aa0ca",
   "metadata": {
    "deletable": false,
    "id": "3a6b99ec"
   },
   "source": [
    "**Вывод:** \n",
    "1. Самые ненадежные заемщики с высокой долей просрочек 0,097 - многодетные семьи с 4 детьми. Что обусловлено тем, что с ростом колличества детей в семье увеличиваются ежемесячные расходы.\n",
    "2. Самые надежные заемщики с низкой долей просрочек 0,075 - заемщики без детей. При этом, отмечается, что семьи с 3 детьми чаще платят в срок, в отличии от семей с 1 ребенком.\n",
    "3. Исходя из представленных данных у семей имеющих 5 детей отсутствует просрочка по кредитам. Данный вывод скорее всего ложный,(учитывая, что семьи с 4мя детьми имеют просрочку в платежах) является следствием некорректных исходных данных."
   ]
  },
  {
   "cell_type": "markdown",
   "id": "69186077",
   "metadata": {},
   "source": [
    "<div class=\"alert alert-danger\">\n",
    "<s><b>Комментарий ревьюера ❌:</b> В целом верно, но важно обратить внимание на то, что некоторые группы слишком малочисленные, их не стоит принимать во внимание. Более корректно сравнивать только многочисленные группы.\n",
    "    \n",
    "Также обрати внимание, что print() тут не нужен для вывода, без него будет лучше.\n",
    "    \n",
    "И ещё одна рекомендация по коду. Ты верно используешь метод groupby. На самом деле он позволяет получить необходимую таблицу одной строчкой кода. Попробуй оптимизировать свой код."
   ]
  },
  {
   "cell_type": "markdown",
   "id": "7e3a6075",
   "metadata": {},
   "source": [
    "<div class=\"alert alert-info\">\n",
    "*Оптимизировала код.*\n",
    "Пришлось потрудиться, заново разобрать теорию по этой теме и почтитать еще дополнительно про работу groupby и agg, но теперь я поняла эту тему. Код действительно стал короче и читабельнее. Большое спасибо вам, что замотивировали лучше разобраться в теме."
   ]
  },
  {
   "cell_type": "markdown",
   "id": "d389c596",
   "metadata": {},
   "source": [
    "<div class=\"alert alert-success\">\n",
    "<b>Комментарий ревьюера 2V ✔️✔️:</b> Рада, что мои комментарии оказались полезны! \n",
    "\n",
    "Можно упростить код ещё на одну строчку, если добавить в аггрегирующие функции \"mean\"."
   ]
  },
  {
   "cell_type": "markdown",
   "id": "d931fe75",
   "metadata": {},
   "source": [
    "<div class=\"alert alert-info\">\n",
    "Попробовала еще немного скорректировать код по вашему совету. Это просто невероятно! В 2 строчки и готово. Питон увлекает меня все больше и больше."
   ]
  },
  {
   "cell_type": "markdown",
   "id": "25d7c36d",
   "metadata": {},
   "source": [
    "<div class=\"alert alert-success\">\n",
    "<b>Комментарий ревьюера 3V ✔️✔️✔️:</b> 👍"
   ]
  },
  {
   "cell_type": "code",
   "execution_count": 27,
   "id": "308d8e88",
   "metadata": {},
   "outputs": [
    {
     "data": {
      "text/html": [
       "<div>\n",
       "<style scoped>\n",
       "    .dataframe tbody tr th:only-of-type {\n",
       "        vertical-align: middle;\n",
       "    }\n",
       "\n",
       "    .dataframe tbody tr th {\n",
       "        vertical-align: top;\n",
       "    }\n",
       "\n",
       "    .dataframe thead tr th {\n",
       "        text-align: left;\n",
       "    }\n",
       "\n",
       "    .dataframe thead tr:last-of-type th {\n",
       "        text-align: right;\n",
       "    }\n",
       "</style>\n",
       "<table border=\"1\" class=\"dataframe\">\n",
       "  <thead>\n",
       "    <tr>\n",
       "      <th></th>\n",
       "      <th colspan=\"3\" halign=\"left\">debt</th>\n",
       "    </tr>\n",
       "    <tr>\n",
       "      <th></th>\n",
       "      <th>sum</th>\n",
       "      <th>count</th>\n",
       "      <th>mean</th>\n",
       "    </tr>\n",
       "    <tr>\n",
       "      <th>children</th>\n",
       "      <th></th>\n",
       "      <th></th>\n",
       "      <th></th>\n",
       "    </tr>\n",
       "  </thead>\n",
       "  <tbody>\n",
       "    <tr>\n",
       "      <th>5</th>\n",
       "      <td>0</td>\n",
       "      <td>9</td>\n",
       "      <td>0.000000</td>\n",
       "    </tr>\n",
       "    <tr>\n",
       "      <th>4</th>\n",
       "      <td>4</td>\n",
       "      <td>41</td>\n",
       "      <td>0.097561</td>\n",
       "    </tr>\n",
       "    <tr>\n",
       "      <th>3</th>\n",
       "      <td>27</td>\n",
       "      <td>330</td>\n",
       "      <td>0.081818</td>\n",
       "    </tr>\n",
       "    <tr>\n",
       "      <th>2</th>\n",
       "      <td>194</td>\n",
       "      <td>2052</td>\n",
       "      <td>0.094542</td>\n",
       "    </tr>\n",
       "    <tr>\n",
       "      <th>1</th>\n",
       "      <td>444</td>\n",
       "      <td>4808</td>\n",
       "      <td>0.092346</td>\n",
       "    </tr>\n",
       "    <tr>\n",
       "      <th>0</th>\n",
       "      <td>1063</td>\n",
       "      <td>14091</td>\n",
       "      <td>0.075438</td>\n",
       "    </tr>\n",
       "  </tbody>\n",
       "</table>\n",
       "</div>"
      ],
      "text/plain": [
       "          debt                 \n",
       "           sum  count      mean\n",
       "children                       \n",
       "5            0      9  0.000000\n",
       "4            4     41  0.097561\n",
       "3           27    330  0.081818\n",
       "2          194   2052  0.094542\n",
       "1          444   4808  0.092346\n",
       "0         1063  14091  0.075438"
      ]
     },
     "execution_count": 27,
     "metadata": {},
     "output_type": "execute_result"
    }
   ],
   "source": [
    "debt_from_income = data.groupby('children').agg({'debt':['sum','count', 'mean']}) \n",
    "\n",
    "debt_from_income.sort_values('children', ascending=False).head(20)"
   ]
  },
  {
   "cell_type": "code",
   "execution_count": 25,
   "id": "865683a0",
   "metadata": {},
   "outputs": [
    {
     "data": {
      "text/html": [
       "<div>\n",
       "<style scoped>\n",
       "    .dataframe tbody tr th:only-of-type {\n",
       "        vertical-align: middle;\n",
       "    }\n",
       "\n",
       "    .dataframe tbody tr th {\n",
       "        vertical-align: top;\n",
       "    }\n",
       "\n",
       "    .dataframe thead tr th {\n",
       "        text-align: left;\n",
       "    }\n",
       "\n",
       "    .dataframe thead tr:last-of-type th {\n",
       "        text-align: right;\n",
       "    }\n",
       "</style>\n",
       "<table border=\"1\" class=\"dataframe\">\n",
       "  <thead>\n",
       "    <tr>\n",
       "      <th></th>\n",
       "      <th colspan=\"2\" halign=\"left\">debt</th>\n",
       "      <th>conversion</th>\n",
       "    </tr>\n",
       "    <tr>\n",
       "      <th></th>\n",
       "      <th>sum</th>\n",
       "      <th>count</th>\n",
       "      <th></th>\n",
       "    </tr>\n",
       "    <tr>\n",
       "      <th>children</th>\n",
       "      <th></th>\n",
       "      <th></th>\n",
       "      <th></th>\n",
       "    </tr>\n",
       "  </thead>\n",
       "  <tbody>\n",
       "    <tr>\n",
       "      <th>4</th>\n",
       "      <td>4</td>\n",
       "      <td>41</td>\n",
       "      <td>0.097561</td>\n",
       "    </tr>\n",
       "    <tr>\n",
       "      <th>2</th>\n",
       "      <td>194</td>\n",
       "      <td>2052</td>\n",
       "      <td>0.094542</td>\n",
       "    </tr>\n",
       "    <tr>\n",
       "      <th>1</th>\n",
       "      <td>444</td>\n",
       "      <td>4808</td>\n",
       "      <td>0.092346</td>\n",
       "    </tr>\n",
       "    <tr>\n",
       "      <th>3</th>\n",
       "      <td>27</td>\n",
       "      <td>330</td>\n",
       "      <td>0.081818</td>\n",
       "    </tr>\n",
       "    <tr>\n",
       "      <th>0</th>\n",
       "      <td>1063</td>\n",
       "      <td>14091</td>\n",
       "      <td>0.075438</td>\n",
       "    </tr>\n",
       "    <tr>\n",
       "      <th>5</th>\n",
       "      <td>0</td>\n",
       "      <td>9</td>\n",
       "      <td>0.000000</td>\n",
       "    </tr>\n",
       "  </tbody>\n",
       "</table>\n",
       "</div>"
      ],
      "text/plain": [
       "          debt        conversion\n",
       "           sum  count           \n",
       "children                        \n",
       "4            4     41   0.097561\n",
       "2          194   2052   0.094542\n",
       "1          444   4808   0.092346\n",
       "3           27    330   0.081818\n",
       "0         1063  14091   0.075438\n",
       "5            0      9   0.000000"
      ]
     },
     "execution_count": 25,
     "metadata": {},
     "output_type": "execute_result"
    }
   ],
   "source": [
    "debt_from_income = data.groupby('children').agg({'debt':['sum','count']}) \n",
    "debt_from_income['conversion'] = debt_from_income['debt']['sum']/debt_from_income['debt']['count']\n",
    "\n",
    "debt_from_income.sort_values('conversion', ascending=False).head(20)"
   ]
  },
  {
   "cell_type": "markdown",
   "id": "b9b45af7",
   "metadata": {},
   "source": [
    "<div class=\"alert alert-info\">\n",
    "*Исправленный вывод:*\n",
    "\n",
    "1. Самые ненадежные заемщики с высокой долей просрочек семьи с детьми. Что обусловлено тем, что с ростом колличества детей в семье увеличиваются ежемесячные расходы.\n",
    "2. Самые надежные заемщики с низкой долей просрочек 0,075 - заемщики без детей.\n",
    "3. Так же отмечается, что семьи с 3 детьми чаще платят в срок, в отличии от семей с 1 ребенком.\n",
    "4. Исходя из представленных данных у семей имеющих 5 детей отсутствует просрочка по кредитам. Данный вывод скорее всего ложный,(учитывая, что семьи с 4мя детьми имеют просрочку в платежах) является следствием некорректных исходных данных."
   ]
  },
  {
   "cell_type": "markdown",
   "id": "bb96a879",
   "metadata": {},
   "source": [
    "<div class=\"alert alert-warning\">\n",
    "<b>Комментарий ревьюера ⚠️:</b> Категории заемщиков с 3-5 детьми слишком малочисленные, поэтому лучше исключить их из выводов."
   ]
  },
  {
   "cell_type": "markdown",
   "id": "461a54ca",
   "metadata": {},
   "source": [
    "<div class=\"alert alert-info\">\n",
    "*Исправленный вывод:*\n",
    "    \n",
    "1. Самые ненадежные заемщики с высокой долей просрочек семьи с детьми. Что обусловлено тем, что с ростом колличества детей в семье увеличиваются ежемесячные расходы.\n",
    "2. Самые надежные заемщики с низкой долей просрочек 0,075 - заемщики без детей."
   ]
  },
  {
   "cell_type": "markdown",
   "id": "1a02e6e8",
   "metadata": {},
   "source": [
    "<div class=\"alert alert-success\">\n",
    "<b>Комментарий ревьюера 3V ✔️✔️✔️:</b> 👍 корректно"
   ]
  },
  {
   "cell_type": "markdown",
   "id": "b97f459b",
   "metadata": {
    "deletable": false,
    "editable": false,
    "id": "97be82ca"
   },
   "source": [
    "#### 3.2 Есть ли зависимость между семейным положением и возвратом кредита в срок?"
   ]
  },
  {
   "cell_type": "code",
   "execution_count": 24,
   "id": "6895e3c1",
   "metadata": {
    "deletable": false,
    "id": "dc3f7ee8"
   },
   "outputs": [
    {
     "data": {
      "text/html": [
       "<div>\n",
       "<style scoped>\n",
       "    .dataframe tbody tr th:only-of-type {\n",
       "        vertical-align: middle;\n",
       "    }\n",
       "\n",
       "    .dataframe tbody tr th {\n",
       "        vertical-align: top;\n",
       "    }\n",
       "\n",
       "    .dataframe thead th {\n",
       "        text-align: right;\n",
       "    }\n",
       "</style>\n",
       "<table border=\"1\" class=\"dataframe\">\n",
       "  <thead>\n",
       "    <tr style=\"text-align: right;\">\n",
       "      <th></th>\n",
       "      <th>family_status_count</th>\n",
       "      <th>family_status_sum</th>\n",
       "      <th>result_family_status</th>\n",
       "    </tr>\n",
       "    <tr>\n",
       "      <th>family_status</th>\n",
       "      <th></th>\n",
       "      <th></th>\n",
       "      <th></th>\n",
       "    </tr>\n",
       "  </thead>\n",
       "  <tbody>\n",
       "    <tr>\n",
       "      <th>Не женат / не замужем</th>\n",
       "      <td>2796</td>\n",
       "      <td>273</td>\n",
       "      <td>0.097639</td>\n",
       "    </tr>\n",
       "    <tr>\n",
       "      <th>гражданский брак</th>\n",
       "      <td>4134</td>\n",
       "      <td>385</td>\n",
       "      <td>0.093130</td>\n",
       "    </tr>\n",
       "    <tr>\n",
       "      <th>женат / замужем</th>\n",
       "      <td>12261</td>\n",
       "      <td>927</td>\n",
       "      <td>0.075606</td>\n",
       "    </tr>\n",
       "    <tr>\n",
       "      <th>в разводе</th>\n",
       "      <td>1189</td>\n",
       "      <td>84</td>\n",
       "      <td>0.070648</td>\n",
       "    </tr>\n",
       "    <tr>\n",
       "      <th>вдовец / вдова</th>\n",
       "      <td>951</td>\n",
       "      <td>63</td>\n",
       "      <td>0.066246</td>\n",
       "    </tr>\n",
       "  </tbody>\n",
       "</table>\n",
       "</div>"
      ],
      "text/plain": [
       "                       family_status_count  family_status_sum  \\\n",
       "family_status                                                   \n",
       "Не женат / не замужем                 2796                273   \n",
       "гражданский брак                      4134                385   \n",
       "женат / замужем                      12261                927   \n",
       "в разводе                             1189                 84   \n",
       "вдовец / вдова                         951                 63   \n",
       "\n",
       "                       result_family_status  \n",
       "family_status                                \n",
       "Не женат / не замужем              0.097639  \n",
       "гражданский брак                   0.093130  \n",
       "женат / замужем                    0.075606  \n",
       "в разводе                          0.070648  \n",
       "вдовец / вдова                     0.066246  "
      ]
     },
     "execution_count": 24,
     "metadata": {},
     "output_type": "execute_result"
    }
   ],
   "source": [
    "# Ваш код будет здесь. Вы можете создавать новые ячейки.\n",
    "debt_from_family_status = pd.DataFrame()\n",
    "debt_from_family_status['family_status_count'] = data.groupby('family_status')['debt'].count()\n",
    "debt_from_family_status['family_status_sum'] = data.groupby('family_status')['debt'].sum()\n",
    "debt_from_family_status['result_family_status'] = \\\n",
    "debt_from_family_status['family_status_sum'] / debt_from_family_status['family_status_count']\n",
    "\n",
    "debt_from_family_status.sort_values('result_family_status',ascending=False)"
   ]
  },
  {
   "cell_type": "markdown",
   "id": "d4dfa687",
   "metadata": {
    "deletable": false,
    "id": "1cef7837"
   },
   "source": [
    "**Вывод:** \n",
    "Зависимость есть.\n",
    "\n",
    "1. Люди живущие в гражданском браке и холостые имеют больший процент невозврата кредита в срок.\n",
    "2. В свою очередь те, кто развелись или овдовели чаще платят в срок, чем люди в браке."
   ]
  },
  {
   "cell_type": "markdown",
   "id": "af447136",
   "metadata": {},
   "source": [
    "<div class=\"alert alert-danger\">\n",
    "<s><b>Комментарий ревьюера ❌:</b> Опять же вдовцов маловато для отдельной строчки в выводах о них. Возможно, ты сможешь заметить более крупную закономерность."
   ]
  },
  {
   "cell_type": "markdown",
   "id": "6cca0177",
   "metadata": {},
   "source": [
    "<div class=\"alert alert-info\">\n",
    "*Исправила код.*"
   ]
  },
  {
   "cell_type": "code",
   "execution_count": 25,
   "id": "3cdcaa0a",
   "metadata": {},
   "outputs": [
    {
     "data": {
      "text/html": [
       "<div>\n",
       "<style scoped>\n",
       "    .dataframe tbody tr th:only-of-type {\n",
       "        vertical-align: middle;\n",
       "    }\n",
       "\n",
       "    .dataframe tbody tr th {\n",
       "        vertical-align: top;\n",
       "    }\n",
       "\n",
       "    .dataframe thead tr th {\n",
       "        text-align: left;\n",
       "    }\n",
       "\n",
       "    .dataframe thead tr:last-of-type th {\n",
       "        text-align: right;\n",
       "    }\n",
       "</style>\n",
       "<table border=\"1\" class=\"dataframe\">\n",
       "  <thead>\n",
       "    <tr>\n",
       "      <th></th>\n",
       "      <th colspan=\"2\" halign=\"left\">debt</th>\n",
       "      <th>conversion</th>\n",
       "    </tr>\n",
       "    <tr>\n",
       "      <th></th>\n",
       "      <th>sum</th>\n",
       "      <th>count</th>\n",
       "      <th></th>\n",
       "    </tr>\n",
       "    <tr>\n",
       "      <th>family_status</th>\n",
       "      <th></th>\n",
       "      <th></th>\n",
       "      <th></th>\n",
       "    </tr>\n",
       "  </thead>\n",
       "  <tbody>\n",
       "    <tr>\n",
       "      <th>Не женат / не замужем</th>\n",
       "      <td>273</td>\n",
       "      <td>2796</td>\n",
       "      <td>0.097639</td>\n",
       "    </tr>\n",
       "    <tr>\n",
       "      <th>гражданский брак</th>\n",
       "      <td>385</td>\n",
       "      <td>4134</td>\n",
       "      <td>0.093130</td>\n",
       "    </tr>\n",
       "    <tr>\n",
       "      <th>женат / замужем</th>\n",
       "      <td>927</td>\n",
       "      <td>12261</td>\n",
       "      <td>0.075606</td>\n",
       "    </tr>\n",
       "    <tr>\n",
       "      <th>в разводе</th>\n",
       "      <td>84</td>\n",
       "      <td>1189</td>\n",
       "      <td>0.070648</td>\n",
       "    </tr>\n",
       "    <tr>\n",
       "      <th>вдовец / вдова</th>\n",
       "      <td>63</td>\n",
       "      <td>951</td>\n",
       "      <td>0.066246</td>\n",
       "    </tr>\n",
       "  </tbody>\n",
       "</table>\n",
       "</div>"
      ],
      "text/plain": [
       "                      debt        conversion\n",
       "                       sum  count           \n",
       "family_status                               \n",
       "Не женат / не замужем  273   2796   0.097639\n",
       "гражданский брак       385   4134   0.093130\n",
       "женат / замужем        927  12261   0.075606\n",
       "в разводе               84   1189   0.070648\n",
       "вдовец / вдова          63    951   0.066246"
      ]
     },
     "execution_count": 25,
     "metadata": {},
     "output_type": "execute_result"
    }
   ],
   "source": [
    "debt_from_income = data.groupby('family_status').agg({'debt':['sum','count']}) \n",
    "debt_from_income['conversion'] = debt_from_income['debt']['sum']/debt_from_income['debt']['count']\n",
    "\n",
    "debt_from_income.sort_values('conversion', ascending=False).head(20)"
   ]
  },
  {
   "cell_type": "markdown",
   "id": "85ef2e91",
   "metadata": {},
   "source": [
    "<div class=\"alert alert-info\">\n",
    "*Исправленный вывод:*\n",
    "    \n",
    "1. Люди живущие в гражданском браке и холостые являются ненадежными заемщиками потому, что имеют больший процент невозврата кредита в срок.\n",
    "2. В свою очередь люди, состоящие в браке, станут более надежными заемщиками так как чаще платят в срок."
   ]
  },
  {
   "cell_type": "markdown",
   "id": "f4a5bf0d",
   "metadata": {},
   "source": [
    "<div class=\"alert alert-success\">\n",
    "<b>Комментарий ревьюера 2V ✔️✔️:</b> Код и выводы стали значительно лучше, молодец!\n",
    " \n",
    "Дополнительно можно заметить такую зависимость: люди, когда-либо состоявшие в официальном браке (в том числе разведенные и вдовые) имеют лучший показатель возврата кредита, чем те, кто не состоял в официальных отношениях."
   ]
  },
  {
   "cell_type": "markdown",
   "id": "0716b355",
   "metadata": {
    "deletable": false,
    "editable": false,
    "id": "1e8b2fca"
   },
   "source": [
    "#### 3.3 Есть ли зависимость между уровнем дохода и возвратом кредита в срок?"
   ]
  },
  {
   "cell_type": "code",
   "execution_count": 26,
   "id": "82a9b4ad",
   "metadata": {
    "deletable": false,
    "id": "cd7e3720"
   },
   "outputs": [
    {
     "data": {
      "text/html": [
       "<div>\n",
       "<style scoped>\n",
       "    .dataframe tbody tr th:only-of-type {\n",
       "        vertical-align: middle;\n",
       "    }\n",
       "\n",
       "    .dataframe tbody tr th {\n",
       "        vertical-align: top;\n",
       "    }\n",
       "\n",
       "    .dataframe thead th {\n",
       "        text-align: right;\n",
       "    }\n",
       "</style>\n",
       "<table border=\"1\" class=\"dataframe\">\n",
       "  <thead>\n",
       "    <tr style=\"text-align: right;\">\n",
       "      <th></th>\n",
       "      <th>count</th>\n",
       "      <th>sum</th>\n",
       "      <th>conversion</th>\n",
       "    </tr>\n",
       "    <tr>\n",
       "      <th>total_income_category</th>\n",
       "      <th></th>\n",
       "      <th></th>\n",
       "      <th></th>\n",
       "    </tr>\n",
       "  </thead>\n",
       "  <tbody>\n",
       "    <tr>\n",
       "      <th>E</th>\n",
       "      <td>22</td>\n",
       "      <td>2</td>\n",
       "      <td>0.090909</td>\n",
       "    </tr>\n",
       "    <tr>\n",
       "      <th>C</th>\n",
       "      <td>15921</td>\n",
       "      <td>1353</td>\n",
       "      <td>0.084982</td>\n",
       "    </tr>\n",
       "    <tr>\n",
       "      <th>A</th>\n",
       "      <td>25</td>\n",
       "      <td>2</td>\n",
       "      <td>0.080000</td>\n",
       "    </tr>\n",
       "    <tr>\n",
       "      <th>B</th>\n",
       "      <td>5014</td>\n",
       "      <td>354</td>\n",
       "      <td>0.070602</td>\n",
       "    </tr>\n",
       "    <tr>\n",
       "      <th>D</th>\n",
       "      <td>349</td>\n",
       "      <td>21</td>\n",
       "      <td>0.060172</td>\n",
       "    </tr>\n",
       "  </tbody>\n",
       "</table>\n",
       "</div>"
      ],
      "text/plain": [
       "                       count   sum  conversion\n",
       "total_income_category                         \n",
       "E                         22     2    0.090909\n",
       "C                      15921  1353    0.084982\n",
       "A                         25     2    0.080000\n",
       "B                       5014   354    0.070602\n",
       "D                        349    21    0.060172"
      ]
     },
     "execution_count": 26,
     "metadata": {},
     "output_type": "execute_result"
    }
   ],
   "source": [
    "# Ваш код будет здесь. Вы можете создавать новые ячейки.\n",
    "# В одном из прошлых заданий мы категоризировали уровень дохода создав столбец total_income_category\n",
    "# попробуем с его помощью получить нужные нам данные\n",
    "\n",
    "debt_from_income = pd.DataFrame()\n",
    "debt_from_income['count'] = data.groupby('total_income_category')['debt'].count()\n",
    "debt_from_income['sum'] = data.groupby('total_income_category')['debt'].sum()\n",
    "debt_from_income['conversion'] = debt_from_income['sum'] / debt_from_income['count']\n",
    "\n",
    "debt_from_income.sort_values('conversion', ascending=False).head(20)"
   ]
  },
  {
   "cell_type": "markdown",
   "id": "3c7af8e7",
   "metadata": {
    "deletable": false,
    "id": "e8593def"
   },
   "source": [
    "**Вывод:** \n",
    "1. Люди относящиеся к категориям Е и С самые ненадежные заемщики с долей просрочек 0,090 и 0,84.\n",
    "2. Люди с очень высоким уровнем дохода, относящиеся к категории А, тоже не являются надежными заёмщиками и их доля просрочки составила 0,80. \n",
    "3. Самыми надежными заемщиками с низкой долей просрочки оказались люди относящиеся к категории D и В. "
   ]
  },
  {
   "cell_type": "markdown",
   "id": "ab0c00f0",
   "metadata": {},
   "source": [
    "<div class=\"alert alert-danger\">\n",
    "<s><b>Комментарий ревьюера ❌:</b> Первое, на что мы должны обратить внимание, - несбалансированность групп. Малочисленные группы не дают достоверной статистики и их нужно просто игнорировать в исследовании. Мы можем опираться только на данные групп В и С, как самых многочисленных. \n",
    "    \n",
    "Также в выводах нужно развернуть, какой уровень дохода скрывается за буквами."
   ]
  },
  {
   "cell_type": "markdown",
   "id": "d6562f21",
   "metadata": {},
   "source": [
    "<div class=\"alert alert-info\">\n",
    "*Исправила код.*"
   ]
  },
  {
   "cell_type": "code",
   "execution_count": 27,
   "id": "d4647346",
   "metadata": {},
   "outputs": [
    {
     "data": {
      "text/html": [
       "<div>\n",
       "<style scoped>\n",
       "    .dataframe tbody tr th:only-of-type {\n",
       "        vertical-align: middle;\n",
       "    }\n",
       "\n",
       "    .dataframe tbody tr th {\n",
       "        vertical-align: top;\n",
       "    }\n",
       "\n",
       "    .dataframe thead tr th {\n",
       "        text-align: left;\n",
       "    }\n",
       "\n",
       "    .dataframe thead tr:last-of-type th {\n",
       "        text-align: right;\n",
       "    }\n",
       "</style>\n",
       "<table border=\"1\" class=\"dataframe\">\n",
       "  <thead>\n",
       "    <tr>\n",
       "      <th></th>\n",
       "      <th colspan=\"2\" halign=\"left\">debt</th>\n",
       "      <th>conversion</th>\n",
       "    </tr>\n",
       "    <tr>\n",
       "      <th></th>\n",
       "      <th>sum</th>\n",
       "      <th>count</th>\n",
       "      <th></th>\n",
       "    </tr>\n",
       "    <tr>\n",
       "      <th>total_income_category</th>\n",
       "      <th></th>\n",
       "      <th></th>\n",
       "      <th></th>\n",
       "    </tr>\n",
       "  </thead>\n",
       "  <tbody>\n",
       "    <tr>\n",
       "      <th>E</th>\n",
       "      <td>2</td>\n",
       "      <td>22</td>\n",
       "      <td>0.090909</td>\n",
       "    </tr>\n",
       "    <tr>\n",
       "      <th>C</th>\n",
       "      <td>1353</td>\n",
       "      <td>15921</td>\n",
       "      <td>0.084982</td>\n",
       "    </tr>\n",
       "    <tr>\n",
       "      <th>A</th>\n",
       "      <td>2</td>\n",
       "      <td>25</td>\n",
       "      <td>0.080000</td>\n",
       "    </tr>\n",
       "    <tr>\n",
       "      <th>B</th>\n",
       "      <td>354</td>\n",
       "      <td>5014</td>\n",
       "      <td>0.070602</td>\n",
       "    </tr>\n",
       "    <tr>\n",
       "      <th>D</th>\n",
       "      <td>21</td>\n",
       "      <td>349</td>\n",
       "      <td>0.060172</td>\n",
       "    </tr>\n",
       "  </tbody>\n",
       "</table>\n",
       "</div>"
      ],
      "text/plain": [
       "                       debt        conversion\n",
       "                        sum  count           \n",
       "total_income_category                        \n",
       "E                         2     22   0.090909\n",
       "C                      1353  15921   0.084982\n",
       "A                         2     25   0.080000\n",
       "B                       354   5014   0.070602\n",
       "D                        21    349   0.060172"
      ]
     },
     "execution_count": 27,
     "metadata": {},
     "output_type": "execute_result"
    }
   ],
   "source": [
    "debt_from_income = data.groupby('total_income_category').agg({'debt':['sum','count']}) \n",
    "debt_from_income['conversion'] = debt_from_income['debt']['sum']/debt_from_income['debt']['count']\n",
    "\n",
    "debt_from_income.sort_values('conversion', ascending=False).head(20)"
   ]
  },
  {
   "cell_type": "markdown",
   "id": "e18e5ad5",
   "metadata": {},
   "source": [
    "<div class=\"alert alert-info\">\n",
    "*Исправленный вывод:*\n",
    "    \n",
    "1. Люди, относящиеся к категории С (с уровнем дохода 50001–200000), являются менее надежными заемщиками так как их доля просрочек составляет 0,084.\n",
    "2. Более надежными заемщиками для банка станут люди из категории В (с уровнем дохода 200001–1000000), для них доля просрочек составила 0,070."
   ]
  },
  {
   "cell_type": "markdown",
   "id": "1f85daba",
   "metadata": {},
   "source": [
    "<div class=\"alert alert-success\">\n",
    "<b>Комментарий ревьюера 2V ✔️✔️:</b> Всё верно, молодец!"
   ]
  },
  {
   "cell_type": "markdown",
   "id": "5ee1aa49",
   "metadata": {
    "deletable": false,
    "editable": false,
    "id": "99ecbd1f"
   },
   "source": [
    "#### 3.4 Как разные цели кредита влияют на его возврат в срок?"
   ]
  },
  {
   "cell_type": "code",
   "execution_count": 28,
   "id": "7ffc2379",
   "metadata": {
    "deletable": false,
    "id": "2b687290"
   },
   "outputs": [
    {
     "data": {
      "text/html": [
       "<div>\n",
       "<style scoped>\n",
       "    .dataframe tbody tr th:only-of-type {\n",
       "        vertical-align: middle;\n",
       "    }\n",
       "\n",
       "    .dataframe tbody tr th {\n",
       "        vertical-align: top;\n",
       "    }\n",
       "\n",
       "    .dataframe thead th {\n",
       "        text-align: right;\n",
       "    }\n",
       "</style>\n",
       "<table border=\"1\" class=\"dataframe\">\n",
       "  <thead>\n",
       "    <tr style=\"text-align: right;\">\n",
       "      <th></th>\n",
       "      <th>purpose_category_count</th>\n",
       "      <th>purpose_category_sum</th>\n",
       "      <th>result_purpose_category</th>\n",
       "    </tr>\n",
       "    <tr>\n",
       "      <th>purpose_category</th>\n",
       "      <th></th>\n",
       "      <th></th>\n",
       "      <th></th>\n",
       "    </tr>\n",
       "  </thead>\n",
       "  <tbody>\n",
       "    <tr>\n",
       "      <th>операции с автомобилем</th>\n",
       "      <td>4279</td>\n",
       "      <td>400</td>\n",
       "      <td>0.093480</td>\n",
       "    </tr>\n",
       "    <tr>\n",
       "      <th>получение образования</th>\n",
       "      <td>3988</td>\n",
       "      <td>369</td>\n",
       "      <td>0.092528</td>\n",
       "    </tr>\n",
       "    <tr>\n",
       "      <th>проведение свадьбы</th>\n",
       "      <td>2313</td>\n",
       "      <td>183</td>\n",
       "      <td>0.079118</td>\n",
       "    </tr>\n",
       "    <tr>\n",
       "      <th>операции с недвижимостью</th>\n",
       "      <td>10751</td>\n",
       "      <td>780</td>\n",
       "      <td>0.072551</td>\n",
       "    </tr>\n",
       "  </tbody>\n",
       "</table>\n",
       "</div>"
      ],
      "text/plain": [
       "                          purpose_category_count  purpose_category_sum  \\\n",
       "purpose_category                                                         \n",
       "операции с автомобилем                      4279                   400   \n",
       "получение образования                       3988                   369   \n",
       "проведение свадьбы                          2313                   183   \n",
       "операции с недвижимостью                   10751                   780   \n",
       "\n",
       "                          result_purpose_category  \n",
       "purpose_category                                   \n",
       "операции с автомобилем                   0.093480  \n",
       "получение образования                    0.092528  \n",
       "проведение свадьбы                       0.079118  \n",
       "операции с недвижимостью                 0.072551  "
      ]
     },
     "execution_count": 28,
     "metadata": {},
     "output_type": "execute_result"
    }
   ],
   "source": [
    "# Ваш код будет здесь. Вы можете создавать новые ячейки.\n",
    "\n",
    "debt_from_purpose_category = pd.DataFrame()\n",
    "debt_from_purpose_category['purpose_category_count'] = data.groupby('purpose_category')['debt'].count()\n",
    "debt_from_purpose_category['purpose_category_sum'] = data.groupby('purpose_category')['debt'].sum()\n",
    "debt_from_purpose_category['result_purpose_category'] = \\\n",
    "debt_from_purpose_category['purpose_category_sum'] / debt_from_purpose_category['purpose_category_count']\n",
    "\n",
    "debt_from_purpose_category.sort_values('result_purpose_category', ascending=False)"
   ]
  },
  {
   "cell_type": "markdown",
   "id": "51bccb3c",
   "metadata": {
    "deletable": false,
    "id": "b4bb2ce6"
   },
   "source": [
    "**Вывод:** \n",
    "1. Самые ненадежные заемщики те, что берут кредиты на покупку автомобиля (доля просрочки 0,093) и получение образования (доля просрочки 0,092).\n",
    "2. Далее по росту надежности следуют заемщики, которые берут кредиты на проведение свадьбы с долей просрочки 0,079.\n",
    "3. Самые надежные заемщики - те, которые берут кредиты на операции с недвижимостью. У них доля просрочки составляет 0,072.\n"
   ]
  },
  {
   "cell_type": "markdown",
   "id": "7d0f505d",
   "metadata": {},
   "source": [
    "<div class=\"alert alert-success\">\n",
    "<b>Комментарий ревьюера ✔️:</b> тут всё верно :)"
   ]
  },
  {
   "cell_type": "markdown",
   "id": "b9471635",
   "metadata": {},
   "source": [
    "<div class=\"alert alert-info\">\n",
    "*Исправила код.*"
   ]
  },
  {
   "cell_type": "code",
   "execution_count": 29,
   "id": "74768a65",
   "metadata": {},
   "outputs": [
    {
     "data": {
      "text/html": [
       "<div>\n",
       "<style scoped>\n",
       "    .dataframe tbody tr th:only-of-type {\n",
       "        vertical-align: middle;\n",
       "    }\n",
       "\n",
       "    .dataframe tbody tr th {\n",
       "        vertical-align: top;\n",
       "    }\n",
       "\n",
       "    .dataframe thead tr th {\n",
       "        text-align: left;\n",
       "    }\n",
       "\n",
       "    .dataframe thead tr:last-of-type th {\n",
       "        text-align: right;\n",
       "    }\n",
       "</style>\n",
       "<table border=\"1\" class=\"dataframe\">\n",
       "  <thead>\n",
       "    <tr>\n",
       "      <th></th>\n",
       "      <th colspan=\"2\" halign=\"left\">debt</th>\n",
       "      <th>conversion</th>\n",
       "    </tr>\n",
       "    <tr>\n",
       "      <th></th>\n",
       "      <th>sum</th>\n",
       "      <th>count</th>\n",
       "      <th></th>\n",
       "    </tr>\n",
       "    <tr>\n",
       "      <th>purpose_category</th>\n",
       "      <th></th>\n",
       "      <th></th>\n",
       "      <th></th>\n",
       "    </tr>\n",
       "  </thead>\n",
       "  <tbody>\n",
       "    <tr>\n",
       "      <th>операции с автомобилем</th>\n",
       "      <td>400</td>\n",
       "      <td>4279</td>\n",
       "      <td>0.093480</td>\n",
       "    </tr>\n",
       "    <tr>\n",
       "      <th>получение образования</th>\n",
       "      <td>369</td>\n",
       "      <td>3988</td>\n",
       "      <td>0.092528</td>\n",
       "    </tr>\n",
       "    <tr>\n",
       "      <th>проведение свадьбы</th>\n",
       "      <td>183</td>\n",
       "      <td>2313</td>\n",
       "      <td>0.079118</td>\n",
       "    </tr>\n",
       "    <tr>\n",
       "      <th>операции с недвижимостью</th>\n",
       "      <td>780</td>\n",
       "      <td>10751</td>\n",
       "      <td>0.072551</td>\n",
       "    </tr>\n",
       "  </tbody>\n",
       "</table>\n",
       "</div>"
      ],
      "text/plain": [
       "                         debt        conversion\n",
       "                          sum  count           \n",
       "purpose_category                               \n",
       "операции с автомобилем    400   4279   0.093480\n",
       "получение образования     369   3988   0.092528\n",
       "проведение свадьбы        183   2313   0.079118\n",
       "операции с недвижимостью  780  10751   0.072551"
      ]
     },
     "execution_count": 29,
     "metadata": {},
     "output_type": "execute_result"
    }
   ],
   "source": [
    "debt_from_income = data.groupby('purpose_category').agg({'debt':['sum','count']}) \n",
    "debt_from_income['conversion'] = debt_from_income['debt']['sum']/debt_from_income['debt']['count']\n",
    "\n",
    "debt_from_income.sort_values('conversion', ascending=False).head(20)"
   ]
  },
  {
   "cell_type": "markdown",
   "id": "8cf08ed6",
   "metadata": {},
   "source": [
    "<div class=\"alert alert-success\">\n",
    "<b>Комментарий ревьюера 2V ✔️✔️:</b> 👍"
   ]
  },
  {
   "cell_type": "markdown",
   "id": "16517fae",
   "metadata": {
    "deletable": false,
    "editable": false,
    "id": "09c3ac4c"
   },
   "source": [
    "#### 3.5 Приведите возможные причины появления пропусков в исходных данных."
   ]
  },
  {
   "cell_type": "markdown",
   "id": "effd9169",
   "metadata": {
    "deletable": false,
    "id": "9da2ceda"
   },
   "source": [
    "*Ответ:* \n",
    "Причинами могут быть ошибки ввода данных, человеческий фактор или повреждение данных."
   ]
  },
  {
   "cell_type": "markdown",
   "id": "6b8c3404",
   "metadata": {},
   "source": [
    "<div class=\"alert alert-danger\">\n",
    "<s><b>Комментарий ревьюера ❌:</b> Ответ верный и задание действительно можно было понять как общий вопрос, но на самом деле он про данные именно из этого проекта - в каких столбцах в исходных данных к этому проекту больше всего пропусков, какие могут быть причины пропусков конкретно в этом прокте (помимо общих причин)?"
   ]
  },
  {
   "cell_type": "markdown",
   "id": "9e4057b3",
   "metadata": {},
   "source": [
    "<div class=\"alert alert-info\">\n",
    "Ответ:\n",
    "В результате исследования было обнаружено 2174 пропуска в столбцах: \"days_employed\" и \"total_income\" — общий трудовой стаж в днях и доход. Это пропуски, скорее всего, неслучайные. Люди не работают, соответсвенно не получают доходов. Пропуски можно объяснить тем, что часть клиентов банка работает неофициально, возможно неработающие студенты, так же это могут быть люди в декретном отпуске или неработающие пенсионеры.\n",
    "Помимо этого необходимо было заменить значения Nan для удобства изучения столбцов.\n"
   ]
  },
  {
   "cell_type": "markdown",
   "id": "98d5a70d",
   "metadata": {},
   "source": [
    "<div class=\"alert alert-success\">\n",
    "<b>Комментарий ревьюера 2V ✔️✔️:</b> да, отлично, молодец, что заметила синхронность пропусков"
   ]
  },
  {
   "cell_type": "markdown",
   "id": "5a070e9a",
   "metadata": {
    "deletable": false,
    "editable": false,
    "id": "7b0487d6"
   },
   "source": [
    "#### 3.6 Объясните, почему заполнить пропуски медианным значением — лучшее решение для количественных переменных."
   ]
  },
  {
   "cell_type": "markdown",
   "id": "80b2b60d",
   "metadata": {
    "deletable": false,
    "id": "7ecf2b8e"
   },
   "source": [
    "*Ответ:* \n",
    "Когда нам необходимо сохранить массив данных, лучшим решением для колличественных переменных будет заполнить пропуски медианным значением."
   ]
  },
  {
   "cell_type": "markdown",
   "id": "c5f133da",
   "metadata": {},
   "source": [
    "<div class=\"alert alert-danger\">\n",
    "<s><b>Комментарий ревьюера ❌:</b> Не понятно, а как использование медианы влияет на сохранение массива данных?  Пока не вижу корректного ответа на вопрос."
   ]
  },
  {
   "cell_type": "markdown",
   "id": "c97ca043",
   "metadata": {},
   "source": [
    "<div class=\"alert alert-info\">\n",
    "Ответ:\n",
    "Данные из столбца total_income необходимы для исследования, поэтому важно заполнить пропуски. В столбце income_type данные, по которым мы группируем людей и их доходы. Таким образом считаем медианное значение по каждой категории должности. В данном случае заменить пропуски медианным значением будет лучшим решением, потому что это позволит получить более точные рассчеты, чем если бы мы просто удалили пропуски. При удалении пропусков мы могли получить неправильную картину при рассчете зависимости возврата кредита в срок от уровня доходов."
   ]
  },
  {
   "cell_type": "markdown",
   "id": "b4552473",
   "metadata": {},
   "source": [
    "<div class=\"alert alert-danger\">\n",
    "<s><b>2V Комментарий ревьюера ❌❌:</b> Виктория, твой ответ верный, но неполный, поэтому возвращаю проект на доработку ещё раз. Ты правильно отметила, что в нашем проекте заполнить пропуски лучше, чем удалить их или оставить незаполненными. Но почему их лучше заполнить медианным значением, а не средним?"
   ]
  },
  {
   "cell_type": "markdown",
   "id": "98f36bd0",
   "metadata": {},
   "source": [
    "<div class=\"alert alert-info\">\n",
    "Дополнение к ответу:\n",
    "    В случае с поставленной задачей, заполняем пропуски медианным значением потому, что в столбце total_income некоторые данные сильно выделяются относительно других и, соответственно, среднее значение может дать некорректные результаты."
   ]
  },
  {
   "cell_type": "markdown",
   "id": "e0af5a9b",
   "metadata": {},
   "source": [
    "<div class=\"alert alert-success\">\n",
    "<b>Комментарий ревьюера 3V ✔️✔️✔️:</b> да, корректно, медиана не чувствительна к выбросам в данных, поэтому даст более корректное значение, чем среднее"
   ]
  },
  {
   "cell_type": "markdown",
   "id": "d7012bb0",
   "metadata": {
    "deletable": false,
    "editable": false,
    "id": "6db5255a"
   },
   "source": [
    "### Шаг 4: общий вывод."
   ]
  },
  {
   "cell_type": "markdown",
   "id": "eb90190d",
   "metadata": {
    "deletable": false,
    "id": "bad65432"
   },
   "source": [
    "Все категории имеют зависимость с выплатой кредита в срок.\n",
    "\n",
    "1. Наличие детей - чем больше детей, тем выше риск просрочки кредита.\n",
    "2. Семейное положение - люди живущие в гражданском браке и холостые имеют больший процент невозврата кредита в срок, в отличии от тех, кто развелись или овдовели.\n",
    "3. Самыми надежными заемщиками с низкой долей просрочки оказались люди относящиеся к категории D с уровнем дохода 30001–50000 и В с уровнем дохода 200001–1000000.\n",
    "4. Самая надежная цель получения кредита \"операции с недвижимостью\", доля просрочки составила 0,072, а самые опасные цели получения кредита на покупку автомобиля (доля просрочки 0,093) и получение образования (доля просрочки 0,092).\n",
    "\n",
    "Таким образом мы выяснили, что все 4 фактора оказывают прямую зависимость к возврату долга в банке. \n",
    "Исходя из этого анализа большую зависимость имеют категории Children и family_status."
   ]
  },
  {
   "cell_type": "markdown",
   "id": "bedc7d2a",
   "metadata": {},
   "source": [
    "<div class=\"alert alert-success\">\n",
    "<b>Комментарий ревьюера ✔️:</b>  Общий вывод хороший, молодец. Необходима небольшая корректировка в третьем пункте."
   ]
  },
  {
   "cell_type": "markdown",
   "id": "a8254a14",
   "metadata": {},
   "source": [
    "<div class=\"alert alert-info\">\n",
    "    (Исправила пункт 3)\n",
    "Все категории имеют зависимость с выплатой кредита в срок.\n",
    "\n",
    "1. Наличие детей - чем больше детей, тем выше риск просрочки кредита.\n",
    "2. Семейное положение - люди живущие в гражданском браке и холостые имеют больший процент невозврата кредита в срок, в отличии от тех, кто развелись или овдовели.\n",
    "3. Надежными заемщиками с низкой долей просрочки оказались люди относящиеся к категории В с уровнем дохода 200001–1000000.\n",
    "4. Самая надежная цель получения кредита \"операции с недвижимостью\", доля просрочки составила 0,072, а самые опасные цели получения кредита на покупку автомобиля (доля просрочки 0,093) и получение образования (доля просрочки 0,092).\n",
    "\n",
    "Таким образом мы выяснили, что все 4 фактора оказывают прямую зависимость к возврату долга в банке. \n",
    "Исходя из этого анализа большую зависимость имеют категории Children и family_status."
   ]
  },
  {
   "cell_type": "markdown",
   "id": "fd556d48",
   "metadata": {},
   "source": [
    "<div class=\"alert alert-success\">\n",
    "<b>Комментарий ревьюера 2V ✔️✔️:</b> Выводы стали ещё лучше."
   ]
  },
  {
   "cell_type": "markdown",
   "id": "703ec7f8",
   "metadata": {},
   "source": [
    "<div style=\"border:solid purple 2px; padding: 20px\"> \n",
    "    \n",
    "**Комментарий ревьюера**\n",
    "\n",
    "Виктория, не смотря на обилие красных комментариев, твой проект выполнен хорошо и практически готов. Все расчеты верны, их нужно только оптимизировать. Также ты пишешь развернутые грамотные выводы, их опять же нужно скорректировать с учетом несбалансированности групп (малочисленные группы не стоит принимать во внимание). Исправь, пожалуйста, все моменты, отмеченные красными комментариями.\n",
    "    \n",
    "Если есть время на доп.задания (желтые комментарии), буду рада их также проверить.\n",
    "    \n",
    "\n",
    "Если у тебя есть какие-то вопросы по комментариям или по проекту, напиши их также в своих комментариях, я постараюсь ответить."
   ]
  },
  {
   "cell_type": "markdown",
   "id": "47946045",
   "metadata": {},
   "source": [
    "<div style=\"border:solid purple 2px; padding: 20px\"> \n",
    "    \n",
    "**Комментарий ревьюера 2V**\n",
    "\n",
    "Виктория, спасибо за добросовестные доработки, у тебя получился отличный проект. Остался один красный комментарий в последнем вопросе (3.6), поэтому возвращаю проект на доработку ещё раз."
   ]
  },
  {
   "cell_type": "markdown",
   "id": "30d023f5",
   "metadata": {},
   "source": [
    "<div style=\"border:solid purple 2px; padding: 20px\"> \n",
    "    \n",
    "**Комментарий ревьюера 3V**\n",
    "\n",
    "Виктория, теперь всё отлично, с радостью принимаю проект и желаю успехов в дальнейшем обучении."
   ]
  }
 ],
 "metadata": {
  "ExecuteTimeLog": [
   {
    "duration": 50,
    "start_time": "2023-01-19T12:10:13.799Z"
   },
   {
    "duration": 7,
    "start_time": "2023-01-19T12:10:43.582Z"
   },
   {
    "duration": 8,
    "start_time": "2023-01-19T12:11:32.254Z"
   },
   {
    "duration": 7,
    "start_time": "2023-01-19T12:11:56.135Z"
   },
   {
    "duration": 493,
    "start_time": "2023-01-19T12:12:03.286Z"
   },
   {
    "duration": 28,
    "start_time": "2023-01-19T12:12:03.941Z"
   },
   {
    "duration": 17,
    "start_time": "2023-01-19T12:12:04.390Z"
   },
   {
    "duration": 10,
    "start_time": "2023-01-19T12:12:05.828Z"
   },
   {
    "duration": 40,
    "start_time": "2023-01-19T12:12:06.192Z"
   },
   {
    "duration": 3,
    "start_time": "2023-01-19T12:12:06.783Z"
   },
   {
    "duration": 8,
    "start_time": "2023-01-19T12:12:07.167Z"
   },
   {
    "duration": 6,
    "start_time": "2023-01-19T12:12:08.255Z"
   },
   {
    "duration": 7,
    "start_time": "2023-01-19T12:12:09.339Z"
   },
   {
    "duration": 5,
    "start_time": "2023-01-19T12:12:11.031Z"
   },
   {
    "duration": 44,
    "start_time": "2023-01-19T12:12:12.174Z"
   },
   {
    "duration": 12,
    "start_time": "2023-01-19T12:12:13.199Z"
   },
   {
    "duration": 5,
    "start_time": "2023-01-19T12:12:15.815Z"
   },
   {
    "duration": 13,
    "start_time": "2023-01-19T12:12:20.835Z"
   },
   {
    "duration": 30,
    "start_time": "2023-01-19T12:12:21.520Z"
   },
   {
    "duration": 28,
    "start_time": "2023-01-19T12:12:22.191Z"
   },
   {
    "duration": 4,
    "start_time": "2023-01-19T12:12:24.579Z"
   },
   {
    "duration": 12,
    "start_time": "2023-01-19T12:12:25.038Z"
   },
   {
    "duration": 6,
    "start_time": "2023-01-19T12:12:26.359Z"
   },
   {
    "duration": 4,
    "start_time": "2023-01-19T12:12:27.387Z"
   },
   {
    "duration": 9,
    "start_time": "2023-01-19T12:12:27.847Z"
   },
   {
    "duration": 5,
    "start_time": "2023-01-19T12:12:29.359Z"
   },
   {
    "duration": 29,
    "start_time": "2023-01-19T12:15:57.739Z"
   },
   {
    "duration": 5,
    "start_time": "2023-01-19T12:16:51.824Z"
   },
   {
    "duration": 8,
    "start_time": "2023-01-19T12:16:56.383Z"
   },
   {
    "duration": 7,
    "start_time": "2023-01-19T12:17:02.659Z"
   },
   {
    "duration": 12,
    "start_time": "2023-01-19T12:22:56.721Z"
   },
   {
    "duration": 22,
    "start_time": "2023-01-19T12:23:22.059Z"
   },
   {
    "duration": 7,
    "start_time": "2023-01-19T12:23:59.036Z"
   },
   {
    "duration": 10,
    "start_time": "2023-01-19T12:46:58.631Z"
   },
   {
    "duration": 12,
    "start_time": "2023-01-19T12:48:22.832Z"
   },
   {
    "duration": 70,
    "start_time": "2023-01-19T13:01:25.353Z"
   },
   {
    "duration": 111,
    "start_time": "2023-01-19T13:01:43.548Z"
   },
   {
    "duration": 90,
    "start_time": "2023-01-19T13:01:56.545Z"
   },
   {
    "duration": 90,
    "start_time": "2023-01-19T13:03:12.377Z"
   },
   {
    "duration": 71,
    "start_time": "2023-01-19T13:12:07.953Z"
   },
   {
    "duration": 68,
    "start_time": "2023-01-19T13:12:34.570Z"
   },
   {
    "duration": 16,
    "start_time": "2023-01-19T13:12:34.974Z"
   },
   {
    "duration": 17,
    "start_time": "2023-01-19T13:12:35.374Z"
   },
   {
    "duration": 10,
    "start_time": "2023-01-19T13:12:36.144Z"
   },
   {
    "duration": 33,
    "start_time": "2023-01-19T13:12:36.486Z"
   },
   {
    "duration": 3,
    "start_time": "2023-01-19T13:12:37.048Z"
   },
   {
    "duration": 9,
    "start_time": "2023-01-19T13:12:37.398Z"
   },
   {
    "duration": 5,
    "start_time": "2023-01-19T13:12:38.040Z"
   },
   {
    "duration": 6,
    "start_time": "2023-01-19T13:12:38.536Z"
   },
   {
    "duration": 4,
    "start_time": "2023-01-19T13:12:38.879Z"
   },
   {
    "duration": 35,
    "start_time": "2023-01-19T13:12:39.478Z"
   },
   {
    "duration": 12,
    "start_time": "2023-01-19T13:12:39.886Z"
   },
   {
    "duration": 4,
    "start_time": "2023-01-19T13:12:40.574Z"
   },
   {
    "duration": 12,
    "start_time": "2023-01-19T13:12:41.164Z"
   },
   {
    "duration": 19,
    "start_time": "2023-01-19T13:12:41.552Z"
   },
   {
    "duration": 18,
    "start_time": "2023-01-19T13:12:41.759Z"
   },
   {
    "duration": 4,
    "start_time": "2023-01-19T13:12:42.370Z"
   },
   {
    "duration": 10,
    "start_time": "2023-01-19T13:12:42.576Z"
   },
   {
    "duration": 6,
    "start_time": "2023-01-19T13:12:44.168Z"
   },
   {
    "duration": 4,
    "start_time": "2023-01-19T13:12:44.706Z"
   },
   {
    "duration": 10,
    "start_time": "2023-01-19T13:12:44.999Z"
   },
   {
    "duration": 74,
    "start_time": "2023-01-19T13:12:47.402Z"
   },
   {
    "duration": 13,
    "start_time": "2023-01-19T13:13:44.982Z"
   },
   {
    "duration": 12,
    "start_time": "2023-01-19T13:13:59.252Z"
   },
   {
    "duration": 12,
    "start_time": "2023-01-19T13:14:49.859Z"
   },
   {
    "duration": 16,
    "start_time": "2023-01-19T13:14:56.179Z"
   },
   {
    "duration": 11,
    "start_time": "2023-01-19T13:27:15.657Z"
   },
   {
    "duration": 12,
    "start_time": "2023-01-19T13:27:26.583Z"
   },
   {
    "duration": 76,
    "start_time": "2023-01-19T15:41:09.017Z"
   },
   {
    "duration": 564,
    "start_time": "2023-01-19T15:41:33.677Z"
   },
   {
    "duration": 24,
    "start_time": "2023-01-19T15:41:34.243Z"
   },
   {
    "duration": 17,
    "start_time": "2023-01-19T15:41:34.385Z"
   },
   {
    "duration": 12,
    "start_time": "2023-01-19T15:41:35.084Z"
   },
   {
    "duration": 48,
    "start_time": "2023-01-19T15:41:35.444Z"
   },
   {
    "duration": 4,
    "start_time": "2023-01-19T15:41:35.988Z"
   },
   {
    "duration": 10,
    "start_time": "2023-01-19T15:41:36.364Z"
   },
   {
    "duration": 6,
    "start_time": "2023-01-19T15:41:36.908Z"
   },
   {
    "duration": 9,
    "start_time": "2023-01-19T15:41:37.301Z"
   },
   {
    "duration": 5,
    "start_time": "2023-01-19T15:41:37.692Z"
   },
   {
    "duration": 37,
    "start_time": "2023-01-19T15:41:38.240Z"
   },
   {
    "duration": 10,
    "start_time": "2023-01-19T15:41:38.677Z"
   },
   {
    "duration": 6,
    "start_time": "2023-01-19T15:41:39.598Z"
   },
   {
    "duration": 13,
    "start_time": "2023-01-19T15:41:40.181Z"
   },
   {
    "duration": 31,
    "start_time": "2023-01-19T15:41:40.557Z"
   },
   {
    "duration": 19,
    "start_time": "2023-01-19T15:41:40.764Z"
   },
   {
    "duration": 5,
    "start_time": "2023-01-19T15:41:41.361Z"
   },
   {
    "duration": 15,
    "start_time": "2023-01-19T15:41:41.564Z"
   },
   {
    "duration": 8,
    "start_time": "2023-01-19T15:41:41.924Z"
   },
   {
    "duration": 3,
    "start_time": "2023-01-19T15:41:42.328Z"
   },
   {
    "duration": 14,
    "start_time": "2023-01-19T15:41:42.565Z"
   },
   {
    "duration": 18,
    "start_time": "2023-01-19T15:41:43.897Z"
   },
   {
    "duration": 20,
    "start_time": "2023-01-19T15:41:46.261Z"
   },
   {
    "duration": 1250,
    "start_time": "2023-01-19T16:13:52.114Z"
   },
   {
    "duration": 1247,
    "start_time": "2023-01-19T16:17:48.514Z"
   },
   {
    "duration": 21,
    "start_time": "2023-01-19T16:18:35.099Z"
   },
   {
    "duration": 16,
    "start_time": "2023-01-19T16:42:14.398Z"
   },
   {
    "duration": 34,
    "start_time": "2023-01-19T16:45:34.626Z"
   },
   {
    "duration": 35,
    "start_time": "2023-01-19T16:45:42.990Z"
   },
   {
    "duration": 49,
    "start_time": "2023-01-19T16:48:33.629Z"
   },
   {
    "duration": 57,
    "start_time": "2023-01-19T17:00:56.052Z"
   },
   {
    "duration": 51,
    "start_time": "2023-01-19T17:07:15.605Z"
   },
   {
    "duration": 59,
    "start_time": "2023-01-19T17:10:12.434Z"
   },
   {
    "duration": 78,
    "start_time": "2023-01-19T17:28:42.882Z"
   },
   {
    "duration": 75,
    "start_time": "2023-01-19T17:29:04.142Z"
   },
   {
    "duration": 17,
    "start_time": "2023-01-19T17:29:04.421Z"
   },
   {
    "duration": 21,
    "start_time": "2023-01-19T17:29:04.725Z"
   },
   {
    "duration": 11,
    "start_time": "2023-01-19T17:29:05.401Z"
   },
   {
    "duration": 37,
    "start_time": "2023-01-19T17:29:05.710Z"
   },
   {
    "duration": 4,
    "start_time": "2023-01-19T17:29:06.177Z"
   },
   {
    "duration": 9,
    "start_time": "2023-01-19T17:29:06.510Z"
   },
   {
    "duration": 5,
    "start_time": "2023-01-19T17:29:07.781Z"
   },
   {
    "duration": 6,
    "start_time": "2023-01-19T17:29:08.149Z"
   },
   {
    "duration": 5,
    "start_time": "2023-01-19T17:29:08.541Z"
   },
   {
    "duration": 39,
    "start_time": "2023-01-19T17:29:09.253Z"
   },
   {
    "duration": 17,
    "start_time": "2023-01-19T17:29:09.583Z"
   },
   {
    "duration": 5,
    "start_time": "2023-01-19T17:29:10.125Z"
   },
   {
    "duration": 19,
    "start_time": "2023-01-19T17:29:10.709Z"
   },
   {
    "duration": 30,
    "start_time": "2023-01-19T17:29:11.029Z"
   },
   {
    "duration": 28,
    "start_time": "2023-01-19T17:29:11.214Z"
   },
   {
    "duration": 5,
    "start_time": "2023-01-19T17:29:11.753Z"
   },
   {
    "duration": 17,
    "start_time": "2023-01-19T17:29:11.957Z"
   },
   {
    "duration": 8,
    "start_time": "2023-01-19T17:29:12.350Z"
   },
   {
    "duration": 4,
    "start_time": "2023-01-19T17:29:12.818Z"
   },
   {
    "duration": 10,
    "start_time": "2023-01-19T17:29:13.278Z"
   },
   {
    "duration": 12,
    "start_time": "2023-01-19T17:29:14.090Z"
   },
   {
    "duration": 17,
    "start_time": "2023-01-19T17:29:15.457Z"
   },
   {
    "duration": 41,
    "start_time": "2023-01-19T17:29:16.895Z"
   },
   {
    "duration": 105,
    "start_time": "2023-01-19T17:29:17.502Z"
   },
   {
    "duration": 16,
    "start_time": "2023-01-19T17:29:44.506Z"
   },
   {
    "duration": 36,
    "start_time": "2023-01-19T18:08:40.911Z"
   },
   {
    "duration": 38,
    "start_time": "2023-01-19T18:08:50.443Z"
   },
   {
    "duration": 33,
    "start_time": "2023-01-19T18:09:51.483Z"
   },
   {
    "duration": 23,
    "start_time": "2023-01-19T18:23:29.976Z"
   },
   {
    "duration": 70,
    "start_time": "2023-01-19T18:23:37.980Z"
   },
   {
    "duration": 18,
    "start_time": "2023-01-19T18:23:38.320Z"
   },
   {
    "duration": 16,
    "start_time": "2023-01-19T18:23:38.673Z"
   },
   {
    "duration": 11,
    "start_time": "2023-01-19T18:23:39.373Z"
   },
   {
    "duration": 50,
    "start_time": "2023-01-19T18:23:39.725Z"
   },
   {
    "duration": 4,
    "start_time": "2023-01-19T18:23:40.252Z"
   },
   {
    "duration": 10,
    "start_time": "2023-01-19T18:23:40.604Z"
   },
   {
    "duration": 5,
    "start_time": "2023-01-19T18:23:41.108Z"
   },
   {
    "duration": 6,
    "start_time": "2023-01-19T18:23:41.492Z"
   },
   {
    "duration": 5,
    "start_time": "2023-01-19T18:23:41.829Z"
   },
   {
    "duration": 39,
    "start_time": "2023-01-19T18:23:42.333Z"
   },
   {
    "duration": 11,
    "start_time": "2023-01-19T18:23:42.692Z"
   },
   {
    "duration": 4,
    "start_time": "2023-01-19T18:23:43.236Z"
   },
   {
    "duration": 11,
    "start_time": "2023-01-19T18:23:43.805Z"
   },
   {
    "duration": 22,
    "start_time": "2023-01-19T18:23:44.180Z"
   },
   {
    "duration": 22,
    "start_time": "2023-01-19T18:23:44.756Z"
   },
   {
    "duration": 4,
    "start_time": "2023-01-19T18:23:46.398Z"
   },
   {
    "duration": 11,
    "start_time": "2023-01-19T18:23:46.724Z"
   },
   {
    "duration": 7,
    "start_time": "2023-01-19T18:23:47.468Z"
   },
   {
    "duration": 5,
    "start_time": "2023-01-19T18:23:48.313Z"
   },
   {
    "duration": 9,
    "start_time": "2023-01-19T18:23:48.740Z"
   },
   {
    "duration": 20,
    "start_time": "2023-01-19T18:23:49.954Z"
   },
   {
    "duration": 17,
    "start_time": "2023-01-19T18:23:54.313Z"
   },
   {
    "duration": 13,
    "start_time": "2023-01-19T18:23:59.289Z"
   },
   {
    "duration": 16,
    "start_time": "2023-01-19T18:24:47.617Z"
   },
   {
    "duration": 569,
    "start_time": "2023-01-19T20:16:50.198Z"
   },
   {
    "duration": 24,
    "start_time": "2023-01-19T20:16:50.769Z"
   },
   {
    "duration": 16,
    "start_time": "2023-01-19T20:16:50.795Z"
   },
   {
    "duration": 12,
    "start_time": "2023-01-19T20:16:50.818Z"
   },
   {
    "duration": 35,
    "start_time": "2023-01-19T20:16:50.832Z"
   },
   {
    "duration": 4,
    "start_time": "2023-01-19T20:16:50.869Z"
   },
   {
    "duration": 17,
    "start_time": "2023-01-19T20:16:50.875Z"
   },
   {
    "duration": 36,
    "start_time": "2023-01-19T20:16:50.903Z"
   },
   {
    "duration": 24,
    "start_time": "2023-01-19T20:16:50.941Z"
   },
   {
    "duration": 6,
    "start_time": "2023-01-19T20:16:50.968Z"
   },
   {
    "duration": 41,
    "start_time": "2023-01-19T20:16:50.976Z"
   },
   {
    "duration": 11,
    "start_time": "2023-01-19T20:16:51.018Z"
   },
   {
    "duration": 8,
    "start_time": "2023-01-19T20:16:51.030Z"
   },
   {
    "duration": 15,
    "start_time": "2023-01-19T20:16:51.039Z"
   },
   {
    "duration": 19,
    "start_time": "2023-01-19T20:16:51.056Z"
   },
   {
    "duration": 44,
    "start_time": "2023-01-19T20:16:51.076Z"
   },
   {
    "duration": 4,
    "start_time": "2023-01-19T20:16:51.126Z"
   },
   {
    "duration": 24,
    "start_time": "2023-01-19T20:16:51.132Z"
   },
   {
    "duration": 7,
    "start_time": "2023-01-19T20:16:51.158Z"
   },
   {
    "duration": 7,
    "start_time": "2023-01-19T20:16:51.167Z"
   },
   {
    "duration": 23,
    "start_time": "2023-01-19T20:16:51.176Z"
   },
   {
    "duration": 22,
    "start_time": "2023-01-19T20:16:51.206Z"
   },
   {
    "duration": 24,
    "start_time": "2023-01-19T20:16:51.230Z"
   },
   {
    "duration": 13,
    "start_time": "2023-01-19T20:16:51.256Z"
   },
   {
    "duration": 17,
    "start_time": "2023-01-19T20:16:51.270Z"
   },
   {
    "duration": 50,
    "start_time": "2023-01-21T20:20:03.676Z"
   },
   {
    "duration": 7,
    "start_time": "2023-01-21T20:20:20.218Z"
   },
   {
    "duration": 5,
    "start_time": "2023-01-21T20:20:31.948Z"
   },
   {
    "duration": 7,
    "start_time": "2023-01-21T20:20:37.835Z"
   },
   {
    "duration": 7,
    "start_time": "2023-01-21T20:20:55.656Z"
   },
   {
    "duration": 553,
    "start_time": "2023-01-21T20:21:17.368Z"
   },
   {
    "duration": 23,
    "start_time": "2023-01-21T20:21:18.040Z"
   },
   {
    "duration": 14,
    "start_time": "2023-01-21T20:21:18.400Z"
   },
   {
    "duration": 9,
    "start_time": "2023-01-21T20:21:19.049Z"
   },
   {
    "duration": 35,
    "start_time": "2023-01-21T20:21:19.436Z"
   },
   {
    "duration": 4,
    "start_time": "2023-01-21T20:21:20.328Z"
   },
   {
    "duration": 8,
    "start_time": "2023-01-21T20:21:20.724Z"
   },
   {
    "duration": 3,
    "start_time": "2023-01-21T20:21:21.301Z"
   },
   {
    "duration": 6,
    "start_time": "2023-01-21T20:21:21.688Z"
   },
   {
    "duration": 4,
    "start_time": "2023-01-21T20:21:22.069Z"
   },
   {
    "duration": 31,
    "start_time": "2023-01-21T20:21:22.724Z"
   },
   {
    "duration": 10,
    "start_time": "2023-01-21T20:21:23.172Z"
   },
   {
    "duration": 3,
    "start_time": "2023-01-21T20:21:25.568Z"
   },
   {
    "duration": 11,
    "start_time": "2023-01-21T20:21:26.188Z"
   },
   {
    "duration": 20,
    "start_time": "2023-01-21T20:21:26.569Z"
   },
   {
    "duration": 17,
    "start_time": "2023-01-21T20:21:27.009Z"
   },
   {
    "duration": 4,
    "start_time": "2023-01-21T20:21:28.580Z"
   },
   {
    "duration": 10,
    "start_time": "2023-01-21T20:21:28.773Z"
   },
   {
    "duration": 7,
    "start_time": "2023-01-21T20:21:29.160Z"
   },
   {
    "duration": 4,
    "start_time": "2023-01-21T20:21:29.544Z"
   },
   {
    "duration": 8,
    "start_time": "2023-01-21T20:21:29.716Z"
   },
   {
    "duration": 31,
    "start_time": "2023-01-21T20:21:31.185Z"
   },
   {
    "duration": 8,
    "start_time": "2023-01-21T20:21:41.817Z"
   },
   {
    "duration": 9,
    "start_time": "2023-01-21T20:21:46.385Z"
   },
   {
    "duration": 13,
    "start_time": "2023-01-21T20:23:19.097Z"
   },
   {
    "duration": 15,
    "start_time": "2023-01-21T20:23:24.903Z"
   },
   {
    "duration": 17,
    "start_time": "2023-01-21T20:31:03.353Z"
   },
   {
    "duration": 16,
    "start_time": "2023-01-21T20:34:47.346Z"
   },
   {
    "duration": 13,
    "start_time": "2023-01-21T20:36:18.017Z"
   },
   {
    "duration": 14,
    "start_time": "2023-01-21T20:36:23.850Z"
   },
   {
    "duration": 16,
    "start_time": "2023-01-21T20:43:46.386Z"
   },
   {
    "duration": 7,
    "start_time": "2023-01-21T23:02:01.603Z"
   },
   {
    "duration": 8,
    "start_time": "2023-01-21T23:02:11.690Z"
   },
   {
    "duration": 21,
    "start_time": "2023-01-21T23:03:02.537Z"
   },
   {
    "duration": 24,
    "start_time": "2023-01-21T23:03:13.809Z"
   },
   {
    "duration": 23,
    "start_time": "2023-01-21T23:03:28.934Z"
   },
   {
    "duration": 1419,
    "start_time": "2023-01-21T23:04:21.510Z"
   },
   {
    "duration": 1368,
    "start_time": "2023-01-21T23:04:29.802Z"
   },
   {
    "duration": 1402,
    "start_time": "2023-01-21T23:04:51.355Z"
   },
   {
    "duration": 7,
    "start_time": "2023-01-21T23:06:28.010Z"
   },
   {
    "duration": 1419,
    "start_time": "2023-01-21T23:06:39.564Z"
   },
   {
    "duration": 1444,
    "start_time": "2023-01-21T23:08:13.594Z"
   },
   {
    "duration": 1370,
    "start_time": "2023-01-21T23:10:12.370Z"
   },
   {
    "duration": 1425,
    "start_time": "2023-01-21T23:10:41.701Z"
   },
   {
    "duration": 1428,
    "start_time": "2023-01-21T23:10:52.467Z"
   },
   {
    "duration": 1431,
    "start_time": "2023-01-21T23:11:06.849Z"
   },
   {
    "duration": 1458,
    "start_time": "2023-01-21T23:11:14.575Z"
   },
   {
    "duration": 10,
    "start_time": "2023-01-21T23:19:13.177Z"
   },
   {
    "duration": 18,
    "start_time": "2023-01-21T23:19:42.573Z"
   },
   {
    "duration": 13,
    "start_time": "2023-01-21T23:19:51.005Z"
   },
   {
    "duration": 14,
    "start_time": "2023-01-21T23:20:25.090Z"
   },
   {
    "duration": 17,
    "start_time": "2023-01-21T23:28:22.997Z"
   },
   {
    "duration": 72,
    "start_time": "2023-01-21T23:32:44.430Z"
   },
   {
    "duration": 74,
    "start_time": "2023-01-21T23:33:00.794Z"
   },
   {
    "duration": 77,
    "start_time": "2023-01-21T23:33:30.079Z"
   },
   {
    "duration": 9,
    "start_time": "2023-01-21T23:33:43.457Z"
   },
   {
    "duration": 14,
    "start_time": "2023-01-21T23:34:29.128Z"
   },
   {
    "duration": 15,
    "start_time": "2023-01-21T23:34:37.336Z"
   },
   {
    "duration": 74,
    "start_time": "2023-01-21T23:34:47.793Z"
   },
   {
    "duration": 67,
    "start_time": "2023-01-21T23:35:29.472Z"
   },
   {
    "duration": 67,
    "start_time": "2023-01-21T23:36:59.001Z"
   },
   {
    "duration": 79,
    "start_time": "2023-01-21T23:37:07.634Z"
   },
   {
    "duration": 15,
    "start_time": "2023-01-21T23:37:07.922Z"
   },
   {
    "duration": 17,
    "start_time": "2023-01-21T23:37:08.206Z"
   },
   {
    "duration": 13,
    "start_time": "2023-01-21T23:37:08.857Z"
   },
   {
    "duration": 33,
    "start_time": "2023-01-21T23:37:09.207Z"
   },
   {
    "duration": 4,
    "start_time": "2023-01-21T23:37:09.678Z"
   },
   {
    "duration": 14,
    "start_time": "2023-01-21T23:37:10.046Z"
   },
   {
    "duration": 5,
    "start_time": "2023-01-21T23:37:10.574Z"
   },
   {
    "duration": 6,
    "start_time": "2023-01-21T23:37:10.974Z"
   },
   {
    "duration": 4,
    "start_time": "2023-01-21T23:37:11.365Z"
   },
   {
    "duration": 30,
    "start_time": "2023-01-21T23:37:11.919Z"
   },
   {
    "duration": 10,
    "start_time": "2023-01-21T23:37:12.302Z"
   },
   {
    "duration": 3,
    "start_time": "2023-01-21T23:37:12.871Z"
   },
   {
    "duration": 11,
    "start_time": "2023-01-21T23:37:13.470Z"
   },
   {
    "duration": 20,
    "start_time": "2023-01-21T23:37:14.002Z"
   },
   {
    "duration": 18,
    "start_time": "2023-01-21T23:37:14.303Z"
   },
   {
    "duration": 3,
    "start_time": "2023-01-21T23:37:15.011Z"
   },
   {
    "duration": 10,
    "start_time": "2023-01-21T23:37:15.190Z"
   },
   {
    "duration": 5,
    "start_time": "2023-01-21T23:37:15.631Z"
   },
   {
    "duration": 4,
    "start_time": "2023-01-21T23:37:16.378Z"
   },
   {
    "duration": 9,
    "start_time": "2023-01-21T23:37:16.710Z"
   },
   {
    "duration": 13,
    "start_time": "2023-01-21T23:37:18.609Z"
   },
   {
    "duration": 7,
    "start_time": "2023-01-21T23:37:20.307Z"
   },
   {
    "duration": 17,
    "start_time": "2023-01-21T23:37:30.675Z"
   },
   {
    "duration": 24,
    "start_time": "2023-01-21T23:37:36.546Z"
   },
   {
    "duration": 71,
    "start_time": "2023-01-21T23:37:42.195Z"
   },
   {
    "duration": 60,
    "start_time": "2023-01-21T23:38:28.611Z"
   },
   {
    "duration": 68,
    "start_time": "2023-01-21T23:40:07.735Z"
   },
   {
    "duration": 63,
    "start_time": "2023-01-21T23:40:42.447Z"
   },
   {
    "duration": 61,
    "start_time": "2023-01-21T23:41:05.679Z"
   },
   {
    "duration": 60,
    "start_time": "2023-01-21T23:41:13.375Z"
   },
   {
    "duration": 76,
    "start_time": "2023-01-21T23:41:19.487Z"
   },
   {
    "duration": 820,
    "start_time": "2023-01-21T23:46:14.771Z"
   },
   {
    "duration": 15,
    "start_time": "2023-01-21T23:47:18.993Z"
   },
   {
    "duration": 18,
    "start_time": "2023-01-21T23:48:42.503Z"
   },
   {
    "duration": 818,
    "start_time": "2023-01-21T23:48:50.926Z"
   },
   {
    "duration": 17,
    "start_time": "2023-01-21T23:49:12.152Z"
   },
   {
    "duration": 18,
    "start_time": "2023-01-21T23:54:22.504Z"
   },
   {
    "duration": 17,
    "start_time": "2023-01-21T23:54:58.176Z"
   },
   {
    "duration": 18,
    "start_time": "2023-01-21T23:55:37.417Z"
   },
   {
    "duration": 19,
    "start_time": "2023-01-22T00:00:35.840Z"
   },
   {
    "duration": 17,
    "start_time": "2023-01-22T00:03:02.344Z"
   },
   {
    "duration": 10,
    "start_time": "2023-01-22T01:07:50.451Z"
   },
   {
    "duration": 480,
    "start_time": "2023-01-22T08:16:45.136Z"
   },
   {
    "duration": 32,
    "start_time": "2023-01-22T08:16:45.619Z"
   },
   {
    "duration": 37,
    "start_time": "2023-01-22T08:16:45.654Z"
   },
   {
    "duration": 14,
    "start_time": "2023-01-22T08:16:45.694Z"
   },
   {
    "duration": 40,
    "start_time": "2023-01-22T08:16:45.710Z"
   },
   {
    "duration": 3,
    "start_time": "2023-01-22T08:16:45.752Z"
   },
   {
    "duration": 37,
    "start_time": "2023-01-22T08:16:45.757Z"
   },
   {
    "duration": 5,
    "start_time": "2023-01-22T08:16:45.796Z"
   },
   {
    "duration": 12,
    "start_time": "2023-01-22T08:16:45.803Z"
   },
   {
    "duration": 5,
    "start_time": "2023-01-22T08:16:45.819Z"
   },
   {
    "duration": 64,
    "start_time": "2023-01-22T08:16:45.826Z"
   },
   {
    "duration": 13,
    "start_time": "2023-01-22T08:16:45.892Z"
   },
   {
    "duration": 3,
    "start_time": "2023-01-22T08:16:45.907Z"
   },
   {
    "duration": 15,
    "start_time": "2023-01-22T08:16:45.912Z"
   },
   {
    "duration": 24,
    "start_time": "2023-01-22T08:16:45.928Z"
   },
   {
    "duration": 44,
    "start_time": "2023-01-22T08:16:45.954Z"
   },
   {
    "duration": 3,
    "start_time": "2023-01-22T08:16:46.000Z"
   },
   {
    "duration": 13,
    "start_time": "2023-01-22T08:16:46.005Z"
   },
   {
    "duration": 7,
    "start_time": "2023-01-22T08:16:46.020Z"
   },
   {
    "duration": 7,
    "start_time": "2023-01-22T08:16:46.028Z"
   },
   {
    "duration": 48,
    "start_time": "2023-01-22T08:16:46.036Z"
   },
   {
    "duration": 15,
    "start_time": "2023-01-22T08:16:46.086Z"
   },
   {
    "duration": 17,
    "start_time": "2023-01-22T08:16:46.102Z"
   },
   {
    "duration": 18,
    "start_time": "2023-01-22T08:16:46.120Z"
   },
   {
    "duration": 46,
    "start_time": "2023-01-22T08:16:46.140Z"
   },
   {
    "duration": 16,
    "start_time": "2023-01-22T08:16:46.188Z"
   },
   {
    "duration": 22,
    "start_time": "2023-01-22T08:16:46.205Z"
   },
   {
    "duration": 22,
    "start_time": "2023-01-22T08:16:46.232Z"
   },
   {
    "duration": 21,
    "start_time": "2023-01-22T08:16:46.283Z"
   },
   {
    "duration": 42,
    "start_time": "2023-01-22T15:37:44.669Z"
   },
   {
    "duration": 508,
    "start_time": "2023-01-22T15:37:54.397Z"
   },
   {
    "duration": 22,
    "start_time": "2023-01-22T15:37:54.907Z"
   },
   {
    "duration": 14,
    "start_time": "2023-01-22T15:37:54.956Z"
   },
   {
    "duration": 9,
    "start_time": "2023-01-22T15:37:55.590Z"
   },
   {
    "duration": 39,
    "start_time": "2023-01-22T15:37:55.929Z"
   },
   {
    "duration": 3,
    "start_time": "2023-01-22T15:37:56.437Z"
   },
   {
    "duration": 8,
    "start_time": "2023-01-22T15:37:56.781Z"
   },
   {
    "duration": 4,
    "start_time": "2023-01-22T15:37:57.305Z"
   },
   {
    "duration": 6,
    "start_time": "2023-01-22T15:37:57.653Z"
   },
   {
    "duration": 4,
    "start_time": "2023-01-22T15:37:57.965Z"
   },
   {
    "duration": 32,
    "start_time": "2023-01-22T15:37:58.501Z"
   },
   {
    "duration": 10,
    "start_time": "2023-01-22T15:37:58.872Z"
   },
   {
    "duration": 5,
    "start_time": "2023-01-22T15:37:59.431Z"
   },
   {
    "duration": 11,
    "start_time": "2023-01-22T15:37:59.965Z"
   },
   {
    "duration": 21,
    "start_time": "2023-01-22T15:38:00.301Z"
   },
   {
    "duration": 17,
    "start_time": "2023-01-22T15:38:00.481Z"
   },
   {
    "duration": 4,
    "start_time": "2023-01-22T15:38:01.076Z"
   },
   {
    "duration": 9,
    "start_time": "2023-01-22T15:38:01.269Z"
   },
   {
    "duration": 5,
    "start_time": "2023-01-22T15:38:01.693Z"
   },
   {
    "duration": 4,
    "start_time": "2023-01-22T15:38:02.100Z"
   },
   {
    "duration": 8,
    "start_time": "2023-01-22T15:38:02.317Z"
   },
   {
    "duration": 15,
    "start_time": "2023-01-22T15:38:03.813Z"
   },
   {
    "duration": 33,
    "start_time": "2023-01-22T15:38:08.565Z"
   },
   {
    "duration": 17,
    "start_time": "2023-01-22T15:38:15.353Z"
   },
   {
    "duration": 14,
    "start_time": "2023-01-22T15:38:23.457Z"
   },
   {
    "duration": 13,
    "start_time": "2023-01-22T15:38:27.129Z"
   }
  ],
  "colab": {
   "name": "dpp_template_part2.ipynb",
   "provenance": []
  },
  "kernelspec": {
   "display_name": "Python 3 (ipykernel)",
   "language": "python",
   "name": "python3"
  },
  "language_info": {
   "codemirror_mode": {
    "name": "ipython",
    "version": 3
   },
   "file_extension": ".py",
   "mimetype": "text/x-python",
   "name": "python",
   "nbconvert_exporter": "python",
   "pygments_lexer": "ipython3",
   "version": "3.9.5"
  },
  "toc": {
   "base_numbering": 1,
   "nav_menu": {},
   "number_sections": true,
   "sideBar": true,
   "skip_h1_title": true,
   "title_cell": "Table of Contents",
   "title_sidebar": "Contents",
   "toc_cell": false,
   "toc_position": {},
   "toc_section_display": true,
   "toc_window_display": true
  }
 },
 "nbformat": 4,
 "nbformat_minor": 5
}
