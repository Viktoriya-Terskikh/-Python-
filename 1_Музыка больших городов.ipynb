{
 "cells": [
  {
   "cell_type": "markdown",
   "metadata": {
    "deletable": false,
    "editable": false,
    "id": "E0vqbgi9ay0H"
   },
   "source": [
    "# Яндекс Музыка"
   ]
  },
  {
   "cell_type": "markdown",
   "metadata": {
    "deletable": false,
    "editable": false,
    "id": "VUC88oWjTJw2"
   },
   "source": [
    "Сравнение Москвы и Петербурга окружено мифами. Например:\n",
    " * Москва — мегаполис, подчинённый жёсткому ритму рабочей недели;\n",
    " * Петербург — культурная столица, со своими вкусами.\n",
    "\n",
    "На данных Яндекс Музыки вы сравните поведение пользователей двух столиц.\n",
    "\n",
    "**Цель исследования** — проверьте три гипотезы:\n",
    "1. Активность пользователей зависит от дня недели. Причём в Москве и Петербурге это проявляется по-разному.\n",
    "2. В понедельник утром в Москве преобладают одни жанры, а в Петербурге — другие. Так же и вечером пятницы преобладают разные жанры — в зависимости от города. \n",
    "3. Москва и Петербург предпочитают разные жанры музыки. В Москве чаще слушают поп-музыку, в Петербурге — русский рэп.\n",
    "\n",
    "**Ход исследования**\n",
    "\n",
    "Данные о поведении пользователей вы получите из файла `yandex_music_project.csv`. О качестве данных ничего не известно. Поэтому перед проверкой гипотез понадобится обзор данных. \n",
    "\n",
    "Вы проверите данные на ошибки и оцените их влияние на исследование. Затем, на этапе предобработки вы поищете возможность исправить самые критичные ошибки данных.\n",
    " \n",
    "Таким образом, исследование пройдёт в три этапа:\n",
    " 1. Обзор данных.\n",
    " 2. Предобработка данных.\n",
    " 3. Проверка гипотез.\n",
    "\n"
   ]
  },
  {
   "cell_type": "markdown",
   "metadata": {
    "deletable": false,
    "editable": false,
    "id": "Ml1hmfXC_Zcs"
   },
   "source": [
    "## Обзор данных\n",
    "\n",
    "Составьте первое представление о данных Яндекс Музыки.\n",
    "\n",
    "\n"
   ]
  },
  {
   "cell_type": "markdown",
   "metadata": {
    "deletable": false,
    "editable": false,
    "id": "57eAOGIz_Zcs",
    "tags": [
     "start_task"
    ]
   },
   "source": [
    "**Задание 1**\n",
    "\n",
    "Основной инструмент аналитика — `pandas`. Импортируйте эту библиотеку."
   ]
  },
  {
   "cell_type": "code",
   "execution_count": 1,
   "metadata": {
    "deletable": false,
    "id": "AXN7PHPN_Zcs"
   },
   "outputs": [],
   "source": [
    "# импорт библиотеки pandas\n",
    "import pandas as pd"
   ]
  },
  {
   "cell_type": "markdown",
   "metadata": {
    "deletable": false,
    "editable": false,
    "id": "SG23P8tt_Zcs",
    "tags": [
     "start_task"
    ]
   },
   "source": [
    "**Задание 2**\n",
    "\n",
    "Прочитайте файл `yandex_music_project.csv` из папки `/datasets` и сохраните его в переменной `df`:"
   ]
  },
  {
   "cell_type": "code",
   "execution_count": 2,
   "metadata": {
    "deletable": false,
    "id": "fFVu7vqh_Zct"
   },
   "outputs": [],
   "source": [
    "# чтение файла с данными и сохранение в df\n",
    "try:\n",
    "    df = pd.read_csv('https://code.s3.yandex.net/datasets/yandex_music_project.csv')\n",
    "except:\n",
    "    df = pd.read_csv('/datasets/yandex_music_project.csv')"
   ]
  },
  {
   "cell_type": "markdown",
   "metadata": {
    "deletable": false,
    "editable": false,
    "id": "rDoOMd3uTqnZ",
    "tags": [
     "start_task"
    ]
   },
   "source": [
    "**Задание 3**\n",
    "\n",
    "\n",
    "Выведите на экран первые десять строк таблицы:"
   ]
  },
  {
   "cell_type": "code",
   "execution_count": 3,
   "metadata": {
    "deletable": false,
    "id": "oWTVX3gW_Zct"
   },
   "outputs": [
    {
     "data": {
      "text/html": [
       "<div>\n",
       "<style scoped>\n",
       "    .dataframe tbody tr th:only-of-type {\n",
       "        vertical-align: middle;\n",
       "    }\n",
       "\n",
       "    .dataframe tbody tr th {\n",
       "        vertical-align: top;\n",
       "    }\n",
       "\n",
       "    .dataframe thead th {\n",
       "        text-align: right;\n",
       "    }\n",
       "</style>\n",
       "<table border=\"1\" class=\"dataframe\">\n",
       "  <thead>\n",
       "    <tr style=\"text-align: right;\">\n",
       "      <th></th>\n",
       "      <th>userID</th>\n",
       "      <th>Track</th>\n",
       "      <th>artist</th>\n",
       "      <th>genre</th>\n",
       "      <th>City</th>\n",
       "      <th>time</th>\n",
       "      <th>Day</th>\n",
       "    </tr>\n",
       "  </thead>\n",
       "  <tbody>\n",
       "    <tr>\n",
       "      <th>0</th>\n",
       "      <td>FFB692EC</td>\n",
       "      <td>Kamigata To Boots</td>\n",
       "      <td>The Mass Missile</td>\n",
       "      <td>rock</td>\n",
       "      <td>Saint-Petersburg</td>\n",
       "      <td>20:28:33</td>\n",
       "      <td>Wednesday</td>\n",
       "    </tr>\n",
       "    <tr>\n",
       "      <th>1</th>\n",
       "      <td>55204538</td>\n",
       "      <td>Delayed Because of Accident</td>\n",
       "      <td>Andreas Rönnberg</td>\n",
       "      <td>rock</td>\n",
       "      <td>Moscow</td>\n",
       "      <td>14:07:09</td>\n",
       "      <td>Friday</td>\n",
       "    </tr>\n",
       "    <tr>\n",
       "      <th>2</th>\n",
       "      <td>20EC38</td>\n",
       "      <td>Funiculì funiculà</td>\n",
       "      <td>Mario Lanza</td>\n",
       "      <td>pop</td>\n",
       "      <td>Saint-Petersburg</td>\n",
       "      <td>20:58:07</td>\n",
       "      <td>Wednesday</td>\n",
       "    </tr>\n",
       "    <tr>\n",
       "      <th>3</th>\n",
       "      <td>A3DD03C9</td>\n",
       "      <td>Dragons in the Sunset</td>\n",
       "      <td>Fire + Ice</td>\n",
       "      <td>folk</td>\n",
       "      <td>Saint-Petersburg</td>\n",
       "      <td>08:37:09</td>\n",
       "      <td>Monday</td>\n",
       "    </tr>\n",
       "    <tr>\n",
       "      <th>4</th>\n",
       "      <td>E2DC1FAE</td>\n",
       "      <td>Soul People</td>\n",
       "      <td>Space Echo</td>\n",
       "      <td>dance</td>\n",
       "      <td>Moscow</td>\n",
       "      <td>08:34:34</td>\n",
       "      <td>Monday</td>\n",
       "    </tr>\n",
       "    <tr>\n",
       "      <th>5</th>\n",
       "      <td>842029A1</td>\n",
       "      <td>Преданная</td>\n",
       "      <td>IMPERVTOR</td>\n",
       "      <td>rusrap</td>\n",
       "      <td>Saint-Petersburg</td>\n",
       "      <td>13:09:41</td>\n",
       "      <td>Friday</td>\n",
       "    </tr>\n",
       "    <tr>\n",
       "      <th>6</th>\n",
       "      <td>4CB90AA5</td>\n",
       "      <td>True</td>\n",
       "      <td>Roman Messer</td>\n",
       "      <td>dance</td>\n",
       "      <td>Moscow</td>\n",
       "      <td>13:00:07</td>\n",
       "      <td>Wednesday</td>\n",
       "    </tr>\n",
       "    <tr>\n",
       "      <th>7</th>\n",
       "      <td>F03E1C1F</td>\n",
       "      <td>Feeling This Way</td>\n",
       "      <td>Polina Griffith</td>\n",
       "      <td>dance</td>\n",
       "      <td>Moscow</td>\n",
       "      <td>20:47:49</td>\n",
       "      <td>Wednesday</td>\n",
       "    </tr>\n",
       "    <tr>\n",
       "      <th>8</th>\n",
       "      <td>8FA1D3BE</td>\n",
       "      <td>И вновь продолжается бой</td>\n",
       "      <td>NaN</td>\n",
       "      <td>ruspop</td>\n",
       "      <td>Moscow</td>\n",
       "      <td>09:17:40</td>\n",
       "      <td>Friday</td>\n",
       "    </tr>\n",
       "    <tr>\n",
       "      <th>9</th>\n",
       "      <td>E772D5C0</td>\n",
       "      <td>Pessimist</td>\n",
       "      <td>NaN</td>\n",
       "      <td>dance</td>\n",
       "      <td>Saint-Petersburg</td>\n",
       "      <td>21:20:49</td>\n",
       "      <td>Wednesday</td>\n",
       "    </tr>\n",
       "  </tbody>\n",
       "</table>\n",
       "</div>"
      ],
      "text/plain": [
       "     userID                        Track            artist   genre  \\\n",
       "0  FFB692EC            Kamigata To Boots  The Mass Missile    rock   \n",
       "1  55204538  Delayed Because of Accident  Andreas Rönnberg    rock   \n",
       "2    20EC38            Funiculì funiculà       Mario Lanza     pop   \n",
       "3  A3DD03C9        Dragons in the Sunset        Fire + Ice    folk   \n",
       "4  E2DC1FAE                  Soul People        Space Echo   dance   \n",
       "5  842029A1                    Преданная         IMPERVTOR  rusrap   \n",
       "6  4CB90AA5                         True      Roman Messer   dance   \n",
       "7  F03E1C1F             Feeling This Way   Polina Griffith   dance   \n",
       "8  8FA1D3BE     И вновь продолжается бой               NaN  ruspop   \n",
       "9  E772D5C0                    Pessimist               NaN   dance   \n",
       "\n",
       "             City        time        Day  \n",
       "0  Saint-Petersburg  20:28:33  Wednesday  \n",
       "1            Moscow  14:07:09     Friday  \n",
       "2  Saint-Petersburg  20:58:07  Wednesday  \n",
       "3  Saint-Petersburg  08:37:09     Monday  \n",
       "4            Moscow  08:34:34     Monday  \n",
       "5  Saint-Petersburg  13:09:41     Friday  \n",
       "6            Moscow  13:00:07  Wednesday  \n",
       "7            Moscow  20:47:49  Wednesday  \n",
       "8            Moscow  09:17:40     Friday  \n",
       "9  Saint-Petersburg  21:20:49  Wednesday  "
      ]
     },
     "execution_count": 3,
     "metadata": {},
     "output_type": "execute_result"
    }
   ],
   "source": [
    "# получение первых 10 строк таблицы df\n",
    "df.head(10)"
   ]
  },
  {
   "cell_type": "markdown",
   "metadata": {
    "deletable": false,
    "editable": false,
    "id": "EO73Kwic_Zct",
    "tags": [
     "start_task"
    ]
   },
   "source": [
    "**Задание 4**\n",
    "\n",
    "\n",
    "Одной командой получить общую информацию о таблице c помощью метода `info()`:"
   ]
  },
  {
   "cell_type": "code",
   "execution_count": 4,
   "metadata": {
    "deletable": false,
    "id": "DSf2kIb-_Zct"
   },
   "outputs": [
    {
     "ename": "FileNotFoundError",
     "evalue": "[Errno 2] No such file or directory: '/datasets/yandex_music_project.csv'",
     "output_type": "error",
     "traceback": [
      "\u001b[1;31m---------------------------------------------------------------------------\u001b[0m",
      "\u001b[1;31mFileNotFoundError\u001b[0m                         Traceback (most recent call last)",
      "\u001b[1;32m~\\AppData\\Local\\Temp\\ipykernel_21348\\197030559.py\u001b[0m in \u001b[0;36m<module>\u001b[1;34m\u001b[0m\n\u001b[0;32m      1\u001b[0m \u001b[1;31m# получение общей информации о данных в таблице df\u001b[0m\u001b[1;33m\u001b[0m\u001b[1;33m\u001b[0m\u001b[0m\n\u001b[1;32m----> 2\u001b[1;33m \u001b[0mdf\u001b[0m \u001b[1;33m=\u001b[0m \u001b[0mpd\u001b[0m\u001b[1;33m.\u001b[0m\u001b[0mread_csv\u001b[0m\u001b[1;33m(\u001b[0m\u001b[1;34m'/datasets/yandex_music_project.csv'\u001b[0m\u001b[1;33m)\u001b[0m\u001b[1;33m\u001b[0m\u001b[1;33m\u001b[0m\u001b[0m\n\u001b[0m\u001b[0;32m      3\u001b[0m \u001b[0mdf\u001b[0m\u001b[1;33m.\u001b[0m\u001b[0minfo\u001b[0m\u001b[1;33m(\u001b[0m\u001b[1;33m)\u001b[0m\u001b[1;33m\u001b[0m\u001b[1;33m\u001b[0m\u001b[0m\n",
      "\u001b[1;32mC:\\ProgramData\\Anaconda3\\lib\\site-packages\\pandas\\util\\_decorators.py\u001b[0m in \u001b[0;36mwrapper\u001b[1;34m(*args, **kwargs)\u001b[0m\n\u001b[0;32m    309\u001b[0m                     \u001b[0mstacklevel\u001b[0m\u001b[1;33m=\u001b[0m\u001b[0mstacklevel\u001b[0m\u001b[1;33m,\u001b[0m\u001b[1;33m\u001b[0m\u001b[1;33m\u001b[0m\u001b[0m\n\u001b[0;32m    310\u001b[0m                 )\n\u001b[1;32m--> 311\u001b[1;33m             \u001b[1;32mreturn\u001b[0m \u001b[0mfunc\u001b[0m\u001b[1;33m(\u001b[0m\u001b[1;33m*\u001b[0m\u001b[0margs\u001b[0m\u001b[1;33m,\u001b[0m \u001b[1;33m**\u001b[0m\u001b[0mkwargs\u001b[0m\u001b[1;33m)\u001b[0m\u001b[1;33m\u001b[0m\u001b[1;33m\u001b[0m\u001b[0m\n\u001b[0m\u001b[0;32m    312\u001b[0m \u001b[1;33m\u001b[0m\u001b[0m\n\u001b[0;32m    313\u001b[0m         \u001b[1;32mreturn\u001b[0m \u001b[0mwrapper\u001b[0m\u001b[1;33m\u001b[0m\u001b[1;33m\u001b[0m\u001b[0m\n",
      "\u001b[1;32mC:\\ProgramData\\Anaconda3\\lib\\site-packages\\pandas\\io\\parsers\\readers.py\u001b[0m in \u001b[0;36mread_csv\u001b[1;34m(filepath_or_buffer, sep, delimiter, header, names, index_col, usecols, squeeze, prefix, mangle_dupe_cols, dtype, engine, converters, true_values, false_values, skipinitialspace, skiprows, skipfooter, nrows, na_values, keep_default_na, na_filter, verbose, skip_blank_lines, parse_dates, infer_datetime_format, keep_date_col, date_parser, dayfirst, cache_dates, iterator, chunksize, compression, thousands, decimal, lineterminator, quotechar, quoting, doublequote, escapechar, comment, encoding, encoding_errors, dialect, error_bad_lines, warn_bad_lines, on_bad_lines, delim_whitespace, low_memory, memory_map, float_precision, storage_options)\u001b[0m\n\u001b[0;32m    676\u001b[0m     \u001b[0mkwds\u001b[0m\u001b[1;33m.\u001b[0m\u001b[0mupdate\u001b[0m\u001b[1;33m(\u001b[0m\u001b[0mkwds_defaults\u001b[0m\u001b[1;33m)\u001b[0m\u001b[1;33m\u001b[0m\u001b[1;33m\u001b[0m\u001b[0m\n\u001b[0;32m    677\u001b[0m \u001b[1;33m\u001b[0m\u001b[0m\n\u001b[1;32m--> 678\u001b[1;33m     \u001b[1;32mreturn\u001b[0m \u001b[0m_read\u001b[0m\u001b[1;33m(\u001b[0m\u001b[0mfilepath_or_buffer\u001b[0m\u001b[1;33m,\u001b[0m \u001b[0mkwds\u001b[0m\u001b[1;33m)\u001b[0m\u001b[1;33m\u001b[0m\u001b[1;33m\u001b[0m\u001b[0m\n\u001b[0m\u001b[0;32m    679\u001b[0m \u001b[1;33m\u001b[0m\u001b[0m\n\u001b[0;32m    680\u001b[0m \u001b[1;33m\u001b[0m\u001b[0m\n",
      "\u001b[1;32mC:\\ProgramData\\Anaconda3\\lib\\site-packages\\pandas\\io\\parsers\\readers.py\u001b[0m in \u001b[0;36m_read\u001b[1;34m(filepath_or_buffer, kwds)\u001b[0m\n\u001b[0;32m    573\u001b[0m \u001b[1;33m\u001b[0m\u001b[0m\n\u001b[0;32m    574\u001b[0m     \u001b[1;31m# Create the parser.\u001b[0m\u001b[1;33m\u001b[0m\u001b[1;33m\u001b[0m\u001b[0m\n\u001b[1;32m--> 575\u001b[1;33m     \u001b[0mparser\u001b[0m \u001b[1;33m=\u001b[0m \u001b[0mTextFileReader\u001b[0m\u001b[1;33m(\u001b[0m\u001b[0mfilepath_or_buffer\u001b[0m\u001b[1;33m,\u001b[0m \u001b[1;33m**\u001b[0m\u001b[0mkwds\u001b[0m\u001b[1;33m)\u001b[0m\u001b[1;33m\u001b[0m\u001b[1;33m\u001b[0m\u001b[0m\n\u001b[0m\u001b[0;32m    576\u001b[0m \u001b[1;33m\u001b[0m\u001b[0m\n\u001b[0;32m    577\u001b[0m     \u001b[1;32mif\u001b[0m \u001b[0mchunksize\u001b[0m \u001b[1;32mor\u001b[0m \u001b[0miterator\u001b[0m\u001b[1;33m:\u001b[0m\u001b[1;33m\u001b[0m\u001b[1;33m\u001b[0m\u001b[0m\n",
      "\u001b[1;32mC:\\ProgramData\\Anaconda3\\lib\\site-packages\\pandas\\io\\parsers\\readers.py\u001b[0m in \u001b[0;36m__init__\u001b[1;34m(self, f, engine, **kwds)\u001b[0m\n\u001b[0;32m    930\u001b[0m \u001b[1;33m\u001b[0m\u001b[0m\n\u001b[0;32m    931\u001b[0m         \u001b[0mself\u001b[0m\u001b[1;33m.\u001b[0m\u001b[0mhandles\u001b[0m\u001b[1;33m:\u001b[0m \u001b[0mIOHandles\u001b[0m \u001b[1;33m|\u001b[0m \u001b[1;32mNone\u001b[0m \u001b[1;33m=\u001b[0m \u001b[1;32mNone\u001b[0m\u001b[1;33m\u001b[0m\u001b[1;33m\u001b[0m\u001b[0m\n\u001b[1;32m--> 932\u001b[1;33m         \u001b[0mself\u001b[0m\u001b[1;33m.\u001b[0m\u001b[0m_engine\u001b[0m \u001b[1;33m=\u001b[0m \u001b[0mself\u001b[0m\u001b[1;33m.\u001b[0m\u001b[0m_make_engine\u001b[0m\u001b[1;33m(\u001b[0m\u001b[0mf\u001b[0m\u001b[1;33m,\u001b[0m \u001b[0mself\u001b[0m\u001b[1;33m.\u001b[0m\u001b[0mengine\u001b[0m\u001b[1;33m)\u001b[0m\u001b[1;33m\u001b[0m\u001b[1;33m\u001b[0m\u001b[0m\n\u001b[0m\u001b[0;32m    933\u001b[0m \u001b[1;33m\u001b[0m\u001b[0m\n\u001b[0;32m    934\u001b[0m     \u001b[1;32mdef\u001b[0m \u001b[0mclose\u001b[0m\u001b[1;33m(\u001b[0m\u001b[0mself\u001b[0m\u001b[1;33m)\u001b[0m\u001b[1;33m:\u001b[0m\u001b[1;33m\u001b[0m\u001b[1;33m\u001b[0m\u001b[0m\n",
      "\u001b[1;32mC:\\ProgramData\\Anaconda3\\lib\\site-packages\\pandas\\io\\parsers\\readers.py\u001b[0m in \u001b[0;36m_make_engine\u001b[1;34m(self, f, engine)\u001b[0m\n\u001b[0;32m   1214\u001b[0m             \u001b[1;31m# \"Union[str, PathLike[str], ReadCsvBuffer[bytes], ReadCsvBuffer[str]]\"\u001b[0m\u001b[1;33m\u001b[0m\u001b[1;33m\u001b[0m\u001b[0m\n\u001b[0;32m   1215\u001b[0m             \u001b[1;31m# , \"str\", \"bool\", \"Any\", \"Any\", \"Any\", \"Any\", \"Any\"\u001b[0m\u001b[1;33m\u001b[0m\u001b[1;33m\u001b[0m\u001b[0m\n\u001b[1;32m-> 1216\u001b[1;33m             self.handles = get_handle(  # type: ignore[call-overload]\n\u001b[0m\u001b[0;32m   1217\u001b[0m                 \u001b[0mf\u001b[0m\u001b[1;33m,\u001b[0m\u001b[1;33m\u001b[0m\u001b[1;33m\u001b[0m\u001b[0m\n\u001b[0;32m   1218\u001b[0m                 \u001b[0mmode\u001b[0m\u001b[1;33m,\u001b[0m\u001b[1;33m\u001b[0m\u001b[1;33m\u001b[0m\u001b[0m\n",
      "\u001b[1;32mC:\\ProgramData\\Anaconda3\\lib\\site-packages\\pandas\\io\\common.py\u001b[0m in \u001b[0;36mget_handle\u001b[1;34m(path_or_buf, mode, encoding, compression, memory_map, is_text, errors, storage_options)\u001b[0m\n\u001b[0;32m    784\u001b[0m         \u001b[1;32mif\u001b[0m \u001b[0mioargs\u001b[0m\u001b[1;33m.\u001b[0m\u001b[0mencoding\u001b[0m \u001b[1;32mand\u001b[0m \u001b[1;34m\"b\"\u001b[0m \u001b[1;32mnot\u001b[0m \u001b[1;32min\u001b[0m \u001b[0mioargs\u001b[0m\u001b[1;33m.\u001b[0m\u001b[0mmode\u001b[0m\u001b[1;33m:\u001b[0m\u001b[1;33m\u001b[0m\u001b[1;33m\u001b[0m\u001b[0m\n\u001b[0;32m    785\u001b[0m             \u001b[1;31m# Encoding\u001b[0m\u001b[1;33m\u001b[0m\u001b[1;33m\u001b[0m\u001b[0m\n\u001b[1;32m--> 786\u001b[1;33m             handle = open(\n\u001b[0m\u001b[0;32m    787\u001b[0m                 \u001b[0mhandle\u001b[0m\u001b[1;33m,\u001b[0m\u001b[1;33m\u001b[0m\u001b[1;33m\u001b[0m\u001b[0m\n\u001b[0;32m    788\u001b[0m                 \u001b[0mioargs\u001b[0m\u001b[1;33m.\u001b[0m\u001b[0mmode\u001b[0m\u001b[1;33m,\u001b[0m\u001b[1;33m\u001b[0m\u001b[1;33m\u001b[0m\u001b[0m\n",
      "\u001b[1;31mFileNotFoundError\u001b[0m: [Errno 2] No such file or directory: '/datasets/yandex_music_project.csv'"
     ]
    }
   ],
   "source": [
    "# получение общей информации о данных в таблице df\n",
    "df = pd.read_csv('/datasets/yandex_music_project.csv')\n",
    "df.info()"
   ]
  },
  {
   "cell_type": "markdown",
   "metadata": {
    "deletable": false,
    "editable": false,
    "id": "TaQ2Iwbr_Zct"
   },
   "source": [
    "Итак, в таблице семь столбцов. Тип данных во всех столбцах — `object`.\n",
    "\n",
    "Согласно документации к данным:\n",
    "* `userID` — идентификатор пользователя;\n",
    "* `Track` — название трека;  \n",
    "* `artist` — имя исполнителя;\n",
    "* `genre` — название жанра;\n",
    "* `City` — город пользователя;\n",
    "* `time` — время начала прослушивания;\n",
    "* `Day` — день недели.\n",
    "\n",
    "Количество значений в столбцах различается. Значит, в данных есть пропущенные значения."
   ]
  },
  {
   "cell_type": "markdown",
   "metadata": {
    "deletable": false,
    "editable": false,
    "id": "rAfziTBDmf2h",
    "tags": [
     "start_task"
    ]
   },
   "source": [
    "**Задание 5**\n",
    "\n",
    "**Вопрос со свободной формой ответа**\n",
    "\n",
    "В названиях колонок видны нарушения стиля:\n",
    "* Строчные буквы сочетаются с прописными.\n",
    "* Встречаются пробелы.\n",
    "\n",
    "Какое третье нарушение?"
   ]
  },
  {
   "cell_type": "code",
   "execution_count": null,
   "metadata": {
    "id": "jD8EXEIvmf2h"
   },
   "outputs": [],
   "source": [
    "# Напишите ваш ответ здесь комментарием. Не удаляйте символ #. Не меняйте тип этой ячейки на Markdown.\n",
    "# Не используется змеиный регистр"
   ]
  },
  {
   "cell_type": "markdown",
   "metadata": {
    "deletable": false,
    "editable": false,
    "id": "MCB6-dXG_Zct"
   },
   "source": [
    "**Выводы**\n",
    "\n",
    "В каждой строке таблицы — данные о прослушанном треке. Часть колонок описывает саму композицию: название, исполнителя и жанр. Остальные данные рассказывают о пользователе: из какого он города, когда он слушал музыку. \n",
    "\n",
    "Предварительно можно утверждать, что данных достаточно для проверки гипотез. Но встречаются пропуски в данных, а в названиях колонок — расхождения с хорошим стилем.\n",
    "\n",
    "Чтобы двигаться дальше, нужно устранить проблемы в данных."
   ]
  },
  {
   "cell_type": "markdown",
   "metadata": {
    "deletable": false,
    "editable": false,
    "id": "SjYF6Ub9_Zct"
   },
   "source": [
    "## Предобработка данных\n",
    "Исправьте стиль в заголовках столбцов, исключите пропуски. Затем проверьте данные на дубликаты."
   ]
  },
  {
   "cell_type": "markdown",
   "metadata": {
    "deletable": false,
    "editable": false,
    "id": "dIaKXr29_Zct",
    "tags": [
     "start_task"
    ]
   },
   "source": [
    "### Стиль заголовков\n",
    "\n",
    "**Задание 6**\n",
    "\n",
    "Выведите на экран названия столбцов:"
   ]
  },
  {
   "cell_type": "code",
   "execution_count": null,
   "metadata": {
    "deletable": false,
    "id": "oKOTdF_Q_Zct"
   },
   "outputs": [],
   "source": [
    "# перечень названий столбцов таблицы df\n",
    "df = pd.read_csv('/datasets/yandex_music_project.csv')\n",
    "\n",
    "df.columns"
   ]
  },
  {
   "cell_type": "markdown",
   "metadata": {
    "deletable": false,
    "editable": false,
    "id": "zj5534cv_Zct",
    "tags": [
     "start_task"
    ]
   },
   "source": [
    "**Задание 7**\n",
    "\n",
    "\n",
    "Приведите названия в соответствие с хорошим стилем:\n",
    "* несколько слов в названии запишите в «змеином_регистре»,\n",
    "* все символы сделайте строчными,\n",
    "* устраните пробелы.\n",
    "\n",
    "Для этого переименуйте колонки так:\n",
    "* `'  userID'` → `'user_id'`;\n",
    "* `'Track'` → `'track'`;\n",
    "* `'  City  '` → `'city'`;\n",
    "* `'Day'` → `'day'`."
   ]
  },
  {
   "cell_type": "code",
   "execution_count": null,
   "metadata": {
    "deletable": false,
    "id": "ISlFqs5y_Zct"
   },
   "outputs": [],
   "source": [
    "# переименование столбцов\n",
    "header = ['  userID', 'Track', '  City  ', 'Day']\n",
    "column_name = pd.DataFrame(columns=header)\n",
    "column_name = column_name.rename(columns={\n",
    "        '  userID': 'user_id',\n",
    "        'Track': 'track',\n",
    "        '  City  ': 'city',\n",
    "        'Day': 'day'})\n",
    "df = df.rename(\n",
    "    columns={\n",
    "        '  userID': 'user_id',\n",
    "        'Track': 'track',\n",
    "        '  City  ': 'city',\n",
    "        'Day': 'day'}\n",
    ")\n",
    "df.columns"
   ]
  },
  {
   "cell_type": "markdown",
   "metadata": {
    "deletable": false,
    "editable": false,
    "id": "1dqbh00J_Zct",
    "tags": [
     "start_task"
    ]
   },
   "source": [
    "**Задание 8**\n",
    "\n",
    "\n",
    "Проверьте результат. Для этого ещё раз выведите на экран названия столбцов:"
   ]
  },
  {
   "cell_type": "code",
   "execution_count": null,
   "metadata": {
    "deletable": false,
    "id": "d4NOAmTW_Zct"
   },
   "outputs": [],
   "source": [
    "# проверка результатов - перечень названий столбцов\n",
    "df.columns"
   ]
  },
  {
   "cell_type": "markdown",
   "metadata": {
    "deletable": false,
    "editable": false,
    "id": "5ISfbcfY_Zct",
    "tags": [
     "start_task"
    ]
   },
   "source": [
    "### Пропуски значений\n",
    "\n",
    "**Задание 9**\n",
    "\n",
    "Сначала посчитайте, сколько в таблице пропущенных значений. Для этого достаточно двух методов `pandas`:"
   ]
  },
  {
   "cell_type": "code",
   "execution_count": null,
   "metadata": {
    "deletable": false,
    "id": "RskX29qr_Zct"
   },
   "outputs": [],
   "source": [
    "# подсчёт пропусков\n",
    "df.isna().sum()"
   ]
  },
  {
   "cell_type": "markdown",
   "metadata": {
    "deletable": false,
    "editable": false,
    "id": "qubhgnlO_Zct"
   },
   "source": [
    "Не все пропущенные значения влияют на исследование. Так в `track` и `artist` пропуски не важны для вашей работы. Достаточно заменить их явными обозначениями.\n",
    "\n",
    "Но пропуски в `genre` могут помешать сравнению музыкальных вкусов в Москве и Санкт-Петербурге. На практике было бы правильно установить причину пропусков и восстановить данные. Такой возможности нет в учебном проекте. Придётся:\n",
    "* заполнить и эти пропуски явными обозначениями;\n",
    "* оценить, насколько они повредят расчётам. "
   ]
  },
  {
   "cell_type": "markdown",
   "metadata": {
    "deletable": false,
    "editable": false,
    "id": "fSv2laPA_Zct",
    "tags": [
     "start_task"
    ]
   },
   "source": [
    "**Задание 10**\n",
    "\n",
    "Замените пропущенные значения в столбцах `track`, `artist` и `genre` на строку `'unknown'`. Для этого создайте список `columns_to_replace`, переберите его элементы циклом `for` и для каждого столбца выполните замену пропущенных значений:"
   ]
  },
  {
   "cell_type": "code",
   "execution_count": null,
   "metadata": {
    "deletable": false,
    "id": "KplB5qWs_Zct"
   },
   "outputs": [],
   "source": [
    "# перебор названий столбцов в цикле и замена пропущенных значений на 'unknown'\n",
    "columns_to_replace = ['track', 'artist', 'genre']\n",
    "for column in columns_to_replace:\n",
    "    df[column] = df[column].fillna('unknown')\n",
    "        "
   ]
  },
  {
   "cell_type": "markdown",
   "metadata": {
    "deletable": false,
    "editable": false,
    "id": "Ilsm-MZo_Zct",
    "tags": [
     "start_task"
    ]
   },
   "source": [
    "**Задание 11**\n",
    "\n",
    "Убедитесь, что в таблице не осталось пропусков. Для этого ещё раз посчитайте пропущенные значения."
   ]
  },
  {
   "cell_type": "code",
   "execution_count": null,
   "metadata": {
    "deletable": false,
    "id": "Tq4nYRX4_Zct"
   },
   "outputs": [],
   "source": [
    "# подсчёт пропусков\n",
    "df.isna().sum()"
   ]
  },
  {
   "cell_type": "markdown",
   "metadata": {
    "deletable": false,
    "editable": false,
    "id": "BWKRtBJ3_Zct",
    "tags": [
     "start_task"
    ]
   },
   "source": [
    "### Дубликаты\n",
    "\n",
    "**Задание 12**\n",
    "\n",
    "Посчитайте явные дубликаты в таблице одной командой:"
   ]
  },
  {
   "cell_type": "code",
   "execution_count": null,
   "metadata": {
    "deletable": false,
    "id": "36eES_S0_Zct"
   },
   "outputs": [],
   "source": [
    "# подсчёт явных дубликатов\n",
    "df.duplicated().sum()"
   ]
  },
  {
   "cell_type": "markdown",
   "metadata": {
    "deletable": false,
    "editable": false,
    "id": "Ot25h6XR_Zct",
    "tags": [
     "start_task"
    ]
   },
   "source": [
    "**Задание 13**\n",
    "\n",
    "Вызовите специальный метод `pandas`, чтобы удалить явные дубликаты:"
   ]
  },
  {
   "cell_type": "code",
   "execution_count": null,
   "metadata": {
    "deletable": false,
    "id": "exFHq6tt_Zct"
   },
   "outputs": [],
   "source": [
    "# удаление явных дубликатов\n",
    "df = df.drop_duplicates()"
   ]
  },
  {
   "cell_type": "markdown",
   "metadata": {
    "deletable": false,
    "editable": false,
    "id": "Im2YwBEG_Zct",
    "tags": [
     "start_task"
    ]
   },
   "source": [
    "**Задание 14**\n",
    "\n",
    "Ещё раз посчитайте явные дубликаты в таблице — убедитесь, что полностью от них избавились:"
   ]
  },
  {
   "cell_type": "code",
   "execution_count": null,
   "metadata": {
    "deletable": false,
    "id": "-8PuNWQ0_Zct"
   },
   "outputs": [],
   "source": [
    "# проверка на отсутствие дубликатов\n",
    "df.duplicated().sum()"
   ]
  },
  {
   "cell_type": "markdown",
   "metadata": {
    "deletable": false,
    "editable": false,
    "id": "QlFBsxAr_Zct"
   },
   "source": [
    "Теперь избавьтесь от неявных дубликатов в колонке `genre`. Например, название одного и того же жанра может быть записано немного по-разному. Такие ошибки тоже повлияют на результат исследования."
   ]
  },
  {
   "cell_type": "markdown",
   "metadata": {
    "deletable": false,
    "editable": false,
    "id": "eSjWwsOh_Zct",
    "tags": [
     "start_task"
    ]
   },
   "source": [
    "**Задание 15**\n",
    "\n",
    "Выведите на экран список уникальных названий жанров, отсортированный в алфавитном порядке. Для этого:\n",
    "1. извлеките нужный столбец датафрейма; \n",
    "2. примените к нему метод сортировки;\n",
    "3. для отсортированного столбца вызовите метод, который вернёт уникальные значения из столбца."
   ]
  },
  {
   "cell_type": "code",
   "execution_count": null,
   "metadata": {
    "deletable": false,
    "id": "JIUcqzZN_Zct"
   },
   "outputs": [],
   "source": [
    "# Просмотр уникальных названий жанров\n",
    "df['genre'].sort_values().unique()\n"
   ]
  },
  {
   "cell_type": "markdown",
   "metadata": {
    "deletable": false,
    "editable": false,
    "id": "qej-Qmuo_Zct",
    "tags": [
     "start_task"
    ]
   },
   "source": [
    "**Задание 16**\n",
    "\n",
    "Просмотрите список и найдите неявные дубликаты названия `hiphop`. Это могут быть названия с ошибками или альтернативные названия того же жанра.\n",
    "\n",
    "Вы увидите следующие неявные дубликаты:\n",
    "* *hip*,\n",
    "* *hop*,\n",
    "* *hip-hop*.\n",
    "\n",
    "Чтобы очистить от них таблицу используйте метод `replace()` с двумя аргументами: списком строк-дубликатов (включащий *hip*, *hop* и *hip-hop*) и строкой с правильным значением. Вам нужно исправить колонку `genre` в таблице `df`: заменить каждое значение из списка дубликатов на верное. Вместо `hip`, `hop` и `hip-hop` в таблице должно быть значение `hiphop`:"
   ]
  },
  {
   "cell_type": "code",
   "execution_count": null,
   "metadata": {
    "deletable": false,
    "id": "ErNDkmns_Zct"
   },
   "outputs": [],
   "source": [
    "# Устранение неявных дубликатов\n",
    "df['genre'] = df['genre'].replace('hip', 'hiphop')\n",
    "df['genre'] = df['genre'].replace('hop', 'hiphop')\n",
    "df['genre'] = df['genre'].replace('hip-hop', 'hiphop')"
   ]
  },
  {
   "cell_type": "markdown",
   "metadata": {
    "deletable": false,
    "editable": false,
    "id": "zQKF16_RG15m",
    "tags": [
     "start_task"
    ]
   },
   "source": [
    "**Задание 17**\n",
    "\n",
    "Проверьте, что заменили неправильные названия:\n",
    "\n",
    "*   hip,\n",
    "*   hop,\n",
    "*   hip-hop.\n",
    "\n",
    "Выведите отсортированный список уникальных значений столбца `genre`:"
   ]
  },
  {
   "cell_type": "code",
   "execution_count": null,
   "metadata": {
    "deletable": false,
    "id": "wvixALnFG15m"
   },
   "outputs": [],
   "source": [
    "# Проверка на неявные дубликаты\n",
    "df['genre'].sort_values().unique()"
   ]
  },
  {
   "cell_type": "markdown",
   "metadata": {
    "deletable": false,
    "editable": false,
    "id": "jz6a9-7HQUDd"
   },
   "source": [
    "**Выводы**\n",
    "\n",
    "Предобработка обнаружила три проблемы в данных:\n",
    "\n",
    "- нарушения в стиле заголовков,\n",
    "- пропущенные значения,\n",
    "- дубликаты — явные и неявные.\n",
    "\n",
    "Вы исправили заголовки, чтобы упростить работу с таблицей. Без дубликатов исследование станет более точным.\n",
    "\n",
    "Пропущенные значения вы заменили на `'unknown'`. Ещё предстоит увидеть, не повредят ли исследованию пропуски в колонке `genre`.\n",
    "\n",
    "Теперь можно перейти к проверке гипотез. "
   ]
  },
  {
   "cell_type": "markdown",
   "metadata": {
    "deletable": false,
    "editable": false,
    "id": "WttZHXH0SqKk"
   },
   "source": [
    "## Проверка гипотез"
   ]
  },
  {
   "cell_type": "markdown",
   "metadata": {
    "deletable": false,
    "editable": false,
    "id": "Im936VVi_Zcu"
   },
   "source": [
    "### Сравнение поведения пользователей двух столиц"
   ]
  },
  {
   "cell_type": "markdown",
   "metadata": {
    "deletable": false,
    "editable": false,
    "id": "nwt_MuaL_Zcu"
   },
   "source": [
    "Первая гипотеза утверждает, что пользователи по-разному слушают музыку в Москве и Санкт-Петербурге. Проверьте это предположение по данным о трёх днях недели — понедельнике, среде и пятнице. Для этого:\n",
    "\n",
    "* Разделите пользователей Москвы и Санкт-Петербурга.\n",
    "* Сравните, сколько треков послушала каждая группа пользователей в понедельник, среду и пятницу.\n"
   ]
  },
  {
   "cell_type": "markdown",
   "metadata": {
    "deletable": false,
    "editable": false,
    "id": "8Dw_YMmT_Zcu",
    "tags": [
     "start_task"
    ]
   },
   "source": [
    "**Задание 18**\n",
    "\n",
    "Для тренировки сначала выполните каждый из расчётов по отдельности. \n",
    "\n",
    "Оцените активность пользователей в каждом городе. Сгруппируйте данные по городу и посчитайте прослушивания в каждой группе.\n",
    "\n"
   ]
  },
  {
   "cell_type": "code",
   "execution_count": null,
   "metadata": {
    "deletable": false,
    "id": "0_Qs96oh_Zcu"
   },
   "outputs": [],
   "source": [
    "# Подсчёт прослушиваний в каждом городе\n",
    "df.groupby('city')['genre'].count()"
   ]
  },
  {
   "cell_type": "markdown",
   "metadata": {
    "deletable": false,
    "editable": false,
    "id": "dzli3w8o_Zcu",
    "tags": [
     "start_task"
    ]
   },
   "source": [
    "В Москве прослушиваний больше, чем в Петербурге. Из этого не следует, что московские пользователи чаще слушают музыку. Просто самих пользователей в Москве больше.\n",
    "\n",
    "**Задание 19**\n",
    "\n",
    "Теперь сгруппируйте данные по дню недели и посчитайте прослушивания в понедельник, среду и пятницу. Учтите, что в данных есть информация о прослушиваниях только за эти дни.\n"
   ]
  },
  {
   "cell_type": "code",
   "execution_count": null,
   "metadata": {
    "deletable": false,
    "id": "uZMKjiJz_Zcu"
   },
   "outputs": [],
   "source": [
    "# Подсчёт прослушиваний в каждый из трёх дней\n",
    "df.groupby('day')['genre'].count()"
   ]
  },
  {
   "cell_type": "markdown",
   "metadata": {
    "deletable": false,
    "editable": false,
    "id": "cC2tNrlL_Zcu"
   },
   "source": [
    "В среднем пользователи из двух городов менее активны по средам. Но картина может измениться, если рассмотреть каждый город в отдельности."
   ]
  },
  {
   "cell_type": "markdown",
   "metadata": {
    "deletable": false,
    "editable": false,
    "id": "POzs8bGa_Zcu",
    "tags": [
     "start_task"
    ]
   },
   "source": [
    "**Задание 20**\n",
    "\n",
    "\n",
    "Вы видели, как работает группировка по городу и по дням недели. Теперь напишите функцию, которая объединит два эти расчёта.\n",
    "\n",
    "Создайте функцию `number_tracks()`, которая посчитает прослушивания для заданного дня и города. Ей понадобятся два параметра:\n",
    "* день недели,\n",
    "* название города.\n",
    "\n",
    "В функции сохраните в переменную строки исходной таблицы, у которых значение:\n",
    "  * в колонке `day` равно параметру `day`,\n",
    "  * в колонке `city` равно параметру `city`.\n",
    "\n",
    "Для этого примените последовательную фильтрацию с логической индексацией (или сложные логические выражения в одну строку, если вы уже знакомы с ними).\n",
    "\n",
    "Затем посчитайте значения в столбце `user_id` получившейся таблицы. Результат сохраните в новую переменную. Верните эту переменную из функции."
   ]
  },
  {
   "cell_type": "code",
   "execution_count": null,
   "metadata": {
    "deletable": false,
    "id": "Nz3GdQB1_Zcu"
   },
   "outputs": [],
   "source": [
    "# <создание функции number_tracks()>\n",
    "def number_tracks(day, city):\n",
    "    track_list = df[df['day'] == day] \n",
    "    track_list = track_list[track_list['city'] == city]\n",
    "    track_list_count = track_list['user_id'].count()\n",
    "    return track_list_count\n",
    "# Объявляется функция с двумя параметрами: day, city.\n",
    "# В переменной track_list сохраняются те строки таблицы df, для которых \n",
    "# значение в столбце 'day' равно параметру day и одновременно значение\n",
    "# в столбце 'city' равно параметру city (используйте последовательную фильтрацию\n",
    "# с помощью логической индексации или сложные логические выражения в одну строку, если вы уже знакомы с ними).\n",
    "# В переменной track_list_count сохраняется число значений столбца 'user_id',\n",
    "# рассчитанное методом count() для таблицы track_list.\n",
    "# Функция возвращает число - значение track_list_count.\n",
    "\n",
    "# Функция для подсчёта прослушиваний для конкретного города и дня.\n",
    "# С помощью последовательной фильтрации с логической индексацией она \n",
    "# сначала получит из исходной таблицы строки с нужным днём,\n",
    "# затем из результата отфильтрует строки с нужным городом,\n",
    "# методом count() посчитает количество значений в колонке user_id. \n",
    "# Это количество функция вернёт в качестве результата"
   ]
  },
  {
   "cell_type": "markdown",
   "metadata": {
    "deletable": false,
    "editable": false,
    "id": "ytf7xFrFJQ2r",
    "tags": [
     "start_task"
    ]
   },
   "source": [
    "**Задание 21**\n",
    "\n",
    "Вызовите `number_tracks()` шесть раз, меняя значение параметров — так, чтобы получить данные для каждого города в каждый из трёх дней."
   ]
  },
  {
   "cell_type": "code",
   "execution_count": null,
   "metadata": {
    "deletable": false,
    "id": "rJcRATNQ_Zcu"
   },
   "outputs": [],
   "source": [
    "# количество прослушиваний в Москве по понедельникам\n",
    "number_tracks('Monday', 'Moscow')"
   ]
  },
  {
   "cell_type": "code",
   "execution_count": null,
   "metadata": {
    "deletable": false,
    "id": "hq_ncZ5T_Zcu"
   },
   "outputs": [],
   "source": [
    "# количество прослушиваний в Санкт-Петербурге по понедельникам\n",
    "number_tracks('Monday', 'Saint-Petersburg')"
   ]
  },
  {
   "cell_type": "code",
   "execution_count": null,
   "metadata": {
    "deletable": false,
    "id": "_NTy2VPU_Zcu"
   },
   "outputs": [],
   "source": [
    "# количество прослушиваний в Москве по средам\n",
    "number_tracks('Wednesday', 'Moscow')"
   ]
  },
  {
   "cell_type": "code",
   "execution_count": null,
   "metadata": {
    "deletable": false,
    "id": "j2y3TAwo_Zcu"
   },
   "outputs": [],
   "source": [
    "# количество прослушиваний в Санкт-Петербурге по средам\n",
    "number_tracks('Wednesday', 'Saint-Petersburg')"
   ]
  },
  {
   "cell_type": "code",
   "execution_count": null,
   "metadata": {
    "deletable": false,
    "id": "vYDw5u_K_Zcu"
   },
   "outputs": [],
   "source": [
    "# количество прослушиваний в Москве по пятницам\n",
    "number_tracks('Friday', 'Moscow')"
   ]
  },
  {
   "cell_type": "code",
   "execution_count": null,
   "metadata": {
    "deletable": false,
    "id": "8_yzFtW3_Zcu"
   },
   "outputs": [],
   "source": [
    "# количество прослушиваний в Санкт-Петербурге по пятницам\n",
    "number_tracks('Friday', 'Saint-Petersburg')"
   ]
  },
  {
   "cell_type": "markdown",
   "metadata": {
    "deletable": false,
    "editable": false,
    "id": "7QXffbO-_Zcu",
    "tags": [
     "start_task"
    ]
   },
   "source": [
    "**Задание 22**\n",
    "\n",
    "Создайте c помощью конструктора `pd.DataFrame` таблицу, где\n",
    "* названия колонок — `['city', 'monday', 'wednesday', 'friday']`;\n",
    "* данные — результаты, которые вы получили с помощью `number_tracks`."
   ]
  },
  {
   "cell_type": "code",
   "execution_count": null,
   "metadata": {
    "deletable": false,
    "id": "APAcLpOr_Zcu"
   },
   "outputs": [],
   "source": [
    "# Таблица с результатами\n",
    "info = pd.DataFrame(data=[['Москва', 15740, 11056, 15945], ['Санкт-Петербург', 5614, 7003, 5895]], columns=['city', 'monday', 'wednesday', 'friday'])\n",
    "info"
   ]
  },
  {
   "cell_type": "markdown",
   "metadata": {
    "deletable": false,
    "editable": false,
    "id": "-EgPIHYu_Zcu"
   },
   "source": [
    "**Выводы**\n",
    "\n",
    "Данные показывают разницу поведения пользователей:\n",
    "\n",
    "- В Москве пик прослушиваний приходится на понедельник и пятницу, а в среду заметен спад.\n",
    "- В Петербурге, наоборот, больше слушают музыку по средам. Активность в понедельник и пятницу здесь почти в равной мере уступает среде.\n",
    "\n",
    "Значит, данные говорят в пользу первой гипотезы."
   ]
  },
  {
   "cell_type": "markdown",
   "metadata": {
    "deletable": false,
    "editable": false,
    "id": "atZAxtq4_Zcu"
   },
   "source": [
    "### Музыка в начале и в конце недели"
   ]
  },
  {
   "cell_type": "markdown",
   "metadata": {
    "deletable": false,
    "editable": false,
    "id": "eXrQqXFH_Zcu"
   },
   "source": [
    "Согласно второй гипотезе, утром в понедельник в Москве преобладают одни жанры, а в Петербурге — другие. Так же и вечером пятницы преобладают разные жанры — в зависимости от города."
   ]
  },
  {
   "cell_type": "markdown",
   "metadata": {
    "deletable": false,
    "editable": false,
    "id": "S8UcW6Hw_Zcu",
    "tags": [
     "start_task"
    ]
   },
   "source": [
    "**Задание 23**\n",
    "\n",
    "Сохраните таблицы с данными в две переменные:\n",
    "* по Москве — в `moscow_general`;\n",
    "* по Санкт-Петербургу — в `spb_general`."
   ]
  },
  {
   "cell_type": "code",
   "execution_count": null,
   "metadata": {
    "deletable": false,
    "id": "qeaFfM_P_Zcu"
   },
   "outputs": [],
   "source": [
    "# получение таблицы moscow_general из тех строк таблицы df, \n",
    "moscow_general = df[df['city'] == 'Moscow']\n",
    "\n",
    "# для которых значение в столбце 'city' равно 'Moscow'\n",
    "moscow_general"
   ]
  },
  {
   "cell_type": "code",
   "execution_count": null,
   "metadata": {
    "deletable": false,
    "id": "ORaVRKto_Zcu"
   },
   "outputs": [],
   "source": [
    "# получение таблицы spb_general из тех строк таблицы df,\n",
    "spb_general = df[df['city'] == 'Saint-Petersburg']\n",
    "\n",
    "# для которых значение в столбце 'city' равно 'Saint-Petersburg'\n",
    "spb_general"
   ]
  },
  {
   "cell_type": "markdown",
   "metadata": {
    "deletable": false,
    "editable": false,
    "id": "MEJV-CX2_Zcu",
    "tags": [
     "start_task"
    ]
   },
   "source": [
    "**Задание 24**\n",
    "\n",
    "Создайте функцию `genre_weekday()` с четырьмя параметрами:\n",
    "* таблица (датафрейм) с данными,\n",
    "* день недели,\n",
    "* начальная временная метка в формате 'hh:mm', \n",
    "* последняя временная метка в формате 'hh:mm'.\n",
    "\n",
    "Функция должна вернуть информацию о топ-10 жанров тех треков, которые прослушивали в указанный день, в промежутке между двумя отметками времени."
   ]
  },
  {
   "cell_type": "code",
   "execution_count": null,
   "metadata": {
    "deletable": false,
    "id": "laJT9BYl_Zcu"
   },
   "outputs": [],
   "source": [
    "# Объявление функции genre_weekday() с параметрами table, day, time1, time2,\n",
    "# которая возвращает информацию о самых популярных жанрах в указанный день в\n",
    "# заданное время:\n",
    "# 1) в переменную genre_df сохраняются те строки переданного датафрейма table, для\n",
    "#    которых одновременно:\n",
    "#    - значение в столбце day равно значению аргумента day\n",
    "#    - значение в столбце time больше значения аргумента time1\n",
    "#    - значение в столбце time меньше значения аргумента time2\n",
    "#    Используйте последовательную фильтрацию с помощью логической индексации.\n",
    "# 2) сгруппировать датафрейм genre_df по столбцу genre, взять один из его\n",
    "#    столбцов и посчитать методом count() количество записей для каждого из\n",
    "#    присутствующих жанров, получившийся Series записать в переменную\n",
    "#    genre_df_count\n",
    "# 3) отсортировать genre_df_count по убыванию встречаемости и сохранить\n",
    "#    в переменную genre_df_sorted\n",
    "# 4) вернуть Series из 10 первых значений genre_df_sorted, это будут топ-10\n",
    "#    популярных жанров (в указанный день, в заданное время)\n",
    "\n",
    "def genre_weekday(df, day, time1, time2):\n",
    "    # последовательная фильтрация\n",
    "    # оставляем в genre_df только те строки df, у которых день равен day\n",
    "    genre_df = df[df['day'] == day]\n",
    "    # оставляем в genre_df только те строки genre_df, у которых время меньше time2\n",
    "    genre_df = genre_df[genre_df['time'] < time2]\n",
    "    # оставляем в genre_df только те строки genre_df, у которых время больше time1\n",
    "    genre_df = genre_df[genre_df['time'] > time1]\n",
    "    # сгруппируем отфильтрованный датафрейм по столбцу с названиями жанров, возьмём столбец genre и посчитаем кол-во строк для каждого жанра методом count()\n",
    "    genre_df_grouped = genre_df.groupby('genre')['genre'].count()\n",
    "    # отсортируем результат по убыванию (чтобы в начале Series оказались самые популярные жанры)\n",
    "    genre_df_sorted = genre_df_grouped.sort_values(ascending=False)\n",
    "    # вернём Series с 10 самыми популярными жанрами в указанный отрезок времени заданного дня\n",
    "    return genre_df_sorted[:10] "
   ]
  },
  {
   "cell_type": "markdown",
   "metadata": {
    "deletable": false,
    "editable": false,
    "id": "la2s2_PF_Zcu",
    "tags": [
     "start_task"
    ]
   },
   "source": [
    "**Задание 25**\n",
    "\n",
    "\n",
    "Cравните результаты функции `genre_weekday()` для Москвы и Санкт-Петербурга в понедельник утром (с 7:00 до 11:00) и в пятницу вечером (с 17:00 до 23:00):"
   ]
  },
  {
   "cell_type": "code",
   "execution_count": null,
   "metadata": {
    "deletable": false,
    "id": "yz7itPUQ_Zcu"
   },
   "outputs": [],
   "source": [
    "# вызов функции для утра понедельника в Москве (вместо df — таблица moscow_general)\n",
    "# объекты, хранящие время, являются строками и сравниваются как строки\n",
    "genre_weekday(moscow_general, 'Monday', '07:00', '11:00')"
   ]
  },
  {
   "cell_type": "code",
   "execution_count": null,
   "metadata": {
    "deletable": false,
    "id": "kwUcHPdy_Zcu"
   },
   "outputs": [],
   "source": [
    "# вызов функции для утра понедельника в Петербурге (вместо df — таблица spb_general)\n",
    "genre_weekday(spb_general, 'Monday', '07:00', '11:00')"
   ]
  },
  {
   "cell_type": "code",
   "execution_count": null,
   "metadata": {
    "deletable": false,
    "id": "EzXVRE1o_Zcu"
   },
   "outputs": [],
   "source": [
    "# вызов функции для вечера пятницы в Москве\n",
    "genre_weekday(moscow_general, 'Friday', '17:00', '23:00')"
   ]
  },
  {
   "cell_type": "code",
   "execution_count": null,
   "metadata": {
    "deletable": false,
    "id": "JZaEKu5v_Zcu"
   },
   "outputs": [],
   "source": [
    "# вызов функции для вечера пятницы в Петербурге\n",
    "genre_weekday(spb_general, 'Friday', '17:00', '23:00')"
   ]
  },
  {
   "cell_type": "markdown",
   "metadata": {
    "deletable": false,
    "editable": false,
    "id": "wrCe4MNX_Zcu"
   },
   "source": [
    "**Выводы**\n",
    "\n",
    "Если сравнить топ-10 жанров в понедельник утром, можно сделать такие выводы:\n",
    "\n",
    "1. В Москве и Петербурге слушают похожую музыку. Единственное отличие — в московский рейтинг вошёл жанр “world”, а в петербургский — джаз и классика.\n",
    "\n",
    "2. В Москве пропущенных значений оказалось так много, что значение `'unknown'` заняло десятое место среди самых популярных жанров. Значит, пропущенные значения занимают существенную долю в данных и угрожают достоверности исследования.\n",
    "\n",
    "Вечер пятницы не меняет эту картину. Некоторые жанры поднимаются немного выше, другие спускаются, но в целом топ-10 остаётся тем же самым.\n",
    "\n",
    "Таким образом, вторая гипотеза подтвердилась лишь частично:\n",
    "* Пользователи слушают похожую музыку в начале недели и в конце.\n",
    "* Разница между Москвой и Петербургом не слишком выражена. В Москве чаще слушают русскую популярную музыку, в Петербурге — джаз.\n",
    "\n",
    "Однако пропуски в данных ставят под сомнение этот результат. В Москве их так много, что рейтинг топ-10 мог бы выглядеть иначе, если бы не утерянные  данные о жанрах."
   ]
  },
  {
   "cell_type": "markdown",
   "metadata": {
    "deletable": false,
    "editable": false,
    "id": "JolODAqr_Zcu"
   },
   "source": [
    "### Жанровые предпочтения в Москве и Петербурге\n",
    "\n",
    "Гипотеза: Петербург — столица рэпа, музыку этого жанра там слушают чаще, чем в Москве.  А Москва — город контрастов, в котором, тем не менее, преобладает поп-музыка."
   ]
  },
  {
   "cell_type": "markdown",
   "metadata": {
    "deletable": false,
    "editable": false,
    "id": "DlegSvaT_Zcu",
    "tags": [
     "start_task"
    ]
   },
   "source": [
    "**Задание 26**\n",
    "\n",
    "Сгруппируйте таблицу `moscow_general` по жанру и посчитайте прослушивания треков каждого жанра методом `count()`. Затем отсортируйте результат в порядке убывания и сохраните его в таблице `moscow_genres`."
   ]
  },
  {
   "cell_type": "code",
   "execution_count": null,
   "metadata": {
    "deletable": false,
    "id": "r19lIPke_Zcu"
   },
   "outputs": [],
   "source": [
    "# одной строкой: группировка таблицы moscow_general по столбцу 'genre', \n",
    "moscow_genres = moscow_general.groupby('genre')['genre'].count()\n",
    "# подсчёт числа значений 'genre' в этой группировке методом count(), \n",
    "# сортировка получившегося Series в порядке убывания и сохранение в moscow_genres\n",
    "moscow_genres = moscow_genres.sort_values(ascending=False)"
   ]
  },
  {
   "cell_type": "markdown",
   "metadata": {
    "deletable": false,
    "editable": false,
    "id": "6kMuomxTiIr8",
    "tags": [
     "start_task"
    ]
   },
   "source": [
    "**Задание 27**\n",
    "\n",
    "Выведите на экран первые десять строк `moscow_genres`:"
   ]
  },
  {
   "cell_type": "code",
   "execution_count": null,
   "metadata": {
    "deletable": false,
    "id": "WhCSooF8_Zcv"
   },
   "outputs": [],
   "source": [
    "# просмотр первых 10 строк moscow_genres\n",
    "moscow_genres.head(10)"
   ]
  },
  {
   "cell_type": "markdown",
   "metadata": {
    "deletable": false,
    "editable": false,
    "id": "cnPG2vnN_Zcv",
    "tags": [
     "start_task"
    ]
   },
   "source": [
    "**Задание 28**\n",
    "\n",
    "\n",
    "Теперь повторите то же и для Петербурга.\n",
    "\n",
    "Сгруппируйте таблицу `spb_general` по жанру. Посчитайте прослушивания треков каждого жанра. Результат отсортируйте в порядке убывания и сохраните в таблице `spb_genres`:\n"
   ]
  },
  {
   "cell_type": "code",
   "execution_count": null,
   "metadata": {
    "deletable": false,
    "id": "gluLIpE7_Zcv"
   },
   "outputs": [],
   "source": [
    "# одной строкой: группировка таблицы spb_general по столбцу 'genre', \n",
    "# подсчёт числа значений 'genre' в этой группировке методом count(), \n",
    "# сортировка получившегося Series в порядке убывания и сохранение в spb_genres\n",
    "\n",
    "spb_genres = spb_general.groupby('genre')['genre'].count().sort_values(ascending = False)"
   ]
  },
  {
   "cell_type": "markdown",
   "metadata": {
    "deletable": false,
    "editable": false,
    "id": "5Doha_ODgyQ8",
    "tags": [
     "start_task"
    ]
   },
   "source": [
    "**Задание 29**\n",
    "\n",
    "Выведите на экран первые десять строк `spb_genres`:"
   ]
  },
  {
   "cell_type": "code",
   "execution_count": null,
   "metadata": {
    "deletable": false,
    "id": "uaGJHjVU_Zcv"
   },
   "outputs": [],
   "source": [
    "# просмотр первых 10 строк spb_genres\n",
    "spb_genres.head(10)"
   ]
  },
  {
   "cell_type": "markdown",
   "metadata": {
    "deletable": false,
    "editable": false,
    "id": "RY51YJYu_Zcv"
   },
   "source": [
    "**Выводы**"
   ]
  },
  {
   "cell_type": "markdown",
   "metadata": {
    "deletable": false,
    "editable": false,
    "id": "nVhnJEm__Zcv"
   },
   "source": [
    "Гипотеза частично подтвердилась:\n",
    "* Поп-музыка — самый популярный жанр в Москве, как и предполагала гипотеза. Более того, в топ-10 жанров встречается близкий жанр — русская популярная музыка.\n",
    "* Вопреки ожиданиям, рэп одинаково популярен в Москве и Петербурге. \n"
   ]
  },
  {
   "cell_type": "markdown",
   "metadata": {
    "deletable": false,
    "editable": false,
    "id": "ykKQ0N65_Zcv"
   },
   "source": [
    "## Итоги исследования"
   ]
  },
  {
   "cell_type": "markdown",
   "metadata": {
    "deletable": false,
    "editable": false,
    "id": "tjUwbHb3_Zcv"
   },
   "source": [
    "Вы проверили три гипотезы и установили:\n",
    "\n",
    "1. День недели по-разному влияет на активность пользователей в Москве и Петербурге. \n",
    "\n",
    "Первая гипотеза полностью подтвердилась.\n",
    "\n",
    "2. Музыкальные предпочтения не сильно меняются в течение недели — будь то Москва или Петербург. Небольшие различия заметны в начале недели, по понедельникам:\n",
    "* в Москве слушают музыку жанра “world”,\n",
    "* в Петербурге — джаз и классику.\n",
    "\n",
    "Таким образом, вторая гипотеза подтвердилась лишь отчасти. Этот результат мог оказаться иным, если бы не пропуски в данных.\n",
    "\n",
    "3. Во вкусах пользователей Москвы и Петербурга больше общего чем различий. Вопреки ожиданиям, предпочтения жанров в Петербурге напоминают московские.\n",
    "\n",
    "Третья гипотеза не подтвердилась. Если различия в предпочтениях и существуют, на основной массе пользователей они незаметны.\n",
    "\n",
    "**На практике исследования содержат проверки статистических гипотез.**\n",
    "Из данных одного сервиса не всегда можно сделать вывод о всех жителях города.\n",
    "Проверки статистических гипотез покажут, насколько они достоверны, исходя из имеющихся данных. \n",
    "С методами проверок гипотез вы ещё познакомитесь в следующих темах."
   ]
  }
 ],
 "metadata": {
  "ExecuteTimeLog": [
   {
    "duration": 392,
    "start_time": "2022-12-14T17:45:43.331Z"
   },
   {
    "duration": 59,
    "start_time": "2022-12-14T17:48:29.549Z"
   },
   {
    "duration": 7,
    "start_time": "2022-12-14T17:48:38.570Z"
   },
   {
    "duration": 7,
    "start_time": "2022-12-14T17:48:45.321Z"
   },
   {
    "duration": 7,
    "start_time": "2022-12-14T17:48:49.865Z"
   },
   {
    "duration": 174,
    "start_time": "2022-12-14T17:49:18.093Z"
   },
   {
    "duration": 169,
    "start_time": "2022-12-14T17:49:56.585Z"
   },
   {
    "duration": 3,
    "start_time": "2022-12-14T17:50:07.749Z"
   },
   {
    "duration": 159,
    "start_time": "2022-12-14T17:50:12.749Z"
   },
   {
    "duration": 185,
    "start_time": "2022-12-14T17:50:25.437Z"
   },
   {
    "duration": 2,
    "start_time": "2022-12-14T17:50:53.693Z"
   },
   {
    "duration": 186,
    "start_time": "2022-12-14T18:00:16.532Z"
   },
   {
    "duration": 11,
    "start_time": "2022-12-14T18:09:35.520Z"
   },
   {
    "duration": 6,
    "start_time": "2022-12-14T18:10:49.029Z"
   },
   {
    "duration": 13,
    "start_time": "2022-12-14T18:10:52.205Z"
   },
   {
    "duration": 9,
    "start_time": "2022-12-14T18:12:16.948Z"
   },
   {
    "duration": 12,
    "start_time": "2022-12-14T18:12:19.270Z"
   },
   {
    "duration": 174,
    "start_time": "2022-12-14T18:13:01.041Z"
   },
   {
    "duration": 169,
    "start_time": "2022-12-14T18:14:12.077Z"
   },
   {
    "duration": 203,
    "start_time": "2022-12-14T18:18:16.534Z"
   },
   {
    "duration": 178,
    "start_time": "2022-12-14T18:18:35.017Z"
   },
   {
    "duration": 186,
    "start_time": "2022-12-14T18:18:58.290Z"
   },
   {
    "duration": 179,
    "start_time": "2022-12-14T18:19:13.394Z"
   },
   {
    "duration": 183,
    "start_time": "2022-12-14T18:19:18.529Z"
   },
   {
    "duration": 188,
    "start_time": "2022-12-14T18:19:40.358Z"
   },
   {
    "duration": 15,
    "start_time": "2022-12-14T18:20:15.303Z"
   },
   {
    "duration": 13,
    "start_time": "2022-12-14T18:20:18.399Z"
   },
   {
    "duration": 3,
    "start_time": "2022-12-14T18:20:39.273Z"
   },
   {
    "duration": 6,
    "start_time": "2022-12-14T18:20:42.482Z"
   },
   {
    "duration": 25,
    "start_time": "2022-12-14T18:22:56.497Z"
   },
   {
    "duration": 3,
    "start_time": "2022-12-14T18:29:39.239Z"
   },
   {
    "duration": 2,
    "start_time": "2022-12-14T18:30:55.843Z"
   },
   {
    "duration": 26,
    "start_time": "2022-12-14T18:31:02.911Z"
   },
   {
    "duration": 70,
    "start_time": "2022-12-14T18:32:05.691Z"
   },
   {
    "duration": 64,
    "start_time": "2022-12-14T18:32:33.715Z"
   },
   {
    "duration": 73,
    "start_time": "2022-12-14T18:33:07.247Z"
   },
   {
    "duration": 69,
    "start_time": "2022-12-14T18:33:52.639Z"
   },
   {
    "duration": 60,
    "start_time": "2022-12-14T18:34:12.519Z"
   },
   {
    "duration": 8,
    "start_time": "2022-12-14T18:35:24.847Z"
   },
   {
    "duration": 35,
    "start_time": "2022-12-14T18:35:59.395Z"
   },
   {
    "duration": 33,
    "start_time": "2022-12-14T18:38:29.052Z"
   },
   {
    "duration": 5,
    "start_time": "2022-12-14T18:41:52.604Z"
   },
   {
    "duration": 9,
    "start_time": "2022-12-14T18:42:13.612Z"
   },
   {
    "duration": 35,
    "start_time": "2022-12-14T18:42:49.180Z"
   },
   {
    "duration": 65,
    "start_time": "2022-12-14T18:46:37.692Z"
   },
   {
    "duration": 12,
    "start_time": "2022-12-14T18:46:42.420Z"
   },
   {
    "duration": 69,
    "start_time": "2022-12-14T18:47:23.108Z"
   },
   {
    "duration": 12,
    "start_time": "2022-12-14T18:47:27.835Z"
   },
   {
    "duration": 11,
    "start_time": "2022-12-14T18:47:52.248Z"
   },
   {
    "duration": 8,
    "start_time": "2022-12-14T18:56:01.181Z"
   },
   {
    "duration": 78,
    "start_time": "2022-12-14T18:56:26.365Z"
   },
   {
    "duration": 93,
    "start_time": "2022-12-14T18:56:38.824Z"
   },
   {
    "duration": 3,
    "start_time": "2022-12-14T18:59:49.277Z"
   },
   {
    "duration": 9,
    "start_time": "2022-12-14T19:01:05.737Z"
   },
   {
    "duration": 8,
    "start_time": "2022-12-14T19:01:08.117Z"
   },
   {
    "duration": 7,
    "start_time": "2022-12-14T19:01:16.465Z"
   },
   {
    "duration": 10,
    "start_time": "2022-12-14T19:01:24.416Z"
   },
   {
    "duration": 9,
    "start_time": "2022-12-14T19:01:29.881Z"
   },
   {
    "duration": 10,
    "start_time": "2022-12-14T19:01:35.368Z"
   },
   {
    "duration": 6,
    "start_time": "2022-12-14T19:02:03.998Z"
   },
   {
    "duration": 7,
    "start_time": "2022-12-14T19:03:40.677Z"
   },
   {
    "duration": 9,
    "start_time": "2022-12-14T19:03:58.804Z"
   },
   {
    "duration": 9,
    "start_time": "2022-12-14T19:05:26.120Z"
   },
   {
    "duration": 8,
    "start_time": "2022-12-14T19:05:28.585Z"
   },
   {
    "duration": 8,
    "start_time": "2022-12-14T19:05:28.985Z"
   },
   {
    "duration": 8,
    "start_time": "2022-12-14T19:05:30.057Z"
   },
   {
    "duration": 8,
    "start_time": "2022-12-14T19:07:49.309Z"
   },
   {
    "duration": 8,
    "start_time": "2022-12-14T19:07:50.285Z"
   },
   {
    "duration": 7,
    "start_time": "2022-12-14T19:11:12.849Z"
   },
   {
    "duration": 8,
    "start_time": "2022-12-14T19:11:27.137Z"
   },
   {
    "duration": 3,
    "start_time": "2022-12-14T19:11:49.565Z"
   },
   {
    "duration": 17,
    "start_time": "2022-12-14T19:11:53.489Z"
   },
   {
    "duration": 14,
    "start_time": "2022-12-14T19:11:54.401Z"
   },
   {
    "duration": 14,
    "start_time": "2022-12-14T19:11:54.866Z"
   },
   {
    "duration": 14,
    "start_time": "2022-12-14T19:11:58.437Z"
   },
   {
    "duration": 16,
    "start_time": "2022-12-14T19:11:58.453Z"
   },
   {
    "duration": 13,
    "start_time": "2022-12-14T19:11:58.471Z"
   },
   {
    "duration": 5,
    "start_time": "2022-12-14T19:15:56.580Z"
   },
   {
    "duration": 8,
    "start_time": "2022-12-14T19:20:58.374Z"
   },
   {
    "duration": 11,
    "start_time": "2022-12-14T19:22:53.834Z"
   },
   {
    "duration": 4,
    "start_time": "2022-12-14T19:27:40.116Z"
   },
   {
    "duration": 4,
    "start_time": "2022-12-14T19:30:29.940Z"
   },
   {
    "duration": 5,
    "start_time": "2022-12-14T19:33:54.107Z"
   },
   {
    "duration": 6,
    "start_time": "2022-12-14T19:35:51.079Z"
   },
   {
    "duration": 9,
    "start_time": "2022-12-14T19:36:14.550Z"
   },
   {
    "duration": 8,
    "start_time": "2022-12-14T19:36:23.023Z"
   },
   {
    "duration": 7,
    "start_time": "2022-12-14T19:36:38.702Z"
   },
   {
    "duration": 94,
    "start_time": "2022-12-14T19:37:48.635Z"
   },
   {
    "duration": 74,
    "start_time": "2022-12-14T19:38:47.679Z"
   },
   {
    "duration": 74,
    "start_time": "2022-12-14T19:38:50.374Z"
   },
   {
    "duration": 70,
    "start_time": "2022-12-14T19:38:51.495Z"
   },
   {
    "duration": 70,
    "start_time": "2022-12-14T19:38:54.643Z"
   },
   {
    "duration": 71,
    "start_time": "2022-12-14T19:39:35.451Z"
   },
   {
    "duration": 110,
    "start_time": "2022-12-14T19:40:28.537Z"
   },
   {
    "duration": 70,
    "start_time": "2022-12-14T19:40:35.367Z"
   },
   {
    "duration": 7,
    "start_time": "2022-12-14T19:40:47.006Z"
   },
   {
    "duration": 3,
    "start_time": "2022-12-14T19:41:32.616Z"
   },
   {
    "duration": 3,
    "start_time": "2022-12-14T19:41:33.772Z"
   },
   {
    "duration": 2,
    "start_time": "2022-12-14T19:41:35.188Z"
   },
   {
    "duration": 2,
    "start_time": "2022-12-14T19:41:38.221Z"
   },
   {
    "duration": 7,
    "start_time": "2022-12-14T19:41:42.220Z"
   },
   {
    "duration": 7,
    "start_time": "2022-12-14T19:44:06.026Z"
   },
   {
    "duration": 10,
    "start_time": "2022-12-14T19:45:00.608Z"
   },
   {
    "duration": 12,
    "start_time": "2022-12-14T19:45:02.200Z"
   },
   {
    "duration": 23,
    "start_time": "2022-12-14T19:45:07.433Z"
   },
   {
    "duration": 19,
    "start_time": "2022-12-14T19:45:13.040Z"
   },
   {
    "duration": 27,
    "start_time": "2022-12-14T19:45:23.916Z"
   },
   {
    "duration": 21,
    "start_time": "2022-12-14T19:46:38.348Z"
   },
   {
    "duration": 21,
    "start_time": "2022-12-14T19:46:59.924Z"
   },
   {
    "duration": 2,
    "start_time": "2022-12-14T19:47:51.247Z"
   },
   {
    "duration": 8,
    "start_time": "2022-12-14T19:48:22.104Z"
   },
   {
    "duration": 21,
    "start_time": "2022-12-14T19:48:29.903Z"
   },
   {
    "duration": 20,
    "start_time": "2022-12-14T19:48:45.223Z"
   },
   {
    "duration": 68,
    "start_time": "2022-12-14T19:51:49.803Z"
   },
   {
    "duration": 20,
    "start_time": "2022-12-14T19:55:07.543Z"
   },
   {
    "duration": 21,
    "start_time": "2022-12-14T19:55:28.827Z"
   },
   {
    "duration": 21,
    "start_time": "2022-12-14T19:58:20.520Z"
   },
   {
    "duration": 20,
    "start_time": "2022-12-14T20:01:06.836Z"
   },
   {
    "duration": 18,
    "start_time": "2022-12-14T20:01:16.252Z"
   },
   {
    "duration": 6,
    "start_time": "2022-12-14T20:20:09.152Z"
   },
   {
    "duration": 2,
    "start_time": "2022-12-14T20:20:40.520Z"
   },
   {
    "duration": 3,
    "start_time": "2022-12-14T20:20:41.763Z"
   },
   {
    "duration": 76,
    "start_time": "2022-12-14T20:21:43.652Z"
   },
   {
    "duration": 68,
    "start_time": "2022-12-14T20:27:11.840Z"
   },
   {
    "duration": 74,
    "start_time": "2022-12-14T20:27:13.500Z"
   },
   {
    "duration": 69,
    "start_time": "2022-12-14T20:27:14.405Z"
   },
   {
    "duration": 17,
    "start_time": "2022-12-14T20:31:05.512Z"
   },
   {
    "duration": 20,
    "start_time": "2022-12-14T20:31:11.016Z"
   },
   {
    "duration": 22,
    "start_time": "2022-12-14T20:33:43.077Z"
   },
   {
    "duration": 16,
    "start_time": "2022-12-14T20:33:44.693Z"
   },
   {
    "duration": 20,
    "start_time": "2022-12-14T20:33:46.316Z"
   },
   {
    "duration": 16,
    "start_time": "2022-12-14T20:33:49.476Z"
   },
   {
    "duration": 2,
    "start_time": "2022-12-14T20:36:53.401Z"
   },
   {
    "duration": 26,
    "start_time": "2022-12-14T20:38:53.617Z"
   },
   {
    "duration": 22,
    "start_time": "2022-12-14T20:39:41.916Z"
   },
   {
    "duration": 22,
    "start_time": "2022-12-14T20:39:45.512Z"
   },
   {
    "duration": 25,
    "start_time": "2022-12-14T20:41:03.661Z"
   },
   {
    "duration": 22,
    "start_time": "2022-12-14T20:41:23.182Z"
   },
   {
    "duration": 7,
    "start_time": "2022-12-14T20:41:39.513Z"
   },
   {
    "duration": 9,
    "start_time": "2022-12-14T20:42:05.058Z"
   },
   {
    "duration": 1129,
    "start_time": "2022-12-14T20:42:49.508Z"
   },
   {
    "duration": 8,
    "start_time": "2022-12-14T20:43:18.129Z"
   },
   {
    "duration": 7,
    "start_time": "2022-12-14T20:43:19.857Z"
   },
   {
    "duration": 5,
    "start_time": "2022-12-14T20:43:21.078Z"
   },
   {
    "duration": 6,
    "start_time": "2022-12-14T20:44:20.289Z"
   },
   {
    "duration": 9,
    "start_time": "2022-12-14T20:45:02.101Z"
   },
   {
    "duration": 7,
    "start_time": "2022-12-14T20:45:04.649Z"
   },
   {
    "duration": 8,
    "start_time": "2022-12-14T20:46:08.885Z"
   },
   {
    "duration": 8,
    "start_time": "2022-12-14T20:46:29.061Z"
   },
   {
    "duration": 395,
    "start_time": "2022-12-14T20:47:02.774Z"
   },
   {
    "duration": 164,
    "start_time": "2022-12-14T20:47:03.171Z"
   },
   {
    "duration": 173,
    "start_time": "2022-12-14T20:47:03.336Z"
   },
   {
    "duration": 167,
    "start_time": "2022-12-14T20:47:03.511Z"
   },
   {
    "duration": 2,
    "start_time": "2022-12-14T20:47:03.680Z"
   },
   {
    "duration": 160,
    "start_time": "2022-12-14T20:47:03.684Z"
   },
   {
    "duration": 24,
    "start_time": "2022-12-14T20:47:03.845Z"
   },
   {
    "duration": 8,
    "start_time": "2022-12-14T20:47:03.871Z"
   },
   {
    "duration": 25,
    "start_time": "2022-12-14T20:47:03.881Z"
   },
   {
    "duration": 18,
    "start_time": "2022-12-14T20:47:03.922Z"
   },
   {
    "duration": 20,
    "start_time": "2022-12-14T20:47:03.942Z"
   },
   {
    "duration": 77,
    "start_time": "2022-12-14T20:47:03.964Z"
   },
   {
    "duration": 96,
    "start_time": "2022-12-14T20:47:04.043Z"
   },
   {
    "duration": 88,
    "start_time": "2022-12-14T20:47:04.142Z"
   },
   {
    "duration": 47,
    "start_time": "2022-12-14T20:47:04.233Z"
   },
   {
    "duration": 13,
    "start_time": "2022-12-14T20:47:04.282Z"
   },
   {
    "duration": 59,
    "start_time": "2022-12-14T20:47:04.297Z"
   },
   {
    "duration": 9,
    "start_time": "2022-12-14T20:47:04.357Z"
   },
   {
    "duration": 11,
    "start_time": "2022-12-14T20:47:04.368Z"
   },
   {
    "duration": 6,
    "start_time": "2022-12-14T20:47:04.380Z"
   },
   {
    "duration": 38,
    "start_time": "2022-12-14T20:47:04.387Z"
   },
   {
    "duration": 14,
    "start_time": "2022-12-14T20:47:04.427Z"
   },
   {
    "duration": 14,
    "start_time": "2022-12-14T20:47:04.443Z"
   },
   {
    "duration": 13,
    "start_time": "2022-12-14T20:47:04.459Z"
   },
   {
    "duration": 15,
    "start_time": "2022-12-14T20:47:04.473Z"
   },
   {
    "duration": 42,
    "start_time": "2022-12-14T20:47:04.490Z"
   },
   {
    "duration": 8,
    "start_time": "2022-12-14T20:47:04.533Z"
   },
   {
    "duration": 19,
    "start_time": "2022-12-14T20:47:04.544Z"
   },
   {
    "duration": 16,
    "start_time": "2022-12-14T20:47:04.565Z"
   },
   {
    "duration": 4,
    "start_time": "2022-12-14T20:47:04.582Z"
   },
   {
    "duration": 48,
    "start_time": "2022-12-14T20:47:04.587Z"
   },
   {
    "duration": 12,
    "start_time": "2022-12-14T20:47:04.636Z"
   },
   {
    "duration": 16,
    "start_time": "2022-12-14T20:47:04.649Z"
   },
   {
    "duration": 14,
    "start_time": "2022-12-14T20:47:04.666Z"
   },
   {
    "duration": 9,
    "start_time": "2022-12-14T20:47:04.682Z"
   },
   {
    "duration": 5,
    "start_time": "2022-12-14T20:47:04.723Z"
   },
   {
    "duration": 10,
    "start_time": "2022-12-14T20:47:04.730Z"
   },
   {
    "duration": 3,
    "start_time": "2022-12-14T20:47:04.742Z"
   },
   {
    "duration": 61,
    "start_time": "2022-12-14T20:47:17.764Z"
   },
   {
    "duration": 2,
    "start_time": "2022-12-14T20:48:24.925Z"
   },
   {
    "duration": 8,
    "start_time": "2022-12-14T20:50:52.085Z"
   },
   {
    "duration": 8,
    "start_time": "2022-12-14T20:51:11.561Z"
   },
   {
    "duration": 10,
    "start_time": "2022-12-14T20:51:20.913Z"
   },
   {
    "duration": 2,
    "start_time": "2022-12-14T20:51:25.357Z"
   },
   {
    "duration": 10,
    "start_time": "2022-12-14T20:51:35.493Z"
   },
   {
    "duration": 441,
    "start_time": "2022-12-14T20:52:04.199Z"
   },
   {
    "duration": 166,
    "start_time": "2022-12-14T20:52:04.642Z"
   },
   {
    "duration": 177,
    "start_time": "2022-12-14T20:52:04.810Z"
   },
   {
    "duration": 204,
    "start_time": "2022-12-14T20:52:04.989Z"
   },
   {
    "duration": 2,
    "start_time": "2022-12-14T20:52:05.195Z"
   },
   {
    "duration": 169,
    "start_time": "2022-12-14T20:52:05.199Z"
   },
   {
    "duration": 13,
    "start_time": "2022-12-14T20:52:05.370Z"
   },
   {
    "duration": 8,
    "start_time": "2022-12-14T20:52:05.385Z"
   },
   {
    "duration": 36,
    "start_time": "2022-12-14T20:52:05.395Z"
   },
   {
    "duration": 20,
    "start_time": "2022-12-14T20:52:05.434Z"
   },
   {
    "duration": 23,
    "start_time": "2022-12-14T20:52:05.456Z"
   },
   {
    "duration": 87,
    "start_time": "2022-12-14T20:52:05.481Z"
   },
   {
    "duration": 73,
    "start_time": "2022-12-14T20:52:05.569Z"
   },
   {
    "duration": 52,
    "start_time": "2022-12-14T20:52:05.644Z"
   },
   {
    "duration": 44,
    "start_time": "2022-12-14T20:52:05.698Z"
   },
   {
    "duration": 8,
    "start_time": "2022-12-14T20:52:05.744Z"
   },
   {
    "duration": 47,
    "start_time": "2022-12-14T20:52:05.753Z"
   },
   {
    "duration": 24,
    "start_time": "2022-12-14T20:52:05.802Z"
   },
   {
    "duration": 12,
    "start_time": "2022-12-14T20:52:05.828Z"
   },
   {
    "duration": 10,
    "start_time": "2022-12-14T20:52:05.841Z"
   },
   {
    "duration": 26,
    "start_time": "2022-12-14T20:52:05.853Z"
   },
   {
    "duration": 15,
    "start_time": "2022-12-14T20:52:05.880Z"
   },
   {
    "duration": 29,
    "start_time": "2022-12-14T20:52:05.897Z"
   },
   {
    "duration": 12,
    "start_time": "2022-12-14T20:52:05.928Z"
   },
   {
    "duration": 15,
    "start_time": "2022-12-14T20:52:05.942Z"
   },
   {
    "duration": 14,
    "start_time": "2022-12-14T20:52:05.958Z"
   },
   {
    "duration": 9,
    "start_time": "2022-12-14T20:52:05.974Z"
   },
   {
    "duration": 49,
    "start_time": "2022-12-14T20:52:05.986Z"
   },
   {
    "duration": 16,
    "start_time": "2022-12-14T20:52:06.037Z"
   },
   {
    "duration": 4,
    "start_time": "2022-12-14T20:52:06.054Z"
   },
   {
    "duration": 42,
    "start_time": "2022-12-14T20:52:06.059Z"
   },
   {
    "duration": 10,
    "start_time": "2022-12-14T20:52:06.103Z"
   },
   {
    "duration": 15,
    "start_time": "2022-12-14T20:52:06.115Z"
   },
   {
    "duration": 10,
    "start_time": "2022-12-14T20:52:06.132Z"
   },
   {
    "duration": 7,
    "start_time": "2022-12-14T20:52:06.144Z"
   },
   {
    "duration": 7,
    "start_time": "2022-12-14T20:52:06.152Z"
   },
   {
    "duration": 83,
    "start_time": "2022-12-14T20:52:06.161Z"
   },
   {
    "duration": 0,
    "start_time": "2022-12-14T20:52:06.246Z"
   },
   {
    "duration": 10,
    "start_time": "2022-12-14T20:52:18.519Z"
   },
   {
    "duration": 407,
    "start_time": "2022-12-14T20:52:25.297Z"
   },
   {
    "duration": 195,
    "start_time": "2022-12-14T20:52:25.706Z"
   },
   {
    "duration": 190,
    "start_time": "2022-12-14T20:52:25.903Z"
   },
   {
    "duration": 171,
    "start_time": "2022-12-14T20:52:26.095Z"
   },
   {
    "duration": 3,
    "start_time": "2022-12-14T20:52:26.267Z"
   },
   {
    "duration": 166,
    "start_time": "2022-12-14T20:52:26.271Z"
   },
   {
    "duration": 13,
    "start_time": "2022-12-14T20:52:26.438Z"
   },
   {
    "duration": 9,
    "start_time": "2022-12-14T20:52:26.452Z"
   },
   {
    "duration": 26,
    "start_time": "2022-12-14T20:52:26.462Z"
   },
   {
    "duration": 38,
    "start_time": "2022-12-14T20:52:26.490Z"
   },
   {
    "duration": 21,
    "start_time": "2022-12-14T20:52:26.530Z"
   },
   {
    "duration": 75,
    "start_time": "2022-12-14T20:52:26.553Z"
   },
   {
    "duration": 67,
    "start_time": "2022-12-14T20:52:26.630Z"
   },
   {
    "duration": 73,
    "start_time": "2022-12-14T20:52:26.699Z"
   },
   {
    "duration": 33,
    "start_time": "2022-12-14T20:52:26.773Z"
   },
   {
    "duration": 21,
    "start_time": "2022-12-14T20:52:26.807Z"
   },
   {
    "duration": 32,
    "start_time": "2022-12-14T20:52:26.830Z"
   },
   {
    "duration": 9,
    "start_time": "2022-12-14T20:52:26.864Z"
   },
   {
    "duration": 13,
    "start_time": "2022-12-14T20:52:26.875Z"
   },
   {
    "duration": 3,
    "start_time": "2022-12-14T20:52:26.889Z"
   },
   {
    "duration": 16,
    "start_time": "2022-12-14T20:52:26.922Z"
   },
   {
    "duration": 15,
    "start_time": "2022-12-14T20:52:26.939Z"
   },
   {
    "duration": 16,
    "start_time": "2022-12-14T20:52:26.955Z"
   },
   {
    "duration": 13,
    "start_time": "2022-12-14T20:52:26.972Z"
   },
   {
    "duration": 44,
    "start_time": "2022-12-14T20:52:26.987Z"
   },
   {
    "duration": 14,
    "start_time": "2022-12-14T20:52:27.032Z"
   },
   {
    "duration": 9,
    "start_time": "2022-12-14T20:52:27.047Z"
   },
   {
    "duration": 22,
    "start_time": "2022-12-14T20:52:27.058Z"
   },
   {
    "duration": 41,
    "start_time": "2022-12-14T20:52:27.082Z"
   },
   {
    "duration": 4,
    "start_time": "2022-12-14T20:52:27.125Z"
   },
   {
    "duration": 24,
    "start_time": "2022-12-14T20:52:27.130Z"
   },
   {
    "duration": 11,
    "start_time": "2022-12-14T20:52:27.156Z"
   },
   {
    "duration": 20,
    "start_time": "2022-12-14T20:52:27.169Z"
   },
   {
    "duration": 36,
    "start_time": "2022-12-14T20:52:27.191Z"
   },
   {
    "duration": 7,
    "start_time": "2022-12-14T20:52:27.229Z"
   },
   {
    "duration": 6,
    "start_time": "2022-12-14T20:52:27.238Z"
   },
   {
    "duration": 78,
    "start_time": "2022-12-14T20:52:27.245Z"
   },
   {
    "duration": 1,
    "start_time": "2022-12-14T20:52:27.324Z"
   },
   {
    "duration": 8,
    "start_time": "2022-12-14T20:52:38.584Z"
   },
   {
    "duration": 7,
    "start_time": "2022-12-14T20:52:42.044Z"
   },
   {
    "duration": 8,
    "start_time": "2022-12-14T20:54:57.297Z"
   },
   {
    "duration": 11,
    "start_time": "2022-12-14T20:54:59.068Z"
   },
   {
    "duration": 10,
    "start_time": "2022-12-14T20:55:01.660Z"
   },
   {
    "duration": 473,
    "start_time": "2022-12-14T20:55:37.593Z"
   },
   {
    "duration": 188,
    "start_time": "2022-12-14T20:55:38.068Z"
   },
   {
    "duration": 188,
    "start_time": "2022-12-14T20:55:38.257Z"
   },
   {
    "duration": 180,
    "start_time": "2022-12-14T20:55:38.447Z"
   },
   {
    "duration": 3,
    "start_time": "2022-12-14T20:55:38.630Z"
   },
   {
    "duration": 183,
    "start_time": "2022-12-14T20:55:38.635Z"
   },
   {
    "duration": 14,
    "start_time": "2022-12-14T20:55:38.820Z"
   },
   {
    "duration": 7,
    "start_time": "2022-12-14T20:55:38.836Z"
   },
   {
    "duration": 26,
    "start_time": "2022-12-14T20:55:38.845Z"
   },
   {
    "duration": 52,
    "start_time": "2022-12-14T20:55:38.875Z"
   },
   {
    "duration": 24,
    "start_time": "2022-12-14T20:55:38.929Z"
   },
   {
    "duration": 88,
    "start_time": "2022-12-14T20:55:38.954Z"
   },
   {
    "duration": 97,
    "start_time": "2022-12-14T20:55:39.044Z"
   },
   {
    "duration": 57,
    "start_time": "2022-12-14T20:55:39.143Z"
   },
   {
    "duration": 65,
    "start_time": "2022-12-14T20:55:39.202Z"
   },
   {
    "duration": 10,
    "start_time": "2022-12-14T20:55:39.269Z"
   },
   {
    "duration": 75,
    "start_time": "2022-12-14T20:55:39.281Z"
   },
   {
    "duration": 15,
    "start_time": "2022-12-14T20:55:39.358Z"
   },
   {
    "duration": 13,
    "start_time": "2022-12-14T20:55:39.375Z"
   },
   {
    "duration": 4,
    "start_time": "2022-12-14T20:55:39.389Z"
   },
   {
    "duration": 57,
    "start_time": "2022-12-14T20:55:39.395Z"
   },
   {
    "duration": 19,
    "start_time": "2022-12-14T20:55:39.454Z"
   },
   {
    "duration": 22,
    "start_time": "2022-12-14T20:55:39.475Z"
   },
   {
    "duration": 40,
    "start_time": "2022-12-14T20:55:39.499Z"
   },
   {
    "duration": 21,
    "start_time": "2022-12-14T20:55:39.541Z"
   },
   {
    "duration": 22,
    "start_time": "2022-12-14T20:55:39.564Z"
   },
   {
    "duration": 35,
    "start_time": "2022-12-14T20:55:39.588Z"
   },
   {
    "duration": 31,
    "start_time": "2022-12-14T20:55:39.628Z"
   },
   {
    "duration": 27,
    "start_time": "2022-12-14T20:55:39.661Z"
   },
   {
    "duration": 34,
    "start_time": "2022-12-14T20:55:39.690Z"
   },
   {
    "duration": 28,
    "start_time": "2022-12-14T20:55:39.727Z"
   },
   {
    "duration": 13,
    "start_time": "2022-12-14T20:55:39.757Z"
   },
   {
    "duration": 20,
    "start_time": "2022-12-14T20:55:39.772Z"
   },
   {
    "duration": 40,
    "start_time": "2022-12-14T20:55:39.794Z"
   },
   {
    "duration": 9,
    "start_time": "2022-12-14T20:55:39.836Z"
   },
   {
    "duration": 17,
    "start_time": "2022-12-14T20:55:39.846Z"
   },
   {
    "duration": 14,
    "start_time": "2022-12-14T20:55:39.864Z"
   },
   {
    "duration": 10,
    "start_time": "2022-12-14T20:55:39.880Z"
   },
   {
    "duration": 71,
    "start_time": "2022-12-14T20:56:07.281Z"
   },
   {
    "duration": 422,
    "start_time": "2022-12-14T20:56:45.226Z"
   },
   {
    "duration": 149,
    "start_time": "2022-12-14T20:56:45.650Z"
   },
   {
    "duration": 183,
    "start_time": "2022-12-14T20:56:45.804Z"
   },
   {
    "duration": 177,
    "start_time": "2022-12-14T20:56:45.989Z"
   },
   {
    "duration": 3,
    "start_time": "2022-12-14T20:56:46.168Z"
   },
   {
    "duration": 160,
    "start_time": "2022-12-14T20:56:46.173Z"
   },
   {
    "duration": 15,
    "start_time": "2022-12-14T20:56:46.335Z"
   },
   {
    "duration": 7,
    "start_time": "2022-12-14T20:56:46.352Z"
   },
   {
    "duration": 27,
    "start_time": "2022-12-14T20:56:46.362Z"
   },
   {
    "duration": 41,
    "start_time": "2022-12-14T20:56:46.391Z"
   },
   {
    "duration": 21,
    "start_time": "2022-12-14T20:56:46.433Z"
   },
   {
    "duration": 82,
    "start_time": "2022-12-14T20:56:46.456Z"
   },
   {
    "duration": 59,
    "start_time": "2022-12-14T20:56:46.540Z"
   },
   {
    "duration": 68,
    "start_time": "2022-12-14T20:56:46.600Z"
   },
   {
    "duration": 33,
    "start_time": "2022-12-14T20:56:46.670Z"
   },
   {
    "duration": 23,
    "start_time": "2022-12-14T20:56:46.705Z"
   },
   {
    "duration": 34,
    "start_time": "2022-12-14T20:56:46.729Z"
   },
   {
    "duration": 10,
    "start_time": "2022-12-14T20:56:46.765Z"
   },
   {
    "duration": 12,
    "start_time": "2022-12-14T20:56:46.776Z"
   },
   {
    "duration": 5,
    "start_time": "2022-12-14T20:56:46.790Z"
   },
   {
    "duration": 26,
    "start_time": "2022-12-14T20:56:46.823Z"
   },
   {
    "duration": 31,
    "start_time": "2022-12-14T20:56:46.852Z"
   },
   {
    "duration": 18,
    "start_time": "2022-12-14T20:56:46.885Z"
   },
   {
    "duration": 15,
    "start_time": "2022-12-14T20:56:46.905Z"
   },
   {
    "duration": 30,
    "start_time": "2022-12-14T20:56:46.921Z"
   },
   {
    "duration": 15,
    "start_time": "2022-12-14T20:56:46.952Z"
   },
   {
    "duration": 9,
    "start_time": "2022-12-14T20:56:46.970Z"
   },
   {
    "duration": 22,
    "start_time": "2022-12-14T20:56:46.981Z"
   },
   {
    "duration": 33,
    "start_time": "2022-12-14T20:56:47.005Z"
   },
   {
    "duration": 4,
    "start_time": "2022-12-14T20:56:47.040Z"
   },
   {
    "duration": 23,
    "start_time": "2022-12-14T20:56:47.046Z"
   },
   {
    "duration": 10,
    "start_time": "2022-12-14T20:56:47.071Z"
   },
   {
    "duration": 45,
    "start_time": "2022-12-14T20:56:47.083Z"
   },
   {
    "duration": 12,
    "start_time": "2022-12-14T20:56:47.131Z"
   },
   {
    "duration": 9,
    "start_time": "2022-12-14T20:56:47.145Z"
   },
   {
    "duration": 7,
    "start_time": "2022-12-14T20:56:47.155Z"
   },
   {
    "duration": 8,
    "start_time": "2022-12-14T20:56:47.163Z"
   },
   {
    "duration": 7,
    "start_time": "2022-12-14T20:56:47.173Z"
   },
   {
    "duration": 62,
    "start_time": "2022-12-14T21:02:59.982Z"
   },
   {
    "duration": 412,
    "start_time": "2022-12-14T21:03:11.264Z"
   },
   {
    "duration": 178,
    "start_time": "2022-12-14T21:03:11.678Z"
   },
   {
    "duration": 184,
    "start_time": "2022-12-14T21:03:11.858Z"
   },
   {
    "duration": 171,
    "start_time": "2022-12-14T21:03:12.044Z"
   },
   {
    "duration": 6,
    "start_time": "2022-12-14T21:03:12.217Z"
   },
   {
    "duration": 165,
    "start_time": "2022-12-14T21:03:12.224Z"
   },
   {
    "duration": 13,
    "start_time": "2022-12-14T21:03:12.391Z"
   },
   {
    "duration": 17,
    "start_time": "2022-12-14T21:03:12.405Z"
   },
   {
    "duration": 32,
    "start_time": "2022-12-14T21:03:12.427Z"
   },
   {
    "duration": 18,
    "start_time": "2022-12-14T21:03:12.461Z"
   },
   {
    "duration": 24,
    "start_time": "2022-12-14T21:03:12.481Z"
   },
   {
    "duration": 80,
    "start_time": "2022-12-14T21:03:12.506Z"
   },
   {
    "duration": 74,
    "start_time": "2022-12-14T21:03:12.588Z"
   },
   {
    "duration": 60,
    "start_time": "2022-12-14T21:03:12.664Z"
   },
   {
    "duration": 42,
    "start_time": "2022-12-14T21:03:12.726Z"
   },
   {
    "duration": 11,
    "start_time": "2022-12-14T21:03:12.770Z"
   },
   {
    "duration": 58,
    "start_time": "2022-12-14T21:03:12.783Z"
   },
   {
    "duration": 11,
    "start_time": "2022-12-14T21:03:12.843Z"
   },
   {
    "duration": 23,
    "start_time": "2022-12-14T21:03:12.856Z"
   },
   {
    "duration": 11,
    "start_time": "2022-12-14T21:03:12.881Z"
   },
   {
    "duration": 46,
    "start_time": "2022-12-14T21:03:12.894Z"
   },
   {
    "duration": 32,
    "start_time": "2022-12-14T21:03:12.942Z"
   },
   {
    "duration": 35,
    "start_time": "2022-12-14T21:03:12.976Z"
   },
   {
    "duration": 36,
    "start_time": "2022-12-14T21:03:13.012Z"
   },
   {
    "duration": 21,
    "start_time": "2022-12-14T21:03:13.050Z"
   },
   {
    "duration": 29,
    "start_time": "2022-12-14T21:03:13.073Z"
   },
   {
    "duration": 33,
    "start_time": "2022-12-14T21:03:13.104Z"
   },
   {
    "duration": 28,
    "start_time": "2022-12-14T21:03:13.140Z"
   },
   {
    "duration": 19,
    "start_time": "2022-12-14T21:03:13.170Z"
   },
   {
    "duration": 5,
    "start_time": "2022-12-14T21:03:13.190Z"
   },
   {
    "duration": 61,
    "start_time": "2022-12-14T21:03:13.196Z"
   },
   {
    "duration": 18,
    "start_time": "2022-12-14T21:03:13.259Z"
   },
   {
    "duration": 39,
    "start_time": "2022-12-14T21:03:13.278Z"
   },
   {
    "duration": 20,
    "start_time": "2022-12-14T21:03:13.319Z"
   },
   {
    "duration": 28,
    "start_time": "2022-12-14T21:03:13.340Z"
   },
   {
    "duration": 29,
    "start_time": "2022-12-14T21:03:13.369Z"
   },
   {
    "duration": 19,
    "start_time": "2022-12-14T21:03:13.400Z"
   },
   {
    "duration": 39,
    "start_time": "2022-12-14T21:03:13.421Z"
   },
   {
    "duration": 58,
    "start_time": "2022-12-14T21:03:28.420Z"
   },
   {
    "duration": 9,
    "start_time": "2022-12-14T21:05:13.051Z"
   },
   {
    "duration": 7,
    "start_time": "2022-12-14T21:05:14.796Z"
   },
   {
    "duration": 471,
    "start_time": "2022-12-14T21:06:59.310Z"
   },
   {
    "duration": 198,
    "start_time": "2022-12-14T21:06:59.783Z"
   },
   {
    "duration": 190,
    "start_time": "2022-12-14T21:06:59.983Z"
   },
   {
    "duration": 184,
    "start_time": "2022-12-14T21:07:00.175Z"
   },
   {
    "duration": 2,
    "start_time": "2022-12-14T21:07:00.362Z"
   },
   {
    "duration": 183,
    "start_time": "2022-12-14T21:07:00.365Z"
   },
   {
    "duration": 13,
    "start_time": "2022-12-14T21:07:00.549Z"
   },
   {
    "duration": 27,
    "start_time": "2022-12-14T21:07:00.564Z"
   },
   {
    "duration": 35,
    "start_time": "2022-12-14T21:07:00.593Z"
   },
   {
    "duration": 34,
    "start_time": "2022-12-14T21:07:00.630Z"
   },
   {
    "duration": 26,
    "start_time": "2022-12-14T21:07:00.666Z"
   },
   {
    "duration": 96,
    "start_time": "2022-12-14T21:07:00.694Z"
   },
   {
    "duration": 77,
    "start_time": "2022-12-14T21:07:00.792Z"
   },
   {
    "duration": 67,
    "start_time": "2022-12-14T21:07:00.871Z"
   },
   {
    "duration": 35,
    "start_time": "2022-12-14T21:07:00.940Z"
   },
   {
    "duration": 10,
    "start_time": "2022-12-14T21:07:00.976Z"
   },
   {
    "duration": 69,
    "start_time": "2022-12-14T21:07:00.987Z"
   },
   {
    "duration": 11,
    "start_time": "2022-12-14T21:07:01.057Z"
   },
   {
    "duration": 19,
    "start_time": "2022-12-14T21:07:01.069Z"
   },
   {
    "duration": 4,
    "start_time": "2022-12-14T21:07:01.089Z"
   },
   {
    "duration": 48,
    "start_time": "2022-12-14T21:07:01.094Z"
   },
   {
    "duration": 24,
    "start_time": "2022-12-14T21:07:01.143Z"
   },
   {
    "duration": 16,
    "start_time": "2022-12-14T21:07:01.169Z"
   },
   {
    "duration": 26,
    "start_time": "2022-12-14T21:07:01.187Z"
   },
   {
    "duration": 27,
    "start_time": "2022-12-14T21:07:01.214Z"
   },
   {
    "duration": 19,
    "start_time": "2022-12-14T21:07:01.243Z"
   },
   {
    "duration": 13,
    "start_time": "2022-12-14T21:07:01.264Z"
   },
   {
    "duration": 33,
    "start_time": "2022-12-14T21:07:01.280Z"
   },
   {
    "duration": 36,
    "start_time": "2022-12-14T21:07:01.315Z"
   },
   {
    "duration": 4,
    "start_time": "2022-12-14T21:07:01.353Z"
   },
   {
    "duration": 51,
    "start_time": "2022-12-14T21:07:01.358Z"
   },
   {
    "duration": 17,
    "start_time": "2022-12-14T21:07:01.411Z"
   },
   {
    "duration": 31,
    "start_time": "2022-12-14T21:07:01.429Z"
   },
   {
    "duration": 12,
    "start_time": "2022-12-14T21:07:01.462Z"
   },
   {
    "duration": 8,
    "start_time": "2022-12-14T21:07:01.475Z"
   },
   {
    "duration": 28,
    "start_time": "2022-12-14T21:07:01.484Z"
   },
   {
    "duration": 31,
    "start_time": "2022-12-14T21:07:01.514Z"
   },
   {
    "duration": 23,
    "start_time": "2022-12-14T21:07:01.546Z"
   },
   {
    "duration": 5,
    "start_time": "2022-12-14T21:07:08.479Z"
   },
   {
    "duration": 6,
    "start_time": "2022-12-14T21:07:10.910Z"
   }
  ],
  "colab": {
   "collapsed_sections": [
    "E0vqbgi9ay0H",
    "VUC88oWjTJw2"
   ],
   "name": "automatization_template_upd4.ipynb",
   "provenance": []
  },
  "kernelspec": {
   "display_name": "Python 3 (ipykernel)",
   "language": "python",
   "name": "python3"
  },
  "language_info": {
   "codemirror_mode": {
    "name": "ipython",
    "version": 3
   },
   "file_extension": ".py",
   "mimetype": "text/x-python",
   "name": "python",
   "nbconvert_exporter": "python",
   "pygments_lexer": "ipython3",
   "version": "3.9.13"
  },
  "toc": {
   "base_numbering": 1,
   "nav_menu": {
    "height": "215px",
    "width": "403px"
   },
   "number_sections": true,
   "sideBar": true,
   "skip_h1_title": true,
   "title_cell": "Table of Contents",
   "title_sidebar": "Contents",
   "toc_cell": false,
   "toc_position": {
    "height": "calc(100% - 180px)",
    "left": "10px",
    "top": "150px",
    "width": "285.825px"
   },
   "toc_section_display": true,
   "toc_window_display": false
  }
 },
 "nbformat": 4,
 "nbformat_minor": 1
}
